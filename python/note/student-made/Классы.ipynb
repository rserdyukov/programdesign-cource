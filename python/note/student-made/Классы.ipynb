{
  "metadata": {
    "language_info": {
      "codemirror_mode": {
        "name": "python",
        "version": 3
      },
      "file_extension": ".py",
      "mimetype": "text/x-python",
      "name": "python",
      "nbconvert_exporter": "python",
      "pygments_lexer": "ipython3",
      "version": "3.8"
    },
    "kernelspec": {
      "name": "python",
      "display_name": "Pyolite",
      "language": "python"
    },
    "colab": {
      "name": "classes.ipynb",
      "provenance": [],
      "collapsed_sections": [
        "1sru00S-iXUJ"
      ]
    }
  },
  "nbformat_minor": 0,
  "nbformat": 4,
  "cells": [
    {
      "cell_type": "markdown",
      "source": [
        "# Классы в python"
      ],
      "metadata": {
        "id": "26UyoMOZiXTn"
      }
    },
    {
      "cell_type": "markdown",
      "source": [
        "### Определение класса:"
      ],
      "metadata": {
        "id": "2p3_phHgiXTr"
      }
    },
    {
      "cell_type": "markdown",
      "source": [
        "Python имеет множество встроенных типов, например, int, str и так далее, которые мы можем использовать в программе. Но также Python позволяет определять собственные типы с помощью классов. Класс представляет некоторую сущность. Конкретным воплощением класса является объект.\n",
        "\n",
        "Можно еще провести следующую аналогию. У нас у всех есть некоторое представление о человеке, у которого есть имя, возраст, какие-то другие характеристики Человек может выполнять некоторые действия - ходить, бегать, думать и т.д. То есть это представление, которое включает набор характеристик и действий, можно назвать классом. Конкретное воплощение этого шаблона может отличаться, например, одни люди имеют одно имя, другие - другое имя. И реально существующий человек будет представлять объект этого класса."
      ],
      "metadata": {
        "id": "D2PFNmy-iXTs"
      }
    },
    {
      "cell_type": "markdown",
      "source": [
        "Класс определяется с помощью ключевого слова <b>class<b>:"
      ],
      "metadata": {
        "id": "iDBn5S06iXTs"
      }
    },
    {
      "cell_type": "code",
      "source": [
        "class название_класса:\n",
        "    # атрибуты_классаc\n",
        "    # методы_класса\n",
        "    pass"
      ],
      "metadata": {
        "trusted": true,
        "id": "v1li0BogiXTt"
      },
      "execution_count": null,
      "outputs": []
    },
    {
      "cell_type": "markdown",
      "source": [
        "Внутри класса определяются его атрибуты, которые хранят различные характеристики класса, и методы - функции класса."
      ],
      "metadata": {
        "id": "HKvpec4niXTu"
      }
    },
    {
      "cell_type": "markdown",
      "source": [
        "Создадим простейший класс:"
      ],
      "metadata": {
        "id": "fVxhoQSviXTu"
      }
    },
    {
      "cell_type": "code",
      "source": [
        "class Person:\n",
        "    pass"
      ],
      "metadata": {
        "trusted": true,
        "id": "AxjuTvQFiXTv"
      },
      "execution_count": null,
      "outputs": []
    },
    {
      "cell_type": "markdown",
      "source": [
        "В данном случае определен класс Person, который условно представляет человека. В данном случае в классе не определяется никаких методов или атрибутов. Однако поскольку в нем должно быть что-то определено, то в качестве заменителя функционала класса применяется оператор <b>pass</b>. Этот оператор применяется, когда синтаксически необходимо определить некоторый код, однако мы не хотим его, и вместо конкретного кода вставляем оператор <b>pass</b>."
      ],
      "metadata": {
        "id": "ha3bcHPDiXTw"
      }
    },
    {
      "cell_type": "markdown",
      "source": [
        "После создания класса можно определить объекты этого класса. Например:"
      ],
      "metadata": {
        "id": "g2bFk6ySiXTw"
      }
    },
    {
      "cell_type": "code",
      "source": [
        "class Person:\n",
        "    pass\n",
        " \n",
        "tom = Person()      # определение объекта tom\n",
        "bob = Person()      # определение объекта bob"
      ],
      "metadata": {
        "trusted": true,
        "id": "4TfQKtlIiXTx"
      },
      "execution_count": null,
      "outputs": []
    },
    {
      "cell_type": "markdown",
      "source": [
        "После определения класса Person создаются два объекта класса Person - tom и bob. Для создания объекта применяется специальная функция - конструктор, которая называется по имени класса и которая возвращает объект класса. То есть в данном случае вызов Person() представляет вызов <b>конструктора</b>. Каждый класс по умолчанию имеет конструктор без параметров:"
      ],
      "metadata": {
        "id": "JcINanF1iXTx"
      }
    },
    {
      "cell_type": "code",
      "source": [
        "tom = Person()      # Person() - вызов конструктора, который возвращает объект класса Person"
      ],
      "metadata": {
        "trusted": true,
        "id": "HgxiyFCMiXTy"
      },
      "execution_count": null,
      "outputs": []
    },
    {
      "cell_type": "markdown",
      "source": [
        "### Переменные класса:"
      ],
      "metadata": {
        "id": "gUAI27MTiXTy"
      }
    },
    {
      "cell_type": "markdown",
      "source": [
        "В объектно-ориентированном программировании переменные можно использовать на уровне класса или объекта. Переменная – это символ, который заменяет какое-либо значение в программе.\n",
        "\n",
        "Если какая-либо переменная будет иметь одно и то же значение во всех объектах программы, её можно определить на уровне класса. Если значение переменной будет изменяться в зависимости от объекта, такую переменную нужно определить на уровне экземпляра (объекта)."
      ],
      "metadata": {
        "id": "A32tGPO9iXTy"
      }
    },
    {
      "cell_type": "markdown",
      "source": [
        "Переменные класса определяются на уровне класса и применяются ко всем объектам, созданным на его основе. Такая переменная, как правило, имеет одно и то же значение внутри всех объектов на основе этого класса (если только она не используется для инициализации переменной)."
      ],
      "metadata": {
        "id": "RXSf7-TCiXTy"
      }
    },
    {
      "cell_type": "markdown",
      "source": [
        "Переменная класса, определяемая вне метода, как правило, пишется под заголовком класса и перед методом конструктора и другими методами."
      ],
      "metadata": {
        "id": "aI7ln_5giXTz"
      }
    },
    {
      "cell_type": "markdown",
      "source": [
        "Переменная класса выглядит так:"
      ],
      "metadata": {
        "id": "2bdCtwUhiXTz"
      }
    },
    {
      "cell_type": "code",
      "source": [
        "class Shark:\n",
        "    animal_type = \"fish\""
      ],
      "metadata": {
        "id": "b9rUiusFbC4u"
      },
      "execution_count": null,
      "outputs": []
    },
    {
      "cell_type": "markdown",
      "source": [
        "Создайте тестовую программу shark.py. В этом файле можно создать экземпляр класса Shark (например, new_shark) и вывести переменную с помощью точечной нотации:"
      ],
      "metadata": {
        "id": "HcDKHcD6iXTz"
      }
    },
    {
      "cell_type": "markdown",
      "source": [
        "Программа отобразила значение переменной."
      ],
      "metadata": {
        "id": "v7n5gONJiXT0"
      }
    },
    {
      "cell_type": "code",
      "source": [
        "class Shark:\n",
        "    animal_type = \"fish\"\n",
        "new_shark = Shark()\n",
        "print(new_shark.animal_type)"
      ],
      "metadata": {
        "colab": {
          "base_uri": "https://localhost:8080/"
        },
        "id": "kYBM9drIbJEj",
        "outputId": "e24c6e5a-9dbd-4723-e88e-a1648d870d21"
      },
      "execution_count": null,
      "outputs": [
        {
          "output_type": "stream",
          "name": "stdout",
          "text": [
            "fish\n"
          ]
        }
      ]
    },
    {
      "cell_type": "markdown",
      "source": [
        "Добавьте в класс больше переменных и отобразите их:"
      ],
      "metadata": {
        "id": "Aq9794TViXT0"
      }
    },
    {
      "cell_type": "code",
      "source": [
        "class Shark:\n",
        "    animal_type = \"fish\"\n",
        "    location = \"ocean\"\n",
        "    followers = 5\n",
        "new_shark = Shark()\n",
        "print(new_shark.animal_type)\n",
        "print(new_shark.location)\n",
        "print(new_shark.followers)"
      ],
      "metadata": {
        "colab": {
          "base_uri": "https://localhost:8080/"
        },
        "id": "oJDNfcF9bOBQ",
        "outputId": "e336f5ac-398c-4c80-eaf4-b316fe13f9e6"
      },
      "execution_count": null,
      "outputs": [
        {
          "output_type": "stream",
          "name": "stdout",
          "text": [
            "fish\n",
            "ocean\n",
            "5\n"
          ]
        }
      ]
    },
    {
      "cell_type": "markdown",
      "source": [
        "Как и другие виды переменных Python, переменные класса могут содержать любой тип данных. В данной программе переменные будут содержать строки и целые числа."
      ],
      "metadata": {
        "id": "P1nSza5uiXT0"
      }
    },
    {
      "cell_type": "markdown",
      "source": [
        "Объект new_shark имеет доступ ко всем переменным класса и может отобразить их на экране."
      ],
      "metadata": {
        "id": "9-NvCoDTiXT1"
      }
    },
    {
      "cell_type": "markdown",
      "source": [
        "### Методы класса:"
      ],
      "metadata": {
        "id": "Erk5ZD6oiXT1"
      }
    },
    {
      "cell_type": "markdown",
      "source": [
        "Методы класса фактически представляют функции, которые определенны внутри класса и которые определяют его поведение. Например, определим класс Person с одним методом:"
      ],
      "metadata": {
        "id": "_2F1_sOyiXT1"
      }
    },
    {
      "cell_type": "code",
      "source": [
        "class Person:       # определение класса Person\n",
        "     def say_hello(self):\n",
        "        print(\"Hello\")\n",
        " \n",
        "tom = Person()\n",
        "tom.say_hello()    # Hello"
      ],
      "metadata": {
        "trusted": true,
        "colab": {
          "base_uri": "https://localhost:8080/"
        },
        "id": "pb9NbN4JiXT1",
        "outputId": "219d74fb-73bf-4299-b04c-0228d41f3560"
      },
      "execution_count": null,
      "outputs": [
        {
          "output_type": "stream",
          "name": "stdout",
          "text": [
            "Hello\n"
          ]
        }
      ]
    },
    {
      "cell_type": "markdown",
      "source": [
        "Здесь определен метод say_hello(), который условно выполняет приветствие - выводит строку на консоль. При определении методов любого класса следует учитывать, что все они должны принимать в качестве первого параметра ссылку на текущий объект, который согласно условностям называется <b>self</b>. Через эту ссылку внутри класса мы можем обратиться к функциональности текущего объекта. Но при самом вызове метода этот параметр не учитывается."
      ],
      "metadata": {
        "id": "BPfGBRt1iXT2"
      }
    },
    {
      "cell_type": "markdown",
      "source": [
        "Используя имя объекта, мы можем обратиться к его методам. Для обращения к методам применяется нотация точки - после имени объекта ставится точка и после нее идет вызов метода:"
      ],
      "metadata": {
        "id": "C0TQLultiXT2"
      }
    },
    {
      "cell_type": "markdown",
      "source": [
        "объект.метод([параметры метода])"
      ],
      "metadata": {
        "id": "4Pg2K9kDti-_"
      }
    },
    {
      "cell_type": "markdown",
      "source": [
        "Например, обращение к методу say_hello() для вывода приветствия на консоль:"
      ],
      "metadata": {
        "id": "oqorn8emiXT2"
      }
    },
    {
      "cell_type": "code",
      "source": [
        "tom.say_hello()    # Hello"
      ],
      "metadata": {
        "trusted": true,
        "colab": {
          "base_uri": "https://localhost:8080/"
        },
        "id": "krGq7c-BiXT3",
        "outputId": "f4ceb0c6-4be0-4b57-c543-3758fcfd69a3"
      },
      "execution_count": null,
      "outputs": [
        {
          "output_type": "stream",
          "name": "stdout",
          "text": [
            "Hello\n"
          ]
        }
      ]
    },
    {
      "cell_type": "markdown",
      "source": [
        "В итоге данная программа выведет на консоль строку \"Hello\"."
      ],
      "metadata": {
        "id": "we3fNiM3iXT3"
      }
    },
    {
      "cell_type": "markdown",
      "source": [
        "Если метод должен принимать другие параметры, то они определяются после параметра self, и при вызове подобного метода для них необходимо передать значения:"
      ],
      "metadata": {
        "id": "65Mnx3S4iXT3"
      }
    },
    {
      "cell_type": "code",
      "source": [
        "class Person:       # определение класса Person\n",
        "    def say(self, message):     # метод \n",
        "        print(message)\n",
        " \n",
        " \n",
        "tom = Person()\n",
        "tom.say(\"Hello World\")    # Hello World"
      ],
      "metadata": {
        "trusted": true,
        "colab": {
          "base_uri": "https://localhost:8080/"
        },
        "id": "gu8LMDzWiXT3",
        "outputId": "0c2c600e-fef8-48f5-ff1e-228c153ec913"
      },
      "execution_count": null,
      "outputs": [
        {
          "output_type": "stream",
          "name": "stdout",
          "text": [
            "Hello World\n"
          ]
        }
      ]
    },
    {
      "cell_type": "markdown",
      "source": [
        "Здесь определен метод say(). Он принимает два параметра: self и message. И для второго параметра - message при вызове метода необходимо передать значение."
      ],
      "metadata": {
        "id": "Fb6VNEPWiXT3"
      }
    },
    {
      "cell_type": "markdown",
      "source": [
        "#### self"
      ],
      "metadata": {
        "id": "2kOVDdbqiXT4"
      }
    },
    {
      "cell_type": "markdown",
      "source": [
        "Через ключевое слово self можно обращаться внутри класса к функциональности текущего объекта:"
      ],
      "metadata": {
        "id": "-2vqXou7iXT4"
      }
    },
    {
      "cell_type": "raw",
      "source": [
        "self.атрибут    # обращение к атрибуту\n",
        "self.метод      # обращение к методу"
      ],
      "metadata": {
        "id": "KM3emVJKiXT4"
      }
    },
    {
      "cell_type": "markdown",
      "source": [
        "Например, определим два метода в классе Person:"
      ],
      "metadata": {
        "id": "LLkfh26iiXT4"
      }
    },
    {
      "cell_type": "code",
      "source": [
        "class Person:\n",
        " \n",
        "    def say(self, message):\n",
        "        print(message)\n",
        " \n",
        "    def say_hello(self):\n",
        "        self.say(\"Hello work\")  # обращаемся к выше определенному методу say\n",
        " \n",
        " \n",
        "tom = Person()\n",
        "tom.say_hello()     # Hello work"
      ],
      "metadata": {
        "trusted": true,
        "colab": {
          "base_uri": "https://localhost:8080/"
        },
        "id": "k2Kv7EARiXT4",
        "outputId": "fbadaa7e-4b4f-46f2-9f26-7f13b676dfd3"
      },
      "execution_count": null,
      "outputs": [
        {
          "output_type": "stream",
          "name": "stdout",
          "text": [
            "Hello work\n"
          ]
        }
      ]
    },
    {
      "cell_type": "markdown",
      "source": [
        "Здесь в одном методе - say_hello() вызывается другой метод - say():"
      ],
      "metadata": {
        "id": "0Dd_qju9iXT4"
      }
    },
    {
      "cell_type": "markdown",
      "source": [
        "self.say(\"Hello work\")"
      ],
      "metadata": {
        "id": "gEcMZq4QwTgq"
      }
    },
    {
      "cell_type": "markdown",
      "source": [
        "Поскольку метод say() принимает кроме self еще параметры (параметр message), то при вызове метода для этого параметра передается значение."
      ],
      "metadata": {
        "id": "JL-YiOv6iXT4"
      }
    },
    {
      "cell_type": "markdown",
      "source": [
        "Причем при вызове метода объекта нам обязательно необходимо использовать слово <b>self</b>, если мы его не используем:"
      ],
      "metadata": {
        "id": "RZtUZdbQiXT5"
      }
    },
    {
      "cell_type": "code",
      "source": [
        "def say_hello(self):\n",
        "    say(\"Hello work\")  # ! Ошибка"
      ],
      "metadata": {
        "trusted": true,
        "id": "Zd2fKt4HiXT5"
      },
      "execution_count": null,
      "outputs": []
    },
    {
      "cell_type": "markdown",
      "source": [
        "То мы столкнемся с ошибкой"
      ],
      "metadata": {
        "id": "LmCmoFXLiXT5"
      }
    },
    {
      "cell_type": "markdown",
      "source": [
        "#### Абстрактные методы"
      ],
      "metadata": {
        "id": "uMZhqoFBiXT5"
      }
    },
    {
      "cell_type": "markdown",
      "source": [
        "Декоратор @abstractmethod может использоваться для объявления абстрактных методов свойств и дескрипторов требует, чтобы метакласс класса был ABCMeta или производным от него. Абстрактный класс не может быть создан, пока не будут переопределены все его абстрактные методы и свойства."
      ],
      "metadata": {
        "id": "cZXd__zQiXT5"
      }
    },
    {
      "cell_type": "markdown",
      "source": [
        "На самом деле абстрактный метод в Python не обязательно должен быть \"полностью абстрактным\", что отличается от некоторых других объектно-ориентированных языков программирования. Можно определить некоторые общие вещи в абстрактном методе и использовать функцию super() для вызова его в подклассах."
      ],
      "metadata": {
        "id": "_NBdkp7riXT5"
      }
    },
    {
      "cell_type": "code",
      "source": [
        "from abc import ABC, abstractmethod\n",
        "\n",
        "class Animal(ABC):\n",
        "    @abstractmethod\n",
        "    def move(self):\n",
        "        print('Animal moves')\n",
        "\n",
        "class Cat(Animal):\n",
        "    def move(self):\n",
        "        super().move()\n",
        "        print('Cat moves')\n",
        "\n",
        "c = Cat()\n",
        "c.move()"
      ],
      "metadata": {
        "trusted": true,
        "colab": {
          "base_uri": "https://localhost:8080/"
        },
        "id": "cpEt5JrtiXT5",
        "outputId": "49d7cc85-1652-4189-ee49-6100fd2905f9"
      },
      "execution_count": null,
      "outputs": [
        {
          "output_type": "stream",
          "name": "stdout",
          "text": [
            "Animal moves\n",
            "Cat moves\n"
          ]
        }
      ]
    },
    {
      "cell_type": "markdown",
      "source": [
        "Как показано в приведенном выше примере, абстрактный метод .move() может содержать некоторые функции и может вызываться подклассом с помощью super(). Хотя у него небольшая реализация, это все еще абстрактный метод, и пользователю необходимо полностью реализовать его в подклассах."
      ],
      "metadata": {
        "id": "Wsa65_0QiXT6"
      }
    },
    {
      "cell_type": "markdown",
      "source": [
        "Совместно с декоратором @abstractmethod можно использовать такие декораторы, как @property, @classmethod и @staticmethod. Когда декоратор @abstractmethod применяется в сочетании с другими дескрипторами методов, его следует применять как самый внутренний декоратор"
      ],
      "metadata": {
        "id": "n01EO1spiXT6"
      }
    },
    {
      "cell_type": "markdown",
      "source": [
        "Определение абстрактного метода класса:"
      ],
      "metadata": {
        "id": "valpUqp8iXT6"
      }
    },
    {
      "cell_type": "raw",
      "source": [
        "from abc import ABC, abstractmethod\n",
        "\n",
        "class C(ABC):\n",
        "    @classmethod\n",
        "    @abstractmethod\n",
        "    def my_abstract_classmethod(cls, ...):\n",
        "        ..."
      ],
      "metadata": {
        "id": "XR_AlMr-iXT6"
      }
    },
    {
      "cell_type": "markdown",
      "source": [
        "#### Статические методы"
      ],
      "metadata": {
        "id": "OwDOodXliXT6"
      }
    },
    {
      "cell_type": "markdown",
      "source": [
        "В Python острой необходимости в статических методах нет, так как код может находиться за пределами класса, и программа не начинает выполняться из класса. Если нам нужна просто какая-нибудь функция, мы можем определить ее в основной ветке. В Java это не так. Там, не считая импортов, весь код находится внутри классов. Поэтому методы, не принимающие объект данного класса и играющие роль обычных функций, необходимы. Статические методы решают эту проблему."
      ],
      "metadata": {
        "id": "efPCwfPOiXT6"
      }
    },
    {
      "cell_type": "markdown",
      "source": [
        "Однако в Python тоже можно реализовать подобное, то есть статические методы, с помощью декоратора @staticmethod:"
      ],
      "metadata": {
        "id": "_-GCJkCXiXT6"
      }
    },
    {
      "cell_type": "code",
      "source": [
        "class A:\n",
        "    @staticmethod\n",
        "    def meth():\n",
        "        print('meth')\n",
        "\n",
        "a = A()\n",
        "a.meth()\n",
        "\n",
        "A.meth()\n"
      ],
      "metadata": {
        "colab": {
          "base_uri": "https://localhost:8080/"
        },
        "id": "KWiC2xdPwgVY",
        "outputId": "11f14509-7cbf-499a-e1d6-59a75c2ca605"
      },
      "execution_count": null,
      "outputs": [
        {
          "output_type": "stream",
          "name": "stdout",
          "text": [
            "meth\n",
            "meth\n"
          ]
        }
      ]
    },
    {
      "cell_type": "markdown",
      "source": [
        "Статические методы в Python – по-сути обычные функции, помещенные в класс для удобства и находящиеся в пространстве имен этого класса. Это может быть какой-то вспомогательный код. Вообще, если в теле метода не используется self, то есть ссылка на конкретный объект, следует задуматься, чтобы сделать метод статическим. Если такой метод необходим только для обеспечения внутренних механизмов работы класса, то возможно его не только надо объявить статическим, но и скрыть от доступа из вне."
      ],
      "metadata": {
        "id": "PwG-kM1ViXT7"
      }
    },
    {
      "cell_type": "markdown",
      "source": [
        "Пусть у нас будет класс \"Цилиндр\". При создании объектов от этого класса у них заводятся поля высота и диаметр, а также площадь поверхности. Вычисление площади можно поместить в отдельную статическую функцию. Она вроде и относится к цилиндрам, но с другой стороны само вычисление объекта не требует и может быть использовано где угодно."
      ],
      "metadata": {
        "id": "0wab5RCuiXT7"
      }
    },
    {
      "cell_type": "code",
      "source": [
        "from math import pi\n",
        " \n",
        "class Cylinder:\n",
        "    @staticmethod\n",
        "    def make_area(d, h):\n",
        "        circle = pi * d ** 2 / 4\n",
        "        side = pi * d * h\n",
        "        return round(circle*2 + side, 2)\n",
        " \n",
        "    def __init__(self, di, hi):\n",
        "        self.dia = di\n",
        "        self.h = hi\n",
        "        self.area = self.make_area(di, hi)\n",
        " \n",
        " \n",
        "a = Cylinder(1, 2)\n",
        "print(a.area)\n",
        " \n",
        "print(a.make_area(2, 2))"
      ],
      "metadata": {
        "colab": {
          "base_uri": "https://localhost:8080/"
        },
        "id": "KaKRoQv4wmZ4",
        "outputId": "2a1e7f5c-a32b-4db4-c059-a7b0740bfee7"
      },
      "execution_count": null,
      "outputs": [
        {
          "output_type": "stream",
          "name": "stdout",
          "text": [
            "7.85\n",
            "18.85\n"
          ]
        }
      ]
    },
    {
      "cell_type": "markdown",
      "source": [
        "В примере вызов make_area() за пределами класса возможен в том числе через экземпляр. При этом понятно, в данном случае свойство area самого объекта a не меняется. Мы просто вызываем функцию, находящуюся в пространстве имен класса."
      ],
      "metadata": {
        "id": "GKJPZAJOiXT7"
      }
    },
    {
      "cell_type": "markdown",
      "source": [
        "### Конструкторы"
      ],
      "metadata": {
        "id": "-5kgwthTiXT7"
      }
    },
    {
      "cell_type": "markdown",
      "source": [
        "Для создания объекта класса используется конструктор. Так, выше когда мы создавали объекты класса Person, мы использовали конструктор по умолчанию, который не принимает параметров и который неявно имеют все классы:"
      ],
      "metadata": {
        "id": "V_aUlzHdiXT7"
      }
    },
    {
      "cell_type": "code",
      "source": [
        "tom = Person()"
      ],
      "metadata": {
        "trusted": true,
        "id": "44MEOoGKiXT7"
      },
      "execution_count": null,
      "outputs": []
    },
    {
      "cell_type": "markdown",
      "source": [
        "Однако мы можем явным образом определить в классах конструктор с помощью специального метода, который называется __init__() (по два прочерка с каждой стороны). К примеру, изменим класс Person, добавив в него конструктор:"
      ],
      "metadata": {
        "id": "hwKJLR5jiXT7"
      }
    },
    {
      "cell_type": "code",
      "source": [
        "class Person:\n",
        "    # конструктор\n",
        "    def __init__(self):\n",
        "        print(\"Создание объекта Person\")\n",
        " \n",
        "    def say_hello(self):\n",
        "        print(\"Hello\")\n",
        "         \n",
        "         \n",
        "tom = Person()      # Создание объекта Person\n",
        "tom.say_hello()     # Hello"
      ],
      "metadata": {
        "trusted": true,
        "colab": {
          "base_uri": "https://localhost:8080/"
        },
        "id": "E8hxUE8ziXT7",
        "outputId": "2dd46845-cae0-4e9a-9f66-1d6fd3216813"
      },
      "execution_count": null,
      "outputs": [
        {
          "output_type": "stream",
          "name": "stdout",
          "text": [
            "Создание объекта Person\n",
            "Hello\n"
          ]
        }
      ]
    },
    {
      "cell_type": "markdown",
      "source": [
        "Итак, здесь в коде класса Person определен конструктор и метод say_hello(). В качестве первого параметра конструктор, как и методы, также принимает ссылку на текущий объект - self. Обычно конструкторы применяются для определения действий, которые должны производиться при создании объекта."
      ],
      "metadata": {
        "id": "tujEkbmciXT8"
      }
    },
    {
      "cell_type": "markdown",
      "source": [
        "Теперь при создании объекта:"
      ],
      "metadata": {
        "id": "Vc1Spp8viXT8"
      }
    },
    {
      "cell_type": "code",
      "source": [
        "tom = Person()"
      ],
      "metadata": {
        "trusted": true,
        "colab": {
          "base_uri": "https://localhost:8080/"
        },
        "id": "mwVTGXXviXT8",
        "outputId": "b804517a-d24a-45c0-962b-2a070ea21f91"
      },
      "execution_count": null,
      "outputs": [
        {
          "output_type": "stream",
          "name": "stdout",
          "text": [
            "Создание объекта Person\n"
          ]
        }
      ]
    },
    {
      "cell_type": "markdown",
      "source": [
        "будет производится вызов конструктора __init__() из класса Person, который выведет на консоль строку \"Создание объекта Person\"."
      ],
      "metadata": {
        "id": "1N2CP3dqiXT8"
      }
    },
    {
      "cell_type": "markdown",
      "source": [
        "#### Деструкторы"
      ],
      "metadata": {
        "id": "TMif0tvKiXT8"
      }
    },
    {
      "cell_type": "markdown",
      "source": [
        "В Python есть сборщик мусора, который автоматически обрабатывает управление памятью. Например, он очищает память, когда объект выходит за пределы области видимости."
      ],
      "metadata": {
        "id": "ma1hnBmEiXT8"
      }
    },
    {
      "cell_type": "markdown",
      "source": [
        "Однако при уничтожении объекта необходимо освобождать не только память. Мы должны освободить или закрыть другие ресурсы, которые использовались объектом, такие как открытые файлы, соединения с базой данных, очистка буфера или кеша. Для выполнения всех этих задач очистки мы используем деструктор в Python."
      ],
      "metadata": {
        "id": "gSncJYdMiXT8"
      }
    },
    {
      "cell_type": "markdown",
      "source": [
        "Деструктор противоположен конструктору. Конструктор используется для инициализации объектов, а деструктор — для удаления или уничтожения объектов, в результате чего освобождается ресурс, занятый этими объектами."
      ],
      "metadata": {
        "id": "xpI52gkPiXT9"
      }
    },
    {
      "cell_type": "markdown",
      "source": [
        "В Python деструктор вызывается не вручную, а полностью автоматически. Это происходит в следующих двух случаях:"
      ],
      "metadata": {
        "id": "p6foDO1viXT9"
      }
    },
    {
      "cell_type": "markdown",
      "source": [
        "* когда объект выходит за пределы области видимости\n",
        "* когда счетчик ссылок на объект достигает 0."
      ],
      "metadata": {
        "id": "xYyjp5pKiXT9"
      }
    },
    {
      "cell_type": "markdown",
      "source": [
        "Для определения деструктора используется специальный метод __del__(). Например, когда мы выполняем del имя_объекта, деструктор вызывается автоматически, и объект собирается в мусор."
      ],
      "metadata": {
        "id": "6dcFTClEiXT9"
      }
    },
    {
      "cell_type": "markdown",
      "source": [
        "![Destructor scheme](notebooks/img/destructor.png)"
      ],
      "metadata": {
        "id": "NDovFrUKiXT9"
      }
    },
    {
      "cell_type": "markdown",
      "source": [
        "Магический метод __del__() используется как деструктор в Python. Метод __del__() будет неявно вызываться, когда все ссылки на объект будут удалены, то есть когда объект подходит для сборщика мусора"
      ],
      "metadata": {
        "id": "z13l7NyJiXT9"
      }
    },
    {
      "cell_type": "markdown",
      "source": [
        "Этот метод автоматически вызывается в Python, когда экземпляр собираются уничтожить. Его также называют финализатором или (неправильно) деструктором."
      ],
      "metadata": {
        "id": "VuHQD229iXT9"
      }
    },
    {
      "cell_type": "markdown",
      "source": [
        "Синтаксис объявления деструктора будет следующим:"
      ],
      "metadata": {
        "id": "awphPQxXiXT9"
      }
    },
    {
      "cell_type": "raw",
      "source": [
        "def __del__(self):\n",
        "    # тело деструктора"
      ],
      "metadata": {
        "id": "aZrDxPBEiXT9"
      }
    },
    {
      "cell_type": "markdown",
      "source": [
        "Здесь:"
      ],
      "metadata": {
        "id": "kovJFGLdiXT9"
      }
    },
    {
      "cell_type": "markdown",
      "source": [
        "* def – ключевое слово, которое используется для определения метода.\n",
        "* __del__() – зарезервированный метод. Он вызывается, как только все ссылки на объект будут удалены.\n",
        "* self: первый аргумент self относится к текущему объекту."
      ],
      "metadata": {
        "id": "kUdt9Q8piXT-"
      }
    },
    {
      "cell_type": "markdown",
      "source": [
        "Примечание. Аргументы метода __del__() необязательны. Мы можем определить деструктор с любым количеством аргументов."
      ],
      "metadata": {
        "id": "2P6feRGLiXT-"
      }
    },
    {
      "cell_type": "markdown",
      "source": [
        "Давайте рассмотрим создание деструктора в Python на простом примере. Мы создадим класс Student с деструктором."
      ],
      "metadata": {
        "id": "6xMOhna5iXT-"
      }
    },
    {
      "cell_type": "code",
      "source": [
        "class Student:\n",
        "    # конструктор\n",
        "    def __init__(self, name):\n",
        "        print('Inside Constructor')\n",
        "        self.name = name\n",
        "        print('Object initialized')\n",
        "    def show(self):\n",
        "        print('Hello, my name is', self.name)\n",
        "    # деструктор\n",
        "    def __del__(self):\n",
        "        print('Inside destructor')\n",
        "        print('Object destroyed')\n",
        "# создать объект\n",
        "s1 = Student('Emma')\n",
        "s1.show()\n",
        "# удалить объект\n",
        "del s1"
      ],
      "metadata": {
        "trusted": true,
        "colab": {
          "base_uri": "https://localhost:8080/"
        },
        "id": "hhnDCuVriXT-",
        "outputId": "4ed0512d-86fb-43e2-ba0c-c302ad89ec57"
      },
      "execution_count": null,
      "outputs": [
        {
          "output_type": "stream",
          "name": "stdout",
          "text": [
            "Inside Constructor\n",
            "Object initialized\n",
            "Hello, my name is Emma\n",
            "Inside destructor\n",
            "Object destroyed\n"
          ]
        }
      ]
    },
    {
      "cell_type": "markdown",
      "source": [
        "Запустим наш код и получим результат выше:"
      ],
      "metadata": {
        "id": "DEzd-FepiXT-"
      }
    },
    {
      "cell_type": "markdown",
      "source": [
        "Примечание. Как видно из вывода, при удалении ссылки на объект с помощью del s1 метод __del__() вызывается автоматически."
      ],
      "metadata": {
        "id": "he97ugCciXT-"
      }
    },
    {
      "cell_type": "markdown",
      "source": [
        "В приведенном выше коде мы создали один объект. s1 – это ссылочная переменная, указывающая на вновь созданный объект."
      ],
      "metadata": {
        "id": "hbyDFiDxiXT_"
      }
    },
    {
      "cell_type": "markdown",
      "source": [
        "Деструктор вызывается, когда ссылка на объект удалена или счетчик ссылок на объект доходит до нуля."
      ],
      "metadata": {
        "id": "u-V8IrXHiXT_"
      }
    },
    {
      "cell_type": "markdown",
      "source": [
        "### Инкапсуляция"
      ],
      "metadata": {
        "id": "vjesG6hLiXT_"
      }
    },
    {
      "cell_type": "markdown",
      "source": [
        "Инкапсуляция — ограничение доступа к составляющим объект компонентам (методам и переменным). Инкапсуляция делает некоторые из компонент доступными только внутри класса."
      ],
      "metadata": {
        "id": "KQG9bJNoiXT_"
      }
    },
    {
      "cell_type": "markdown",
      "source": [
        "Инкапсуляция в Python работает лишь на уровне соглашения между программистами о том, какие атрибуты являются общедоступными, а какие — внутренними."
      ],
      "metadata": {
        "id": "Y6hbwF-wiXT_"
      }
    },
    {
      "cell_type": "markdown",
      "source": [
        "Одиночное подчеркивание в начале имени атрибута говорит о том, что переменная или метод не предназначен для использования вне методов класса, однако атрибут доступен по этому имени."
      ],
      "metadata": {
        "id": "v5M7qF3CiXT_"
      }
    },
    {
      "cell_type": "code",
      "source": [
        "class A:\n",
        "    def _private(self):\n",
        "        print(\"Это приватный метод!\")\n",
        "\n",
        "a = A()\n",
        "a._private()"
      ],
      "metadata": {
        "trusted": true,
        "id": "yFHCu1dWiXT_",
        "colab": {
          "base_uri": "https://localhost:8080/"
        },
        "outputId": "b2483f5e-4133-440c-f17d-523226f3b8ed"
      },
      "execution_count": null,
      "outputs": [
        {
          "output_type": "stream",
          "name": "stdout",
          "text": [
            "Это приватный метод!\n"
          ]
        }
      ]
    },
    {
      "cell_type": "markdown",
      "source": [
        "Двойное подчеркивание в начале имени атрибута даёт большую защиту: атрибут становится недоступным по этому имени."
      ],
      "metadata": {
        "id": "6UrARMRjiXUA"
      }
    },
    {
      "cell_type": "code",
      "source": [
        "class B:\n",
        "    def __private(self):\n",
        "        print(\"Это приватный метод!\")\n",
        "\n",
        "b = B()\n",
        "b.__private()\n"
      ],
      "metadata": {
        "colab": {
          "base_uri": "https://localhost:8080/",
          "height": 204
        },
        "id": "0tLamhZluAmo",
        "outputId": "0f61b82f-bc30-4e08-b581-987ee0b93ed1"
      },
      "execution_count": null,
      "outputs": [
        {
          "output_type": "error",
          "ename": "AttributeError",
          "evalue": "ignored",
          "traceback": [
            "\u001b[0;31m---------------------------------------------------------------------------\u001b[0m",
            "\u001b[0;31mAttributeError\u001b[0m                            Traceback (most recent call last)",
            "\u001b[0;32m<ipython-input-76-537e2d73c152>\u001b[0m in \u001b[0;36m<module>\u001b[0;34m()\u001b[0m\n\u001b[1;32m      4\u001b[0m \u001b[0;34m\u001b[0m\u001b[0m\n\u001b[1;32m      5\u001b[0m \u001b[0mb\u001b[0m \u001b[0;34m=\u001b[0m \u001b[0mB\u001b[0m\u001b[0;34m(\u001b[0m\u001b[0;34m)\u001b[0m\u001b[0;34m\u001b[0m\u001b[0;34m\u001b[0m\u001b[0m\n\u001b[0;32m----> 6\u001b[0;31m \u001b[0mb\u001b[0m\u001b[0;34m.\u001b[0m\u001b[0m__private\u001b[0m\u001b[0;34m(\u001b[0m\u001b[0;34m)\u001b[0m\u001b[0;34m\u001b[0m\u001b[0;34m\u001b[0m\u001b[0m\n\u001b[0m",
            "\u001b[0;31mAttributeError\u001b[0m: 'B' object has no attribute '__private'"
          ]
        }
      ]
    },
    {
      "cell_type": "markdown",
      "source": [
        "Однако полностью это не защищает, так как атрибут всё равно остаётся доступным под именем _ИмяКласса__ИмяАтрибута:"
      ],
      "metadata": {
        "id": "lO7dkjBiiXUA"
      }
    },
    {
      "cell_type": "code",
      "source": [
        "b._B__private()"
      ],
      "metadata": {
        "id": "r10VGiOruJpk"
      },
      "execution_count": null,
      "outputs": []
    },
    {
      "cell_type": "markdown",
      "source": [
        "### Наследование"
      ],
      "metadata": {
        "id": "xDP1gEGniXUA"
      }
    },
    {
      "cell_type": "markdown",
      "source": [
        "Наследование позволяет создавать новый класс на основе уже существующего класса. Наряду с инкапсуляцией наследование является одним из краеугольных камней объектно-ориентированного программирования.\n",
        "\n"
      ],
      "metadata": {
        "id": "Dk-oJxY6iXUB"
      }
    },
    {
      "cell_type": "markdown",
      "source": [
        "Ключевыми понятиями наследования являются подкласс и суперкласс. Подкласс наследует от суперкласса все публичные атрибуты и методы. Суперкласс еще называется базовым (base class) или родительским (parent class), а подкласс - производным (derived class) или дочерним (child class)."
      ],
      "metadata": {
        "id": "dCkp-iUPiXUB"
      }
    },
    {
      "cell_type": "markdown",
      "source": [
        "Синтаксис для наследования классов выглядит следующим образом:"
      ],
      "metadata": {
        "id": "6lB0oyPXiXUC"
      }
    },
    {
      "cell_type": "raw",
      "source": [
        "class подкласс (суперкласс):\n",
        "    методы_подкласса"
      ],
      "metadata": {
        "id": "FDF3cTXniXUC"
      }
    },
    {
      "cell_type": "markdown",
      "source": [
        "Например, у нас есть класс Person, который представляет человека:"
      ],
      "metadata": {
        "id": "en5Mt8foiXUC"
      }
    },
    {
      "cell_type": "code",
      "source": [
        "class Person:\n",
        " \n",
        "    def __init__(self, name):\n",
        "        self.__name = name   # имя человека\n",
        " \n",
        "    @property\n",
        "    def name(self):\n",
        "        return self.__name\n",
        "     \n",
        "    def display_info(self):\n",
        "        print(f\"Name: {self.__name} \")"
      ],
      "metadata": {
        "trusted": true,
        "id": "VETJKY0SiXUD"
      },
      "execution_count": null,
      "outputs": []
    },
    {
      "cell_type": "markdown",
      "source": [
        "Предположим, нам необходим класс работника, который работает на некотором предприятии. Мы могли бы создать с нуля новый класс, к примеру, класс Employee:"
      ],
      "metadata": {
        "id": "b9KR3e3GiXUD"
      }
    },
    {
      "cell_type": "code",
      "source": [
        "class Employee:\n",
        " \n",
        "    def __init__(self, name):\n",
        "        self.__name = name  # имя работника\n",
        " \n",
        "    @property\n",
        "    def name(self):\n",
        "        return self.__name\n",
        " \n",
        "    def display_info(self):\n",
        "        print(f\"Name: {self.__name} \")\n",
        " \n",
        "    def work(self):\n",
        "        print(f\"{self.name} works\")"
      ],
      "metadata": {
        "trusted": true,
        "id": "WpUYp8TniXUD"
      },
      "execution_count": null,
      "outputs": []
    },
    {
      "cell_type": "markdown",
      "source": [
        "Однако класс Employee может иметь те же атрибуты и методы, что и класс Person, так как работник - это человек. Так, в выше в классе Employee только добавляется метод works, весь остальной код повторяет функционал класса Person. Но чтобы не дублировать функционал одного класса в другом, в данном случае лучше применить наследование."
      ],
      "metadata": {
        "id": "H-PtHGiViXUG"
      }
    },
    {
      "cell_type": "markdown",
      "source": [
        "Итак, унаследуем класс Employee от класса Person:"
      ],
      "metadata": {
        "id": "cRYL2tz9iXUG"
      }
    },
    {
      "cell_type": "code",
      "source": [
        "class Person:\n",
        " \n",
        "    def __init__(self, name):\n",
        "        self.__name = name   # имя человека\n",
        " \n",
        "    @property\n",
        "    def name(self):\n",
        "        return self.__name\n",
        " \n",
        "    def display_info(self):\n",
        "        print(f\"Name: {self.__name} \")\n",
        " \n",
        " \n",
        "class Employee(Person):\n",
        " \n",
        "    def work(self):\n",
        "        print(f\"{self.name} works\")\n",
        " \n",
        " \n",
        "tom = Employee(\"Tom\")\n",
        "print(tom.name)     # Tom\n",
        "tom.display_info()  # Name: Tom \n",
        "tom.work()          # Tom works"
      ],
      "metadata": {
        "trusted": true,
        "colab": {
          "base_uri": "https://localhost:8080/"
        },
        "id": "33jCUP9eiXUH",
        "outputId": "0b84b696-eca8-4b18-f972-669d714a73c8"
      },
      "execution_count": null,
      "outputs": [
        {
          "output_type": "stream",
          "name": "stdout",
          "text": [
            "Tom\n",
            "Name: Tom \n",
            "Tom works\n"
          ]
        }
      ]
    },
    {
      "cell_type": "markdown",
      "source": [
        "Класс Employee полностью перенимает функционал класса Person, лишь добавляя метод work(). Соответственно при создании объекта Employee мы можем использовать унаследованный от Person конструктор:"
      ],
      "metadata": {
        "id": "Exn0L8tmiXUH"
      }
    },
    {
      "cell_type": "code",
      "source": [
        "tom = Employee(\"Tom\")"
      ],
      "metadata": {
        "trusted": true,
        "id": "_1BRnjhhiXUH"
      },
      "execution_count": null,
      "outputs": []
    },
    {
      "cell_type": "markdown",
      "source": [
        "И также можно обращаться к унаследованным атрибутам/свойствам и методам:"
      ],
      "metadata": {
        "id": "Qm3WVOHciXUH"
      }
    },
    {
      "cell_type": "code",
      "source": [
        "print(tom.name)     # Tom\n",
        "tom.display_info()  # Name: Tom"
      ],
      "metadata": {
        "trusted": true,
        "colab": {
          "base_uri": "https://localhost:8080/"
        },
        "id": "XSRWAcO1iXUH",
        "outputId": "2b7a6fa5-701d-4919-8c32-67e760689ee1"
      },
      "execution_count": null,
      "outputs": [
        {
          "output_type": "stream",
          "name": "stdout",
          "text": [
            "Tom\n",
            "Name: Tom \n"
          ]
        }
      ]
    },
    {
      "cell_type": "markdown",
      "source": [
        "Однако, стоит обратить внимание, что для Employee НЕ доступны закрытые атрибуты типа __name. Например, мы НЕ можем в методе work обратиться к приватному атрибуту self.__name:"
      ],
      "metadata": {
        "id": "CHFysQPDiXUI"
      }
    },
    {
      "cell_type": "code",
      "source": [
        "def work(self):\n",
        "    print(f\"{self.__name} works\")   # ! Ошибка"
      ],
      "metadata": {
        "trusted": true,
        "id": "tXL15JSciXUI"
      },
      "execution_count": null,
      "outputs": []
    },
    {
      "cell_type": "markdown",
      "source": [
        "#### Множественное наследование"
      ],
      "metadata": {
        "id": "zwRgPX1jiXUI"
      }
    },
    {
      "cell_type": "code",
      "source": [
        "#  класс работника\n",
        "class Employee:\n",
        "    def work(self):\n",
        "        print(\"Employee works\")\n",
        " \n",
        " \n",
        "#  класс студента\n",
        "class Student:\n",
        "    def study(self):\n",
        "        print(\"Student studies\")\n",
        " \n",
        " \n",
        "class WorkingStudent(Employee, Student):        # Наследование от классов Employee и Student\n",
        "    pass\n",
        " \n",
        " \n",
        "# класс работающего студента\n",
        "tom = WorkingStudent()\n",
        "tom.work()      # Employee works\n",
        "tom.study()     # Student studies"
      ],
      "metadata": {
        "trusted": true,
        "id": "ZYa7vHUwiXUI"
      },
      "execution_count": null,
      "outputs": []
    },
    {
      "cell_type": "markdown",
      "source": [
        "Здесь определен класс Employee, который представляет сотрудника фирмы, и класс Student, который представляет учащегося студента. Класс WorkingStudent, который представляет работающего студента, не определяет никакого функционала, поэтому в нем определен оператор pass. Класс WorkingStudent просто наследует функционал от двух классов Employee и Student. Соответственно у объекта этого класса мы можем вызвать методы обоих классов."
      ],
      "metadata": {
        "id": "InA_LhFJiXUI"
      }
    },
    {
      "cell_type": "markdown",
      "source": [
        "При этом наследуемые классы могут более сложными по функциональности, например:"
      ],
      "metadata": {
        "id": "vegd3DYviXUI"
      }
    },
    {
      "cell_type": "code",
      "source": [
        "class Employee:\n",
        " \n",
        "    def __init__(self, name):\n",
        "        self.__name = name\n",
        " \n",
        "    @property\n",
        "    def name(self):\n",
        "        return self.__name\n",
        " \n",
        "    def work(self):\n",
        "        print(f\"{self.name} works\")\n",
        " \n",
        " \n",
        "class Student:\n",
        " \n",
        "    def __init__(self, name):\n",
        "        self.__name = name\n",
        " \n",
        "    @property\n",
        "    def name(self):\n",
        "        return self.__name\n",
        " \n",
        "    def study(self):\n",
        "        print(f\"{self.name} studies\")\n",
        " \n",
        " \n",
        "class WorkingStudent(Employee, Student):\n",
        "    pass\n",
        " \n",
        " \n",
        "tom = WorkingStudent(\"Tom\")\n",
        "tom.work()      # Tom works\n",
        "tom.study()     # Tom studies"
      ],
      "metadata": {
        "trusted": true,
        "id": "3eSkHfvCiXUI"
      },
      "execution_count": null,
      "outputs": []
    },
    {
      "cell_type": "markdown",
      "source": [
        "#### Примеси (Mixins)"
      ],
      "metadata": {
        "id": "1D9Js0RuiXUI"
      }
    },
    {
      "cell_type": "markdown",
      "source": [
        "Использование множественного наследования, позволяет нам создавать, так называемые, классы-примеси или миксины. Представим, что мы программируем класс для автомобиля. Мы хотим, чтобы у нас была возможность слушать музыку в машине. Конечно, можно просто добавить метод play_music() в класс Car:"
      ],
      "metadata": {
        "id": "MSvZunNniXUJ"
      }
    },
    {
      "cell_type": "code",
      "source": [
        "class Car:\n",
        "    def ride(self):\n",
        "        print(\"Riding a car\")\n",
        " \n",
        "    def play_music(self, song):\n",
        "        print(\"Now playing: {} \".format(song))\n",
        " \n",
        "c = Car()\n",
        "c.ride()\n",
        "\n",
        "c.play_music(\"Queen - Bohemian Rhapsody\")\n"
      ],
      "metadata": {
        "trusted": true,
        "id": "zRJeysbgiXUJ"
      },
      "execution_count": null,
      "outputs": []
    },
    {
      "cell_type": "markdown",
      "source": [
        "Но что если, у нас есть еще и телефон, радио или любой другой девайс, с которого мы будем слушать музыку. В таком случае, лучше вынести функционал проигрывания музыки в отдельный класс-миксин:"
      ],
      "metadata": {
        "id": "Ia7dW92MiXUJ"
      }
    },
    {
      "cell_type": "code",
      "source": [
        "class MusicPlayerMixin:\n",
        "    def play_music(self, song):\n",
        "        print(\"Now playing: {}\".format(song))"
      ],
      "metadata": {
        "trusted": true,
        "id": "kgdMnbIOiXUJ"
      },
      "execution_count": null,
      "outputs": []
    },
    {
      "cell_type": "markdown",
      "source": [
        "Мы можем \"домешивать\" этот класс в любой, где нужна функция проигрывания музыки."
      ],
      "metadata": {
        "id": "AOrQIAzXiXUJ"
      }
    },
    {
      "cell_type": "markdown",
      "source": [
        "#### Порядок разрешения методов (Method Resolution Order / MRO) в Python. Ромбовидное наследование (The Diamond Problem)"
      ],
      "metadata": {
        "id": "1sru00S-iXUJ"
      }
    },
    {
      "cell_type": "markdown",
      "source": [
        "Итак, классы-наследники могут использовать родительские методы. Но что, если у нескольких родителей будут одинаковые методы? Какой метод в таком случае будет использовать наследник? Рассмотрим классический пример:"
      ],
      "metadata": {
        "id": "_FCWrbQAiXUJ"
      }
    },
    {
      "cell_type": "code",
      "source": [
        "class A:\n",
        "    def hi(self):\n",
        "        print(\"A\")\n",
        " \n",
        "class B(A):\n",
        "    def hi(self):\n",
        "        print(\"B\")\n",
        " \n",
        "class C(A):\n",
        "    def hi(self):\n",
        "        print(\"C\")\n",
        " \n",
        "class D(B, C):\n",
        "    pass\n",
        " \n",
        "d = D()\n",
        "d.hi()"
      ],
      "metadata": {
        "trusted": true,
        "id": "NMbM-Y7jiXUK"
      },
      "execution_count": null,
      "outputs": []
    },
    {
      "cell_type": "markdown",
      "source": [
        "Эта ситуация, так называемое ромбовидное наследование (diamond problem) решается в Python путем установления порядка разрешения методов. В Python3 для определения порядка используется алгоритм поиска в ширину, то есть сначала интерпретатор будет искать метод hi в классе B, если его там нету - в классе С, потом A. В Python второй версии используется алгоритм поиска в глубину, то есть в данном случае - сначала B, потом - А, потом С. В Python3 можно посмотреть в каком порядке будут проинспектированы родительские классы при помощи метода класса mro():"
      ],
      "metadata": {
        "id": "zEXqghaJiXUK"
      }
    },
    {
      "cell_type": "raw",
      "source": [
        ">>> D.mro()\n",
        "[<class '__main__.D'>, <class '__main__.B'>, <class '__main__.C'>, <class '__main__.A'>, <class 'object'>]\n"
      ],
      "metadata": {
        "id": "n6uG2acHiXUK"
      }
    },
    {
      "cell_type": "markdown",
      "source": [
        "Если необходимо использовать метод конкретного родителя, например hi() класса С, нужно напрямую вызвать его по имени класса, передав self в качестве аргумента"
      ],
      "metadata": {
        "id": "TP4MkyBGiXUK"
      }
    },
    {
      "cell_type": "code",
      "source": [
        "class D(B, C):\n",
        "    def call_hi(self):\n",
        "        C.hi(self)\n",
        " \n",
        "d = D()\n",
        "d.call_hi()"
      ],
      "metadata": {
        "trusted": true,
        "id": "ZCXLA7RgiXUK"
      },
      "execution_count": null,
      "outputs": []
    },
    {
      "cell_type": "markdown",
      "source": [
        "### Метаклассы"
      ],
      "metadata": {
        "id": "kdfJs2usiXUL"
      }
    },
    {
      "cell_type": "markdown",
      "source": [
        "Метаклассы – это классы, экземпляры которых являются классами. Поговорим о специфике языка Python и его функционале."
      ],
      "metadata": {
        "id": "EYXElJgsiXUL"
      }
    },
    {
      "cell_type": "markdown",
      "source": [
        "Чтобы создать свой собственный метакласс в Python, нужно воспользоваться подклассом type, стандартным метаклассом в Python. Чаще всего метаклассы используются в роли виртуального конструктора. Чтобы создать экземпляр класса, нужно сначала вызвать этот самый класс. Точно так же делает и Python: для создания нового класса вызывает метакласс. Метаклассы определяются с помощью базовых классов в атрибуте __metaclass__. При создании класса допускается использование методов __init__ и __new__. С их помощью можно пользоваться дополнительными функциями. Во время выполнения оператора class генерируется пространство имен, которое будет содержать атрибуты будущего класса. Затем, для непосредственного создания, вызывается метакласс с именем и атрибутами."
      ],
      "metadata": {
        "id": "12lcaUSYiXUL"
      }
    },
    {
      "cell_type": "markdown",
      "source": [
        "#### Классы как объекты"
      ],
      "metadata": {
        "id": "DL9OiL_giXUL"
      }
    },
    {
      "cell_type": "markdown",
      "source": [
        "Перед тем как начинать разбираться в метаклассах, нужно хорошо понимать как работают обычные классы в Python, а они очень своеобразны. В большинстве языков это попросту фрагменты кода, которые описывают создание объекта. Данное суждение истинно и для Python:"
      ],
      "metadata": {
        "id": "md7Wk9fpiXUL"
      }
    },
    {
      "cell_type": "code",
      "source": [
        "class ObjectCreator(object):\n",
        "    pass\n",
        "\n",
        "my_object = ObjectCreator()\n",
        "print(my_object)"
      ],
      "metadata": {
        "trusted": true,
        "id": "nEwGUp7GiXUL"
      },
      "execution_count": null,
      "outputs": []
    },
    {
      "cell_type": "markdown",
      "source": [
        "Но есть один нюанс. Классы в Python это объекты. Когда выполняется оператор class, Python создает в памяти объект с именем ObjectCreator."
      ],
      "metadata": {
        "id": "xRj_EOGUiXUL"
      }
    },
    {
      "cell_type": "code",
      "source": [
        "class ObjectCreator(object):\n",
        "    pass"
      ],
      "metadata": {
        "trusted": true,
        "id": "FdZJy9aAiXUM"
      },
      "execution_count": null,
      "outputs": []
    },
    {
      "cell_type": "markdown",
      "source": [
        "Объект способен сам создавать экземпляры, так что это класс. А объект вот почему:"
      ],
      "metadata": {
        "id": "EisJRFVQiXUM"
      }
    },
    {
      "cell_type": "markdown",
      "source": [
        "* его можно назначить в качестве переменной\n",
        "* копируется\n",
        "* есть возможность добавить к нему атрибуты\n",
        "* передается в роли параметра функции"
      ],
      "metadata": {
        "id": "BDKevkSiiXUM"
      }
    },
    {
      "cell_type": "code",
      "source": [
        "print(ObjectCreator) \n",
        "\n",
        "def echo(o):\n",
        "    print(o)\n",
        "\n",
        "echo(ObjectCreator) \n",
        "\n",
        "print(hasattr(ObjectCreator, 'new_attribute'))\n",
        "\n",
        "ObjectCreator.new_attribute = 'foo' \n",
        "print(hasattr(ObjectCreator, 'new_attribute'))\n",
        "\n",
        "print(ObjectCreator.new_attribute)\n",
        "ObjectCreatorMirror = ObjectCreator\n",
        "print(ObjectCreatorMirror.new_attribute)\n",
        "\n",
        "print(ObjectCreatorMirror())\n"
      ],
      "metadata": {
        "trusted": true,
        "id": "SE2eI5liiXUM"
      },
      "execution_count": null,
      "outputs": []
    },
    {
      "cell_type": "markdown",
      "source": [
        "#### Динамическое создание классов"
      ],
      "metadata": {
        "id": "LC8KwsUKiXUM"
      }
    },
    {
      "cell_type": "markdown",
      "source": [
        "Если классы в Python – это объекты, значит, как и любой другой объект, их можно создавать на ходу. Пример создания класса в функции с помощью class:"
      ],
      "metadata": {
        "id": "GTbT6HiDiXUM"
      }
    },
    {
      "cell_type": "code",
      "source": [
        "def choose_class(name):\n",
        "    if name == 'foo':\n",
        "        class Foo(object):\n",
        "            pass\n",
        "        return Foo \n",
        "    else:\n",
        "        class Bar(object):\n",
        "            pass\n",
        "        return Bar\n",
        "\n",
        "MyClass = choose_class('foo')\n",
        "print(MyClass) \n",
        "\n",
        "print(MyClass()) "
      ],
      "metadata": {
        "trusted": true,
        "id": "eJwU2XKNiXUN"
      },
      "execution_count": null,
      "outputs": []
    },
    {
      "cell_type": "markdown",
      "source": [
        "Но это не слишком-то динамично, так как все равно придется прописывать весь класс самостоятельно."
      ],
      "metadata": {
        "id": "zoRt-hOxiXUN"
      }
    },
    {
      "cell_type": "markdown",
      "source": [
        "Исходя из того, что классы являются объектами, можно сделать вывод, что они должны чем-то генерироваться. Во время выполнения оператора class, Python автоматически создает этот объект, но есть возможность сделать это вручную."
      ],
      "metadata": {
        "id": "5ssBFmBJiXUN"
      }
    },
    {
      "cell_type": "markdown",
      "source": [
        "Помните функцию type? Старая добрая функция, позволяющая определить тип объекта:"
      ],
      "metadata": {
        "id": "xQOuq2AiiXUN"
      }
    },
    {
      "cell_type": "code",
      "source": [
        "print(type(1))\n",
        "\n",
        "print(type(\"1\"))\n",
        "\n",
        "print(type(ObjectCreator))\n",
        "\n",
        "print(type(ObjectCreator()))\n"
      ],
      "metadata": {
        "trusted": true,
        "id": "-ffQV8paiXUN"
      },
      "execution_count": null,
      "outputs": []
    },
    {
      "cell_type": "markdown",
      "source": [
        "Эта функция может создавать классы на ходу. В качестве параметра type принимает описание класса, и возвращает класс."
      ],
      "metadata": {
        "id": "OkuTdLHciXUN"
      }
    },
    {
      "cell_type": "markdown",
      "source": [
        "Функция type работает следующим образом:"
      ],
      "metadata": {
        "id": "UIE8BYz_iXUN"
      }
    },
    {
      "cell_type": "raw",
      "source": [
        "type(\"имя класса\",\n",
        "     \"кортеж родительского класса (для наследования может быть пустым)\",\n",
        "     \"словарь, содержащий имена и значения атрибутов\")"
      ],
      "metadata": {
        "id": "wzorojz2iXUO"
      }
    },
    {
      "cell_type": "markdown",
      "source": [
        "Например:"
      ],
      "metadata": {
        "id": "2hS9pOFciXUO"
      }
    },
    {
      "cell_type": "code",
      "source": [
        "class MyShinyClass(object):\n",
        "       pass"
      ],
      "metadata": {
        "trusted": true,
        "id": "8WmwW5KRiXUO"
      },
      "execution_count": null,
      "outputs": []
    },
    {
      "cell_type": "markdown",
      "source": [
        "Можно создать вручную:"
      ],
      "metadata": {
        "id": "1hzMtVhHiXUO"
      }
    },
    {
      "cell_type": "code",
      "source": [
        "MyShinyClass = type('MyShinyClass', (), {})\n",
        "print(MyShinyClass)\n",
        "\n",
        "print(MyShinyClass()) \n"
      ],
      "metadata": {
        "trusted": true,
        "id": "oNdenEPGiXUO"
      },
      "execution_count": null,
      "outputs": []
    },
    {
      "cell_type": "markdown",
      "source": [
        "Вероятно, вы обратили внимание на то, что MyShinyClass выступает и в качестве имени класса, и в качестве переменной для хранения ссылок на класс.\n",
        "type принимает словарь для определения атрибутов класса."
      ],
      "metadata": {
        "id": "4foZuhsEiXUO"
      }
    },
    {
      "cell_type": "code",
      "source": [
        "class Foo(object):\n",
        "    bar = True"
      ],
      "metadata": {
        "trusted": true,
        "id": "0Up5gcMjiXUO"
      },
      "execution_count": null,
      "outputs": []
    },
    {
      "cell_type": "markdown",
      "source": [
        "Можно написать как:"
      ],
      "metadata": {
        "id": "TzPahRKFiXUO"
      }
    },
    {
      "cell_type": "code",
      "source": [
        "Foo = type('Foo', (), {'bar':True})"
      ],
      "metadata": {
        "trusted": true,
        "id": "e2NPEws2iXUO"
      },
      "execution_count": null,
      "outputs": []
    },
    {
      "cell_type": "markdown",
      "source": [
        "Используется как обычный класс:"
      ],
      "metadata": {
        "id": "c2isMKVziXUP"
      }
    },
    {
      "cell_type": "code",
      "source": [
        "print(Foo)\n",
        "\n",
        "print(Foo.bar)\n",
        "\n",
        "f = Foo()\n",
        "print(f)\n",
        "\n",
        "print(f.bar)\n"
      ],
      "metadata": {
        "trusted": true,
        "id": "bP_VEvHuiXUP"
      },
      "execution_count": null,
      "outputs": []
    },
    {
      "cell_type": "markdown",
      "source": [
        "#### Что же такое метакласс?"
      ],
      "metadata": {
        "id": "do-7y6GKiXUP"
      }
    },
    {
      "cell_type": "markdown",
      "source": [
        "Если говорить в двух словах, то метакласс – это \"штуковина\", создающая классы. Чтобы создавать объекты, мы определяем классы, правильно? Но мы узнали, что классы в Python являются объектами. На самом деле метаклассы – это то, что создает данные объекты. Довольно сложно объяснить. Лучше приведем пример:"
      ],
      "metadata": {
        "id": "uMzSLQ0AiXUP"
      }
    },
    {
      "cell_type": "markdown",
      "source": [
        "MyClass = MetaClass()"
      ],
      "metadata": {
        "id": "2nXbXCTSvYhk"
      }
    },
    {
      "cell_type": "markdown",
      "source": [
        "my_object = MyClass()"
      ],
      "metadata": {
        "id": "o3Vl33jdva34"
      }
    },
    {
      "cell_type": "markdown",
      "source": [
        "Ранее уже упоминалось, что type позволяет делать что-то вроде этого:"
      ],
      "metadata": {
        "id": "PwN1QQm-iXUP"
      }
    },
    {
      "cell_type": "code",
      "source": [
        "MyClass = type('MyClass', (), {})"
      ],
      "metadata": {
        "trusted": true,
        "id": "TOvXwXoIiXUP"
      },
      "execution_count": null,
      "outputs": []
    },
    {
      "cell_type": "markdown",
      "source": [
        "Скорее всего, вы задаетесь вопросом: почему имя функции пишется с маленькой буквы?"
      ],
      "metadata": {
        "id": "RE3HZSUKiXUP"
      }
    },
    {
      "cell_type": "markdown",
      "source": [
        "Скорее всего, это вопрос соответствия со str – классом, который отвечает за создание строк, и int – классом, создающим целочисленные объекты. type – это просто класс, создающий объекты класса. Проверить можно с помощью атрибута __class__. Все, что вы видите в Python – объекты. В том числе и строки, числа, классы и функции. Все это объекты, и все они были созданы из класса:"
      ],
      "metadata": {
        "id": "YPjhhhlaiXUP"
      }
    },
    {
      "cell_type": "markdown",
      "source": [
        "Интересный вопрос: какой __class__ у каждого __class__? (Ответ - type)"
      ],
      "metadata": {
        "id": "p1_JZ7XPiXUP"
      }
    },
    {
      "cell_type": "markdown",
      "source": [
        "Метакласс создает объекты класса. Это можно назвать \"фабрикой классов\". type – встроенный метакласс, который использует Python. Также можно создать свой собственный метакласс."
      ],
      "metadata": {
        "id": "K8oHonoeiXUQ"
      }
    },
    {
      "cell_type": "markdown",
      "source": [
        "#### Атрибут __metaclass__"
      ],
      "metadata": {
        "id": "rOX7gyeWiXUQ"
      }
    },
    {
      "cell_type": "markdown",
      "source": [
        "При написании класса можно добавить атрибут __metaclass__:"
      ],
      "metadata": {
        "id": "Qa4qb9AUiXUQ"
      }
    },
    {
      "cell_type": "raw",
      "source": [
        "class Foo(object):\n",
        "    __metaclass__ = something...\n",
        "    [...]"
      ],
      "metadata": {
        "id": "B4Fj7fiCiXUQ"
      }
    },
    {
      "cell_type": "markdown",
      "source": [
        "Если это сделать, то для создания класса Foo Python будет использовать метакласс."
      ],
      "metadata": {
        "id": "gUbvhIoRiXUQ"
      }
    },
    {
      "cell_type": "markdown",
      "source": [
        "СТОИТ ПОМНИТЬ!"
      ],
      "metadata": {
        "id": "oHLiJXaeiXUQ"
      }
    },
    {
      "cell_type": "markdown",
      "source": [
        "Если написать class Foo(object), объект класса Foo не сразу создастся в памяти.\n",
        "Python будет искать __metaclass__. Как только атрибут будет найден, он используется для создания класса Foo. В том случае, если этого не произойдет, Python будет использовать type для создания класса."
      ],
      "metadata": {
        "id": "posGkgNNiXUQ"
      }
    },
    {
      "cell_type": "markdown",
      "source": [
        "Если написать:"
      ],
      "metadata": {
        "id": "nusqamQciXUQ"
      }
    },
    {
      "cell_type": "markdown",
      "source": [
        "class Foo(Bar):\n",
        "   pass"
      ],
      "metadata": {
        "id": "-kDkL902vnD3"
      }
    },
    {
      "cell_type": "markdown",
      "source": [
        "Python делает следующее:"
      ],
      "metadata": {
        "id": "GYcRYdHYiXUQ"
      }
    },
    {
      "cell_type": "markdown",
      "source": [
        "Проверит, есть ли атрибут __metaclass__ у класса Foo? Если он есть, создаст в памяти объект класса с именем Foo с использованием того, что находится в __metaclass__."
      ],
      "metadata": {
        "id": "SHWQjTVliXUQ"
      }
    },
    {
      "cell_type": "markdown",
      "source": [
        "Если Python вдруг не сможет найти __metaclass__, он будет искать этот атрибут на уровне модуля и после этого повторит процедуру. В случае если он вообще не может найти какой-либо __metaclass__, Python использует собственный метакласс type, чтобы создать объект класса."
      ],
      "metadata": {
        "id": "oNF-qSUOiXUQ"
      }
    },
    {
      "cell_type": "markdown",
      "source": [
        "Теперь вопрос: что можно добавить в __metaclass__?\n",
        "(Ответ: что угодно, что может создавать классы.)"
      ],
      "metadata": {
        "id": "10nxcx29iXUR"
      }
    },
    {
      "cell_type": "markdown",
      "source": [
        "А что может создать класс? (type или его подклассы, а также всё, что его использует.)"
      ],
      "metadata": {
        "id": "15C21_nAiXUR"
      }
    },
    {
      "cell_type": "markdown",
      "source": [
        "#### Пользовательские метаклассы"
      ],
      "metadata": {
        "id": "lcEmMAwXiXUR"
      }
    },
    {
      "cell_type": "markdown",
      "source": [
        "Основной целью метакласса является автоматическое изменение класса во время его создания. Обычно это делается для API, когда нужно создать классы, соответствующие текущему контексту. Например, вы решили, что все классы в модуле должны иметь свои атрибуты, и они должны быть записаны в верхнем регистре. Чтобы решить эту задачу, можно задать __metaclass__ на уровне модуля."
      ],
      "metadata": {
        "id": "ZxuHEiFaiXUR"
      }
    },
    {
      "cell_type": "markdown",
      "source": [
        "Таким образом, нужно просто сообщить метаклассу, что все атрибуты должны быть в верхнем регистре. __metaclass__ действительно может быть любым вызываемым объектом, он не обязательно должен быть формальным классом. Итак, начнем с простого примера, с использованием функции."
      ],
      "metadata": {
        "id": "whGANLoTiXUR"
      }
    },
    {
      "cell_type": "code",
      "source": [
        "def upper_attr(future_class_name, future_class_parents, future_class_attr):\n",
        "    \"\"\"\n",
        "     Вернуть объект класса со списком его атрибутов, перевернутым\n",
        "     в верхний регистр.\n",
        "    \"\"\"\n",
        "\n",
        "    uppercase_attr = {}\n",
        "    for name, val in future_class_attr.items():\n",
        "        if not name.startswith('__'):\n",
        "            uppercase_attr[name.upper()] = val\n",
        "        else:\n",
        "            uppercase_attr[name] = val\n",
        "\n",
        "    return type(future_class_name, future_class_parents, uppercase_attr)\n",
        "\n",
        "__metaclass__ = upper_attr\n",
        "\n",
        "class Foo():\n",
        "    bar = 'bip'\n",
        "\n",
        "print(hasattr(Foo, 'bar'))\n",
        "\n",
        "print(hasattr(Foo, 'BAR'))\n"
      ],
      "metadata": {
        "trusted": true,
        "id": "i_Pp6N3iiXUR"
      },
      "execution_count": null,
      "outputs": []
    },
    {
      "cell_type": "markdown",
      "source": [
        "Теперь то же самое, но с использованием метакласса:"
      ],
      "metadata": {
        "id": "-sYDBwgtiXUR"
      }
    },
    {
      "cell_type": "code",
      "source": [
        "class UpperAttrMetaclass(type):\n",
        "\n",
        "    def __new__(upperattr_metaclass, future_class_name,\n",
        "                future_class_parents, future_class_attr):\n",
        "\n",
        "        uppercase_attr = {}\n",
        "        for name, val in future_class_attr.items():\n",
        "            if not name.startswith('__'):\n",
        "                uppercase_attr[name.upper()] = val\n",
        "            else:\n",
        "                uppercase_attr[name] = val\n",
        "\n",
        "        return type(future_class_name, future_class_parents, uppercase_attr)"
      ],
      "metadata": {
        "trusted": true,
        "id": "-_xGU9p-iXUR"
      },
      "execution_count": null,
      "outputs": []
    },
    {
      "cell_type": "markdown",
      "source": [
        "Но это не совсем ООП, так как type не переопределяется, а вызывается напрямую. Давайте реализуем это:"
      ],
      "metadata": {
        "id": "tl2z0tCMiXUR"
      }
    },
    {
      "cell_type": "code",
      "source": [
        "class UpperAttrMetaclass(type):\n",
        "\n",
        "    def __new__(upperattr_metaclass, future_class_name,\n",
        "                future_class_parents, future_class_attr):\n",
        "\n",
        "        uppercase_attr = {}\n",
        "        for name, val in future_class_attr.items():\n",
        "            if not name.startswith('__'):\n",
        "                uppercase_attr[name.upper()] = val\n",
        "            else:\n",
        "                uppercase_attr[name] = val\n",
        "                \n",
        "        return type.__new__(upperattr_metaclass, future_class_name,\n",
        "                            future_class_parents, uppercase_attr)"
      ],
      "metadata": {
        "trusted": true,
        "id": "wYBlNyX7iXUS"
      },
      "execution_count": null,
      "outputs": []
    },
    {
      "cell_type": "markdown",
      "source": [
        "Скорее всего, вы заметили дополнительный аргумент upperattr_metaclass. В нём нет ничего особенного: этот метод первым аргументом получает текущий экземпляр. Точно так же, как и self для обычных методов. Имена аргументов такие длинные для наглядности, но для self все имена имеют названия обычной длины. Поэтому реальный метакласс будет выглядеть так:"
      ],
      "metadata": {
        "id": "DoUgTgLAiXUS"
      }
    },
    {
      "cell_type": "code",
      "source": [
        "class UpperAttrMetaclass(type):\n",
        "\n",
        "    def __new__(cls, clsname, bases, dct):\n",
        "\n",
        "        uppercase_attr = {}\n",
        "        for name, val in dct.items():\n",
        "            if not name.startswith('__'):\n",
        "                uppercase_attr[name.upper()] = val\n",
        "            else:\n",
        "                uppercase_attr[name] = val\n",
        "\n",
        "        return type.__new__(cls, clsname, bases, uppercase_attr)"
      ],
      "metadata": {
        "trusted": true,
        "id": "14KV4_OXiXUS"
      },
      "execution_count": null,
      "outputs": []
    },
    {
      "cell_type": "markdown",
      "source": [
        "Используя метод super, можно сделать код более “чистым”:"
      ],
      "metadata": {
        "id": "dyI6zSTpiXUS"
      }
    },
    {
      "cell_type": "code",
      "source": [
        "class UpperAttrMetaclass(type):\n",
        "\n",
        "    def __new__(cls, clsname, bases, dct):\n",
        "\n",
        "        uppercase_attr = {}\n",
        "        for name, val in dct.items():\n",
        "            if not name.startswith('__'):\n",
        "                uppercase_attr[name.upper()] = val\n",
        "            else:\n",
        "                uppercase_attr[name] = val\n",
        "\n",
        "        return super(UpperAttrMetaclass, cls).__new__(cls, clsname, bases, uppercase_attr)"
      ],
      "metadata": {
        "trusted": true,
        "id": "IFY4EHPQiXUS"
      },
      "execution_count": null,
      "outputs": []
    },
    {
      "cell_type": "markdown",
      "source": [
        "Вот и все. О метаклассах больше рассказать нечего."
      ],
      "metadata": {
        "id": "LS5mYaxsiXUS"
      }
    },
    {
      "cell_type": "markdown",
      "source": [
        "Причина сложности кода, использующего метаклассы, заключается не в самих метаклассах. Код сложный потому, что обычно метаклассы используются для сложных задач, основанных на наследовании, интроспекции и манипуляции такими переменными, как __dict__. Также с помощью метаклассов можно:"
      ],
      "metadata": {
        "id": "eTMlkv9biXUS"
      }
    },
    {
      "cell_type": "markdown",
      "source": [
        "* перехватить создание класса\n",
        "* изменить класс\n",
        "* вернуть измененный класс"
      ],
      "metadata": {
        "id": "kOYJifEaiXUS"
      }
    },
    {
      "cell_type": "code",
      "source": [
        ""
      ],
      "metadata": {
        "id": "zGflYNPbiXUS"
      },
      "execution_count": null,
      "outputs": []
    }
  ]
}
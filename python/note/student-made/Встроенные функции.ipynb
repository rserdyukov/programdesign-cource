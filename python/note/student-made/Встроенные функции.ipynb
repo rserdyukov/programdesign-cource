{
  "nbformat": 4,
  "nbformat_minor": 0,
  "metadata": {
    "colab": {
      "name": "Красоцкий Максим Python-main-funcs.ipynb",
      "provenance": [],
      "collapsed_sections": [
        "MQEa1OCrDKQI",
        "N8f-thN0IrZq",
        "kORnW4rcJD1V",
        "9-AypklKH3X3",
        "2YAgVTMhEOE-",
        "KFNJVwZQDaQt",
        "kwVfs9MYKHo6",
        "hMSwLqAjKPSY",
        "ZS8KebJMK5po",
        "TYBjH088KBu6",
        "wtrO6TTDLVjr",
        "BvIWP4muMBrc",
        "AwN7pNe2MjqI",
        "vWvNx2cmND4A",
        "-4R2UNdiNZ7J",
        "-8_S4XdoOZvQ",
        "mtEs8r_vPquI"
      ]
    },
    "kernelspec": {
      "name": "python3",
      "display_name": "Python 3"
    },
    "language_info": {
      "name": "python"
    }
  },
  "cells": [
    {
      "cell_type": "markdown",
      "source": [
        "# Python встроенные функции"
      ],
      "metadata": {
        "id": "RhIX64M0Bi2u"
      }
    },
    {
      "cell_type": "markdown",
      "source": [
        "Встроенные функции являются одними из **важнейших** элементов языка **Python**. Они не только часто используются, но и отвечают за те вещи, которых не добиться другими способами. В **Python** десятки встроенных функций, и у каждой из них есть **уникальные** возможности.\n"
      ],
      "metadata": {
        "id": "mCfz2RsaB36g"
      }
    },
    {
      "cell_type": "markdown",
      "source": [
        "## Для работы с числами"
      ],
      "metadata": {
        "id": "MQEa1OCrDKQI"
      }
    },
    {
      "cell_type": "markdown",
      "source": [
        "### hex()"
      ],
      "metadata": {
        "id": "N8f-thN0IrZq"
      }
    },
    {
      "cell_type": "markdown",
      "source": [
        "Преобразование **целого** числа в **шестнадцатеричную** строку."
      ],
      "metadata": {
        "id": "LcO5MgUlIuhc"
      }
    },
    {
      "cell_type": "code",
      "source": [
        "print(hex(127))"
      ],
      "metadata": {
        "colab": {
          "base_uri": "https://localhost:8080/"
        },
        "id": "W-_QYRPbIwva",
        "outputId": "a58cf182-3c52-4cbc-c69f-17ac0ccb68eb"
      },
      "execution_count": null,
      "outputs": [
        {
          "output_type": "stream",
          "name": "stdout",
          "text": [
            "0x7f\n"
          ]
        }
      ]
    },
    {
      "cell_type": "code",
      "source": [
        "print(hex(-35))"
      ],
      "metadata": {
        "colab": {
          "base_uri": "https://localhost:8080/"
        },
        "id": "TEOLLMLUI8IR",
        "outputId": "ae5d3da5-d097-4c01-d8b0-39a17b1de5bf"
      },
      "execution_count": null,
      "outputs": [
        {
          "output_type": "stream",
          "name": "stdout",
          "text": [
            "-0x23\n"
          ]
        }
      ]
    },
    {
      "cell_type": "markdown",
      "source": [
        "### round()"
      ],
      "metadata": {
        "id": "kORnW4rcJD1V"
      }
    },
    {
      "cell_type": "markdown",
      "source": [
        "Округление до **N** знаков после запятой."
      ],
      "metadata": {
        "id": "IN8WtjI7JGoy"
      }
    },
    {
      "cell_type": "code",
      "source": [
        "N = 2\n",
        "print(round(5.76543, N))"
      ],
      "metadata": {
        "colab": {
          "base_uri": "https://localhost:8080/"
        },
        "id": "d7qjMYujJJLi",
        "outputId": "4f275b59-45bd-426c-e2f0-56479891bf90"
      },
      "execution_count": null,
      "outputs": [
        {
          "output_type": "stream",
          "name": "stdout",
          "text": [
            "5.77\n"
          ]
        }
      ]
    },
    {
      "cell_type": "markdown",
      "source": [
        "### divmod()"
      ],
      "metadata": {
        "id": "9-AypklKH3X3"
      }
    },
    {
      "cell_type": "markdown",
      "source": [
        "Возвращает **частное** и **остаток** от деления a на b."
      ],
      "metadata": {
        "id": "76OUYmg0H-HQ"
      }
    },
    {
      "cell_type": "code",
      "source": [
        "a, b = 9, 3\n",
        "print(divmod(a, b))"
      ],
      "metadata": {
        "colab": {
          "base_uri": "https://localhost:8080/"
        },
        "id": "DBC6Q6xYIGJP",
        "outputId": "b07221c8-a960-44ee-8d46-65f309c46394"
      },
      "execution_count": null,
      "outputs": [
        {
          "output_type": "stream",
          "name": "stdout",
          "text": [
            "(3, 0)\n"
          ]
        }
      ]
    },
    {
      "cell_type": "code",
      "source": [
        "a, b = 8, 3\n",
        "print(divmod(a, b))"
      ],
      "metadata": {
        "colab": {
          "base_uri": "https://localhost:8080/"
        },
        "id": "MnkwJGPJIbjB",
        "outputId": "c0aef3b5-dc61-4b9f-cc02-083c52de7e2a"
      },
      "execution_count": null,
      "outputs": [
        {
          "output_type": "stream",
          "name": "stdout",
          "text": [
            "(2, 2)\n"
          ]
        }
      ]
    },
    {
      "cell_type": "markdown",
      "source": [
        "### complex()"
      ],
      "metadata": {
        "id": "2YAgVTMhEOE-"
      }
    },
    {
      "cell_type": "markdown",
      "source": [
        "**Комплексное число** — это число, представленное в форме **a + bi**. Оно принимает **целые числ** или **строки** и возвращает соответствующее **комплексное** число. Если передать **неподходящее** значение, то вернется ошибка **ValueError**."
      ],
      "metadata": {
        "id": "kd5wiiyLET9h"
      }
    },
    {
      "cell_type": "code",
      "source": [
        "complex(3)"
      ],
      "metadata": {
        "colab": {
          "base_uri": "https://localhost:8080/"
        },
        "id": "SttYc-vmJWxv",
        "outputId": "c1c7c0c4-b251-46f2-a354-78811c339683"
      },
      "execution_count": null,
      "outputs": [
        {
          "output_type": "execute_result",
          "data": {
            "text/plain": [
              "(3+0j)"
            ]
          },
          "metadata": {},
          "execution_count": 3
        }
      ]
    },
    {
      "cell_type": "code",
      "source": [
        "complex(-3,-2)"
      ],
      "metadata": {
        "colab": {
          "base_uri": "https://localhost:8080/"
        },
        "id": "4Zqj5r3HJb0Y",
        "outputId": "64451948-171e-4e88-9c36-bf6039735f1e"
      },
      "execution_count": null,
      "outputs": [
        {
          "output_type": "execute_result",
          "data": {
            "text/plain": [
              "(-3-2j)"
            ]
          },
          "metadata": {},
          "execution_count": 4
        }
      ]
    },
    {
      "cell_type": "markdown",
      "source": [
        "### abs()"
      ],
      "metadata": {
        "id": "KFNJVwZQDaQt"
      }
    },
    {
      "cell_type": "markdown",
      "source": [
        "Функция ***abs()*** в **Python** возвращает **абсолютное значение** числа. Если это **комплексное число**, то абсолютным значением будет величина **целой и мнимой частей**.\n"
      ],
      "metadata": {
        "id": "r1a0yb5qDpF3"
      }
    },
    {
      "cell_type": "code",
      "source": [
        "abs(-5.6)"
      ],
      "metadata": {
        "colab": {
          "base_uri": "https://localhost:8080/"
        },
        "id": "bA34fQIXD53t",
        "outputId": "09f382e7-3575-43b0-ce88-494bd494d256"
      },
      "execution_count": null,
      "outputs": [
        {
          "output_type": "execute_result",
          "data": {
            "text/plain": [
              "5.6"
            ]
          },
          "metadata": {},
          "execution_count": 2
        }
      ]
    },
    {
      "cell_type": "markdown",
      "source": [
        "## Для работы с объектами"
      ],
      "metadata": {
        "id": "kwVfs9MYKHo6"
      }
    },
    {
      "cell_type": "markdown",
      "source": [
        "### callable()"
      ],
      "metadata": {
        "id": "hMSwLqAjKPSY"
      }
    },
    {
      "cell_type": "markdown",
      "source": [
        "**Вызываемый объект** — это объект, который можно **вызвать**. Функция ***callable()*** сообщает, является ли объект **вызываемым**. Если **да**, то возвращает **True**, а в **противном случае** — **False**."
      ],
      "metadata": {
        "id": "aPxsBY0PKVce"
      }
    },
    {
      "cell_type": "code",
      "source": [
        "callable(5)"
      ],
      "metadata": {
        "colab": {
          "base_uri": "https://localhost:8080/"
        },
        "id": "kfMFzxtDKwSy",
        "outputId": "19d48529-0c8f-4a60-e90f-181469df10e5"
      },
      "execution_count": null,
      "outputs": [
        {
          "output_type": "execute_result",
          "data": {
            "text/plain": [
              "False"
            ]
          },
          "metadata": {},
          "execution_count": 5
        }
      ]
    },
    {
      "cell_type": "code",
      "source": [
        "class Foo:\n",
        "  def __call__(self):\n",
        "    print('Print Something')\n",
        "\n",
        "  \n",
        "callable(Foo)"
      ],
      "metadata": {
        "colab": {
          "base_uri": "https://localhost:8080/"
        },
        "id": "GBnlyQG7h7r3",
        "outputId": "b1562255-53e3-42f0-8ae7-2c91ac1c25a6"
      },
      "execution_count": null,
      "outputs": [
        {
          "output_type": "execute_result",
          "data": {
            "text/plain": [
              "True"
            ]
          },
          "metadata": {},
          "execution_count": 2
        }
      ]
    },
    {
      "cell_type": "markdown",
      "source": [
        "### dir()"
      ],
      "metadata": {
        "id": "ZS8KebJMK5po"
      }
    },
    {
      "cell_type": "markdown",
      "source": [
        "Функция ***dir()*** получает **список** вех **атрибутов** и **методов** объекта. Если объект **не передать**, то функция вернет **все** имена модулей в локальном пространстве имен.\n"
      ],
      "metadata": {
        "id": "7UixuFPMLAaR"
      }
    },
    {
      "cell_type": "code",
      "source": [
        "x = [\"Яблоко\", \"Апельсин\", \"Гранат\"]\n",
        "print(dir(x))"
      ],
      "metadata": {
        "colab": {
          "base_uri": "https://localhost:8080/"
        },
        "id": "aTiCyy_pLQur",
        "outputId": "a9ce2d64-0282-452f-c3e4-dd6c05cdde83"
      },
      "execution_count": null,
      "outputs": [
        {
          "output_type": "stream",
          "name": "stdout",
          "text": [
            "['__add__', '__class__', '__contains__', '__delattr__', '__delitem__', '__dir__', '__doc__', '__eq__', '__format__', '__ge__', '__getattribute__', '__getitem__', '__gt__', '__hash__', '__iadd__', '__imul__', '__init__', '__init_subclass__', '__iter__', '__le__', '__len__', '__lt__', '__mul__', '__ne__', '__new__', '__reduce__', '__reduce_ex__', '__repr__', '__reversed__', '__rmul__', '__setattr__', '__setitem__', '__sizeof__', '__str__', '__subclasshook__', 'append', 'clear', 'copy', 'count', 'extend', 'index', 'insert', 'pop', 'remove', 'reverse', 'sort']\n"
          ]
        }
      ]
    },
    {
      "cell_type": "markdown",
      "source": [
        "### hash()"
      ],
      "metadata": {
        "id": "TYBjH088KBu6"
      }
    },
    {
      "cell_type": "markdown",
      "source": [
        "У большинства **объектов** в **Python** есть **хэш-номер**. Функция ***hash()*** возвращает значение **хэша** переданного объекта. Объекты с **__**hash**__()** — это те, у которых есть соответствующее **значение**."
      ],
      "metadata": {
        "id": "OXf-EkhWKHqT"
      }
    },
    {
      "cell_type": "code",
      "source": [
        "hash('Hello World')"
      ],
      "metadata": {
        "colab": {
          "base_uri": "https://localhost:8080/"
        },
        "id": "xJPnY36ZLMyl",
        "outputId": "f685783b-eb67-4293-a324-635c4ad22fb7"
      },
      "execution_count": null,
      "outputs": [
        {
          "output_type": "execute_result",
          "data": {
            "text/plain": [
              "-1941266023074445128"
            ]
          },
          "metadata": {},
          "execution_count": 7
        }
      ]
    },
    {
      "cell_type": "code",
      "source": [
        "hash(True)"
      ],
      "metadata": {
        "colab": {
          "base_uri": "https://localhost:8080/"
        },
        "id": "FqAewb-ZLRlT",
        "outputId": "c2d87fc2-e2da-433c-f848-29784d010f3e"
      },
      "execution_count": null,
      "outputs": [
        {
          "output_type": "execute_result",
          "data": {
            "text/plain": [
              "1"
            ]
          },
          "metadata": {},
          "execution_count": 9
        }
      ]
    },
    {
      "cell_type": "markdown",
      "source": [
        "### help()"
      ],
      "metadata": {
        "id": "wtrO6TTDLVjr"
      }
    },
    {
      "cell_type": "markdown",
      "source": [
        "Функция ***help()*** предоставляет простой способ получения доступа к **документации Python** без интернета для любой функции, ключевого слова или модуля."
      ],
      "metadata": {
        "id": "H59GzS0jLafk"
      }
    },
    {
      "cell_type": "code",
      "source": [
        "help(print)"
      ],
      "metadata": {
        "colab": {
          "base_uri": "https://localhost:8080/"
        },
        "id": "n-p8PyjCLiJF",
        "outputId": "8256786e-c77e-4015-aef9-a5335594ecbf"
      },
      "execution_count": null,
      "outputs": [
        {
          "output_type": "stream",
          "name": "stdout",
          "text": [
            "Help on built-in function print in module builtins:\n",
            "\n",
            "print(...)\n",
            "    print(value, ..., sep=' ', end='\\n', file=sys.stdout, flush=False)\n",
            "    \n",
            "    Prints the values to a stream, or to sys.stdout by default.\n",
            "    Optional keyword arguments:\n",
            "    file:  a file-like object (stream); defaults to the current sys.stdout.\n",
            "    sep:   string inserted between values, default a space.\n",
            "    end:   string appended after the last value, default a newline.\n",
            "    flush: whether to forcibly flush the stream.\n",
            "\n"
          ]
        }
      ]
    },
    {
      "cell_type": "markdown",
      "source": [
        "### type()"
      ],
      "metadata": {
        "id": "BvIWP4muMBrc"
      }
    },
    {
      "cell_type": "markdown",
      "source": [
        "Функция ***type()*** применяется в **двух** сценариях. Если передать **один** параметр, то она вернет **тип** этого объекта. Если же передать **три** параметра, то можно **создать** объект **type**.\n"
      ],
      "metadata": {
        "id": "Mh8WRTnTMHak"
      }
    },
    {
      "cell_type": "code",
      "source": [
        "type(5)"
      ],
      "metadata": {
        "colab": {
          "base_uri": "https://localhost:8080/"
        },
        "id": "yK_gawpJMaFI",
        "outputId": "7f5b3664-36d4-4757-eaa3-27b3751efc10"
      },
      "execution_count": null,
      "outputs": [
        {
          "output_type": "execute_result",
          "data": {
            "text/plain": [
              "int"
            ]
          },
          "metadata": {},
          "execution_count": 11
        }
      ]
    },
    {
      "cell_type": "code",
      "source": [
        "type([5])"
      ],
      "metadata": {
        "colab": {
          "base_uri": "https://localhost:8080/"
        },
        "id": "NS_0GI8lMfXY",
        "outputId": "92d8639e-651f-4058-f12b-fe0982e5c76b"
      },
      "execution_count": null,
      "outputs": [
        {
          "output_type": "execute_result",
          "data": {
            "text/plain": [
              "list"
            ]
          },
          "metadata": {},
          "execution_count": 12
        }
      ]
    },
    {
      "cell_type": "code",
      "source": [
        "numbers_list = [1, 2]\n",
        "print(type(numbers_list))\n",
        "\n",
        "numbers_dict = {1: 'one', 2: 'two'}\n",
        "print(type(numbers_dict))\n",
        "\n",
        "class Foo:\n",
        "    a = 0\n",
        "\n",
        "foo = Foo()\n",
        "print(type(foo))"
      ],
      "metadata": {
        "colab": {
          "base_uri": "https://localhost:8080/"
        },
        "id": "MrpdhrsEiWMu",
        "outputId": "b52762f3-36c6-450f-e844-183247223015"
      },
      "execution_count": null,
      "outputs": [
        {
          "output_type": "stream",
          "name": "stdout",
          "text": [
            "<class 'list'>\n",
            "<class 'dict'>\n",
            "<class '__main__.Foo'>\n"
          ]
        }
      ]
    },
    {
      "cell_type": "code",
      "source": [
        "o1 = type('X', (object,), dict(a='Foo', b=12))\n",
        "print(type(o1))\n",
        "\n",
        "print(vars(o1))\n",
        "\n",
        "class test:\n",
        "  a = 'Foo'\n",
        "  b = 12\n",
        "  \n",
        "o2 = type('Y', (test,), dict(a='Foo', b=12))\n",
        "print(type(o2))\n",
        "print(vars(o2))"
      ],
      "metadata": {
        "colab": {
          "base_uri": "https://localhost:8080/"
        },
        "id": "d-ccK5UDiaHu",
        "outputId": "70abed14-59e6-4525-de07-0fe61d41dc2c"
      },
      "execution_count": null,
      "outputs": [
        {
          "output_type": "stream",
          "name": "stdout",
          "text": [
            "<class 'type'>\n",
            "{'a': 'Foo', 'b': 12, '__module__': '__main__', '__dict__': <attribute '__dict__' of 'X' objects>, '__weakref__': <attribute '__weakref__' of 'X' objects>, '__doc__': None}\n",
            "<class 'type'>\n",
            "{'a': 'Foo', 'b': 12, '__module__': '__main__', '__doc__': None}\n"
          ]
        }
      ]
    },
    {
      "cell_type": "markdown",
      "source": [
        "### globals()"
      ],
      "metadata": {
        "id": "AwN7pNe2MjqI"
      }
    },
    {
      "cell_type": "markdown",
      "source": [
        "Словарь **глобальных** имен."
      ],
      "metadata": {
        "id": "O2IE3aG3Mo7N"
      }
    },
    {
      "cell_type": "code",
      "source": [
        "age = 23\n",
        "\n",
        "globals()['age'] = 25\n",
        "print('The age is:', age)"
      ],
      "metadata": {
        "colab": {
          "base_uri": "https://localhost:8080/"
        },
        "id": "0_Tyg9d3ik56",
        "outputId": "c06074f5-51b3-4706-e357-a13d6730729a"
      },
      "execution_count": null,
      "outputs": [
        {
          "output_type": "stream",
          "name": "stdout",
          "text": [
            "The age is: 25\n"
          ]
        }
      ]
    },
    {
      "cell_type": "markdown",
      "source": [
        "__\"age = 23\\n\\nglobals()['age'] = 25\\nprint('The age is:', age)\",__"
      ],
      "metadata": {
        "id": "j4HJR7FnizIN"
      }
    },
    {
      "cell_type": "code",
      "source": [
        "globals()"
      ],
      "metadata": {
        "colab": {
          "base_uri": "https://localhost:8080/"
        },
        "id": "FMMB70QRMul9",
        "outputId": "fd8512ec-6f40-4513-bdf3-d8d39cfdacef"
      },
      "execution_count": null,
      "outputs": [
        {
          "output_type": "execute_result",
          "data": {
            "text/plain": [
              "{'Foo': __main__.Foo,\n",
              " 'In': ['',\n",
              "  \"class Foo:\\n  def __call__(self):\\n    print('Print Something')\\n\\n  \\ncallable(Foo\",\n",
              "  \"class Foo:\\n  def __call__(self):\\n    print('Print Something')\\n\\n  \\ncallable(Foo)\",\n",
              "  \"numbers_list = [1, 2]\\nprint(type(numbers_list))\\n\\nnumbers_dict = {1: 'one', 2: 'two'}\\nprint(type(numbers_dict))\\n\\nclass Foo:\\n    a = 0\\n\\nfoo = Foo()\\nprint(type(foo))\",\n",
              "  \"o1 = type('X', (object,), dict(a='Foo', b=12))\\nprint(type(o1))\\n\\nprint(vars(o1))\\n\\nclass test:\\n  a = 'Foo'\\n  b = 12\\n  \\no2 = type('Y', (test,), dict(a='Foo', b=12))\\nprint(type(o2))\\nprint(vars(o2))\",\n",
              "  \"age = 23\\n\\nglobals()['age'] = 25\\nprint('The age is:', age)\",\n",
              "  'globals()'],\n",
              " 'Out': {2: True},\n",
              " '_': True,\n",
              " '_2': True,\n",
              " '__': '',\n",
              " '___': '',\n",
              " '__builtin__': <module 'builtins' (built-in)>,\n",
              " '__builtins__': <module 'builtins' (built-in)>,\n",
              " '__doc__': 'Automatically created module for IPython interactive environment',\n",
              " '__loader__': None,\n",
              " '__name__': '__main__',\n",
              " '__package__': None,\n",
              " '__spec__': None,\n",
              " '_dh': ['/content'],\n",
              " '_i': \"age = 23\\n\\nglobals()['age'] = 25\\nprint('The age is:', age)\",\n",
              " '_i1': \"class Foo:\\n  def __call__(self):\\n    print('Print Something')\\n\\n  \\ncallable(Foo\",\n",
              " '_i2': \"class Foo:\\n  def __call__(self):\\n    print('Print Something')\\n\\n  \\ncallable(Foo)\",\n",
              " '_i3': \"numbers_list = [1, 2]\\nprint(type(numbers_list))\\n\\nnumbers_dict = {1: 'one', 2: 'two'}\\nprint(type(numbers_dict))\\n\\nclass Foo:\\n    a = 0\\n\\nfoo = Foo()\\nprint(type(foo))\",\n",
              " '_i4': \"o1 = type('X', (object,), dict(a='Foo', b=12))\\nprint(type(o1))\\n\\nprint(vars(o1))\\n\\nclass test:\\n  a = 'Foo'\\n  b = 12\\n  \\no2 = type('Y', (test,), dict(a='Foo', b=12))\\nprint(type(o2))\\nprint(vars(o2))\",\n",
              " '_i5': \"age = 23\\n\\nglobals()['age'] = 25\\nprint('The age is:', age)\",\n",
              " '_i6': 'globals()',\n",
              " '_ih': ['',\n",
              "  \"class Foo:\\n  def __call__(self):\\n    print('Print Something')\\n\\n  \\ncallable(Foo\",\n",
              "  \"class Foo:\\n  def __call__(self):\\n    print('Print Something')\\n\\n  \\ncallable(Foo)\",\n",
              "  \"numbers_list = [1, 2]\\nprint(type(numbers_list))\\n\\nnumbers_dict = {1: 'one', 2: 'two'}\\nprint(type(numbers_dict))\\n\\nclass Foo:\\n    a = 0\\n\\nfoo = Foo()\\nprint(type(foo))\",\n",
              "  \"o1 = type('X', (object,), dict(a='Foo', b=12))\\nprint(type(o1))\\n\\nprint(vars(o1))\\n\\nclass test:\\n  a = 'Foo'\\n  b = 12\\n  \\no2 = type('Y', (test,), dict(a='Foo', b=12))\\nprint(type(o2))\\nprint(vars(o2))\",\n",
              "  \"age = 23\\n\\nglobals()['age'] = 25\\nprint('The age is:', age)\",\n",
              "  'globals()'],\n",
              " '_ii': \"o1 = type('X', (object,), dict(a='Foo', b=12))\\nprint(type(o1))\\n\\nprint(vars(o1))\\n\\nclass test:\\n  a = 'Foo'\\n  b = 12\\n  \\no2 = type('Y', (test,), dict(a='Foo', b=12))\\nprint(type(o2))\\nprint(vars(o2))\",\n",
              " '_iii': \"numbers_list = [1, 2]\\nprint(type(numbers_list))\\n\\nnumbers_dict = {1: 'one', 2: 'two'}\\nprint(type(numbers_dict))\\n\\nclass Foo:\\n    a = 0\\n\\nfoo = Foo()\\nprint(type(foo))\",\n",
              " '_oh': {2: True},\n",
              " '_sh': <module 'IPython.core.shadowns' from '/usr/local/lib/python3.7/dist-packages/IPython/core/shadowns.py'>,\n",
              " 'age': 25,\n",
              " 'exit': <IPython.core.autocall.ZMQExitAutocall at 0x7f1e051167d0>,\n",
              " 'foo': <__main__.Foo at 0x7f1dfb58f550>,\n",
              " 'get_ipython': <bound method InteractiveShell.get_ipython of <google.colab._shell.Shell object at 0x7f1e050fc450>>,\n",
              " 'numbers_dict': {1: 'one', 2: 'two'},\n",
              " 'numbers_list': [1, 2],\n",
              " 'o1': __main__.X,\n",
              " 'o2': __main__.Y,\n",
              " 'quit': <IPython.core.autocall.ZMQExitAutocall at 0x7f1e051167d0>,\n",
              " 'test': __main__.test}"
            ]
          },
          "metadata": {},
          "execution_count": 6
        }
      ]
    },
    {
      "cell_type": "markdown",
      "source": [
        "### locals()"
      ],
      "metadata": {
        "id": "vWvNx2cmND4A"
      }
    },
    {
      "cell_type": "markdown",
      "source": [
        "Словарь **локальных** имен."
      ],
      "metadata": {
        "id": "LEKbvUEzNPR4"
      }
    },
    {
      "cell_type": "code",
      "source": [
        "def localsNotPresent():\n",
        "    return locals()\n",
        "\n",
        "def localsPresent():\n",
        "    present = True\n",
        "    return locals()\n",
        "\n",
        "print('localsNotPresent:', localsNotPresent())\n",
        "print('localsPresent:', localsPresent())"
      ],
      "metadata": {
        "colab": {
          "base_uri": "https://localhost:8080/"
        },
        "id": "Ni0TQtFljFIP",
        "outputId": "627525e1-d116-43d8-875b-438ed1941e4b"
      },
      "execution_count": null,
      "outputs": [
        {
          "output_type": "stream",
          "name": "stdout",
          "text": [
            "localsNotPresent: {}\n",
            "localsPresent: {'present': True}\n"
          ]
        }
      ]
    },
    {
      "cell_type": "code",
      "source": [
        "def localsPresent():\n",
        "    present = True\n",
        "    print(present)\n",
        "    locals()['present'] = False;\n",
        "    print(present)\n",
        "\n",
        "localsPresent()"
      ],
      "metadata": {
        "colab": {
          "base_uri": "https://localhost:8080/"
        },
        "id": "h3pAFTlGjHeB",
        "outputId": "2dd7a1a8-8caa-4b36-a8d9-71e83f961d72"
      },
      "execution_count": null,
      "outputs": [
        {
          "output_type": "stream",
          "name": "stdout",
          "text": [
            "True\n",
            "True\n"
          ]
        }
      ]
    },
    {
      "cell_type": "code",
      "source": [
        "locals()"
      ],
      "metadata": {
        "colab": {
          "base_uri": "https://localhost:8080/"
        },
        "id": "UdhuZoNCNTqd",
        "outputId": "01885ef0-12c4-40b7-e042-663d3d34f474"
      },
      "execution_count": null,
      "outputs": [
        {
          "output_type": "execute_result",
          "data": {
            "text/plain": [
              "{'Foo': __main__.Foo,\n",
              " 'In': ['',\n",
              "  \"class Foo:\\n  def __call__(self):\\n    print('Print Something')\\n\\n  \\ncallable(Foo\",\n",
              "  \"class Foo:\\n  def __call__(self):\\n    print('Print Something')\\n\\n  \\ncallable(Foo)\",\n",
              "  \"numbers_list = [1, 2]\\nprint(type(numbers_list))\\n\\nnumbers_dict = {1: 'one', 2: 'two'}\\nprint(type(numbers_dict))\\n\\nclass Foo:\\n    a = 0\\n\\nfoo = Foo()\\nprint(type(foo))\",\n",
              "  \"o1 = type('X', (object,), dict(a='Foo', b=12))\\nprint(type(o1))\\n\\nprint(vars(o1))\\n\\nclass test:\\n  a = 'Foo'\\n  b = 12\\n  \\no2 = type('Y', (test,), dict(a='Foo', b=12))\\nprint(type(o2))\\nprint(vars(o2))\",\n",
              "  \"age = 23\\n\\nglobals()['age'] = 25\\nprint('The age is:', age)\",\n",
              "  'globals()',\n",
              "  \"def localsNotPresent():\\n    return locals()\\n\\ndef localsPresent():\\n    present = True\\n    return locals()\\n\\nprint('localsNotPresent:', localsNotPresent())\\nprint('localsPresent:', localsPresent())\",\n",
              "  \"def localsPresent():\\n    present = True\\n    print(present)\\n    locals()['present'] = False;\\n    print(present)\\n\\nlocalsPresent()\",\n",
              "  'locals()'],\n",
              " 'Out': {2: True, 6: {...}},\n",
              " '_': {...},\n",
              " '_2': True,\n",
              " '_6': {...},\n",
              " '__': True,\n",
              " '___': '',\n",
              " '__builtin__': <module 'builtins' (built-in)>,\n",
              " '__builtins__': <module 'builtins' (built-in)>,\n",
              " '__doc__': 'Automatically created module for IPython interactive environment',\n",
              " '__loader__': None,\n",
              " '__name__': '__main__',\n",
              " '__package__': None,\n",
              " '__spec__': None,\n",
              " '_dh': ['/content'],\n",
              " '_i': \"def localsPresent():\\n    present = True\\n    print(present)\\n    locals()['present'] = False;\\n    print(present)\\n\\nlocalsPresent()\",\n",
              " '_i1': \"class Foo:\\n  def __call__(self):\\n    print('Print Something')\\n\\n  \\ncallable(Foo\",\n",
              " '_i2': \"class Foo:\\n  def __call__(self):\\n    print('Print Something')\\n\\n  \\ncallable(Foo)\",\n",
              " '_i3': \"numbers_list = [1, 2]\\nprint(type(numbers_list))\\n\\nnumbers_dict = {1: 'one', 2: 'two'}\\nprint(type(numbers_dict))\\n\\nclass Foo:\\n    a = 0\\n\\nfoo = Foo()\\nprint(type(foo))\",\n",
              " '_i4': \"o1 = type('X', (object,), dict(a='Foo', b=12))\\nprint(type(o1))\\n\\nprint(vars(o1))\\n\\nclass test:\\n  a = 'Foo'\\n  b = 12\\n  \\no2 = type('Y', (test,), dict(a='Foo', b=12))\\nprint(type(o2))\\nprint(vars(o2))\",\n",
              " '_i5': \"age = 23\\n\\nglobals()['age'] = 25\\nprint('The age is:', age)\",\n",
              " '_i6': 'globals()',\n",
              " '_i7': \"def localsNotPresent():\\n    return locals()\\n\\ndef localsPresent():\\n    present = True\\n    return locals()\\n\\nprint('localsNotPresent:', localsNotPresent())\\nprint('localsPresent:', localsPresent())\",\n",
              " '_i8': \"def localsPresent():\\n    present = True\\n    print(present)\\n    locals()['present'] = False;\\n    print(present)\\n\\nlocalsPresent()\",\n",
              " '_i9': 'locals()',\n",
              " '_ih': ['',\n",
              "  \"class Foo:\\n  def __call__(self):\\n    print('Print Something')\\n\\n  \\ncallable(Foo\",\n",
              "  \"class Foo:\\n  def __call__(self):\\n    print('Print Something')\\n\\n  \\ncallable(Foo)\",\n",
              "  \"numbers_list = [1, 2]\\nprint(type(numbers_list))\\n\\nnumbers_dict = {1: 'one', 2: 'two'}\\nprint(type(numbers_dict))\\n\\nclass Foo:\\n    a = 0\\n\\nfoo = Foo()\\nprint(type(foo))\",\n",
              "  \"o1 = type('X', (object,), dict(a='Foo', b=12))\\nprint(type(o1))\\n\\nprint(vars(o1))\\n\\nclass test:\\n  a = 'Foo'\\n  b = 12\\n  \\no2 = type('Y', (test,), dict(a='Foo', b=12))\\nprint(type(o2))\\nprint(vars(o2))\",\n",
              "  \"age = 23\\n\\nglobals()['age'] = 25\\nprint('The age is:', age)\",\n",
              "  'globals()',\n",
              "  \"def localsNotPresent():\\n    return locals()\\n\\ndef localsPresent():\\n    present = True\\n    return locals()\\n\\nprint('localsNotPresent:', localsNotPresent())\\nprint('localsPresent:', localsPresent())\",\n",
              "  \"def localsPresent():\\n    present = True\\n    print(present)\\n    locals()['present'] = False;\\n    print(present)\\n\\nlocalsPresent()\",\n",
              "  'locals()'],\n",
              " '_ii': \"def localsNotPresent():\\n    return locals()\\n\\ndef localsPresent():\\n    present = True\\n    return locals()\\n\\nprint('localsNotPresent:', localsNotPresent())\\nprint('localsPresent:', localsPresent())\",\n",
              " '_iii': 'globals()',\n",
              " '_oh': {2: True, 6: {...}},\n",
              " '_sh': <module 'IPython.core.shadowns' from '/usr/local/lib/python3.7/dist-packages/IPython/core/shadowns.py'>,\n",
              " 'age': 25,\n",
              " 'exit': <IPython.core.autocall.ZMQExitAutocall at 0x7f1e051167d0>,\n",
              " 'foo': <__main__.Foo at 0x7f1dfb58f550>,\n",
              " 'get_ipython': <bound method InteractiveShell.get_ipython of <google.colab._shell.Shell object at 0x7f1e050fc450>>,\n",
              " 'localsNotPresent': <function __main__.localsNotPresent>,\n",
              " 'localsPresent': <function __main__.localsPresent>,\n",
              " 'numbers_dict': {1: 'one', 2: 'two'},\n",
              " 'numbers_list': [1, 2],\n",
              " 'o1': __main__.X,\n",
              " 'o2': __main__.Y,\n",
              " 'quit': <IPython.core.autocall.ZMQExitAutocall at 0x7f1e051167d0>,\n",
              " 'test': __main__.test}"
            ]
          },
          "metadata": {},
          "execution_count": 9
        }
      ]
    },
    {
      "cell_type": "markdown",
      "source": [
        "### vars()"
      ],
      "metadata": {
        "id": "-4R2UNdiNZ7J"
      }
    },
    {
      "cell_type": "markdown",
      "source": [
        "Словарь из **атрибутов** объекта. По умолчанию - словарь локальных имен."
      ],
      "metadata": {
        "id": "gBoQI9q_NcMQ"
      }
    },
    {
      "cell_type": "code",
      "source": [
        "class A:\n",
        "  def __init__(self, a: int, b: bool, c: str):\n",
        "    self.a = a\n",
        "    self.b = b\n",
        "    self.c = c\n",
        "\n",
        "\n",
        "obj = A(9, True, \"hello\")\n",
        "vars(obj)"
      ],
      "metadata": {
        "colab": {
          "base_uri": "https://localhost:8080/"
        },
        "id": "8-57_FvJNgyo",
        "outputId": "5d3838b0-dc58-4417-d390-79f124d03167"
      },
      "execution_count": null,
      "outputs": [
        {
          "output_type": "execute_result",
          "data": {
            "text/plain": [
              "{'a': 9, 'b': True, 'c': 'hello'}"
            ]
          },
          "metadata": {},
          "execution_count": 21
        }
      ]
    },
    {
      "cell_type": "markdown",
      "source": [
        "### isinstance()"
      ],
      "metadata": {
        "id": "-8_S4XdoOZvQ"
      }
    },
    {
      "cell_type": "markdown",
      "source": [
        "**Истина**, если объект является **экземпляром** класса или его **подклассом**. Если объект **не является** объектом данного типа, функция всегда возвращает **ложь**."
      ],
      "metadata": {
        "id": "q8iwkpqiOfJx"
      }
    },
    {
      "cell_type": "code",
      "source": [
        "class A:\n",
        "  def __init__(self):\n",
        "    pass\n",
        "\n",
        "\n",
        "obj = A()\n",
        "\n",
        "isinstance(obj, A)"
      ],
      "metadata": {
        "colab": {
          "base_uri": "https://localhost:8080/"
        },
        "id": "FmoBmEuwOpFZ",
        "outputId": "b9e81090-5230-458e-ea2b-35dff4aaeda4"
      },
      "execution_count": null,
      "outputs": [
        {
          "output_type": "execute_result",
          "data": {
            "text/plain": [
              "True"
            ]
          },
          "metadata": {},
          "execution_count": 26
        }
      ]
    },
    {
      "cell_type": "code",
      "source": [
        "class B:\n",
        "  def __init__(self):\n",
        "    pass\n",
        "\n",
        "\n",
        "obj_2 = B()\n",
        "isinstance(obj_2, A)"
      ],
      "metadata": {
        "colab": {
          "base_uri": "https://localhost:8080/"
        },
        "id": "M1krk5kcPQIG",
        "outputId": "f2497947-d2a2-49b8-dce0-dfe50a3f0915"
      },
      "execution_count": null,
      "outputs": [
        {
          "output_type": "execute_result",
          "data": {
            "text/plain": [
              "False"
            ]
          },
          "metadata": {},
          "execution_count": 25
        }
      ]
    },
    {
      "cell_type": "markdown",
      "source": [
        "## Для работы с типами данных "
      ],
      "metadata": {
        "id": "6E5RsD3APiQf"
      }
    },
    {
      "cell_type": "markdown",
      "source": [
        "### dict()"
      ],
      "metadata": {
        "id": "mtEs8r_vPquI"
      }
    },
    {
      "cell_type": "markdown",
      "source": [
        "Эта функция используется в **Python** для **создания словарей**. Это же можно делать и вручную, но функция предоставляет большую **гибкость** и дополнительные **возможности**. Например, ей в качестве параметра можно передать **несколько словарей**, объединив их в **один** большой.\n"
      ],
      "metadata": {
        "id": "Lif86ooYPxa-"
      }
    },
    {
      "cell_type": "markdown",
      "source": [
        ""
      ],
      "metadata": {
        "id": "oNsp-tzJStRS"
      }
    },
    {
      "cell_type": "code",
      "source": [
        "dict({\"a\":1, \"b\":2}, c = 3)"
      ],
      "metadata": {
        "colab": {
          "base_uri": "https://localhost:8080/"
        },
        "id": "SUITVnLRQEhM",
        "outputId": "2cc49496-652d-420e-aa4d-707a2899c230"
      },
      "execution_count": null,
      "outputs": [
        {
          "output_type": "execute_result",
          "data": {
            "text/plain": [
              "{'a': 1, 'b': 2, 'c': 3}"
            ]
          },
          "metadata": {},
          "execution_count": 27
        }
      ]
    },
    {
      "cell_type": "code",
      "source": [
        "arr = [[\"a\",1],[\"b\",2]]\n",
        "dict(arr)"
      ],
      "metadata": {
        "colab": {
          "base_uri": "https://localhost:8080/"
        },
        "id": "EeY94vjfQI4D",
        "outputId": "063c91f4-d2be-43d6-9e0a-4158f8632078"
      },
      "execution_count": null,
      "outputs": [
        {
          "output_type": "execute_result",
          "data": {
            "text/plain": [
              "{'a': 1, 'b': 2}"
            ]
          },
          "metadata": {},
          "execution_count": 30
        }
      ]
    },
    {
      "cell_type": "markdown",
      "source": [
        "### float()"
      ],
      "metadata": {
        "id": "5y5DkhBnSn_p"
      }
    },
    {
      "cell_type": "markdown",
      "source": [
        "Эта встроенная функция **конвертирует** число или строку в число с **плавающей точкой** и возвращает результат. Если из-за некорректного ввода конвертация **не проходит**, возвращаются **ValueError** или **TypeError**."
      ],
      "metadata": {
        "id": "ejbz32xzS7Kp"
      }
    },
    {
      "cell_type": "code",
      "source": [
        "float(596)"
      ],
      "metadata": {
        "colab": {
          "base_uri": "https://localhost:8080/"
        },
        "id": "gIGtPCifTQks",
        "outputId": "7c278738-3836-4914-bf23-962c8de35d2d"
      },
      "execution_count": null,
      "outputs": [
        {
          "output_type": "execute_result",
          "data": {
            "text/plain": [
              "596.0"
            ]
          },
          "metadata": {},
          "execution_count": 1
        }
      ]
    },
    {
      "cell_type": "code",
      "source": [
        "float(-26)"
      ],
      "metadata": {
        "colab": {
          "base_uri": "https://localhost:8080/"
        },
        "id": "C6nvCy8GTWBt",
        "outputId": "4b86ac57-e90d-422d-a2f9-41184094da56"
      },
      "execution_count": null,
      "outputs": [
        {
          "output_type": "execute_result",
          "data": {
            "text/plain": [
              "-26.0"
            ]
          },
          "metadata": {},
          "execution_count": 2
        }
      ]
    },
    {
      "cell_type": "markdown",
      "source": [
        "### int()"
      ],
      "metadata": {
        "id": "cm9iILppTkhE"
      }
    },
    {
      "cell_type": "markdown",
      "source": [
        "Эта функция возвращает **целое** число из объекта, переданного в параметра. Она может **конвертировать** числа с **разным основанием** (шестнадцатеричные, двоичные и так далее) в целые."
      ],
      "metadata": {
        "id": "sMEEvU2iTol2"
      }
    },
    {
      "cell_type": "code",
      "source": [
        "int(5.6)"
      ],
      "metadata": {
        "colab": {
          "base_uri": "https://localhost:8080/"
        },
        "id": "XuVYH_VoTyE1",
        "outputId": "fe212fcb-b0fe-49c1-df54-baf87469ecb7"
      },
      "execution_count": null,
      "outputs": [
        {
          "output_type": "execute_result",
          "data": {
            "text/plain": [
              "5"
            ]
          },
          "metadata": {},
          "execution_count": 3
        }
      ]
    },
    {
      "cell_type": "code",
      "source": [
        "int('0101', 2)"
      ],
      "metadata": {
        "colab": {
          "base_uri": "https://localhost:8080/"
        },
        "id": "BKV4xDH0T3Dm",
        "outputId": "20cc54ee-6436-431a-d1b1-7c5e4dfff932"
      },
      "execution_count": null,
      "outputs": [
        {
          "output_type": "execute_result",
          "data": {
            "text/plain": [
              "5"
            ]
          },
          "metadata": {},
          "execution_count": 4
        }
      ]
    },
    {
      "cell_type": "markdown",
      "source": [
        "### list()"
      ],
      "metadata": {
        "id": "cG_o-JRfT-Ay"
      }
    },
    {
      "cell_type": "markdown",
      "source": [
        "В качестве параметра функция list() принимает **итерируемый** объект и возвращает **список**. Она обеспечивает большие **гибкость** и **скорость** при создании списков по сравнению с обычным способом."
      ],
      "metadata": {
        "id": "uoqgwTmmUAf-"
      }
    },
    {
      "cell_type": "code",
      "source": [
        "list(\"Привет\")"
      ],
      "metadata": {
        "colab": {
          "base_uri": "https://localhost:8080/"
        },
        "id": "sWyOz4qbUJ5i",
        "outputId": "05c97cab-79e7-4d48-b072-5af5237698da"
      },
      "execution_count": null,
      "outputs": [
        {
          "output_type": "execute_result",
          "data": {
            "text/plain": [
              "['П', 'р', 'и', 'в', 'е', 'т']"
            ]
          },
          "metadata": {},
          "execution_count": 5
        }
      ]
    },
    {
      "cell_type": "code",
      "source": [
        "list({1:\"a\", 2:\"b\", 3:\"c\"})"
      ],
      "metadata": {
        "colab": {
          "base_uri": "https://localhost:8080/"
        },
        "id": "d187ZAzGUOS_",
        "outputId": "cd959882-f5d4-4415-a1fc-f4545738c027"
      },
      "execution_count": null,
      "outputs": [
        {
          "output_type": "execute_result",
          "data": {
            "text/plain": [
              "[1, 2, 3]"
            ]
          },
          "metadata": {},
          "execution_count": 6
        }
      ]
    },
    {
      "cell_type": "markdown",
      "source": [
        "### str()"
      ],
      "metadata": {
        "id": "n_DBGGOVUVkW"
      }
    },
    {
      "cell_type": "markdown",
      "source": [
        "Используется для создания **строковых** представлений объектов, но **не меняет** сам объект, а возвращает **новый**. У нее есть **встроенные** механизмы **кодировки** и **обработки** ошибок, которые помогают при конвертации."
      ],
      "metadata": {
        "id": "Iwzs4Hc6UX19"
      }
    },
    {
      "cell_type": "code",
      "source": [
        "str(5)"
      ],
      "metadata": {
        "colab": {
          "base_uri": "https://localhost:8080/",
          "height": 35
        },
        "id": "ocZVQjHDUnTk",
        "outputId": "7a79f3c9-a852-4477-b672-cc72845670b1"
      },
      "execution_count": null,
      "outputs": [
        {
          "output_type": "execute_result",
          "data": {
            "text/plain": [
              "'5'"
            ],
            "application/vnd.google.colaboratory.intrinsic+json": {
              "type": "string"
            }
          },
          "metadata": {},
          "execution_count": 7
        }
      ]
    },
    {
      "cell_type": "code",
      "source": [
        "x = [5, 6, 7]\n",
        "str(x)"
      ],
      "metadata": {
        "colab": {
          "base_uri": "https://localhost:8080/",
          "height": 35
        },
        "id": "aHFuCx4zUolz",
        "outputId": "ae05f229-fecf-47d4-8b40-70563f7cdc83"
      },
      "execution_count": null,
      "outputs": [
        {
          "output_type": "execute_result",
          "data": {
            "text/plain": [
              "'[5, 6, 7]'"
            ],
            "application/vnd.google.colaboratory.intrinsic+json": {
              "type": "string"
            }
          },
          "metadata": {},
          "execution_count": 8
        }
      ]
    },
    {
      "cell_type": "markdown",
      "source": [
        "### set()"
      ],
      "metadata": {
        "id": "8plolv_hUyIp"
      }
    },
    {
      "cell_type": "markdown",
      "source": [
        "Функция **set()** используется для создания **наборов** данных, которые передаются в качестве параметра. Обычно это **последовательность**, например строка или список, которая затем преобразуется в множество **уникальных** значений."
      ],
      "metadata": {
        "id": "WXtoLjpSU07p"
      }
    },
    {
      "cell_type": "code",
      "source": [
        "set(\"Hello\")"
      ],
      "metadata": {
        "colab": {
          "base_uri": "https://localhost:8080/"
        },
        "id": "ovTPhbiSU8w7",
        "outputId": "d90eb17d-5d31-49c5-f44c-1cfded6be7b1"
      },
      "execution_count": null,
      "outputs": [
        {
          "output_type": "execute_result",
          "data": {
            "text/plain": [
              "{'H', 'e', 'l', 'o'}"
            ]
          },
          "metadata": {},
          "execution_count": 11
        }
      ]
    },
    {
      "cell_type": "code",
      "source": [
        "set((1,2,3,4,5))"
      ],
      "metadata": {
        "colab": {
          "base_uri": "https://localhost:8080/"
        },
        "id": "ciGKk5RNVH5a",
        "outputId": "5da73093-8f8c-4b91-de1b-286822b75546"
      },
      "execution_count": null,
      "outputs": [
        {
          "output_type": "execute_result",
          "data": {
            "text/plain": [
              "{1, 2, 3, 4, 5}"
            ]
          },
          "metadata": {},
          "execution_count": 12
        }
      ]
    },
    {
      "cell_type": "markdown",
      "source": [
        "### tuple()"
      ],
      "metadata": {
        "id": "_QBMtgLLVMlm"
      }
    },
    {
      "cell_type": "markdown",
      "source": [
        "Принимает **один** аргумент (итерируемый объект), которым может быть, например, список или словарь, последовательность или итератор и возвращает его в форме **кортежа**. Если не передать объект, то вернется **пустой** кортеж."
      ],
      "metadata": {
        "id": "xivhoymzVP4o"
      }
    },
    {
      "cell_type": "code",
      "source": [
        "tuple(\"Привет\")"
      ],
      "metadata": {
        "colab": {
          "base_uri": "https://localhost:8080/"
        },
        "id": "3N1SD3gQVVeJ",
        "outputId": "d5afa564-97f0-4911-ba35-79566a70fe3a"
      },
      "execution_count": null,
      "outputs": [
        {
          "output_type": "execute_result",
          "data": {
            "text/plain": [
              "('П', 'р', 'и', 'в', 'е', 'т')"
            ]
          },
          "metadata": {},
          "execution_count": 13
        }
      ]
    },
    {
      "cell_type": "code",
      "source": [
        "tuple([1, 2, 3, 4, 5])"
      ],
      "metadata": {
        "colab": {
          "base_uri": "https://localhost:8080/"
        },
        "id": "ne_QMO8SVZgm",
        "outputId": "2510674b-f68f-40d6-9307-e75985112aa4"
      },
      "execution_count": null,
      "outputs": [
        {
          "output_type": "execute_result",
          "data": {
            "text/plain": [
              "(1, 2, 3, 4, 5)"
            ]
          },
          "metadata": {},
          "execution_count": 14
        }
      ]
    },
    {
      "cell_type": "markdown",
      "source": [
        "### bool()"
      ],
      "metadata": {
        "id": "cywgCjCZVeI4"
      }
    },
    {
      "cell_type": "markdown",
      "source": [
        "преобразование к типу **bool**, использующая стандартную процедуру проверки **истинности**. Если х является **ложным** или **опущен**, возвращает значение **False**, в **противном случае** она возвращает **True**."
      ],
      "metadata": {
        "id": "96zQz1BfVh3I"
      }
    },
    {
      "cell_type": "code",
      "source": [
        "print(bool(1), bool(0))"
      ],
      "metadata": {
        "colab": {
          "base_uri": "https://localhost:8080/"
        },
        "id": "HbEBeL1fVsA9",
        "outputId": "65411438-2558-450f-99b6-3abb1125017c"
      },
      "execution_count": null,
      "outputs": [
        {
          "output_type": "stream",
          "name": "stdout",
          "text": [
            "True False\n"
          ]
        }
      ]
    },
    {
      "cell_type": "code",
      "source": [
        "bool([])"
      ],
      "metadata": {
        "colab": {
          "base_uri": "https://localhost:8080/"
        },
        "id": "Dv3J6CmdVxKg",
        "outputId": "32bc9de9-eaf8-44c8-f687-309396f9a851"
      },
      "execution_count": null,
      "outputs": [
        {
          "output_type": "execute_result",
          "data": {
            "text/plain": [
              "False"
            ]
          },
          "metadata": {},
          "execution_count": 17
        }
      ]
    },
    {
      "cell_type": "markdown",
      "source": [
        "### bytearray()"
      ],
      "metadata": {
        "id": "IqWQP62scQXT"
      }
    },
    {
      "cell_type": "markdown",
      "source": [
        "преобразование к **bytearray**. Bytearray - **изменяемая последовательность** целых чисел в диапазоне **0≤X<256**. Вызванная без аргументов, возвращает **пустой** массив байт."
      ],
      "metadata": {
        "id": "22YxnQoucTJm"
      }
    },
    {
      "cell_type": "code",
      "source": [
        "barr = bytearray(b'Hello')\n",
        "\n",
        "for b in barr:\n",
        "  print(b)"
      ],
      "metadata": {
        "colab": {
          "base_uri": "https://localhost:8080/"
        },
        "id": "cJkw-yIxcece",
        "outputId": "9776fcd7-933a-4bbd-9a5b-9406d8d3a278"
      },
      "execution_count": null,
      "outputs": [
        {
          "output_type": "stream",
          "name": "stdout",
          "text": [
            "72\n",
            "101\n",
            "108\n",
            "108\n",
            "111\n"
          ]
        }
      ]
    },
    {
      "cell_type": "code",
      "source": [
        "barr[0] = 70\n",
        "\n",
        "print(barr[0])"
      ],
      "metadata": {
        "colab": {
          "base_uri": "https://localhost:8080/"
        },
        "id": "PcUzVgkXdlsv",
        "outputId": "85b98a5a-1bae-4172-bd98-456add41b9f2"
      },
      "execution_count": null,
      "outputs": [
        {
          "output_type": "stream",
          "name": "stdout",
          "text": [
            "70\n"
          ]
        }
      ]
    },
    {
      "cell_type": "markdown",
      "source": [
        "### bytes()"
      ],
      "metadata": {
        "id": "SfNY_3ezc-oJ"
      }
    },
    {
      "cell_type": "markdown",
      "source": [
        "возвращает объект типа **bytes**, который является **неизменяемой последовательностью** целых чисел в диапазоне **0≤X<256**. Аргументы конструктора интерпретируются как для **bytearray()**."
      ],
      "metadata": {
        "id": "5rLtgYmndA9d"
      }
    },
    {
      "cell_type": "code",
      "source": [
        "bvar = bytes(b'Hello')\n",
        "\n",
        "for b in bvar:\n",
        "  print(b)"
      ],
      "metadata": {
        "colab": {
          "base_uri": "https://localhost:8080/"
        },
        "id": "_NXqCcMFdIDV",
        "outputId": "272fb2ff-74e1-4b41-8d77-c546dca56c7c"
      },
      "execution_count": null,
      "outputs": [
        {
          "output_type": "stream",
          "name": "stdout",
          "text": [
            "72\n",
            "101\n",
            "108\n",
            "108\n",
            "111\n"
          ]
        }
      ]
    },
    {
      "cell_type": "markdown",
      "source": [
        "### complex()"
      ],
      "metadata": {
        "id": "r6D3ZLbniWAl"
      }
    },
    {
      "cell_type": "markdown",
      "source": [
        "Комплексное число — это число, представленное в форме **a + bi**. Оно принимает **целые** числа или **строки** и возвращает соответствующее **комплексное** число. Если передать **неподходящее** значение, то вернется ошибка **ValueError**."
      ],
      "metadata": {
        "id": "TwwLe2rtiZJF"
      }
    },
    {
      "cell_type": "code",
      "source": [
        "complex(2, -3)"
      ],
      "metadata": {
        "colab": {
          "base_uri": "https://localhost:8080/"
        },
        "id": "86QAH2_piil8",
        "outputId": "c90d6715-0a22-46eb-e307-be4edd476229"
      },
      "execution_count": null,
      "outputs": [
        {
          "output_type": "execute_result",
          "data": {
            "text/plain": [
              "(2-3j)"
            ]
          },
          "metadata": {},
          "execution_count": 29
        }
      ]
    },
    {
      "cell_type": "code",
      "source": [
        "complex('5-9j')"
      ],
      "metadata": {
        "colab": {
          "base_uri": "https://localhost:8080/"
        },
        "id": "2Lo1Y_7ni0QQ",
        "outputId": "22bf4c39-d069-4b0e-e43e-8c15d0d9ef9f"
      },
      "execution_count": null,
      "outputs": [
        {
          "output_type": "execute_result",
          "data": {
            "text/plain": [
              "(5-9j)"
            ]
          },
          "metadata": {},
          "execution_count": 30
        }
      ]
    },
    {
      "cell_type": "markdown",
      "source": [
        "### frozenset"
      ],
      "metadata": {
        "id": "lII78Fjvi9K9"
      }
    },
    {
      "cell_type": "markdown",
      "source": [
        "возвращает **неизменяемое** множество. Единственное **отличие** frozenset от set заключается в том, что **frozenset** - **неизменяемый** тип данныx. Примерно похожая ситуация с кортежами и списками."
      ],
      "metadata": {
        "id": "LlvYz88djAUA"
      }
    },
    {
      "cell_type": "code",
      "source": [
        "frozenset(\"Hello\")"
      ],
      "metadata": {
        "colab": {
          "base_uri": "https://localhost:8080/"
        },
        "id": "LWIONIcIjbvd",
        "outputId": "e2bb59b4-d3bb-4f23-9add-ccfcf44c653e"
      },
      "execution_count": null,
      "outputs": [
        {
          "output_type": "execute_result",
          "data": {
            "text/plain": [
              "frozenset({'H', 'e', 'l', 'o'})"
            ]
          },
          "metadata": {},
          "execution_count": 31
        }
      ]
    },
    {
      "cell_type": "code",
      "source": [
        "frozenset((1,2,3,4,5))"
      ],
      "metadata": {
        "colab": {
          "base_uri": "https://localhost:8080/"
        },
        "id": "spHTvMSKjksA",
        "outputId": "26408ae2-556f-44fe-cc65-a9aab8cc2320"
      },
      "execution_count": null,
      "outputs": [
        {
          "output_type": "execute_result",
          "data": {
            "text/plain": [
              "frozenset({1, 2, 3, 4, 5})"
            ]
          },
          "metadata": {},
          "execution_count": 33
        }
      ]
    },
    {
      "cell_type": "markdown",
      "source": [
        ""
      ],
      "metadata": {
        "id": "h14cpS7UkDNR"
      }
    },
    {
      "cell_type": "markdown",
      "source": [
        "### object()"
      ],
      "metadata": {
        "id": "ZhLAiVE1jrg3"
      }
    },
    {
      "cell_type": "markdown",
      "source": [
        "возвращает безликий **объект**, являющийся **базовым** для всех объектов."
      ],
      "metadata": {
        "id": "4oLevpYwjwP-"
      }
    },
    {
      "cell_type": "code",
      "source": [
        "a = object()\n",
        "a"
      ],
      "metadata": {
        "colab": {
          "base_uri": "https://localhost:8080/"
        },
        "id": "Fn72E5RWj0IS",
        "outputId": "703efe49-0158-4490-f19e-87bd248c912e"
      },
      "execution_count": null,
      "outputs": [
        {
          "output_type": "execute_result",
          "data": {
            "text/plain": [
              "<object at 0x7f9365cc28a0>"
            ]
          },
          "metadata": {},
          "execution_count": 37
        }
      ]
    },
    {
      "cell_type": "markdown",
      "source": [
        "## Для работы с последовательностями"
      ],
      "metadata": {
        "id": "iGuE_RR2j7sP"
      }
    },
    {
      "cell_type": "markdown",
      "source": [
        "### filter()"
      ],
      "metadata": {
        "id": "HRClOXJFkrKy"
      }
    },
    {
      "cell_type": "markdown",
      "source": [
        "Эта функция используется для **перебора итерируемых** объектов и последовательностей, таких как списки, кортежи и словари. Но перед ее использованием нужно также иметь подходящую **функцию**, которая бы проверяла каждый элемент на **валидность**. Если элемент **подходит**, он будет возвращаться в вывод."
      ],
      "metadata": {
        "id": "SLmK9hRmktPR"
      }
    },
    {
      "cell_type": "code",
      "source": [
        "list1 = [3, 5, 4, 8, 6, 33, 22, 18, 76, 1]\n",
        "result = list(filter(lambda x: (x%2 != 0) , list1))\n",
        "print(result)"
      ],
      "metadata": {
        "colab": {
          "base_uri": "https://localhost:8080/"
        },
        "id": "Ui9Aj7kKlEmH",
        "outputId": "cd93587d-ed93-40b4-9c4b-10ac373d4a46"
      },
      "execution_count": null,
      "outputs": [
        {
          "output_type": "stream",
          "name": "stdout",
          "text": [
            "[3, 5, 33, 1]\n"
          ]
        }
      ]
    },
    {
      "cell_type": "code",
      "source": [
        "# Список значений, которые могут быть True или False\n",
        "bools = ['bool', 0, None, True, False, 1, 1-1, 2%2]\n",
        "\n",
        "# Передали None вместо функции в filter()\n",
        "out = filter(None, bools)\n",
        "\n",
        "# Вывод результата\n",
        "for iter in out:\n",
        "    print(iter)"
      ],
      "metadata": {
        "colab": {
          "base_uri": "https://localhost:8080/"
        },
        "id": "pEF2NskxjlCR",
        "outputId": "b3c165b4-e9e9-4a80-871a-30ad023a6d50"
      },
      "execution_count": null,
      "outputs": [
        {
          "output_type": "stream",
          "name": "stdout",
          "text": [
            "bool\n",
            "True\n",
            "1\n"
          ]
        }
      ]
    },
    {
      "cell_type": "code",
      "source": [
        "# Два массива, имеющие общие элементы\n",
        "arr1 = ['p','y','t','h','o','n',' ','3','.','0']\n",
        "arr2 = ['p','y','d','e','v',' ','2','.','0']\n",
        "\n",
        "# Лямбда с использованием filter() для поиска общих значений\n",
        "def interSection(arr1, arr2): # find identical elements\n",
        "   out = list(filter(lambda it: it in arr1, arr2))\n",
        "   return out\n",
        "# функция main\n",
        "if __name__ == \"__main__\":\n",
        "   out = interSection(arr1, arr2)\n",
        "   print(\"Отфильтрованный список:\", out)"
      ],
      "metadata": {
        "colab": {
          "base_uri": "https://localhost:8080/"
        },
        "id": "pPLQF3m_kM5_",
        "outputId": "c3be1d97-6af6-4abc-b5e5-6c4954c95735"
      },
      "execution_count": null,
      "outputs": [
        {
          "output_type": "stream",
          "name": "stdout",
          "text": [
            "Отфильтрованный список: ['p', 'y', ' ', '.', '0']\n"
          ]
        }
      ]
    },
    {
      "cell_type": "markdown",
      "source": [
        "### iter()"
      ],
      "metadata": {
        "id": "CDb-MnqDlJrZ"
      }
    },
    {
      "cell_type": "markdown",
      "source": [
        "Эта функция принимает **объект** и возвращает итерируемый объект. Сам по себе он бесполезен, но оказывается крайне эффективным при использовании в циклах **for** и **while**. Благодаря этому объект можно **перебирать** по одному свойству за раз."
      ],
      "metadata": {
        "id": "9wJOEjcRlQjF"
      }
    },
    {
      "cell_type": "code",
      "source": [
        "lis = ['a', 'b', 'c', 'd', 'e']\n",
        "x = iter(lis)\n",
        "next(x)"
      ],
      "metadata": {
        "colab": {
          "base_uri": "https://localhost:8080/",
          "height": 35
        },
        "id": "zd2Eb7AAlXmq",
        "outputId": "d9a74e3c-7ae3-4552-c0bf-94a1dac04969"
      },
      "execution_count": null,
      "outputs": [
        {
          "output_type": "execute_result",
          "data": {
            "text/plain": [
              "'a'"
            ],
            "application/vnd.google.colaboratory.intrinsic+json": {
              "type": "string"
            }
          },
          "metadata": {},
          "execution_count": 41
        }
      ]
    },
    {
      "cell_type": "code",
      "source": [
        "next(x)\n",
        "# ..."
      ],
      "metadata": {
        "colab": {
          "base_uri": "https://localhost:8080/",
          "height": 35
        },
        "id": "bBkHIVx4lhSh",
        "outputId": "9e4314dc-45f3-4656-f583-f2a95475f364"
      },
      "execution_count": null,
      "outputs": [
        {
          "output_type": "execute_result",
          "data": {
            "text/plain": [
              "'b'"
            ],
            "application/vnd.google.colaboratory.intrinsic+json": {
              "type": "string"
            }
          },
          "metadata": {},
          "execution_count": 42
        }
      ]
    },
    {
      "cell_type": "markdown",
      "source": [
        "### len()"
      ],
      "metadata": {
        "id": "J4n_KhOymhAK"
      }
    },
    {
      "cell_type": "markdown",
      "source": [
        "Эта функция используется для вычисления **длины** последовательности или итерируемого объекта."
      ],
      "metadata": {
        "id": "7XR0cmqGmjPp"
      }
    },
    {
      "cell_type": "code",
      "source": [
        "x = (2, 3, 1, 6, 7)\n",
        "len(x)"
      ],
      "metadata": {
        "colab": {
          "base_uri": "https://localhost:8080/"
        },
        "id": "-vK6jJgZmmyR",
        "outputId": "77210835-27bf-44c5-919e-20ebb4c28c82"
      },
      "execution_count": null,
      "outputs": [
        {
          "output_type": "execute_result",
          "data": {
            "text/plain": [
              "5"
            ]
          },
          "metadata": {},
          "execution_count": 51
        }
      ]
    },
    {
      "cell_type": "code",
      "source": [
        "len(\"Строка\")"
      ],
      "metadata": {
        "colab": {
          "base_uri": "https://localhost:8080/"
        },
        "id": "jOqDGlNPmqrV",
        "outputId": "40f64d86-978d-473a-f897-50c299dc08e3"
      },
      "execution_count": null,
      "outputs": [
        {
          "output_type": "execute_result",
          "data": {
            "text/plain": [
              "6"
            ]
          },
          "metadata": {},
          "execution_count": 52
        }
      ]
    },
    {
      "cell_type": "markdown",
      "source": [
        "### max()"
      ],
      "metadata": {
        "id": "EwAo4vtvlq60"
      }
    },
    {
      "cell_type": "markdown",
      "source": [
        "Эта функция используется для нахождения **«максимального»** значения в последовательности, итерируемом объекте и так далее. В параметрах можно **менять способ** вычисления максимального значения."
      ],
      "metadata": {
        "id": "tpzkLQvMltpW"
      }
    },
    {
      "cell_type": "code",
      "source": [
        "max('a', 'A')"
      ],
      "metadata": {
        "colab": {
          "base_uri": "https://localhost:8080/",
          "height": 35
        },
        "id": "kE0Z3whfl0TS",
        "outputId": "38d68fa2-97b7-4b55-a913-be78b60cb5f0"
      },
      "execution_count": null,
      "outputs": [
        {
          "output_type": "execute_result",
          "data": {
            "text/plain": [
              "'a'"
            ],
            "application/vnd.google.colaboratory.intrinsic+json": {
              "type": "string"
            }
          },
          "metadata": {},
          "execution_count": 43
        }
      ]
    },
    {
      "cell_type": "code",
      "source": [
        "x = [5, 7, 8, 2, 5]\n",
        "max(x)"
      ],
      "metadata": {
        "colab": {
          "base_uri": "https://localhost:8080/"
        },
        "id": "oY5O_ptLl33F",
        "outputId": "99932878-ad89-45cb-f829-d1c215edb9c5"
      },
      "execution_count": null,
      "outputs": [
        {
          "output_type": "execute_result",
          "data": {
            "text/plain": [
              "8"
            ]
          },
          "metadata": {},
          "execution_count": 44
        }
      ]
    },
    {
      "cell_type": "code",
      "source": [
        "x = [\"Яблоко\", \"Апельсин\", \"Автомобиль\"]\n",
        "max(x, key = len)"
      ],
      "metadata": {
        "colab": {
          "base_uri": "https://localhost:8080/",
          "height": 35
        },
        "id": "6z3Ph-PLl7-V",
        "outputId": "131fb09a-e2e3-46bb-b802-705b9811d131"
      },
      "execution_count": null,
      "outputs": [
        {
          "output_type": "execute_result",
          "data": {
            "text/plain": [
              "'Автомобиль'"
            ],
            "application/vnd.google.colaboratory.intrinsic+json": {
              "type": "string"
            }
          },
          "metadata": {},
          "execution_count": 47
        }
      ]
    },
    {
      "cell_type": "markdown",
      "source": [
        "### min()"
      ],
      "metadata": {
        "id": "i1416i16mGW3"
      }
    },
    {
      "cell_type": "markdown",
      "source": [
        "Эта функция используется для нахождения **«минимального»** значения в последовательности, итерируемом объекте и так далее. В параметрах можно **менять способ** вычисления минимального значения."
      ],
      "metadata": {
        "id": "KcmRPi22mNF7"
      }
    },
    {
      "cell_type": "code",
      "source": [
        "min('a','A')\n",
        "'A'"
      ],
      "metadata": {
        "colab": {
          "base_uri": "https://localhost:8080/",
          "height": 35
        },
        "id": "a8PZwPXOmUO1",
        "outputId": "a4c8bafc-ad6f-463d-916e-dabedd6c36e8"
      },
      "execution_count": null,
      "outputs": [
        {
          "output_type": "execute_result",
          "data": {
            "text/plain": [
              "'A'"
            ],
            "application/vnd.google.colaboratory.intrinsic+json": {
              "type": "string"
            }
          },
          "metadata": {},
          "execution_count": 48
        }
      ]
    },
    {
      "cell_type": "code",
      "source": [
        "x = [5, 7, 8, 2, 5]\n",
        "min(x)"
      ],
      "metadata": {
        "colab": {
          "base_uri": "https://localhost:8080/"
        },
        "id": "ly02w7eEmW_g",
        "outputId": "dd80415a-b008-4808-e9d5-e0b36bbae4c8"
      },
      "execution_count": null,
      "outputs": [
        {
          "output_type": "execute_result",
          "data": {
            "text/plain": [
              "2"
            ]
          },
          "metadata": {},
          "execution_count": 49
        }
      ]
    },
    {
      "cell_type": "code",
      "source": [
        "x = [\"Виноград\", \"Манго\", \"Фрукты\", \"Клубника\"]\n",
        "min(x)"
      ],
      "metadata": {
        "colab": {
          "base_uri": "https://localhost:8080/",
          "height": 35
        },
        "id": "_SuxnuFqmat4",
        "outputId": "563b142c-bd7a-4348-8481-7d5847eecdeb"
      },
      "execution_count": null,
      "outputs": [
        {
          "output_type": "execute_result",
          "data": {
            "text/plain": [
              "'Виноград'"
            ],
            "application/vnd.google.colaboratory.intrinsic+json": {
              "type": "string"
            }
          },
          "metadata": {},
          "execution_count": 50
        }
      ]
    },
    {
      "cell_type": "markdown",
      "source": [
        "### enumerate()"
      ],
      "metadata": {
        "id": "ioPpdI--kPtF"
      }
    },
    {
      "cell_type": "markdown",
      "source": [
        "В качестве параметра эта функция **принимает последовательность**. После этого она **перебирает** каждый элемент и **возвращает** его вместе со счетчиком в виде **перечисляемого** объекта. Основная особенность таких объектов — возможность **размещать** их в цикле для **перебора**."
      ],
      "metadata": {
        "id": "dz56YaFtnRLq"
      }
    },
    {
      "cell_type": "code",
      "source": [
        "x = \"Строка\"\n",
        "list(enumerate(x))\n",
        "[(0, 'С'), (1, 'т'), (2, 'р'), (3, 'о'), (4, 'к'), (5, 'а')]"
      ],
      "metadata": {
        "colab": {
          "base_uri": "https://localhost:8080/"
        },
        "id": "exJYd8C7nTeO",
        "outputId": "e9714a2b-ad5d-4d62-b21f-0d70f0f675ad"
      },
      "execution_count": null,
      "outputs": [
        {
          "output_type": "execute_result",
          "data": {
            "text/plain": [
              "[(0, 'С'), (1, 'т'), (2, 'р'), (3, 'о'), (4, 'к'), (5, 'а')]"
            ]
          },
          "metadata": {},
          "execution_count": 56
        }
      ]
    },
    {
      "cell_type": "markdown",
      "source": [
        "### next()"
      ],
      "metadata": {
        "id": "Z3YCkhjfnlgx"
      }
    },
    {
      "cell_type": "markdown",
      "source": [
        "Используется для **итерируемых** объектов. Умеет получать **следующий** (next) элемент в последовательности. Добравшись до **конца**, выводит значение **по умолчанию**."
      ],
      "metadata": {
        "id": "3uU6vk-pnnrq"
      }
    },
    {
      "cell_type": "code",
      "source": [
        "lis = ['a', 'b', 'c']\n",
        "x = iter(lis)\n",
        "\n",
        "print(next(x))\n",
        "\n",
        "print(next(x))\n",
        "\n",
        "print(next(x))"
      ],
      "metadata": {
        "colab": {
          "base_uri": "https://localhost:8080/"
        },
        "id": "T4HlmZY0nyZE",
        "outputId": "f7b7d1f2-93c2-414a-fee1-f3a02870c4e3"
      },
      "execution_count": null,
      "outputs": [
        {
          "output_type": "stream",
          "name": "stdout",
          "text": [
            "a\n",
            "b\n",
            "c\n"
          ]
        }
      ]
    },
    {
      "cell_type": "markdown",
      "source": [
        "### reversed()"
      ],
      "metadata": {
        "id": "UW7VXXuaoEvP"
      }
    },
    {
      "cell_type": "markdown",
      "source": [
        "Эта функция предоставляет простой и быстрый способ **развернуть** порядок элементов в последовательности. В качестве параметра она принимает **валидную** последовательность, например список, а возвращает **итерируемый** объект."
      ],
      "metadata": {
        "id": "Oem9raLwoHuo"
      }
    },
    {
      "cell_type": "code",
      "source": [
        "# for string\n",
        "seq_string = 'Python'\n",
        "print(list(reversed(seq_string)))\n",
        "\n",
        "# for tuple\n",
        "seq_tuple = ('P', 'y', 't', 'h', 'o', 'n')\n",
        "print(list(reversed(seq_tuple)))\n",
        "\n",
        "# for range\n",
        "seq_range = range(5, 9)\n",
        "print(list(reversed(seq_range)))\n",
        "\n",
        "# for list\n",
        "seq_list = [1, 2, 4, 3, 5]\n",
        "print(list(reversed(seq_list)))"
      ],
      "metadata": {
        "colab": {
          "base_uri": "https://localhost:8080/"
        },
        "id": "zwtgDfRGoQIb",
        "outputId": "ba83584c-039c-4c9d-afdb-11023140b993"
      },
      "execution_count": null,
      "outputs": [
        {
          "output_type": "stream",
          "name": "stdout",
          "text": [
            "['n', 'o', 'h', 't', 'y', 'P']\n",
            "['n', 'o', 'h', 't', 'y', 'P']\n",
            "[8, 7, 6, 5]\n",
            "[5, 3, 4, 2, 1]\n"
          ]
        }
      ]
    },
    {
      "cell_type": "code",
      "source": [
        "class Vowels:\n",
        "    vowels = ['a', 'e', 'i', 'o', 'u']\n",
        "\n",
        "    def __reversed__(self):\n",
        "        return reversed(self.vowels)\n",
        "\n",
        "v = Vowels()\n",
        "print(list(reversed(v)))"
      ],
      "metadata": {
        "colab": {
          "base_uri": "https://localhost:8080/"
        },
        "id": "-NssEwgEkllz",
        "outputId": "67288c93-97da-4714-8159-b2d815574055"
      },
      "execution_count": null,
      "outputs": [
        {
          "output_type": "stream",
          "name": "stdout",
          "text": [
            "['u', 'o', 'i', 'e', 'a']\n"
          ]
        }
      ]
    },
    {
      "cell_type": "markdown",
      "source": [
        "### range()"
      ],
      "metadata": {
        "id": "Yc5nhr1qoWrr"
      }
    },
    {
      "cell_type": "markdown",
      "source": [
        "Используется для **создания** последовательности чисел с заданными значениями **от** и **до**, а также **интервалом**. Такая последовательность часто используется в циклах, особенно в цикле **for8**."
      ],
      "metadata": {
        "id": "HxgKAfWZoYwn"
      }
    },
    {
      "cell_type": "code",
      "source": [
        "list(range(10,20,2))"
      ],
      "metadata": {
        "colab": {
          "base_uri": "https://localhost:8080/"
        },
        "id": "ZbvpxY33ojgN",
        "outputId": "50046dfa-4a28-4ed5-8861-68018fa0c1da"
      },
      "execution_count": null,
      "outputs": [
        {
          "output_type": "execute_result",
          "data": {
            "text/plain": [
              "[10, 12, 14, 16, 18]"
            ]
          },
          "metadata": {},
          "execution_count": 60
        }
      ]
    },
    {
      "cell_type": "code",
      "source": [
        "# empty range\n",
        "print(list(range(0)))\n",
        "\n",
        "# using range(stop)\n",
        "print(list(range(10)))\n",
        "\n",
        "# using range(start, stop)\n",
        "print(list(range(1, 10)))"
      ],
      "metadata": {
        "colab": {
          "base_uri": "https://localhost:8080/"
        },
        "id": "ElEs4iD8k_4g",
        "outputId": "df22069f-04ba-4709-cfa5-57d9068fc36f"
      },
      "execution_count": null,
      "outputs": [
        {
          "output_type": "stream",
          "name": "stdout",
          "text": [
            "[]\n",
            "[0, 1, 2, 3, 4, 5, 6, 7, 8, 9]\n",
            "[1, 2, 3, 4, 5, 6, 7, 8, 9]\n"
          ]
        }
      ]
    },
    {
      "cell_type": "code",
      "source": [
        "start = 2\n",
        "stop = 14\n",
        "step = 2\n",
        "\n",
        "print(list(range(start, stop, step)))"
      ],
      "metadata": {
        "colab": {
          "base_uri": "https://localhost:8080/"
        },
        "id": "om2ohEVrlElz",
        "outputId": "fd301a07-9e63-40bc-f6fa-0bf4e381977f"
      },
      "execution_count": null,
      "outputs": [
        {
          "output_type": "stream",
          "name": "stdout",
          "text": [
            "[2, 4, 6, 8, 10, 12]\n"
          ]
        }
      ]
    },
    {
      "cell_type": "code",
      "source": [
        "start = 2\n",
        "stop = -14\n",
        "step = -2\n",
        "\n",
        "print(list(range(start, stop, step)))\n",
        "\n",
        "# value constraint not met\n",
        "print(list(range(start, 14, step)))"
      ],
      "metadata": {
        "colab": {
          "base_uri": "https://localhost:8080/"
        },
        "id": "vuHd3ulvlHTC",
        "outputId": "056d24a0-562e-4dfe-9c0c-e24c7046de43"
      },
      "execution_count": null,
      "outputs": [
        {
          "output_type": "stream",
          "name": "stdout",
          "text": [
            "[2, 0, -2, -4, -6, -8, -10, -12]\n",
            "[]\n"
          ]
        }
      ]
    },
    {
      "cell_type": "markdown",
      "source": [
        "### reduce()"
      ],
      "metadata": {
        "id": "36ROPszbooPA"
      }
    },
    {
      "cell_type": "markdown",
      "source": [
        "**Выполняет** переданную в качестве аргумента **функцию** для каждого **элемента** последовательности. Она является частью **functools**, поэтому перед ее использованием соответствующий модуль нужно **импортировать**."
      ],
      "metadata": {
        "id": "IaH2yBtJoq9u"
      }
    },
    {
      "cell_type": "code",
      "source": [
        "from functools import reduce\n",
        "\n",
        "list1 = [2, 5, 3, 1, 8]\n",
        "reduce(lambda a, b: a + b, list1)"
      ],
      "metadata": {
        "colab": {
          "base_uri": "https://localhost:8080/"
        },
        "id": "RdXiToPPo2-l",
        "outputId": "6dac8dc9-0731-40a6-da30-d585975c6fbf"
      },
      "execution_count": null,
      "outputs": [
        {
          "output_type": "execute_result",
          "data": {
            "text/plain": [
              "19"
            ]
          },
          "metadata": {},
          "execution_count": 18
        }
      ]
    },
    {
      "cell_type": "code",
      "source": [
        "reduce(lambda a, b: a + b, list1, 100)"
      ],
      "metadata": {
        "colab": {
          "base_uri": "https://localhost:8080/"
        },
        "id": "SNUUYOYslgCh",
        "outputId": "5bdce55f-9854-48dd-96a0-c984eaf38c19"
      },
      "execution_count": null,
      "outputs": [
        {
          "output_type": "execute_result",
          "data": {
            "text/plain": [
              "119"
            ]
          },
          "metadata": {},
          "execution_count": 19
        }
      ]
    },
    {
      "cell_type": "code",
      "source": [
        "reduce(lambda a, b: a + b, [], 0)  # Use 0 as return value"
      ],
      "metadata": {
        "colab": {
          "base_uri": "https://localhost:8080/"
        },
        "id": "8WljY8QLls3o",
        "outputId": "15097493-2c53-41c0-9af8-d8c000888c96"
      },
      "execution_count": null,
      "outputs": [
        {
          "output_type": "execute_result",
          "data": {
            "text/plain": [
              "0"
            ]
          },
          "metadata": {},
          "execution_count": 21
        }
      ]
    },
    {
      "cell_type": "code",
      "source": [
        "# Using no initializer value\n",
        "reduce(lambda a, b: a + b, [])  # Raise a TypeError with an empty iterable"
      ],
      "metadata": {
        "colab": {
          "base_uri": "https://localhost:8080/",
          "height": 200
        },
        "id": "ucQAQRpal7Qs",
        "outputId": "bb44378f-47fd-4403-9860-fd90e4e1a26a"
      },
      "execution_count": null,
      "outputs": [
        {
          "output_type": "error",
          "ename": "TypeError",
          "evalue": "ignored",
          "traceback": [
            "\u001b[0;31m---------------------------------------------------------------------------\u001b[0m",
            "\u001b[0;31mTypeError\u001b[0m                                 Traceback (most recent call last)",
            "\u001b[0;32m<ipython-input-22-424eabc54f69>\u001b[0m in \u001b[0;36m<module>\u001b[0;34m()\u001b[0m\n\u001b[1;32m      1\u001b[0m \u001b[0;31m# Using no initializer value\u001b[0m\u001b[0;34m\u001b[0m\u001b[0;34m\u001b[0m\u001b[0;34m\u001b[0m\u001b[0m\n\u001b[0;32m----> 2\u001b[0;31m \u001b[0mreduce\u001b[0m\u001b[0;34m(\u001b[0m\u001b[0;32mlambda\u001b[0m \u001b[0ma\u001b[0m\u001b[0;34m,\u001b[0m \u001b[0mb\u001b[0m\u001b[0;34m:\u001b[0m \u001b[0ma\u001b[0m \u001b[0;34m+\u001b[0m \u001b[0mb\u001b[0m\u001b[0;34m,\u001b[0m \u001b[0;34m[\u001b[0m\u001b[0;34m]\u001b[0m\u001b[0;34m)\u001b[0m  \u001b[0;31m# Raise a TypeError with an empty iterable\u001b[0m\u001b[0;34m\u001b[0m\u001b[0;34m\u001b[0m\u001b[0m\n\u001b[0m",
            "\u001b[0;31mTypeError\u001b[0m: reduce() of empty sequence with no initial value"
          ]
        }
      ]
    },
    {
      "cell_type": "code",
      "source": [
        "numbers = [3, 5, 2, 4, 7, 1]\n",
        "\n",
        "print(\"min: \", reduce(lambda a, b: a if a < b else b, numbers))\n",
        "print(\"max: \", reduce(lambda a, b: a if a > b else b, numbers))"
      ],
      "metadata": {
        "colab": {
          "base_uri": "https://localhost:8080/"
        },
        "id": "0qrNTWPnmLSP",
        "outputId": "4df6915d-257f-471c-f129-495510650dde"
      },
      "execution_count": null,
      "outputs": [
        {
          "output_type": "stream",
          "name": "stdout",
          "text": [
            "min:  1\n",
            "max:  7\n"
          ]
        }
      ]
    },
    {
      "cell_type": "code",
      "source": [
        "print(\"both true: \", reduce(lambda a, b: bool(a and b), [0, 0, 1, 0, 0]))\n",
        "print(\"both true: \", reduce(lambda a, b: bool(a and b), [1, 1, 1, 2, 1]))\n",
        "print(\"both true: \", reduce(lambda a, b: bool(a and b), [], True))"
      ],
      "metadata": {
        "colab": {
          "base_uri": "https://localhost:8080/"
        },
        "id": "welHHA1VmjZr",
        "outputId": "ef008f17-a306-485b-c10c-fef0b33556f3"
      },
      "execution_count": null,
      "outputs": [
        {
          "output_type": "stream",
          "name": "stdout",
          "text": [
            "both true:  False\n",
            "both true:  True\n",
            "both true:  True\n"
          ]
        }
      ]
    },
    {
      "cell_type": "code",
      "source": [
        "print(\"any true: \",reduce(lambda a, b: bool(a or b), [0, 0, 1, 1, 0]))\n",
        "print(\"any true: \",reduce(lambda a, b: bool(a or b), [0, 0, 0, 0, 0]))\n",
        "print(\"any true: \",reduce(lambda a, b: bool(a or b), [], False))"
      ],
      "metadata": {
        "colab": {
          "base_uri": "https://localhost:8080/"
        },
        "id": "OyN-3Cgem9CC",
        "outputId": "e1837272-0bd5-4ad8-d73f-88cd16c61520"
      },
      "execution_count": null,
      "outputs": [
        {
          "output_type": "stream",
          "name": "stdout",
          "text": [
            "any true:  True\n",
            "any true:  False\n",
            "any true:  False\n"
          ]
        }
      ]
    },
    {
      "cell_type": "markdown",
      "source": [
        "### sorted()"
      ],
      "metadata": {
        "id": "E8gtg23qpFbM"
      }
    },
    {
      "cell_type": "markdown",
      "source": [
        "Используется для **сортировки** последовательностей значений разных типов. Например, может отсортировать **список строк** в алфавитном порядке или **список числовых значений** по возрастанию или убыванию."
      ],
      "metadata": {
        "id": "sbfpX5lGpIRr"
      }
    },
    {
      "cell_type": "code",
      "source": [
        "X = [4, 5, 7, 3, 1]\n",
        "sorted(X)"
      ],
      "metadata": {
        "colab": {
          "base_uri": "https://localhost:8080/"
        },
        "id": "QtSTdNfzpTpH",
        "outputId": "9c8f4614-bdf1-46f1-ec55-c7404051b5cb"
      },
      "execution_count": null,
      "outputs": [
        {
          "output_type": "execute_result",
          "data": {
            "text/plain": [
              "[1, 3, 4, 5, 7]"
            ]
          },
          "metadata": {},
          "execution_count": 63
        }
      ]
    },
    {
      "cell_type": "markdown",
      "source": [
        "### sum()"
      ],
      "metadata": {
        "id": "di18UZj5pZ4_"
      }
    },
    {
      "cell_type": "markdown",
      "source": [
        "Вычисление суммы — **стандартная** задача во многих приложениях. И для этого в Python есть встроенная функция. Она **автоматически** суммирует все элементы и возвращает **сумму**."
      ],
      "metadata": {
        "id": "G73pLKfxpcWf"
      }
    },
    {
      "cell_type": "code",
      "source": [
        "x = [1, 2, 5, 3, 6, 7]\n",
        "sum(x)"
      ],
      "metadata": {
        "colab": {
          "base_uri": "https://localhost:8080/"
        },
        "id": "YKImogxapn0l",
        "outputId": "d4fb618c-4141-45ba-a31c-acb33c133d75"
      },
      "execution_count": null,
      "outputs": [
        {
          "output_type": "execute_result",
          "data": {
            "text/plain": [
              "24"
            ]
          },
          "metadata": {},
          "execution_count": 64
        }
      ]
    },
    {
      "cell_type": "markdown",
      "source": [
        "### all()"
      ],
      "metadata": {
        "id": "DE2BxhB7ptlw"
      }
    },
    {
      "cell_type": "markdown",
      "source": [
        "Возвращает **True**, если все элементы **истинные** (или, если последовательность пуста)."
      ],
      "metadata": {
        "id": "E5h9k7SkpvzT"
      }
    },
    {
      "cell_type": "code",
      "source": [
        "print(all([1,2,3]), all([1,2,0]))"
      ],
      "metadata": {
        "colab": {
          "base_uri": "https://localhost:8080/"
        },
        "id": "wH-Tbczcp0XW",
        "outputId": "aca09411-cfa7-43d8-849f-0246f0159a96"
      },
      "execution_count": null,
      "outputs": [
        {
          "output_type": "stream",
          "name": "stdout",
          "text": [
            "True False\n"
          ]
        }
      ]
    },
    {
      "cell_type": "code",
      "source": [
        "all([])"
      ],
      "metadata": {
        "colab": {
          "base_uri": "https://localhost:8080/"
        },
        "id": "cAMnnqSjp2a3",
        "outputId": "b630c5fa-3bf5-4f2f-ddd4-9544de6e465b"
      },
      "execution_count": null,
      "outputs": [
        {
          "output_type": "execute_result",
          "data": {
            "text/plain": [
              "True"
            ]
          },
          "metadata": {},
          "execution_count": 68
        }
      ]
    },
    {
      "cell_type": "markdown",
      "source": [
        "### any()"
      ],
      "metadata": {
        "id": "rLa3SXThqD0D"
      }
    },
    {
      "cell_type": "markdown",
      "source": [
        "Возвращает **True**, если хотя бы **один** элемент - **истина**. Для **пустой** последовательности возвращает **False**."
      ],
      "metadata": {
        "id": "SIUbl3fhqFvK"
      }
    },
    {
      "cell_type": "code",
      "source": [
        "print(any([1,2,0]), any([0, False]))"
      ],
      "metadata": {
        "colab": {
          "base_uri": "https://localhost:8080/"
        },
        "id": "whdKnvIQqLgh",
        "outputId": "0d0134cd-12a1-4d89-c488-9d1c13a07357"
      },
      "execution_count": null,
      "outputs": [
        {
          "output_type": "stream",
          "name": "stdout",
          "text": [
            "True False\n"
          ]
        }
      ]
    },
    {
      "cell_type": "code",
      "source": [
        "any([])"
      ],
      "metadata": {
        "colab": {
          "base_uri": "https://localhost:8080/"
        },
        "id": "HLipuYetqRtj",
        "outputId": "82405b01-bdb3-4abc-daef-42fb00b2f070"
      },
      "execution_count": null,
      "outputs": [
        {
          "output_type": "execute_result",
          "data": {
            "text/plain": [
              "False"
            ]
          },
          "metadata": {},
          "execution_count": 70
        }
      ]
    },
    {
      "cell_type": "markdown",
      "source": [
        "### zip()"
      ],
      "metadata": {
        "id": "pNqW2HNdqXhL"
      }
    },
    {
      "cell_type": "markdown",
      "source": [
        "Итератор, возвращающий **кортежи**, состоящие из соответствующих элементов **аргументов-последовательностей**."
      ],
      "metadata": {
        "id": "uApjh8orqZo0"
      }
    },
    {
      "cell_type": "code",
      "source": [
        "for i in zip([1,2,3], ['a', 'b', 'c']):\n",
        "  print(i)"
      ],
      "metadata": {
        "colab": {
          "base_uri": "https://localhost:8080/"
        },
        "id": "IsST6GHHqdXj",
        "outputId": "60bfeaaa-3c59-48ab-8ea6-e6080a93dfc0"
      },
      "execution_count": null,
      "outputs": [
        {
          "output_type": "stream",
          "name": "stdout",
          "text": [
            "(1, 'a')\n",
            "(2, 'b')\n",
            "(3, 'c')\n"
          ]
        }
      ]
    },
    {
      "cell_type": "markdown",
      "source": [
        "### map()"
      ],
      "metadata": {
        "id": "0IKuFG7imwOh"
      }
    },
    {
      "cell_type": "markdown",
      "source": [
        "Используется для **применения** определенной **функции** к **итерируемому** объекту. Она возвращает результат в виде итерируемого объекта (списки, кортежи, множества). Можно передать и **несколько объектов**, но в таком случае нужно будет и **соответствующее количество** функций."
      ],
      "metadata": {
        "id": "iRvy7unbmzVP"
      }
    },
    {
      "cell_type": "code",
      "source": [
        "def inc(x):\n",
        "  x = x + 1\n",
        "  return x\n",
        "\n",
        "lis = [1,2,3,4,5]\n",
        "result = map(inc,lis)\n",
        "\n",
        "for x in result:\n",
        "  print(x)"
      ],
      "metadata": {
        "colab": {
          "base_uri": "https://localhost:8080/"
        },
        "id": "WYpCu-6KnICc",
        "outputId": "76b2b8e4-f600-48e1-dcf1-a0097b26ed04"
      },
      "execution_count": null,
      "outputs": [
        {
          "output_type": "stream",
          "name": "stdout",
          "text": [
            "2\n",
            "3\n",
            "4\n",
            "5\n",
            "6\n"
          ]
        }
      ]
    },
    {
      "cell_type": "markdown",
      "source": [
        "## Для работы со строками"
      ],
      "metadata": {
        "id": "PRrTkiBnqt4G"
      }
    },
    {
      "cell_type": "markdown",
      "source": [
        "### eval()"
      ],
      "metadata": {
        "id": "VZsTtLMvq3eq"
      }
    },
    {
      "cell_type": "markdown",
      "source": [
        "**eval()** обрабатывает переданное в нее выражение и **исполняет** его как **выражение** ___Python___. После этого возвращается **значение**. Чаще всего эта функция используется для выполнения **математических** функций."
      ],
      "metadata": {
        "id": "MfKN046Hq7_4"
      }
    },
    {
      "cell_type": "code",
      "source": [
        "eval(\"1+2\")"
      ],
      "metadata": {
        "colab": {
          "base_uri": "https://localhost:8080/"
        },
        "id": "gxshnXvTrGE3",
        "outputId": "828050e4-54e3-4063-ba4c-6dc49caf2129"
      },
      "execution_count": null,
      "outputs": [
        {
          "output_type": "execute_result",
          "data": {
            "text/plain": [
              "3"
            ]
          },
          "metadata": {},
          "execution_count": 73
        }
      ]
    },
    {
      "cell_type": "markdown",
      "source": [
        "### chr()"
      ],
      "metadata": {
        "id": "yK9O0n7drOxt"
      }
    },
    {
      "cell_type": "markdown",
      "source": [
        "Функция **chr()** возвращает строку, представляющую символ **Unicode** для переданного числа. Она является **противоположностью ord()**, которая принимает **символ** и возвращает его **числовой код**."
      ],
      "metadata": {
        "id": "v74c3WcPrREZ"
      }
    },
    {
      "cell_type": "code",
      "source": [
        "chr(97)"
      ],
      "metadata": {
        "colab": {
          "base_uri": "https://localhost:8080/",
          "height": 35
        },
        "id": "ie9rOMezrcfi",
        "outputId": "e7e35876-70fa-49eb-d038-3eaabfd86287"
      },
      "execution_count": null,
      "outputs": [
        {
          "output_type": "execute_result",
          "data": {
            "text/plain": [
              "'a'"
            ],
            "application/vnd.google.colaboratory.intrinsic+json": {
              "type": "string"
            }
          },
          "metadata": {},
          "execution_count": 74
        }
      ]
    },
    {
      "cell_type": "markdown",
      "source": [
        "### ord()"
      ],
      "metadata": {
        "id": "ZYuWMzZIrhi-"
      }
    },
    {
      "cell_type": "markdown",
      "source": [
        "Функция **ord()** принимает один символ или строку длиной в один символ и возвращает соответствующее значение **Unicode**. Например, **ord(\"a\")** вернет 97, а 97 — a."
      ],
      "metadata": {
        "id": "LeSYDzxMrkoT"
      }
    },
    {
      "cell_type": "code",
      "source": [
        "ord('a')"
      ],
      "metadata": {
        "colab": {
          "base_uri": "https://localhost:8080/"
        },
        "id": "7k6k7zb1rxQI",
        "outputId": "b26b3468-4cfb-4bc0-de33-ecf253fda7c4"
      },
      "execution_count": null,
      "outputs": [
        {
          "output_type": "execute_result",
          "data": {
            "text/plain": [
              "97"
            ]
          },
          "metadata": {},
          "execution_count": 75
        }
      ]
    },
    {
      "cell_type": "code",
      "source": [
        "ord('A')"
      ],
      "metadata": {
        "colab": {
          "base_uri": "https://localhost:8080/"
        },
        "id": "_YtMydHHr0kC",
        "outputId": "8be3ea92-1857-4cd3-f551-950fb01e495d"
      },
      "execution_count": null,
      "outputs": [
        {
          "output_type": "execute_result",
          "data": {
            "text/plain": [
              "65"
            ]
          },
          "metadata": {},
          "execution_count": 76
        }
      ]
    },
    {
      "cell_type": "markdown",
      "source": [
        "### ascii()"
      ],
      "metadata": {
        "id": "66agPOx6r4cJ"
      }
    },
    {
      "cell_type": "markdown",
      "source": [
        "возвращает **строку**, содержащую представление объекта, но заменяет **не-ASCII** символы на **экранированные** последовательности."
      ],
      "metadata": {
        "id": "T92mucDPr7hA"
      }
    },
    {
      "cell_type": "code",
      "source": [
        "ascii(\"Hello, Привет\")"
      ],
      "metadata": {
        "colab": {
          "base_uri": "https://localhost:8080/",
          "height": 35
        },
        "id": "rsKSwTbEsCUm",
        "outputId": "1bd949be-c813-4e91-d792-10b425ec3796"
      },
      "execution_count": null,
      "outputs": [
        {
          "output_type": "execute_result",
          "data": {
            "text/plain": [
              "\"'Hello, \\\\u041f\\\\u0440\\\\u0438\\\\u0432\\\\u0435\\\\u0442'\""
            ],
            "application/vnd.google.colaboratory.intrinsic+json": {
              "type": "string"
            }
          },
          "metadata": {},
          "execution_count": 82
        }
      ]
    },
    {
      "cell_type": "markdown",
      "source": [
        "## Для работы с потоками"
      ],
      "metadata": {
        "id": "8caYvNbrsS5e"
      }
    },
    {
      "cell_type": "markdown",
      "source": [
        "### input()"
      ],
      "metadata": {
        "id": "aD1FSdnsscfI"
      }
    },
    {
      "cell_type": "markdown",
      "source": [
        "Функция **input()** — это быстрый и удобный способ получить данные от \n",
        "**пользователя**. Вызов этой функции предоставляет пользователю возможность **ввести** на экране **текст**. Затем он **конвертируется** в строку и возвращается в **программу**."
      ],
      "metadata": {
        "id": "1kThb5mSsgn_"
      }
    },
    {
      "cell_type": "code",
      "source": [
        "value = input(\"Пожалуйста, введите значение: \")\n",
        "value"
      ],
      "metadata": {
        "colab": {
          "base_uri": "https://localhost:8080/",
          "height": 53
        },
        "id": "vqFM09zhGBoF",
        "outputId": "1369347c-6a3c-4433-c2a6-63afade7a8ed"
      },
      "execution_count": null,
      "outputs": [
        {
          "name": "stdout",
          "output_type": "stream",
          "text": [
            "Пожалуйста, введите значение: 123\n"
          ]
        },
        {
          "output_type": "execute_result",
          "data": {
            "text/plain": [
              "'123'"
            ],
            "application/vnd.google.colaboratory.intrinsic+json": {
              "type": "string"
            }
          },
          "metadata": {},
          "execution_count": 2
        }
      ]
    },
    {
      "cell_type": "markdown",
      "source": [
        "### print()"
      ],
      "metadata": {
        "id": "Ff-rJF0oGN9C"
      }
    },
    {
      "cell_type": "markdown",
      "source": [
        "Функция **print** ___Python___ выводит заданные объекты на стандартное устройство вывода **(экран)** или отправляет их **текстовым** потоком в **файл**."
      ],
      "metadata": {
        "id": "SdkSIujEGQ-f"
      }
    },
    {
      "cell_type": "code",
      "source": [
        "print(\"Hello, World!\")"
      ],
      "metadata": {
        "colab": {
          "base_uri": "https://localhost:8080/"
        },
        "id": "hRBDiCPLGgH0",
        "outputId": "7f8b12c8-fe02-408e-dd0c-fd742165657c"
      },
      "execution_count": null,
      "outputs": [
        {
          "output_type": "stream",
          "name": "stdout",
          "text": [
            "Hello, World!\n"
          ]
        }
      ]
    },
    {
      "cell_type": "markdown",
      "source": [
        "### open()"
      ],
      "metadata": {
        "id": "TDl40MUuGmTo"
      }
    },
    {
      "cell_type": "markdown",
      "source": [
        "Открывает **файл** и возвращает соответствующий **поток**."
      ],
      "metadata": {
        "id": "edVQAfn3GqFd"
      }
    },
    {
      "cell_type": "code",
      "source": [
        "f = open(\"file.txt\", 'w')\n",
        "f"
      ],
      "metadata": {
        "colab": {
          "base_uri": "https://localhost:8080/"
        },
        "id": "UIW-UbntGuOY",
        "outputId": "8f9d1242-42ec-4c28-a014-6bf6789372b5"
      },
      "execution_count": null,
      "outputs": [
        {
          "output_type": "execute_result",
          "data": {
            "text/plain": [
              "<_io.TextIOWrapper name='file.txt' mode='w' encoding='UTF-8'>"
            ]
          },
          "metadata": {},
          "execution_count": 5
        }
      ]
    }
  ]
}
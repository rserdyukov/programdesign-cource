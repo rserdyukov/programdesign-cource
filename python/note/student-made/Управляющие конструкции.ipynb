{
  "nbformat": 4,
  "nbformat_minor": 0,
  "metadata": {
    "colab": {
      "name": "Copy of try1.ipynb",
      "provenance": [],
      "collapsed_sections": []
    },
    "kernelspec": {
      "name": "python3",
      "display_name": "Python 3"
    },
    "language_info": {
      "name": "python"
    }
  },
  "cells": [
    {
      "cell_type": "markdown",
      "source": [
        "## <h1>Управляющие конструкции</h1>\n",
        "\n",
        "---\n",
        "\n",
        "\n",
        "\n",
        "\n",
        "###<strong>Что такое управляющие конструкции и зачем они нужны?</strong>\n",
        "\n",
        "При составлении алгоритма и написании программы возникают ситуации, когда часть действий необходимо выполнить при каком-либо условии или повторить (несколько раз или также при условии). В высокоуровневых языках программирования для этого предназначены специальные конструкции.\n",
        "\n",
        "В языке Python ветвление и цикл поддерживаются операторами:\n",
        "\n",
        "\n",
        "*   <strong>*if*</strong>: условное ветвление;\n",
        "*   <strong>*while*</strong>: цикл с условием;\n",
        "*   <strong>*for*</strong>: цикл с параметром.\n",
        "\n",
        "  "
      ],
      "metadata": {
        "id": "SnebKFSYgzgM"
      }
    },
    {
      "cell_type": "markdown",
      "source": [
        "###<strong>Условное ветвление</strong>\n",
        "\n",
        "*Условное ветвление* также называют *условной инструкцией if-elif-else*. \n",
        "\n",
        "В языке Python существуют следующие варианты использования условной конструкции:\n",
        "\n"
      ],
      "metadata": {
        "id": "t3ayu3gHnMdq"
      }
    },
    {
      "cell_type": "markdown",
      "source": [
        "1.   #### Конструкция *IF*\n",
        "\n",
        "Оператор *if* в Python подобен этому оператору в других языках. Утверждение с использованием оператора *if* содержит в себе логическое условие, в котором производится сравнение данных и по результату выбирается дальнейшее действие. \n",
        "\n",
        "**Синтаксис конструкции:**\n",
        "\n",
        "    if выражение:\n",
        "        оператор(ы)\n",
        "\n",
        "Программа оценивает значение `выражение`, которое может быть равно True или False. Программа выполнит `оператор(ы)`, только если выражение = True. Если выражение = False, этот кусок кода не будет выполняться.\n",
        "\n",
        "В Python тело конструкции if обозначается отступами. Тело начинается с первой строки с отступом и заканчивается первой строкой без отступа. \n",
        "\n",
        "Работая с условной конструкцией, важно знать, что Python интерпретирует ненулевые значения как True. None и 0 интерпретируются как False.\n",
        "\n",
        " **Блок-схема конструкции:** \n",
        "\n",
        "![ift.jpg](data:image/jpeg;base64,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)\n",
        "\n",
        "\n",
        " **Пример использования:** \n"
      ],
      "metadata": {
        "id": "t_FfNkZZ32Ue"
      }
    },
    {
      "cell_type": "code",
      "source": [
        "#Программа выводит на экран число, если оно положительное\n",
        "a = 10\n",
        "if a > 0:\n",
        "  print(a)\n",
        "\n",
        "b = -5\n",
        "if b > 0:\n",
        "  print(b)\n"
      ],
      "metadata": {
        "colab": {
          "base_uri": "https://localhost:8080/"
        },
        "id": "gxxBfCvr3OqX",
        "outputId": "d7b2712e-0df8-4ea4-e740-c16ffd44be9e"
      },
      "execution_count": null,
      "outputs": [
        {
          "output_type": "stream",
          "name": "stdout",
          "text": [
            "10\n"
          ]
        }
      ]
    },
    {
      "cell_type": "markdown",
      "source": [
        "В примере выше a > 0  и b > 0 — выражения, которые проверяются на истинность. Только если эти выражения окажутся истинным, т.е. True, выполнится тело оператора if.\n",
        "\n",
        "При a = 10 выражение a > 0 истинно, поэтому Python выполнит оператор, находящийся в теле if. Вот почему на экран выводится  «10».\n",
        "\n",
        "При b = -5 выражение 5 > 0 ложно, поэтому Python проигнорирует оператор, находящийся в теле if.\n",
        "\n"
      ],
      "metadata": {
        "id": "1LB3XeHni2pe"
      }
    },
    {
      "cell_type": "markdown",
      "source": [
        "2.   #### Конструкция *IF..ELSE*\n",
        "\n",
        "Оператор *else* может использоваться вместе с оператором *if.* Оператор *else* содержит блок кода, который будет выполнен если результат выражения равен нулю или считается ложью.\n",
        "\n",
        "Это опциональный оператор, и он может быть только один во всем выражении после *if*.\n",
        "\n",
        "**Синтаксис конструкции:**\n",
        "\n",
        "    if выражение:\n",
        "       Тело if\n",
        "    else:\n",
        "       Тело else\n",
        "\n",
        "Оператор if...else оценивает выражение и выполняет `тело if` только в том случае, если выражение (условие) истинно, то есть равно True.\n",
        "\n",
        "Если выражение равно False, выполняется `тело else`. Для разделения этих блоков используются отступы.\n",
        "\n",
        " **Блок-схема конструкции:** \n",
        "\n",
        "![ifele.jpg](data:image/jpeg;base64,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)\n",
        "\n",
        "\n",
        " **Пример использования:** "
      ],
      "metadata": {
        "id": "RA24dVal42Yv"
      }
    },
    {
      "cell_type": "code",
      "source": [
        "#Программа определяет, является число положительным или отрицательным и выводит результат на экран\n",
        "\n",
        "number = 100\n",
        "if number > 0:\n",
        "  print(\"Число является положительным!\")\n",
        "\n",
        "else:\n",
        "  print(\"Число является отрицательным!\")\n"
      ],
      "metadata": {
        "colab": {
          "base_uri": "https://localhost:8080/"
        },
        "id": "pBZfaVdM6Vc7",
        "outputId": "05d8bc06-ab1e-4572-9bb4-51117cea6299"
      },
      "execution_count": null,
      "outputs": [
        {
          "output_type": "stream",
          "name": "stdout",
          "text": [
            "Число является положительным!\n"
          ]
        }
      ]
    },
    {
      "cell_type": "markdown",
      "source": [
        "В приведенном выше примере при num = 100 выражение истинно, поэтому выполняется тело if, а тело else игнорируется.\n",
        "\n",
        "Если мы попробуем изменить num на отрицательное число, программа выполнит тело else."
      ],
      "metadata": {
        "id": "hSHYj7MK7VjD"
      }
    },
    {
      "cell_type": "markdown",
      "source": [
        "3.   #### Конструкция *IF...ELIF...ELSE*\n",
        "\n",
        "Часто возникают ситуации, когда нужно прописать более двух вариантов развития событий.В этих случаях используется оператор *elif*. Оператор *elif* позволяет выполнять множественную проверку выражения и выполнять блок кода, как только результат будет считаться истиной.\n",
        "\n",
        "Как и оператор else, *elif* опционален, однако в отличии от else он может использоваться многократно.\n",
        "\n",
        "**Синтаксис конструкции:**\n",
        "\n",
        "    if выражение_1:\n",
        "       Тело if\n",
        "    elif выражение_2:\n",
        "       Тело elif\n",
        "    else: \n",
        "       Тело else\n",
        "\n",
        "elif — это сокращение от else if. Этот оператор позволяет нам проверять сразу несколько выражений.\n",
        "\n",
        "Если условие для if = False, Python оценивает условие блока elif и так далее. Если все условия = False, выполняется тело else.\n",
        "\n",
        "Для одного if может быть только один else. Но внутри конструкции if...else может быть сколько угодно блоков elif.\n",
        "\n",
        " **Блок-схема конструкции:** \n",
        "\n",
        "![elif.jpg](data:image/jpeg;base64,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)\n",
        "\n",
        "\n",
        " **Пример использования:** \n"
      ],
      "metadata": {
        "id": "Duh2K2Ez7oSu"
      }
    },
    {
      "cell_type": "code",
      "source": [
        "#Программа определяет, является число положительным,отрицательным или нулем и выводит результат на экран\n",
        "\n",
        "number = -5\n",
        "if number > 0:\n",
        "  print(\"Число является положительным!\")\n",
        "\n",
        "elif number == 0:\n",
        "  print(\"Число является нулем!\")\n",
        "\n",
        "else:\n",
        "  print(\"Число является отрицательным!\")\n"
      ],
      "metadata": {
        "id": "iAT5t6pg9xh2"
      },
      "execution_count": null,
      "outputs": []
    },
    {
      "cell_type": "markdown",
      "source": [
        "Если переменная num содержит положительное значение, Python выведет на экран сообщение «Число является положительным!».\n",
        "\n",
        "Если num равно 0, напечатается сообщение «Число является нулем!».\n",
        "\n",
        "Если num содержит отрицательное значение, Python выведет на экран сообщение «Число является отрицательным!»."
      ],
      "metadata": {
        "id": "T1UgXkJ8-TSo"
      }
    },
    {
      "cell_type": "markdown",
      "source": [
        "Как было сказано выше, elif может использоваться более одного раза:"
      ],
      "metadata": {
        "id": "_Ln3G7Mf-aee"
      }
    },
    {
      "cell_type": "code",
      "source": [
        "#Программа выводит на экран цвет, который записан в переменную\n",
        "\n",
        "color = 'blue'\n",
        "if color == 'red':\n",
        "  print('Красный')\n",
        "elif color == 'black':\n",
        "  print('Черный')\n",
        "elif color == 'white':\n",
        "  print('Белый')\n",
        "elif color == 'blue':\n",
        "  print('Голубой')\n",
        "elif color == 'yellow':\n",
        "  print('Желтый')\n",
        "else:\n",
        "  print('Нет данных')\n",
        "\n",
        "\n"
      ],
      "metadata": {
        "colab": {
          "base_uri": "https://localhost:8080/"
        },
        "id": "V2C-heoY-k4I",
        "outputId": "da5d5787-5c9f-42bf-b765-2c72c6ca4823"
      },
      "execution_count": null,
      "outputs": [
        {
          "output_type": "stream",
          "name": "stdout",
          "text": [
            "Голубой\n"
          ]
        }
      ]
    },
    {
      "cell_type": "markdown",
      "source": [
        "Программа поочередно сравнивает значение переменной color со значениями в телах if и elif. Если ни одно значение не подошло, выполняется тело else. На экран выводится сообщение «Нет данных».\n",
        "В нашем случае, значение color совпало со значением третьего elif."
      ],
      "metadata": {
        "id": "2T9cNlsxBlVX"
      }
    },
    {
      "cell_type": "markdown",
      "source": [
        "4.   #### Вложенные конструкции с *IF*\n",
        "\n",
        "Бывают случаи, когда вы хотите провести ещё одну проверку после того, как результат выражения принят как истина. В таком случае – можно использовать вложенные управляющие конструкции if.\n",
        "\n",
        "Любое количество блоков if…elif…else можно разместить внутри другого оператора if…elif…else. Отступы — единственный способ отделять разные уровни вложенности. Это делает код сложнее для понимания, поэтому загроможденной вложенности желательно избегать.\n",
        "\n",
        "\n",
        " **Пример использования:** \n"
      ],
      "metadata": {
        "id": "OIwlOilsCwm2"
      }
    },
    {
      "cell_type": "code",
      "source": [
        "#Программа определяет, является число положительным,отрицательным или нулем с помощью вложенной конструкции\n",
        "\n",
        "number = 0\n",
        "if number >= 0:\n",
        "  if number == 0:\n",
        "    print('Число является нулем!')\n",
        "  else:\n",
        "    print('Число является положительным!')\n",
        "else:\n",
        "  print('Число является отрицательным!')"
      ],
      "metadata": {
        "colab": {
          "base_uri": "https://localhost:8080/"
        },
        "id": "uGJRtMv8DUBl",
        "outputId": "38050476-262b-4997-b48b-1fd74583a342"
      },
      "execution_count": null,
      "outputs": [
        {
          "output_type": "stream",
          "name": "stdout",
          "text": [
            "Число является нулем!\n"
          ]
        }
      ]
    },
    {
      "cell_type": "markdown",
      "source": [
        "При выполении условия из первого if, происходит еще одна проверка. Если условие первого if не выполнено, программа переходит к else."
      ],
      "metadata": {
        "id": "gwGQ0gPUEAjk"
      }
    },
    {
      "cell_type": "markdown",
      "source": [
        "  #### Более сложные примеры использования условного ветвления:"
      ],
      "metadata": {
        "id": "Nh45acMYEdNM"
      }
    },
    {
      "cell_type": "code",
      "source": [
        "import random\n",
        "num = random.randint(1,10)\n",
        "guess = int(input('Введите число от 1 до 10: '))\n",
        "if guess == num :\n",
        "    print('Угадали!')\n",
        "elif guess > 10:\n",
        "    print('Число не может быть больше 10')\n",
        "elif guess < 1:\n",
        "    print('Число не может быть меньше 10')    \n",
        "else:\n",
        "    print('Извините, было загадано число ', num)"
      ],
      "metadata": {
        "colab": {
          "base_uri": "https://localhost:8080/"
        },
        "id": "30e7QXw9E2bO",
        "outputId": "ca278535-b1af-429d-cff1-325ee6e3a529"
      },
      "execution_count": null,
      "outputs": [
        {
          "output_type": "stream",
          "name": "stdout",
          "text": [
            "Введите число от 1 до 10: 4\n",
            "Извините, было загадано число  2\n"
          ]
        }
      ]
    },
    {
      "cell_type": "code",
      "source": [
        "first_number = int(input(\"Введите первое значение: \")) \n",
        "operation = input(\"Вводим операцию: \")\n",
        "second_number = int(input(\"Введите второе значение: \"))\n",
        "\n",
        "if operation == \"*\": \n",
        "    result = first_number * second_number \n",
        "elif operation == \"+\": \n",
        "    result = first_number + second_number \n",
        "elif operation == \"-\": \n",
        "    result = first_number - second_number\n",
        "elif operation == \"/\":\n",
        "    result = first_number / second_number\n",
        "\n",
        "print(first_number, operation, second_number, \"=\", result)"
      ],
      "metadata": {
        "colab": {
          "base_uri": "https://localhost:8080/"
        },
        "id": "dH1BJ8MhF_2p",
        "outputId": "8711a79c-d81d-410d-a29c-03833cd8cf12"
      },
      "execution_count": null,
      "outputs": [
        {
          "output_type": "stream",
          "name": "stdout",
          "text": [
            "Введите первое значение: 2\n",
            "Вводим операцию: +\n",
            "Введите второе значение: 5\n",
            "2 + 5 = 7\n"
          ]
        }
      ]
    },
    {
      "cell_type": "markdown",
      "source": [
        "###<strong>Цикл с условием</strong>\n",
        "\n",
        "*Цикл while* (“пока”) позволяет выполнить одну и ту же последовательность действий, пока проверяемое условие истинно. Условие записывается до тела цикла и проверяется до выполнения тела цикла. Как правило, *цикл while *используется, когда невозможно определить точное значение количества проходов исполнения цикла.\n"
      ],
      "metadata": {
        "id": "if3QA_kYCUe7"
      }
    },
    {
      "cell_type": "markdown",
      "source": [
        "**Синтаксис конструкции:**\n",
        "\n",
        "    while условие:\n",
        "      блок инструкций\n",
        "\n",
        "При выполнении цикла while сначала проверяется условие. Если оно ложно, то выполнение цикла прекращается и управление передается на следующую инструкцию после тела цикла while. Если условие истинно, то выполняется инструкция, после чего условие проверяется снова и снова выполняется инструкция. Так продолжается до тех пор, пока условие будет истинно. Как только условие станет ложно, работа цикла завершится и управление передастся следующей инструкции после цикла."
      ],
      "metadata": {
        "id": "up71OwlQHoDi"
      }
    },
    {
      "cell_type": "markdown",
      "source": [
        "**Пример использования:**\n",
        "\n"
      ],
      "metadata": {
        "id": "8jkBkXlIHVkN"
      }
    },
    {
      "cell_type": "code",
      "source": [
        "#Программа выводит на экран квадраты всех целых чисел от 1 до 10\n",
        "i = 1\n",
        "while i <= 10:\n",
        "    print(i ** 2)\n",
        "    i += 1"
      ],
      "metadata": {
        "colab": {
          "base_uri": "https://localhost:8080/"
        },
        "id": "WMbMXXlbHjpk",
        "outputId": "9750b60d-8d3f-4f63-cf1e-5a1ce8a3ef98"
      },
      "execution_count": null,
      "outputs": [
        {
          "output_type": "stream",
          "name": "stdout",
          "text": [
            "1\n",
            "4\n",
            "9\n",
            "16\n",
            "25\n",
            "36\n",
            "49\n",
            "64\n",
            "81\n",
            "100\n"
          ]
        }
      ]
    },
    {
      "cell_type": "markdown",
      "source": [
        "Изначально знвчение переменной i = 1. Условие вхождения в цикл while выполняется. После того, как квадрат числа i выведет на экран, i увеличивается на 1. После того, как i станет больше 10, условие цикла перестанет выполняться и программа завершит работу."
      ],
      "metadata": {
        "id": "GJajEATOIAfK"
      }
    },
    {
      "cell_type": "markdown",
      "source": [
        "**Инструкции управления циклом:**\n",
        "\n",
        "\n",
        " >*  Инструкция **break** прерывает выполнение цикла. Управление передается на следующую инструкцию после тела цикла.\n",
        " >*  Инструкция **continue** прерывает текущую итерацию цикла. Все инструкции после инструкции **continue** до конца блока цикла пропускаются. В цикле for переменной, которая меняется в цикле, присваивается следующее значение из списка и цикл продолжает выполняться с новым значением переменной. В цикле while проверяется условие, заданное в цикле и если оно истинно, то цикл продолжает выполняться с начала блока цикла.\n",
        " >*  Также в циклах while и for можно указать else-блок после основного блока цикла. else-блок в циклах выполняется один раз после завершения работы цикла, но только в случае, если цикл не был прерван инструкцией break.\n",
        "\n",
        "\n",
        "\n",
        "\n",
        "\n"
      ],
      "metadata": {
        "id": "IxvL81d3Iqkv"
      }
    },
    {
      "cell_type": "markdown",
      "source": [
        "**Примеры:**"
      ],
      "metadata": {
        "id": "sgTQmSxnJ3XG"
      }
    },
    {
      "cell_type": "code",
      "source": [
        "#Программа просит ввести число, пока не встретится отрицательное либо 0\n",
        "\n",
        "a = int(input())\n",
        "while a != 0:\n",
        "    if a < 0:\n",
        "        print('Встретилось отрицательное число', a)\n",
        "        break\n",
        "    a = int(input())\n",
        "else:\n",
        "    print('Ни одного отрицательного числа не встретилось')"
      ],
      "metadata": {
        "colab": {
          "base_uri": "https://localhost:8080/"
        },
        "id": "8-AvfOyIKGGx",
        "outputId": "2824bf55-61cd-4796-b299-6eb4624a3129"
      },
      "execution_count": null,
      "outputs": [
        {
          "output_type": "stream",
          "name": "stdout",
          "text": [
            "0\n",
            "Ни одного отрицательного числа не встретилось\n"
          ]
        }
      ]
    },
    {
      "cell_type": "markdown",
      "source": [
        "Если встречается отрицательное число или 0, срабатывает интрукция break, выводится сообщение и программа завершает работу. Если инструкция break не сработала, срабатывает else-блок."
      ],
      "metadata": {
        "id": "hrKazQt-LXMy"
      }
    },
    {
      "cell_type": "code",
      "source": [
        "#Программа определяет длину числа\n",
        "n = int(input())\n",
        "length = 0\n",
        "while True:\n",
        "    length += 1\n",
        "    n //= 10\n",
        "    if n == 0:\n",
        "        break\n",
        "print('Длина числа равна', length)"
      ],
      "metadata": {
        "colab": {
          "base_uri": "https://localhost:8080/"
        },
        "id": "g2bX3wYZLTWb",
        "outputId": "662f25a0-0987-4546-eb97-281f7e8b8245"
      },
      "execution_count": null,
      "outputs": [
        {
          "output_type": "stream",
          "name": "stdout",
          "text": [
            "1000\n",
            "Длина числа равна 4\n"
          ]
        }
      ]
    },
    {
      "cell_type": "markdown",
      "source": [
        "**Бесконечный цикл:**\n",
        "Бесконечный цикл while — это цикл, в котором условие никогда не становится ложным. Это значит, что тело исполняется снова и снова, а цикл никогда не заканчивается.\n",
        "\n"
      ],
      "metadata": {
        "id": "iCp7qcw4My7I"
      }
    },
    {
      "cell_type": "markdown",
      "source": [
        "**Пример:**\n"
      ],
      "metadata": {
        "id": "KKRczYWGM6Bd"
      }
    },
    {
      "cell_type": "code",
      "source": [
        "a = 1\n",
        "\n",
        "while a==1:\n",
        "    b = input('Как тебя зовут?')\n",
        "    print('Привет', b, ', Добро пожаловать')\n",
        "    "
      ],
      "metadata": {
        "colab": {
          "base_uri": "https://localhost:8080/"
        },
        "id": "xL21MFZqM9Q_",
        "outputId": "77c7672e-e2fd-437c-d75c-0be11c6191f7"
      },
      "execution_count": null,
      "outputs": [
        {
          "output_type": "stream",
          "name": "stdout",
          "text": [
            "Как тебя зовут?hh\n",
            "Привет hh , Добро пожаловать\n"
          ]
        }
      ]
    },
    {
      "cell_type": "markdown",
      "source": [
        "Значение переменной *a* нигде не изменяется. Следовательно, условие цикла будет выполняться бесконечно."
      ],
      "metadata": {
        "id": "GREVfCpKNC7z"
      }
    },
    {
      "cell_type": "markdown",
      "source": [
        "\n",
        "\n",
        "###<strong>Цикл с параметром</strong>\n",
        "\n",
        "Цикл *for* в Python используется для перебора последовательностей (списков, кортежей, строк) и других итерируемых объектов. Перебор последовательности называется обходом. \n",
        "Цикл *for* выполняет ту же функцию, что и *while* — повторяет указанные строки кода. **Но в отличие от while, для работы for не требуется никаких условий.**"
      ],
      "metadata": {
        "id": "5cF_M4DPfiYa"
      }
    },
    {
      "cell_type": "markdown",
      "source": [
        "***В цикле for, могут быть использованы те же инструкции, что и в цикле while.***"
      ],
      "metadata": {
        "id": "0nDkgW9k3jEf"
      }
    },
    {
      "cell_type": "markdown",
      "source": [
        "\n",
        "**Синтаксис конструкции:**\n",
        "\n",
        "\n",
        "    for значение in последовательность:\n",
        "        Тело цикла for\n",
        "\n",
        "Цикл продолжается до тех пор, пока мы не достигнем последнего элемента последовательности. Тело цикла for является отдельным блоком кода и отделяется отступом.\n",
        "\n"
      ],
      "metadata": {
        "id": "okLy0Xitm4Jj"
      }
    },
    {
      "cell_type": "markdown",
      "source": [
        "**Примеры использования:**"
      ],
      "metadata": {
        "id": "m-iOci8DnbyK"
      }
    },
    {
      "cell_type": "code",
      "source": [
        "#Программа выводит на экран сумму элементов последовательности\n",
        "numbers = [6, 5, 3, 8, 4, 2, 5, 4, 11]\n",
        "sum = 0\n",
        "\n",
        "for value in numbers:\n",
        "    sum = sum+value\n",
        "\n",
        "print(\"Сумма равна\", sum)"
      ],
      "metadata": {
        "id": "9kXQLJkTniN4"
      },
      "execution_count": null,
      "outputs": []
    },
    {
      "cell_type": "code",
      "source": [
        "#Программа выводит на экран цвета радуги по номерам \n",
        "i = 1\n",
        "for color in 'red', 'orange', 'yellow', 'green', 'cyan', 'blue', 'violet':\n",
        "    print('#', i, ' color of rainbow is ', color, sep = '')\n",
        "    i += 1"
      ],
      "metadata": {
        "colab": {
          "base_uri": "https://localhost:8080/"
        },
        "id": "HcQoIH8mn_w3",
        "outputId": "2fe10df0-a91f-42fd-8803-795546b179ae"
      },
      "execution_count": null,
      "outputs": [
        {
          "output_type": "stream",
          "name": "stdout",
          "text": [
            "#1 color of rainbow is red\n",
            "#2 color of rainbow is orange\n",
            "#3 color of rainbow is yellow\n",
            "#4 color of rainbow is green\n",
            "#5 color of rainbow is cyan\n",
            "#6 color of rainbow is blue\n",
            "#7 color of rainbow is violet\n"
          ]
        }
      ]
    },
    {
      "cell_type": "markdown",
      "source": [
        "**Функция range**\n",
        "Функция *range* используется при работе со строками цикла *for*, а также для создания последовательностей чисел.\n",
        "Для работы функции range указываются 1,2 или 3 числа:\n",
        "\n",
        "\n",
        "\n",
        "*   Первое число — start — с него функция начинает отсчет.По умолчанию равно 0.\n",
        "*  Второе число называется stop и обозначает конец выбранного промежутка чисел.\n",
        "\n",
        "*   Третье число называется step: это шаг, который делает функция при переборе чисел. Можно не указывать шаг,тогда его значение будет равно 1. \n",
        "\n",
        "\n",
        "\n",
        "\n",
        "\n",
        "\n"
      ],
      "metadata": {
        "id": "5_iKOFSZoMso"
      }
    },
    {
      "cell_type": "markdown",
      "source": [
        "**Примеры использования:**"
      ],
      "metadata": {
        "id": "ZEKrMwRZo9dW"
      }
    },
    {
      "cell_type": "code",
      "source": [
        "#Функция выводит квадраты чисел от 0 до 5\n",
        "for i in range(5):  \n",
        "    print(i ** 2)\n",
        "print('Конец цикла')"
      ],
      "metadata": {
        "colab": {
          "base_uri": "https://localhost:8080/"
        },
        "id": "fG2zK_rxpBHc",
        "outputId": "dceb0a48-c5a9-42c0-c02d-c7c103de3d7f"
      },
      "execution_count": null,
      "outputs": [
        {
          "output_type": "stream",
          "name": "stdout",
          "text": [
            "0\n",
            "1\n",
            "4\n",
            "9\n",
            "Конец цикла\n"
          ]
        }
      ]
    },
    {
      "cell_type": "markdown",
      "source": [
        "В данном примере указано только число stop, поэтому шаг == 1, старт ==0."
      ],
      "metadata": {
        "id": "gHrNoERUpN8H"
      }
    },
    {
      "cell_type": "code",
      "source": [
        "for number in range(5,10,2) :  \n",
        "    print(\"I am number : \"+str(number))"
      ],
      "metadata": {
        "id": "R7dt4sc7pgMH"
      },
      "execution_count": null,
      "outputs": []
    },
    {
      "cell_type": "markdown",
      "source": [
        "В этом примере прописаны шаг и старт."
      ],
      "metadata": {
        "id": "MobTTWIhplSy"
      }
    },
    {
      "cell_type": "markdown",
      "source": [
        "**Вложенные циклы:**\n",
        "\n",
        "\n",
        "Циклы *while* и *for* можно как использовать по отдельности, так и комбинировать. Можно вложить цикл *for* внутрь внешнего цикла *while* и наоборот, а также вкладывать циклы одного вида друг в друга. \n",
        "\n",
        "Вложенные циклы работают по следующей схеме: программа сначала сталкивается с внешним циклом и начинает выполнять его условия. Затем запускается внутренний вложенный цикл, который выполняется до своего завершения. Программа будет завершать внутренний цикл и возвращаться к началу внешнего до тех пор, пока последовательность не будет завершена или другой оператор не нарушит этот процесс. "
      ],
      "metadata": {
        "id": "bG-JqPHspvrV"
      }
    },
    {
      "cell_type": "markdown",
      "source": [
        "**Пример вложенного цикла for:**"
      ],
      "metadata": {
        "id": "3CAgGD0qqGPy"
      }
    },
    {
      "cell_type": "code",
      "source": [
        "num_list = [1, 2, 3]\n",
        "alpha_list = ['a', 'b', 'c']\n",
        "for number in num_list:\n",
        "    print(number)\n",
        "    for letter in alpha_list:\n",
        "        print(letter)"
      ],
      "metadata": {
        "id": "dHZXpIJBqL81"
      },
      "execution_count": null,
      "outputs": []
    },
    {
      "cell_type": "markdown",
      "source": [
        "По результату выполнения кода видно, что программа завершает первую итерацию внешнего цикла на цифре 1 и затем запускает завершение внутреннего цикла, печатая *a*, *b*, *c* . Как только внутренний цикл завершен, программа возвращается к началу внешнего цикла и печатает цифру 2, а после снова воспроизводит вложенный цикл."
      ],
      "metadata": {
        "id": "tOpHFk5gqTqm"
      }
    },
    {
      "cell_type": "markdown",
      "source": [
        "**Пример вложенного цикла while:**"
      ],
      "metadata": {
        "id": "vhm2SIcGqeNV"
      }
    },
    {
      "cell_type": "code",
      "source": [
        "i=1\n",
        "while i<=3 :\n",
        "    print(i,\"Outer loop is executed only once\")\n",
        "    j=1\n",
        "    while j<=3:\n",
        "        print(j,\"Inner loop is executed until to completion\")\n",
        "        j+=1\n",
        "    i+=1;"
      ],
      "metadata": {
        "id": "F2s6G5HEqfSX"
      },
      "execution_count": null,
      "outputs": []
    },
    {
      "cell_type": "markdown",
      "source": [
        "**Выход из цикла:**\n",
        "\n",
        "\n",
        "Если нужно пропустить какую-то часть цикла, то прервать его выполнение можно с помощью двух операторов: *break* или *continue*. \n",
        "\n",
        "*Break* позволяет выйти из вложенного цикла сразу во внешний:"
      ],
      "metadata": {
        "id": "sE0xK8zsqq3i"
      }
    },
    {
      "cell_type": "code",
      "source": [
        "for number in range(3) : \n",
        "    print(\"-------------------------------------------\")\n",
        "    print(\"I am outer loop iteration \"+str(number))\n",
        "    for another_number in range(3):\n",
        "        print(\"****************************\")\n",
        "        print(\"I am inner loop iteration \"+str(another_number))\n",
        "        break"
      ],
      "metadata": {
        "id": "LfteFg22rCLn"
      },
      "execution_count": null,
      "outputs": []
    },
    {
      "cell_type": "markdown",
      "source": [
        "Оператор *continue* позволяет вернуться ко внешнему циклу, полностью пропуская вложенный цикл. В коде *continue* ставится в конце внешнего цикла:\n"
      ],
      "metadata": {
        "id": "WEGqXQwyrIOL"
      }
    },
    {
      "cell_type": "code",
      "source": [
        "for number in range(3) :  \n",
        "    print(\"-------------------------------------------\")\n",
        "    print(\"I am outer loop iteration \"+str(number))\n",
        "    continue\n",
        "    for another_number in range(3):\n",
        "        print(\"****************************\")\n",
        "        print(\"I am inner loop iteration \"+str(another_number))\n",
        "        break"
      ],
      "metadata": {
        "colab": {
          "base_uri": "https://localhost:8080/"
        },
        "id": "Iep1nRlvrWCA",
        "outputId": "820693d6-b517-49e8-ce75-ff0f2c51ce4f"
      },
      "execution_count": null,
      "outputs": [
        {
          "output_type": "stream",
          "name": "stdout",
          "text": [
            "-------------------------------------------\n",
            "I am outer loop iteration 0\n",
            "-------------------------------------------\n",
            "I am outer loop iteration 1\n",
            "-------------------------------------------\n",
            "I am outer loop iteration 2\n"
          ]
        }
      ]
    },
    {
      "cell_type": "markdown",
      "source": [
        "В результате мы видим, что отсутствует внутренний цикл for, а повторяется только внешний элемент цикла."
      ],
      "metadata": {
        "id": "N7PT5KkerZwB"
      }
    },
    {
      "cell_type": "markdown",
      "source": [
        "###<strong>Использование</strong>\n",
        "\n",
        "На практике, управляющие конструкции ветвления и цикла чаще всего используются в крмбинации друг с другом.\n",
        "\n",
        "Вот некотрые прмеры использования:"
      ],
      "metadata": {
        "id": "QnxGlYxdsSJd"
      }
    },
    {
      "cell_type": "code",
      "source": [
        "# Дан список чисел, программа ищет НОД каждого из них с введенным числом\n",
        "\n",
        "nums = [12, 86, 44, 24, 73, 19]\n",
        "print(nums)\n",
        "\n",
        "x = int(input(\"Введите второе число для поиска НОД: \"))\n",
        "\n",
        "for num in nums:\n",
        "    temp1, temp2 = num, x\n",
        "    while temp1 != temp2:\n",
        "        if temp1 < temp2:\n",
        "            temp2 -= temp1\n",
        "        else:\n",
        "            temp1 -= temp2\n",
        "\n",
        "    print(\"Числа {} и {}, НОД = {}\".format(num, x, temp1))"
      ],
      "metadata": {
        "id": "BZsoiZo9sn0p"
      },
      "execution_count": null,
      "outputs": []
    },
    {
      "cell_type": "code",
      "source": [
        "#Программа ищет простые числа от 1 до 20\n",
        "for i in range(1, 20):\n",
        "    divisors = 0\n",
        "    j = 2\n",
        "    \n",
        "    while j < i and divisors == 0:\n",
        "        if i % j == 0:\n",
        "            divisors += 1\n",
        "\n",
        "        j += 1\n",
        "\n",
        "    if divisors == 0:\n",
        "        print(i, end=\" \")"
      ],
      "metadata": {
        "colab": {
          "base_uri": "https://localhost:8080/"
        },
        "id": "6OyRLiams1hZ",
        "outputId": "9fce1ebd-cd99-4f1f-da9a-a4e4a5b9caad"
      },
      "execution_count": null,
      "outputs": [
        {
          "output_type": "stream",
          "name": "stdout",
          "text": [
            "1 2 3 5 7 11 13 17 19 "
          ]
        }
      ]
    },
    {
      "cell_type": "markdown",
      "source": [
        "\n",
        "\n",
        "###<strong>Конструкция *match*</strong>\n",
        "\n",
        "Начиная с версии 3.10 в языке Python появилась такая функциональность как pattern matching (сопоставление шаблонов). Pattern matching представляет применение конструкции *match*, которая позволяет сопоставить выражение с некоторым шаблоном. И если выражение соответствует шаблону, то выполняются определенные действия. В этом смысле конструкция *match* похожа на конструкцию *if/else/elif*, которая выполняет определенные действия в зависимости от некоторого условия. Однако функциональность *match* гораздо шире - она также позволяет извлечь данные из составных типов и применить действия к различным частям объектов.\n"
      ],
      "metadata": {
        "id": "CHho8hZxzvNW"
      }
    },
    {
      "cell_type": "markdown",
      "source": [
        "\n",
        "**Синтаксис конструкции:**\n",
        "\n",
        "\n",
        "    match выражение:\n",
        "    case шаблон_1:\n",
        "        действие_1\n",
        "    case шаблон_2:\n",
        "        действие_2\n",
        "    ................\n",
        "    case шаблон_N:\n",
        "        действие_N\n",
        "    case _:\n",
        "        действие_по_умолчанию\n",
        "\n",
        "После ключевого слова *match* идет сравниваемое выражение. И затем после двоеточия на последующих строках располагаются выражения *case*. После каждого выражения *case* указывается шаблон, с которым сравнивается выражение из *match*. После шаблона через двоеточие указываются набор выполняемых действий блока *case*.\n",
        "\n",
        "Конструкция *match* последовательно сравнивает выражение с шаблонами из блоков *case*. И если был найден шаблон из какого-нибудь блока *case* соответствует выражению из *match*, то выполняются инструкции из данного блока *case*.\n",
        "\n"
      ],
      "metadata": {
        "id": "2SU01lMq016s"
      }
    },
    {
      "cell_type": "markdown",
      "source": [
        "**Пример использования:**\n",
        "\n"
      ],
      "metadata": {
        "id": "VV9n80ul1cX9"
      }
    },
    {
      "cell_type": "code",
      "source": [
        "#Пронрамма выврдит на экран приветствие на вебранном языке\n",
        "def print_hello(language):\n",
        "    match language:\n",
        "        case \"russian\":\n",
        "            print(\"Привет\")\n",
        "        case \"english\":\n",
        "            print(\"Hello\")\n",
        "        case \"german\":\n",
        "            print(\"Hallo\")\n",
        " \n",
        " \n",
        "print_hello(\"english\")      \n",
        "print_hello(\"german\")       \n",
        "print_hello(\"russian\")      "
      ],
      "metadata": {
        "id": "iJPExQnh1dNq"
      },
      "execution_count": null,
      "outputs": []
    },
    {
      "cell_type": "code",
      "source": [
        "#Программа производит выбранные арифметические операции \n",
        "def operation(a, b, code):\n",
        "    match code:\n",
        "        case 1:\n",
        "            return a + b\n",
        "        case 2:\n",
        "            return a - b\n",
        "        case 3:\n",
        "            return a * b\n",
        "        case _:\n",
        "            return 0\n",
        " \n",
        " \n",
        "print(operation(10, 5, 1))      \n",
        "print(operation(10, 5, 2))      \n",
        "print(operation(10, 5, 3))      \n",
        "print(operation(10, 5, 4))      "
      ],
      "metadata": {
        "id": "AZNzc3vS12pd"
      },
      "execution_count": null,
      "outputs": []
    },
    {
      "cell_type": "markdown",
      "source": [
        "Как видно в примерах выше, в качестве паттернов/шаблонов, с которыми сравниваются выражения, могут быть использованны любые типы данных."
      ],
      "metadata": {
        "id": "K1-_7Iq52OTy"
      }
    },
    {
      "cell_type": "markdown",
      "source": [
        "\n",
        "\n",
        "###<strong>Операторы обработки исключений</strong>\n",
        "\n",
        "Когда ошибки в программе возникают в процессе написания кода или его тестирования, то код исправляется программистом так, чтобы ошибок не возникало. Однако нередко действия пользователя приводят к тому, что в программе возникает исключение. Например, программа ожидает ввод числа, но человек ввел букву. Попытка преобразовать ее к числу приведет к возбуждению исключения *ValueError*, и программа аварийно завершится.\n",
        "\n",
        "На этот случай в языках программирования, в том числе Python, существует специальный оператор, позволяющий перехватывать возникающие исключения и обрабатывать их так, чтобы программа продолжала работать или корректно завершала свою работу.\n",
        "\n",
        "В Питоне такой перехват выполняет оператор ***try-except***. \"Try\" переводится как \"попытаться\", \"except\" – как исключение. Словами описать его работу можно так: \"Попытаться сделать то-то и то-то, если при этом возникло исключение, то сделать вот это и это.\" Его конструкция похожа на условный оператор с веткой *else*.\n"
      ],
      "metadata": {
        "id": "Nq-iWfz140SW"
      }
    },
    {
      "cell_type": "markdown",
      "source": [
        "**Пример использования:**\n",
        "\n"
      ],
      "metadata": {
        "id": "5jcWm5Xu5H5S"
      }
    },
    {
      "cell_type": "code",
      "source": [
        "#Программа просит ввести целое число\n",
        "n = input(\"Введите целое число: \")\n",
        "try:\n",
        "    n = int(n)\n",
        "    print(\"Удачно\")\n",
        "except:\n",
        "    print(\"Некорректный ввод\")"
      ],
      "metadata": {
        "id": "oj8BdRN25IwR"
      },
      "execution_count": null,
      "outputs": []
    },
    {
      "cell_type": "markdown",
      "source": [
        "Исключительная ситуация может возникнуть в третьей строчке кода, когда значение переменной n преобразуется к целому числу. Если это невозможно, то дальнейшее выполнение выражений в теле try прекращается. В данном случае выражение print(\"Удачно\") выполнено не будет. При этом поток выполнения программы перейдет на ветку except и выполнит ее тело.\n",
        "\n",
        "**Если в теле try исключения не возникает, то тело ветки except не выполняется.**"
      ],
      "metadata": {
        "id": "SHpKkSI05fdI"
      }
    },
    {
      "cell_type": "markdown",
      "source": [
        "Код выше обработает любое исключение. Однако в теле try могут возникать разные исключения, и у каждого из них должен быть свой обработчик. Поэтому более правильным является указание типа исключения после ключевого слова except."
      ],
      "metadata": {
        "id": "JYg-tIfq5qJq"
      }
    },
    {
      "cell_type": "code",
      "source": [
        "try:\n",
        "    a = float(input(\"Введите делимое: \"))\n",
        "    b = float(input(\"Введите делитель: \"))\n",
        "    c = a / b\n",
        "    print(\"Частное: %.2f\" % c)\n",
        "except ValueError:\n",
        "    print(\"Нельзя вводить строки\")\n",
        "except ZeroDivisionError:\n",
        "    print(\"Нельзя делить на ноль\")"
      ],
      "metadata": {
        "id": "vJpS-LTs5ty4"
      },
      "execution_count": null,
      "outputs": []
    },
    {
      "cell_type": "markdown",
      "source": [
        "При выполнении программы исключения могут возникнуть в трех строчках кода: где происходит преобразование введенных значений к вещественным числам и в месте, где происходит деление. В первом случае может возникнуть ValueError, во втором – ZeroDivisionError. Каждый тип исключения обрабатывается своей веткой except."
      ],
      "metadata": {
        "id": "QUlifREj55Ol"
      }
    },
    {
      "cell_type": "markdown",
      "source": [
        "**Ветки finally и else**\n",
        "\n",
        "У оператора обработки исключений, кроме except, могут быть еще ветки *finally* и *else* (не обязательно обе сразу). \n",
        "\n",
        "Тело *finally* выполняется всегда, независимо от того, выполнялись ли блоки except в ответ на возникшие исключения или нет.\n",
        "\n",
        " Тело *else* сработает, если исключений в *try* не было, то есть не было переходов на блоки *except*."
      ],
      "metadata": {
        "id": "x7hidLjv6L8E"
      }
    },
    {
      "cell_type": "markdown",
      "source": [
        "**Пример использования:**"
      ],
      "metadata": {
        "id": "aseVsKR57PvT"
      }
    },
    {
      "cell_type": "code",
      "source": [
        "try:\n",
        "    n = input('Введите целое число: ')\n",
        "    n = int(n)\n",
        "except ValueError:\n",
        "    print(\"Неверный ввод\")\n",
        "else: # когда в блоке try не возникло исключения\n",
        "    print(\"Все нормально. Вы ввели число\", n)\n",
        "finally: # выполняется в любом случае\n",
        "    print(\"Конец программы\")"
      ],
      "metadata": {
        "id": "AzC5q8kd6taT"
      },
      "execution_count": null,
      "outputs": []
    },
    {
      "cell_type": "markdown",
      "source": [
        "В данной программе тело *else* срабатывает, если исключения не возникло.\n",
        "Тело *finally* срабатывает в любом случае."
      ],
      "metadata": {
        "id": "tvzMuHLV62Bx"
      }
    }
  ]
}
{
  "nbformat": 4,
  "nbformat_minor": 0,
  "metadata": {
    "kernelspec": {
      "display_name": "Python 3",
      "language": "python",
      "name": "python3"
    },
    "language_info": {
      "codemirror_mode": {
        "name": "ipython",
        "version": 3
      },
      "file_extension": ".py",
      "mimetype": "text/x-python",
      "name": "python",
      "nbconvert_exporter": "python",
      "pygments_lexer": "ipython3",
      "version": "3.7.3"
    },
    "colab": {
      "name": "Copy of Копия блокнота \"Using Jupyter Notebooks.ipynb\"",
      "provenance": [],
      "collapsed_sections": []
    }
  },
  "cells": [
    {
      "cell_type": "markdown",
      "metadata": {
        "id": "g8b46SWUvuGx"
      },
      "source": [
        "# Тимофей Коновалов 021701 Jupyter Notebook\n",
        "\n"
      ]
    },
    {
      "cell_type": "markdown",
      "metadata": {
        "id": "qZ3M5cCUN6i8"
      },
      "source": [
        "##Определение объекта\n",
        "\n",
        "Объект — это конкретный экземпляр класса. Например, все люди относятся к классу людей, но при этом являются уникальными объектами.\n",
        "\n",
        "Объект cодержит следующие свойства:\n",
        "\n",
        "State – атрибуты объекта представляют его состояние. Оно также отражает свойства объекта.\n",
        "\n",
        "Behavior – метод объекта представляет его поведение.\n",
        "\n",
        "Identity – каждый объект должен быть уникально идентифицирован и позволять взаимодействовать с другими объектами.\n"
      ]
    },
    {
      "cell_type": "code",
      "metadata": {
        "id": "MHI0ogXbvuGy",
        "outputId": "88497ce6-1eed-459a-f7dd-001faa86c77f",
        "colab": {
          "base_uri": "https://localhost:8080/"
        }
      },
      "source": [
        "class Person:\n",
        "  def __init__(self, age, name):\n",
        "    self.age = age\n",
        "    self.name = name\n",
        "  def aging(self):\n",
        "    self.age += 1\n",
        "\n",
        "person = Person(14, \"Ivan\")\n",
        "person.aging()\n",
        "print(person.age)"
      ],
      "execution_count": null,
      "outputs": [
        {
          "output_type": "stream",
          "name": "stdout",
          "text": [
            "15\n"
          ]
        }
      ]
    },
    {
      "cell_type": "markdown",
      "source": [
        "Получение информации о состоянии объекта:"
      ],
      "metadata": {
        "id": "wzN6LHcHQzuo"
      }
    },
    {
      "cell_type": "code",
      "source": [
        "print(id(person)) #id объекта"
      ],
      "metadata": {
        "colab": {
          "base_uri": "https://localhost:8080/"
        },
        "id": "B99LihzPRhPA",
        "outputId": "a20c1ff4-022a-4622-af65-95ca3de74cd6"
      },
      "execution_count": null,
      "outputs": [
        {
          "output_type": "stream",
          "name": "stdout",
          "text": [
            "140131438679568\n"
          ]
        }
      ]
    },
    {
      "cell_type": "code",
      "source": [
        "print(vars(person)) #переменные объекта"
      ],
      "metadata": {
        "colab": {
          "base_uri": "https://localhost:8080/"
        },
        "id": "uMvvD6oZR7bG",
        "outputId": "3c9e58c1-9ad7-484e-b309-d565b429ab9a"
      },
      "execution_count": null,
      "outputs": [
        {
          "output_type": "stream",
          "name": "stdout",
          "text": [
            "{'age': 15, 'name': 'Ivan'}\n"
          ]
        }
      ]
    },
    {
      "cell_type": "markdown",
      "source": [
        "Поскольку в python нет готового встроенного метода для получения методов объекта, можно воспользоваться методами:\n",
        "\n",
        "getattr(obj, name) - для доступа к атрибуту name объекта obj.\n",
        "\n",
        "ismethod(name) - для проверки, является ли объект методом\n",
        "\n",
        "dir(obj) - для доступа ко всем атрибутам объекта obj"
      ],
      "metadata": {
        "id": "JY-D2VrwTtpF"
      }
    },
    {
      "cell_type": "code",
      "source": [
        "import inspect\n",
        "list = [atr for atr in dir(person) if  inspect.ismethod(getattr(person, atr))] #список методов\n",
        "print(list)\n",
        "\n"
      ],
      "metadata": {
        "colab": {
          "base_uri": "https://localhost:8080/"
        },
        "id": "PQw6XkSuUmFw",
        "outputId": "1ac59793-97b8-4cc8-c6a5-8c0b64e97d47"
      },
      "execution_count": null,
      "outputs": [
        {
          "output_type": "stream",
          "name": "stdout",
          "text": [
            "['__init__', 'aging']\n"
          ]
        }
      ]
    },
    {
      "cell_type": "markdown",
      "source": [
        "В данной ситуации у нас есть уникальный объект human класса Person.\n",
        "\n",
        "Этот объект имеет:\n",
        "\n",
        " Состояние - возраст(age) и имя (name)\n",
        " \n",
        " Поведение - старение(метод aging())"
      ],
      "metadata": {
        "id": "_tn-I5hMG_bI"
      }
    },
    {
      "cell_type": "markdown",
      "metadata": {
        "id": "br4ThcjVNBfb"
      },
      "source": [
        "##  Статические атрибуты\n",
        "\n",
        "Статические атрибуты - это атрибуты, которые создаются сразу для всех элементов класса. Для работы со статическими атрибутами необязательно создавать экземпляры класса.\n"
      ]
    },
    {
      "cell_type": "code",
      "source": [
        "class Person:\n",
        "  planet = \"Earth\" #статический атрибут\n",
        "\n",
        "print(Person.planet) #доступ через класс"
      ],
      "metadata": {
        "colab": {
          "base_uri": "https://localhost:8080/"
        },
        "id": "ba_rOzqZgASI",
        "outputId": "2e8d83e1-1b84-419b-ee6e-56ea4ef7b942"
      },
      "execution_count": null,
      "outputs": [
        {
          "output_type": "stream",
          "name": "stdout",
          "text": [
            "Earth\n"
          ]
        }
      ]
    },
    {
      "cell_type": "markdown",
      "source": [
        "Доступ к статическому атрибуту можно получить и через объект."
      ],
      "metadata": {
        "id": "9r4yMsqggiXe"
      }
    },
    {
      "cell_type": "code",
      "source": [
        "person = Person()\n",
        "print(person.planet)"
      ],
      "metadata": {
        "colab": {
          "base_uri": "https://localhost:8080/"
        },
        "id": "p-Vxo7s_grcy",
        "outputId": "ea04dad7-f6da-49fe-f6e8-6781f95cf422"
      },
      "execution_count": null,
      "outputs": [
        {
          "output_type": "stream",
          "name": "stdout",
          "text": [
            "Earth\n"
          ]
        }
      ]
    },
    {
      "cell_type": "markdown",
      "source": [
        "Существует особенность работы со статическими атрибутами, про которую не стоит забывать: если изменить данное значение у объекта, то оно изменится только для данного объекта. Если изменить значение статического атрибута у класса – оно изменится для всех объектов. Если значение атрибута объекта было изменено, оно становится невосприимчивым к изменениям атрибута у класса."
      ],
      "metadata": {
        "id": "-kHgiorAg3i6"
      }
    },
    {
      "cell_type": "code",
      "source": [
        "newPerson = Person()\n",
        "person.planet = \"Mars\" #изменение у конкретного объекта\n",
        "print(person.planet)\n",
        "print(newPerson.planet)\n",
        "Person.planet = \"Venus\" #изменение у класса\n",
        "print(person.planet) #не восприимчив для изменения \n",
        "print(newPerson.planet) #восприимчив для изменения"
      ],
      "metadata": {
        "colab": {
          "base_uri": "https://localhost:8080/"
        },
        "id": "J9Tk6BzDhJet",
        "outputId": "41186302-ebf0-46ef-9af8-e03fce069536"
      },
      "execution_count": null,
      "outputs": [
        {
          "output_type": "stream",
          "name": "stdout",
          "text": [
            "Mars\n",
            "Earth\n",
            "Mars\n",
            "Venus\n"
          ]
        }
      ]
    },
    {
      "cell_type": "markdown",
      "source": [
        "Поскольку для объекта *person* значение статического атрибута было изменено, оно не отреагировало на изменение статического атрибута класса *Person*.\n",
        "\n"
      ],
      "metadata": {
        "id": "wUy9xSQriBmh"
      }
    },
    {
      "cell_type": "markdown",
      "source": [
        "## Создание объекта. Обращение к функциональности класса\n",
        "\n"
      ],
      "metadata": {
        "id": "UO-CnW6YgkBZ"
      }
    },
    {
      "cell_type": "markdown",
      "source": [
        "Создание объекта происходит при помощи конструктора.\n",
        "\n",
        "Обращение к функциональности класса происходит с помощью точки:"
      ],
      "metadata": {
        "id": "8TD_qaGiqhYl"
      }
    },
    {
      "cell_type": "code",
      "source": [
        "class Person:\n",
        "    planet = \"Earth\"\n",
        "    def __init__(self, age, name):\n",
        "        self.name = name    \n",
        "        self.age = age  \n",
        "    def aging(self):\n",
        "      self.age += 1\n",
        "\n",
        "person = Person(16, \"Petr\")  #создание объекта\n",
        "person.aging()  #обращение к методу\n",
        "print(Person.planet) #вывод атрибута класса"
      ],
      "metadata": {
        "id": "gaZB0hCBkCMq",
        "outputId": "404c8a85-788f-48f4-ec12-6876f881cf90",
        "colab": {
          "base_uri": "https://localhost:8080/"
        }
      },
      "execution_count": null,
      "outputs": [
        {
          "output_type": "stream",
          "name": "stdout",
          "text": [
            "Earth\n"
          ]
        }
      ]
    },
    {
      "cell_type": "markdown",
      "source": [
        "## Атрибуты классов"
      ],
      "metadata": {
        "id": "KKNnBxS5lMin"
      }
    },
    {
      "cell_type": "markdown",
      "source": [
        "###Встроенные атрибуты классов\n",
        " Классы Python хранят встроенные атрибуты, к которым можно получить доступ как к любому другому атрибуту данных."
      ],
      "metadata": {
        "id": "bjQPvEqklSsQ"
      }
    },
    {
      "cell_type": "markdown",
      "source": [
        "__ dict __ - словарь, содержащий пространство имен класса.\n",
        "\n",
        "__ doc __ - строка документации класса. None если, документация отсутствует.\n",
        "\n",
        "__ name __ - имя класса.\n",
        "\n",
        "__ module __ - имя модуля, в котором определяется класс.\n",
        "\n",
        "__ bases __ - кортеж, содержащий базовые классы, в порядке их появления. Кортеж будет пустым, если наследование не было.\n",
        "\n",
        "__ mro __ - Порядок разрешения методов в множественном наследовании."
      ],
      "metadata": {
        "id": "S4qi_elOl9Z_"
      }
    },
    {
      "cell_type": "code",
      "source": [
        "class MyClass:\n",
        "    class_attr = \"Class\"\n",
        "\n",
        "    def __init__(self):\n",
        "        self.instance_attr = \"Instance\"\n",
        "\n",
        "myObject = MyClass()\n",
        "print(MyClass.__dict__)"
      ],
      "metadata": {
        "id": "ZiemwNb_mXVT",
        "outputId": "1389226f-430a-484f-8787-a4921c0635e7",
        "colab": {
          "base_uri": "https://localhost:8080/"
        }
      },
      "execution_count": null,
      "outputs": [
        {
          "output_type": "stream",
          "name": "stdout",
          "text": [
            "{'__module__': '__main__', 'class_attr': 'Class', '__init__': <function MyClass.__init__ at 0x7f72e49ed8c0>, '__dict__': <attribute '__dict__' of 'MyClass' objects>, '__weakref__': <attribute '__weakref__' of 'MyClass' objects>, '__doc__': None}\n"
          ]
        }
      ]
    },
    {
      "cell_type": "markdown",
      "source": [
        "Например:"
      ],
      "metadata": {
        "id": "BJRJcwGgoCOV"
      }
    },
    {
      "cell_type": "code",
      "source": [
        "print(MyClass.__dict__['class_attr']) #атрибут класса"
      ],
      "metadata": {
        "id": "OqR2Zp2YnQdx",
        "outputId": "16574d75-1123-416c-d8dc-6f08702fd8b5",
        "colab": {
          "base_uri": "https://localhost:8080/"
        }
      },
      "execution_count": null,
      "outputs": [
        {
          "output_type": "stream",
          "name": "stdout",
          "text": [
            "Class\n"
          ]
        }
      ]
    },
    {
      "cell_type": "code",
      "source": [
        "print(MyClass.__name__) #имя класса"
      ],
      "metadata": {
        "id": "WPsoNVhCnWUn",
        "outputId": "0c269180-be0a-48c5-f46f-8137ffbe8d2f",
        "colab": {
          "base_uri": "https://localhost:8080/"
        }
      },
      "execution_count": null,
      "outputs": [
        {
          "output_type": "stream",
          "name": "stdout",
          "text": [
            "MyClass\n"
          ]
        }
      ]
    },
    {
      "cell_type": "code",
      "source": [
        "print(MyClass.__doc__) #документация класса"
      ],
      "metadata": {
        "id": "-vX-CcgunT6i",
        "outputId": "d16e1a9a-064d-4571-803d-fe2d532555f1",
        "colab": {
          "base_uri": "https://localhost:8080/"
        }
      },
      "execution_count": null,
      "outputs": [
        {
          "output_type": "stream",
          "name": "stdout",
          "text": [
            "None\n"
          ]
        }
      ]
    },
    {
      "cell_type": "code",
      "source": [
        "class MyClass:\n",
        "  '''Пример документации'''\n",
        "  pass\n",
        "\n",
        "print(MyClass.__doc__) #документация класса"
      ],
      "metadata": {
        "colab": {
          "base_uri": "https://localhost:8080/"
        },
        "id": "5oaf7nldNqtH",
        "outputId": "6dfcd79d-3096-44d7-a961-40eb7bb12a1c"
      },
      "execution_count": null,
      "outputs": [
        {
          "output_type": "stream",
          "name": "stdout",
          "text": [
            "Пример документации\n"
          ]
        }
      ]
    },
    {
      "cell_type": "markdown",
      "source": [
        "###Где хранятся атрибуты класса и объекта"
      ],
      "metadata": {
        "id": "B9VWlgrwojv5"
      }
    },
    {
      "cell_type": "markdown",
      "source": [
        "Python не был бы Python без четко определенного и настраиваемого поведения атрибутов. Атрибуты в Python хранятся во встроенном атрибуте с именем __ dict __ в виде словаря. Получить доступ к нему можно следующим образом:"
      ],
      "metadata": {
        "id": "DSmLuiJ9olvM"
      }
    },
    {
      "cell_type": "code",
      "source": [
        "class MyClass:\n",
        "    class_attr = \"Class\"\n",
        "\n",
        "    def __init__(self):\n",
        "        self.instance_attr = \"Instance\"\n",
        "\n",
        "myObject = MyClass()\n",
        "print(myObject.__dict__) #атрибут объекта\n",
        "print(MyClass.__dict__['class_attr']) #атрибут класса\n",
        "print(myObject.class_attr) #атрибут класса\n",
        "print(myObject.instance_attr) #атрибут объекта "
      ],
      "metadata": {
        "id": "LNrJpO2soqsu",
        "outputId": "3478cf58-e13e-4a52-b6cc-84182d3cd5e5",
        "colab": {
          "base_uri": "https://localhost:8080/"
        }
      },
      "execution_count": null,
      "outputs": [
        {
          "output_type": "stream",
          "name": "stdout",
          "text": [
            "{'instance_attr': 'Instance'}\n",
            "Class\n",
            "Class\n",
            "Instance\n"
          ]
        }
      ]
    },
    {
      "cell_type": "markdown",
      "source": [
        "###Переменные объекта"
      ],
      "metadata": {
        "id": "VcuJPMmxqBCt"
      }
    },
    {
      "cell_type": "markdown",
      "source": [
        "Переменные объекта предназначены для данных, уникальных для каждого объекта, а переменные класса - для атрибутов и методов, общих для всех объектов.\n",
        "\n",
        "Python вызывает специальный метод __ init__(), который называют конструктором класса, каждый раз при создании нового объекта.\n",
        "\n"
      ],
      "metadata": {
        "id": "CWo4xBjZqC7H"
      }
    },
    {
      "cell_type": "code",
      "source": [
        "class Dog:\n",
        "\n",
        "    # атрибут класса \n",
        "    # общий для всех объектов\n",
        "    kind = 'canine'\n",
        "    def __init__(self, name):\n",
        "        # переменная объекта\n",
        "        # уникальна для каждого объекта\n",
        "        self.name = name\n",
        "\n",
        "firstDog = Dog('Fido')\n",
        "secondDog = Dog('Buddy')"
      ],
      "metadata": {
        "id": "t7e6DyvjqZz8"
      },
      "execution_count": null,
      "outputs": []
    },
    {
      "cell_type": "markdown",
      "source": [
        "Переменная класса *kind* будет общей для всех объектов класса *Dog*"
      ],
      "metadata": {
        "id": "XQos3Au-rFKI"
      }
    },
    {
      "cell_type": "code",
      "source": [
        "print(firstDog.kind)\n",
        "print(secondDog.kind)    "
      ],
      "metadata": {
        "id": "5bp6JHRBq4Kn",
        "outputId": "96a44ade-10d8-4fa7-b255-15904421eade",
        "colab": {
          "base_uri": "https://localhost:8080/"
        }
      },
      "execution_count": null,
      "outputs": [
        {
          "output_type": "stream",
          "name": "stdout",
          "text": [
            "canine\n",
            "canine\n"
          ]
        }
      ]
    },
    {
      "cell_type": "markdown",
      "source": [
        "Переменная объекта *name* будет уникальна \n",
        "для каждого из объектов класса *Dog*"
      ],
      "metadata": {
        "id": "DE9qSJNmrS7V"
      }
    },
    {
      "cell_type": "code",
      "source": [
        "print(firstDog.name)\n",
        "print(secondDog.name)    "
      ],
      "metadata": {
        "id": "vMQi9f7kq8P-",
        "outputId": "40362e35-5b48-409f-df54-aa88da1e0ccc",
        "colab": {
          "base_uri": "https://localhost:8080/"
        }
      },
      "execution_count": null,
      "outputs": [
        {
          "output_type": "stream",
          "name": "stdout",
          "text": [
            "Fido\n",
            "Buddy\n"
          ]
        }
      ]
    },
    {
      "cell_type": "markdown",
      "source": [
        "Общие данные могут иметь неожиданный эффект при использовании изменяемых объектов, таких как списки и словари. Например, список *tricks* (трюки, которые может делать отдельная собака) в примере ниже не следует использовать как переменную класса, потому что для всех объектов класса *Dog* будет использоваться только один атрибут данных tricks:"
      ],
      "metadata": {
        "id": "L_vGnvHOsUc7"
      }
    },
    {
      "cell_type": "code",
      "source": [
        "class Dog:\n",
        "    tricks = []\n",
        "    def __init__(self, name):\n",
        "        self.name = name\n",
        "    def add_trick(self, trick):\n",
        "        self.tricks.append(trick)\n",
        "\n",
        "firstDog = Dog('Fido')\n",
        "secondDog = Dog('Buddy')\n",
        "firstDog.add_trick('roll over')\n",
        "secondDog.add_trick('play dead')\n",
        "\n",
        "\n",
        "print(firstDog.tricks)"
      ],
      "metadata": {
        "id": "S5qZdeZis1tn",
        "outputId": "4de26c35-8abd-4975-a7db-6f00b8d1d7d8",
        "colab": {
          "base_uri": "https://localhost:8080/"
        }
      },
      "execution_count": null,
      "outputs": [
        {
          "output_type": "stream",
          "name": "stdout",
          "text": [
            "['roll over', 'play dead']\n"
          ]
        }
      ]
    },
    {
      "cell_type": "markdown",
      "source": [
        "Правильный дизайн класса должен использовать *tricks* не как переменную класса, а как переменную объекта:"
      ],
      "metadata": {
        "id": "a8dEjoT0tKNl"
      }
    },
    {
      "cell_type": "code",
      "source": [
        "class Dog:\n",
        "    def __init__(self, name):\n",
        "        self.name = name\n",
        "        self.tricks = []  # создает новый пустой список трюков для каждой собаки\n",
        "\n",
        "    def add_trick(self, trick):\n",
        "        self.tricks.append(trick)\n",
        "\n",
        "firstDog = Dog('Fido')\n",
        "secondDog = Dog('Buddy')\n",
        "firstDog.add_trick('roll over')\n",
        "secondDog.add_trick('play dead')\n",
        "print(firstDog.tricks)\n",
        "print(secondDog.tricks)\n"
      ],
      "metadata": {
        "id": "VCQfGKe3tXpm",
        "outputId": "69e46835-855e-48fd-8d11-afb9db3ddc28",
        "colab": {
          "base_uri": "https://localhost:8080/"
        }
      },
      "execution_count": null,
      "outputs": [
        {
          "output_type": "stream",
          "name": "stdout",
          "text": [
            "['roll over']\n",
            "['play dead']\n"
          ]
        }
      ]
    },
    {
      "cell_type": "markdown",
      "source": [
        "Если одно и то же имя атрибута встречается как в объекте, так и в самом классе, то поиск атрибута определяет приоритет объекта:"
      ],
      "metadata": {
        "id": "QQ9miewOuGGS"
      }
    },
    {
      "cell_type": "code",
      "source": [
        "class Warehouse:\n",
        "  purpose = 'storage'\n",
        "  region = 'west'\n",
        "\n",
        "w1 = Warehouse()\n",
        "print(w1.purpose, w1.region)\n",
        "\n",
        "w2 = Warehouse()\n",
        "w2.region = 'east'\n",
        "print(w2.purpose, w2.region)"
      ],
      "metadata": {
        "id": "lJv1swbHuHZV",
        "outputId": "923b6944-0c98-4d4d-dbec-9c550721e13b",
        "colab": {
          "base_uri": "https://localhost:8080/"
        }
      },
      "execution_count": null,
      "outputs": [
        {
          "output_type": "stream",
          "name": "stdout",
          "text": [
            "storage west\n",
            "storage east\n"
          ]
        }
      ]
    },
    {
      "cell_type": "markdown",
      "source": [
        "На атрибуты данных класса могут ссылаться как методы, так и обычные пользователи - \"клиенты\" объекта. Другими словами, классы не могут использоваться для реализации чисто абстрактных типов данных. Фактически, ничто в Python не позволяет принудительно скрывать данные - все основано на соглашении.\n",
        "\n",
        "Клиенты должны использовать переменные класса с осторожностью - клиенты могут испортить инварианты, поддерживаемые методами, изменив их атрибуты данных. Обратите внимание, что клиенты могут добавлять свои собственные атрибуты данных к объекту, не влияя на достоверность методов, до тех пор, пока избегаются конфликты имен - опять же, соглашение об именовании может сэкономить здесь много головной боли.\n",
        "\n",
        "В Python нет сокращений для ссылки на атрибуты данных или другие методы изнутри методов. Это повышает удобочитаемость методов: нет возможности путать локальные переменные и переменные объекта при просмотре метода.\n",
        "\n",
        "Вместо использования привычной точечной нотации для доступа к атрибутам можно использовать встроенные функции:\n",
        "\n",
        "getattr(obj, name, default) - для доступа к атрибуту name объекта класса obj.\n",
        "\n",
        "object - объект, значение атрибута которого требуется получить\n",
        "\n",
        "name - имя атрибута объект, должно быть строкой\n",
        "\n",
        "default - значение по умолчанию, которое будет возвращено, если имя атрибута name отсутствует.\n",
        "_______________________________________________________________________________\n",
        "hasattr(obj, name) - проверить, есть ли в классе obj атрибут name.\n",
        "\n",
        "setattr(obj, name, value) - задать атрибут name со значением value. Если \n",
        "атрибут не существует, он будет создан.\n",
        "\n",
        "delattr(obj, name) - удалить атрибут name из объекта класса obj."
      ],
      "metadata": {
        "id": "_qJ9vZtMuWv6"
      }
    },
    {
      "cell_type": "markdown",
      "source": [
        "### Проверка принадлежности объекта к классу"
      ],
      "metadata": {
        "id": "XyRWqR9BvN6g"
      }
    },
    {
      "cell_type": "markdown",
      "source": [
        "Функция isinstance() вернет True, если проверяемый объект object является объектом указанного класса (классов) или его подкласса (прямого, косвенного или виртуального).\n",
        "\n",
        "Если объект object не является объектом данного типа, то функция всегда возвращает False.\n",
        "\n",
        "Функцией isinstance() можно проверить класс, кортеж с классами, либо рекурсивный кортеж кортежей. Другие типы последовательностей аргументом classinfo не поддерживаются.\n",
        "\n",
        "Если аргумент classinfo не является классом, либо кортежем с классами, а с версии Python 3.10 записью, объединяющей нескольких типов (например int | str), то возбуждается исключение TypeError."
      ],
      "metadata": {
        "id": "3MB8ML7BvSGk"
      }
    },
    {
      "cell_type": "code",
      "source": [
        "class Animal:\n",
        "    def __init__(self):\n",
        "        self.kind = \"animal\"\n",
        "\n",
        "class Dog(Animal):\n",
        "    def __init__(self):\n",
        "        super().__init__()\n",
        "\n",
        "animal = Animal()\n",
        "dog = Dog()"
      ],
      "metadata": {
        "id": "Z4UF7Cecv0TD"
      },
      "execution_count": null,
      "outputs": []
    },
    {
      "cell_type": "code",
      "source": [
        "isinstance(dog, Dog)"
      ],
      "metadata": {
        "id": "KnYXetp-xpnO",
        "outputId": "bd3c9bf7-2b2e-4db9-a56e-5c40398897d7",
        "colab": {
          "base_uri": "https://localhost:8080/"
        }
      },
      "execution_count": null,
      "outputs": [
        {
          "output_type": "execute_result",
          "data": {
            "text/plain": [
              "True"
            ]
          },
          "metadata": {},
          "execution_count": 22
        }
      ]
    },
    {
      "cell_type": "code",
      "source": [
        "isinstance(dog, Animal)"
      ],
      "metadata": {
        "id": "vINLleAuxnXb",
        "outputId": "a003804a-b6fb-4b36-d6ba-a1bfdc847d7a",
        "colab": {
          "base_uri": "https://localhost:8080/"
        }
      },
      "execution_count": null,
      "outputs": [
        {
          "output_type": "execute_result",
          "data": {
            "text/plain": [
              "True"
            ]
          },
          "metadata": {},
          "execution_count": 23
        }
      ]
    },
    {
      "cell_type": "code",
      "source": [
        "print(isinstance(animal, Dog))\n"
      ],
      "metadata": {
        "id": "cItei5fIxhhV",
        "outputId": "5fed1b38-c1d8-4c91-98d2-47a92151c2ba",
        "colab": {
          "base_uri": "https://localhost:8080/"
        }
      },
      "execution_count": null,
      "outputs": [
        {
          "output_type": "stream",
          "name": "stdout",
          "text": [
            "False\n"
          ]
        }
      ]
    },
    {
      "cell_type": "code",
      "source": [
        "print(isinstance(animal, Animal))"
      ],
      "metadata": {
        "id": "1miVIGXsxbu0",
        "outputId": "08cf9979-47d9-467a-ad8a-acce6cfdabb3",
        "colab": {
          "base_uri": "https://localhost:8080/"
        }
      },
      "execution_count": null,
      "outputs": [
        {
          "output_type": "stream",
          "name": "stdout",
          "text": [
            "True\n"
          ]
        }
      ]
    },
    {
      "cell_type": "markdown",
      "source": [
        "Функция type() с одним аргументом object возвращает тип объекта - точный класс, из которого был создан переданный аргумент object. Мы знаем, что все целые числа в Python являются типом int. Это означает, что проверка объекта type(3) == object в точности эквивалентна проверке объекта int == object, что однозначно неверно.\n",
        "\n",
        "В Python, как это известно - все является объектом, следовательно дочерний класс (в данном случае int) наследуется от родительского (в данном случае object) и считается, что такое поведение имеет отношение is a.\n",
        "\n",
        "Существует аналогичная функция issubclass() для проверки того же отношения, только для класса вместо объекта. В большинстве случаев isinstance(x, y) == issubclass(type(x), y).\n",
        "\n",
        "Классы всегда имеют одну и ту же ссылку в ​​одной сессии интерпретатора, поэтому можно использовать оператор is вместо оператора == для сравнения. Таким образом, type is int будет истинным."
      ],
      "metadata": {
        "id": "O7UIqauWw2er"
      }
    },
    {
      "cell_type": "code",
      "source": [
        "print(type(dog) == Animal)"
      ],
      "metadata": {
        "id": "xglXnSw-xtfL",
        "outputId": "7b37d968-7ad9-4e88-e654-89df4abc0d82",
        "colab": {
          "base_uri": "https://localhost:8080/"
        }
      },
      "execution_count": null,
      "outputs": [
        {
          "output_type": "stream",
          "name": "stdout",
          "text": [
            "False\n"
          ]
        }
      ]
    },
    {
      "cell_type": "code",
      "source": [
        "print(type(dog))"
      ],
      "metadata": {
        "id": "7J8JVqcQx7qI",
        "outputId": "bd319552-a64e-4dff-d26a-a9238f19b2db",
        "colab": {
          "base_uri": "https://localhost:8080/"
        }
      },
      "execution_count": null,
      "outputs": [
        {
          "output_type": "stream",
          "name": "stdout",
          "text": [
            "<class '__main__.Dog'>\n"
          ]
        }
      ]
    },
    {
      "cell_type": "code",
      "source": [
        "print(type(dog) == Dog)"
      ],
      "metadata": {
        "id": "sFYtrWp0x_mo",
        "outputId": "8980209a-7470-4b86-db23-543767132732",
        "colab": {
          "base_uri": "https://localhost:8080/"
        }
      },
      "execution_count": null,
      "outputs": [
        {
          "output_type": "stream",
          "name": "stdout",
          "text": [
            "True\n"
          ]
        }
      ]
    },
    {
      "cell_type": "code",
      "source": [
        "print(issubclass(type(dog), Animal))"
      ],
      "metadata": {
        "id": "-iNODRmzyD5C",
        "outputId": "8127fb7b-d804-4471-e804-0da72c5328c6",
        "colab": {
          "base_uri": "https://localhost:8080/"
        }
      },
      "execution_count": null,
      "outputs": [
        {
          "output_type": "stream",
          "name": "stdout",
          "text": [
            "True\n"
          ]
        }
      ]
    },
    {
      "cell_type": "markdown",
      "source": [
        "###Класс object. Строковое представление объекта"
      ],
      "metadata": {
        "id": "BjP2cIZSyNsC"
      }
    },
    {
      "cell_type": "markdown",
      "source": [
        "Начиная с 3-й версии в языке программирования Python все классы неявно имеют один общий суперкласс - object и все классы по умолчанию наследуют его методы.\n",
        "\n",
        "Одним из наиболее используемых методов класса object является метод __ str __(). Когда необходимо получить строковое представление объекта или вывести объект в виде строки, то Python как раз вызывает этот метод. И при определении класса хорошей практикой считается переопределение этого метода.\n",
        "\n",
        "К примеру, возьмем класс Person и выведем его строковое представление:"
      ],
      "metadata": {
        "id": "HQSuRDUPyP6j"
      }
    },
    {
      "cell_type": "code",
      "source": [
        "class Person:\n",
        "    def __init__(self, name, age):\n",
        "        self.name = name  # устанавливаем имя\n",
        "        self.age = age  # устанавливаем возраст\n",
        " \n",
        "    def display_info(self):\n",
        "        print(f\"Name: {self.name}  Age: {self.age}\")\n",
        " \n",
        " \n",
        "person = Person(\"Tom\", 23)\n",
        "print(person)"
      ],
      "metadata": {
        "id": "xNFjcmHgyVuh",
        "outputId": "bb939d6a-d9e2-4e1f-d586-ddf5f062d0b7",
        "colab": {
          "base_uri": "https://localhost:8080/"
        }
      },
      "execution_count": null,
      "outputs": [
        {
          "output_type": "stream",
          "name": "stdout",
          "text": [
            "<__main__.Person object at 0x7f72e1fa1090>\n"
          ]
        }
      ]
    },
    {
      "cell_type": "markdown",
      "source": [
        "Это не очень информативная информация об объекте. Мы, конечно, можем выйти из положения, определив в классе Person дополнительный метод, который выводит данные объекта - в примере выше это метод *display_info*.\n",
        "\n",
        "Но есть и другой выход - определим в классе *Person* метод __ str __() и метод __repr __()(по два подчеркивания с каждой стороны):"
      ],
      "metadata": {
        "id": "jLaoleTOyiJv"
      }
    },
    {
      "cell_type": "code",
      "source": [
        "class Person:\n",
        "    def __init__(self, name, age):\n",
        "        self.name = name  # устанавливаем имя\n",
        "        self.age = age  # устанавливаем возраст\n",
        " \n",
        "    def display_info(self):\n",
        "        print(self.__str__())\n",
        "        print(self.__repr__())\n",
        " \n",
        "    def __str__(self):\n",
        "        return f\"Name: {self.name}  Age: {self.age}\"\n",
        "\n",
        "    def __repr__(self):\n",
        "        return f\"Person(Name={self.name}, Age={self.age})\"\n",
        " \n",
        " \n",
        "person = Person(\"Tom\", 23) \n",
        "person.display_info()  "
      ],
      "metadata": {
        "id": "A_COUqqHynqM",
        "outputId": "5e72815e-1b2e-467c-f634-ee94b536b340",
        "colab": {
          "base_uri": "https://localhost:8080/"
        }
      },
      "execution_count": null,
      "outputs": [
        {
          "output_type": "stream",
          "name": "stdout",
          "text": [
            "Name: Tom  Age: 23\n",
            "Person(Name=Tom, Age=23)\n"
          ]
        }
      ]
    },
    {
      "cell_type": "markdown",
      "source": [
        "Метод __ str __ должен возвращать строку. И в данном случае мы возвращаем базовую информацию о человеке. Если нам потребуется использовать эту информацию в других методах класса, то мы можем использовать выражение self.__ str __()"
      ],
      "metadata": {
        "id": "VTsRq0eDy1ya"
      }
    },
    {
      "cell_type": "markdown",
      "source": [
        "Также существую методы:\n",
        "\n",
        "Отрицание -a   __ neg __(a)\n",
        "\n",
        "“Не” отрицание +a   __ pos __(a)\n",
        "\n",
        "Модуль abs(a) __abs __(a)\n",
        "\n",
        "Инверсия a ~ b __ invert__(a, b)\n",
        "\n",
        "Сложение a + b   __ add __(a, b)\n",
        "\n",
        "Создания комплексного числа __ complex__(a)\n",
        "\n",
        "Возврат целочисленного числа, связанного с объектом __index __(a)\n",
        "\n",
        "Возврат значения, если __ index__(a) не определён __ trunc__(a)\n",
        "\n",
        "Наибольшее целое число, не более данного числа __ floor__(a)\n",
        "\n",
        "Наименьшее целое число, не менее данного числа __ ceil__(a)\n",
        "\n",
        "\n",
        "Вычитание a - b  __ sub __(a, b)\n",
        "\n",
        "Умножение a * b __ mul __(a, b)\n",
        "\n",
        "Деление a / b  __ truediv  __(a, b)\n",
        "\n",
        "Целочисленное деление a // b __ floordiv__(a, b)\n",
        "\n",
        "Остаток от деления a % b __ mod__(a, b)\n",
        "\n",
        "Возведение в степень a ** b __ pow__(a, b)\n",
        "\n",
        "Идентификация a is b __ is__(a, b)\n",
        "\n",
        "Идентификация a is not b __ is_not__(a, b)\n",
        "\n",
        "Проверка на вхождение obj in seq __ contains__(seq, obj)\n",
        "\n",
        "Преобразование в логический тип bool(obj) __ truth__(obj)\n",
        "\n",
        "Равенство a == b __ eq__(a, b)\n",
        "\n",
        "Неравенство a != b __ ne__(a, b)\n",
        "\n",
        "Сравнение a < b __ lt__(a, b)\n",
        "\n",
        "Сравнение a > b __ gt__(a, b)\n",
        "\n",
        "Сравнение a <= b __ le__(a, b)\n",
        "\n",
        "Сравнение a >= b __ ge__(a, b)\n",
        "\n",
        "Доступ по индексу obj[k] __ getitem__(obj, k)\n",
        "\n",
        "Присвоение по индексу obj[k] = v __ setitem__(obj, k, v)\n",
        "\n",
        "Удаление по индексу del obj[k] __ delitem__(obj, k)\n",
        "\n",
        "Срез seq[i:j] __ getitem__(seq, slice(i, j))\n",
        "\n",
        "Присвоение срезу seq[i:j] = values __ setitem__(seq, slice(i, j), values)\n",
        "\n",
        "Удаление среза del seq[i:j] __ delitem__(seq, slice(i, j))\n",
        "\n",
        "Конкатенация seq1 + seq2 __ concat__(seq1, seq2)\n",
        "\n",
        "Побитовый сдвиг влево a << 3  __lshift __(a)\n",
        "\n",
        "Побитовый сдвиг право a >> 3  __rshift __(a)\n",
        "\n",
        "Побитовый оператор и a & b __and __(a, b)\n",
        "\n",
        "Побитовый оператор или a | b  __or __(a, b)\n",
        "\n",
        "Побитовый оператор xor a ^ b __xor __(a, b)\n",
        "\n",
        "Преобразование типов __ int__(a), __ float__(a)\n",
        "\n",
        "Вызывается до создания объекта __ new__(cls, *args, **kwargs)\n",
        "\n",
        "Присвоение атрибута объекта(также этот метод вызывается во время изменения атрибута объекта) __setattr __(self, name, value)\n",
        "\n",
        "Удаление атрибута объекта(также этот метод вызывается во время удаления атрибута объекта) __delattr __(self, name)\n",
        "\n",
        "Получения хеша объекта(можно использовать для сравнения) __ hash__(a)\n",
        "\n",
        "Форматирование строки (возвращаемое значние должно быть строковым объектом)__format __(self, format_spec)\n",
        "\n",
        "Метод, автоматически вызываемый при попытке получить значение объекта(можно контролировать доступ таким образом) __getattribute __ (self, name)\n",
        "\n",
        "Возвращение объекта байтов __ bytes__(self)\n",
        "\n",
        "Метод, автоматически вызываемый во время обращения к несуществуемому атрибуту объекта __getattr __(self, name)\n",
        "\n",
        "Возвращает количество элементов в контейнере  __ len __ (self)\n",
        "\n",
        "Метод, всегда возвращающий true, если не переопределены методы __ bool __(self), __ len __(self). Иначе вызывет __ bool __(self) или __ len __(self), если не переопределён __bool __(self).\n",
        "\n",
        "Ограничивание допустимого набора имен атрибутов объекта только перечисленными именами. Поскольку атрибуты теперь фиксированы, больше нет необходимости хранить атрибуты в словаре экземпляра, поэтому атрибут __dict__ удаляется (если только базовый класс уже не имеет его; он также может быть добавлен обратно подклассом, который не имеет __slots__). При использовании атрибута __slots__ атрибуты хранятся в заранее определенных местах в массиве. Скорость поиска атрибута увеличивается. __slots __()\n",
        "\n",
        "Метод, возвращающий размер объекта в байтах __sizeof __(self)\n",
        "\n",
        "Определяет поведение при доступе к элементу, используя синтаксис self[key]. __getitem __(self, key)\n",
        "\n",
        "Определяет поведение при присваивании значения элементу, используя синтаксис self[key] = value  __setitem __(self, key, value)\n",
        "\n",
        "Определяет поведение при удалении элемента __delitem __(self, key)\n",
        "\n",
        "Должен вернуть итератор для контейнера __iter __(self)\n",
        "\n",
        "Возвращает обратную версию последовательности(если список или кортеж) __reversed __(self)\n",
        "\n",
        "Предназначен для проверки принадлежности элемента с помощью in и not in __contains __ (self, item)\n",
        "\n",
        "Используется при наследовании от dict. Определяет поведение для для каждого случая, когда пытаются получить элемент по несуществующему ключу __missing __ (self, key)\n",
        "\n",
        "Увеличение +=  __ iadd__(self, other)\n",
        "\n",
        "Уменьшение -= __ isub__(self, other)\n",
        "\n",
        "Умножение *= __ imul__(self, other)\n",
        "\n",
        "Деление /= __ itruediv__(self, other)\n",
        "\n",
        "Целочисленное деление //= __ ifloordiv__(self, other)\n",
        "\n",
        "Остаток от деления %= __ imod__(self, other)\n",
        "\n",
        "Возведение в степень **= __ ipow__(self, other)\n",
        "\n",
        "Побитовый сдвиг влево <<= __ ilshift__(self, other)\n",
        "\n",
        "Побитовый сдвиг вправо >>= __ irshift__(self, other)\n",
        "\n",
        "Побитовый оператор и &= __ iand__(self, other)\n",
        "\n",
        "Побитовый оператор xor  ^= __ ixor__(self, other)\n",
        "\n",
        "Побитовый оператор или |= __ ior__(self, other)\n",
        "\n",
        "__ radd __ и подобные методы вызываются только в том случае, если левый операнд не поддерживает соответствующую операцию(__ add__) и операнды имеют разные типы:\n",
        "\n",
        "Сложение __ radd__(self, other)\n",
        "\n",
        "Вычитание __ rsub__(self, other)\n",
        "\n",
        "Умножение __ rmul__(self, other)\n",
        "\n",
        "Деление __ rtruediv__(self, other)\n",
        "\n",
        "Целочисленное деление __ rfloordiv__(self, other)\n",
        "\n",
        "Остаток от деления __ rmod__(self, other)\n",
        "\n",
        "Возведение в степень __ rpow__(self, other)¶\n",
        "\n",
        "Побитовый сдвиг влево __ rlshift__(self, other)\n",
        "\n",
        "Побитовый сдвиг вправо __ rrshift__(self, other)\n",
        "\n",
        "Побитовая операци и __ rand__(self, other)\n",
        "\n",
        "Побитовая операция xor __ rxor__(self, other)\n",
        "\n",
        "Побитовая операция или __ ror__(self, other)\n",
        "\n",
        "Метод выполняет работу по открытию ресурсов для объекта, таких как файл или сокет __ enter__(self)\n",
        "\n",
        "Метод использвуется для освобождения ресурсов и выхода из контекста __ exit__(self, exc_type, exc_value, traceback)\n",
        "\n",
        "Метод возвращает итератор, используется только для awaitable объектов __ await__(self) \n",
        "\n",
        "Метод возвращает асинхронный итерируемый объект __ aiter__(self)\n",
        "\n",
        "Метод возвращает следующее значение итератора в результате awaitable __ anext__(self)\n",
        "\n",
        "Методы __ aenter__(self) и __ aexit __ (self, exc_type, exc_value, traceback) отличаются от __ enter__(self) и __ exit __(self, exc_type, exc_value, traceback) только тем, что работают с awaitable объектами"
      ],
      "metadata": {
        "id": "VmWIUrR8bXV1"
      }
    },
    {
      "cell_type": "markdown",
      "source": [
        "Например:"
      ],
      "metadata": {
        "id": "_rBmMf_uenrC"
      }
    },
    {
      "cell_type": "code",
      "source": [
        "class MyContextManager(object):\n",
        "    \n",
        "    def __enter__(self):\n",
        "        print('enter')\n",
        "        return self\n",
        "    \n",
        "    def __exit__(self, exc_type, exc_value, traceback):\n",
        "        print('exit')\n",
        "        \n",
        "    \n",
        "\n",
        "with MyContextManager() as manager:  \n",
        "    print(manager.__class__.__name__) "
      ],
      "metadata": {
        "colab": {
          "base_uri": "https://localhost:8080/"
        },
        "id": "Q8YxmRdZ7KUD",
        "outputId": "7e0c0ecb-0f0c-40c2-dd6e-1d79879a0b6c"
      },
      "execution_count": null,
      "outputs": [
        {
          "output_type": "stream",
          "name": "stdout",
          "text": [
            "enter\n",
            "MyContextManager\n",
            "exit\n"
          ]
        }
      ]
    },
    {
      "cell_type": "markdown",
      "source": [
        "Асинхронные итерируемые объекты:"
      ],
      "metadata": {
        "id": "fnYUsbsA_4PY"
      }
    },
    {
      "cell_type": "code",
      "source": [
        "class Reader:\n",
        "    async def readline(self):\n",
        "        ...\n",
        "\n",
        "    def __aiter__(self):\n",
        "        return self\n",
        "\n",
        "    async def __anext__(self):\n",
        "        val = await self.readline()\n",
        "        if val == b'':\n",
        "            raise StopAsyncIteration\n",
        "        return val"
      ],
      "metadata": {
        "id": "QtFEZ4nb_9F5"
      },
      "execution_count": null,
      "outputs": []
    },
    {
      "cell_type": "code",
      "source": [
        "class Person:\n",
        "    def __init__(self, name, age):\n",
        "        self.name = name  # устанавливаем имя\n",
        "        self.age = age  # устанавливаем возраст\n",
        "    \n",
        "    def __getattr__(self, name):\n",
        "      print(str(name) + \" does not exist\")\n",
        "\n",
        "    def __bool__(self):\n",
        "      return self.age < 10\n",
        "\n",
        "    def __str__(self):\n",
        "        return f\"Name: {self.name}  Age: {self.age}\"\n",
        "   \n",
        "    def __add__(self, other):\n",
        "      return self.age + other.age #сложение возрастов self и other\n",
        "\n",
        "    def __hash__(self): \n",
        "      return hash((self.name, self.age)) #получение хеша\n",
        "\n",
        "    def __format__(self):\n",
        "      return (\"My Name is {0}\".format(self.name)) #форматирование строки\n",
        "\n",
        "    def __sub__(self, other):\n",
        "      return self.age - other.age #вычитание возрастов self и other\n",
        "\n",
        "    def __mul__(self, other):\n",
        "      return self.age * other.age #умножение возрастов self и other\n",
        "\n",
        "    def __truediv__(self, other):\n",
        "      return self.age / other.age #деление возрастов self и other\n",
        "\n",
        "    def __floordiv__(self, other):\n",
        "      return self.age // other.age #целочисленное деление возрастов self и other\n",
        "\n",
        "    def __pow__(self, other):\n",
        "      return self.age**other.age #возведение возраста self в степень возраста other\n",
        "\n",
        "    def __mod__(self, other):\n",
        "      return self.age % other.age #остаток от деления вохраста self на возраст other\n",
        "\n",
        "    def __neg__(self):\n",
        "      return -self.age #отрицание возраста\n",
        "\n",
        "    def __eq__(self, other):\n",
        "      return self.age == other.age #проверка на равенство возрастов self и other\n",
        "\n",
        "person1 = Person(\"Tom\", 6)\n",
        "person2 = Person(\"Fred\", 3)"
      ],
      "metadata": {
        "id": "v2Q-zAc_cvDG"
      },
      "execution_count": null,
      "outputs": []
    },
    {
      "cell_type": "markdown",
      "source": [
        "Форматирование строки:"
      ],
      "metadata": {
        "id": "Hzu4VuvIaufl"
      }
    },
    {
      "cell_type": "code",
      "source": [
        "print(person1.__format__())"
      ],
      "metadata": {
        "colab": {
          "base_uri": "https://localhost:8080/"
        },
        "id": "zooAFvzOaxuE",
        "outputId": "ac9fa24e-0eb6-4366-b700-60cc6dbd2f31"
      },
      "execution_count": null,
      "outputs": [
        {
          "output_type": "stream",
          "name": "stdout",
          "text": [
            "My Name is Tom\n"
          ]
        }
      ]
    },
    {
      "cell_type": "markdown",
      "source": [
        "Пример использования __slots __():"
      ],
      "metadata": {
        "id": "E0IXpj0ew6X5"
      }
    },
    {
      "cell_type": "code",
      "source": [
        "class Slot:\n",
        "    __slots__ = [\"a\", \"b\"]\n",
        "\n",
        "slot = Slot()\n",
        "slot.a = 1\n",
        "print(slot.a)"
      ],
      "metadata": {
        "colab": {
          "base_uri": "https://localhost:8080/"
        },
        "id": "_XJl5zuPw9Qs",
        "outputId": "ff2fdd4b-3a11-4c6a-f122-41a5ebbf27e2"
      },
      "execution_count": null,
      "outputs": [
        {
          "output_type": "stream",
          "name": "stdout",
          "text": [
            "1\n"
          ]
        }
      ]
    },
    {
      "cell_type": "markdown",
      "source": [
        "Метод __bool __"
      ],
      "metadata": {
        "id": "yDGxfdBvta_z"
      }
    },
    {
      "cell_type": "code",
      "source": [
        "if person1.__bool__():\n",
        "  print(\"person is a kid\")\n",
        "else:\n",
        "  print(\"person is not a kid\")"
      ],
      "metadata": {
        "colab": {
          "base_uri": "https://localhost:8080/"
        },
        "id": "F1YgLO0jteAC",
        "outputId": "0679b629-bff0-47a5-b148-57bf14e869f1"
      },
      "execution_count": null,
      "outputs": [
        {
          "output_type": "stream",
          "name": "stdout",
          "text": [
            "person is a kid\n"
          ]
        }
      ]
    },
    {
      "cell_type": "markdown",
      "source": [
        "Работа с контейнерами:"
      ],
      "metadata": {
        "id": "lgHI3V5wrVTU"
      }
    },
    {
      "cell_type": "code",
      "source": [
        "class List:\n",
        "    def __init__(self, values):\n",
        "        self.values = values\n",
        "\n",
        "    def __len__(self):\n",
        "        return len(self.values)\n",
        "\n",
        "    def __getitem__(self, key):\n",
        "        # если значение или тип ключа некорректны, list выбросит исключение\n",
        "        return self.values[key]\n",
        "\n",
        "    def __setitem__(self, key, value):\n",
        "        self.values[key] = value\n",
        "\n",
        "    def __delitem__(self, key):\n",
        "        del self.values[key]\n",
        "\n",
        "    def __iter__(self):\n",
        "        return iter(self.values)\n",
        "\n",
        "    def __reversed__(self):\n",
        "        return List(reversed(self.values))\n",
        "\n",
        "    def append(self, value):\n",
        "        self.values.append(value)\n",
        "\n",
        "list = List([\"green\", \"red\", \"orange\"])\n",
        "print(len(list))"
      ],
      "metadata": {
        "colab": {
          "base_uri": "https://localhost:8080/"
        },
        "id": "YPglylzorY2X",
        "outputId": "1e5323e8-ad9d-4bc3-8144-aed1fbaab9e6"
      },
      "execution_count": null,
      "outputs": [
        {
          "output_type": "stream",
          "name": "stdout",
          "text": [
            "3\n"
          ]
        }
      ]
    },
    {
      "cell_type": "markdown",
      "source": [
        "Обращение к несуществуемому атрибуту объекта:"
      ],
      "metadata": {
        "id": "il0x4GMRp_bQ"
      }
    },
    {
      "cell_type": "code",
      "source": [
        "person1.weight"
      ],
      "metadata": {
        "colab": {
          "base_uri": "https://localhost:8080/"
        },
        "id": "Ut0qI6rhqEYV",
        "outputId": "0dc109d3-00ee-453f-9574-150a652c918e"
      },
      "execution_count": null,
      "outputs": [
        {
          "output_type": "stream",
          "name": "stdout",
          "text": [
            "weight does not exist\n"
          ]
        }
      ]
    },
    {
      "cell_type": "markdown",
      "source": [
        "Получение хеша объекта:"
      ],
      "metadata": {
        "id": "Sx_4MMu2NVlI"
      }
    },
    {
      "cell_type": "code",
      "source": [
        "print(person1.__hash__())"
      ],
      "metadata": {
        "colab": {
          "base_uri": "https://localhost:8080/"
        },
        "id": "2nVLVVdiNYpg",
        "outputId": "2f16ccc3-3212-4a4c-ea82-e9856f46edad"
      },
      "execution_count": null,
      "outputs": [
        {
          "output_type": "stream",
          "name": "stdout",
          "text": [
            "3914991579185256378\n"
          ]
        }
      ]
    },
    {
      "cell_type": "markdown",
      "source": [
        "Возвращение объекта байтов:"
      ],
      "metadata": {
        "id": "y9tgbgv3obOw"
      }
    },
    {
      "cell_type": "code",
      "source": [
        "class Data:\n",
        "    def __bytes__(self):\n",
        "        return b'42'\n",
        "data = Data()\n",
        "print(bytes(data))"
      ],
      "metadata": {
        "colab": {
          "base_uri": "https://localhost:8080/"
        },
        "id": "jSPFuFbaoeG6",
        "outputId": "e8f0a3af-50d0-4340-f404-ef2477c9258b"
      },
      "execution_count": null,
      "outputs": [
        {
          "output_type": "stream",
          "name": "stdout",
          "text": [
            "b'42'\n"
          ]
        }
      ]
    },
    {
      "cell_type": "markdown",
      "source": [
        "Контроль изменения атрибута объекта:"
      ],
      "metadata": {
        "id": "-3d6PHeppzJo"
      }
    },
    {
      "cell_type": "code",
      "source": [
        "class Human:\n",
        "  def __init__(self, name):\n",
        "    self.name = name\n",
        "\n",
        "  def __setattr__(self, name, value):\n",
        "    if name == \"name\" and value == \"John\":\n",
        "      print(\"error\")\n",
        "\n",
        "human = Human(\"Tom\")\n",
        "human.name = \"John\""
      ],
      "metadata": {
        "colab": {
          "base_uri": "https://localhost:8080/"
        },
        "id": "DJHeKyyWpyC9",
        "outputId": "9098b229-c140-457e-a7e0-70bb273601f7"
      },
      "execution_count": null,
      "outputs": [
        {
          "output_type": "stream",
          "name": "stdout",
          "text": [
            "error\n"
          ]
        }
      ]
    },
    {
      "cell_type": "markdown",
      "source": [
        "Попытка получить значение атрибута:"
      ],
      "metadata": {
        "id": "Kjnllhuhj35y"
      }
    },
    {
      "cell_type": "code",
      "source": [
        "class Human():\n",
        "  name = \"Tom\"\n",
        "\n",
        "  def __getattribute__(self, name):\n",
        "    if name == \"name\":\n",
        "      return \"Nice try\"\n",
        "\n",
        "human = Human()\n",
        "print(human.name)"
      ],
      "metadata": {
        "colab": {
          "base_uri": "https://localhost:8080/"
        },
        "id": "LfeVFOZcj8CM",
        "outputId": "482abc09-2968-4511-cc5d-bbc390002b26"
      },
      "execution_count": null,
      "outputs": [
        {
          "output_type": "stream",
          "name": "stdout",
          "text": [
            "Nice try\n"
          ]
        }
      ]
    },
    {
      "cell_type": "markdown",
      "source": [
        "Сложение возрастов:"
      ],
      "metadata": {
        "id": "5n-gUnwofjke"
      }
    },
    {
      "cell_type": "code",
      "source": [
        "print(person1 + person2)"
      ],
      "metadata": {
        "colab": {
          "base_uri": "https://localhost:8080/"
        },
        "id": "3MyPH7ZQfL1Z",
        "outputId": "3a11b873-0eb8-4636-bd6b-83cdc6225095"
      },
      "execution_count": null,
      "outputs": [
        {
          "output_type": "stream",
          "name": "stdout",
          "text": [
            "9\n"
          ]
        }
      ]
    },
    {
      "cell_type": "markdown",
      "source": [
        "Вычитание возрастов:"
      ],
      "metadata": {
        "id": "ZXpS2b0ugAZA"
      }
    },
    {
      "cell_type": "code",
      "source": [
        "print(person1 - person2)"
      ],
      "metadata": {
        "colab": {
          "base_uri": "https://localhost:8080/"
        },
        "id": "MTn82X_NgDnK",
        "outputId": "2ac732c1-6cb1-462c-a020-9f688a328bbb"
      },
      "execution_count": null,
      "outputs": [
        {
          "output_type": "stream",
          "name": "stdout",
          "text": [
            "3\n"
          ]
        }
      ]
    },
    {
      "cell_type": "markdown",
      "source": [
        "Умножение возрастов:"
      ],
      "metadata": {
        "id": "C_OMROZ7gGxG"
      }
    },
    {
      "cell_type": "code",
      "source": [
        "print(person1 * person2)"
      ],
      "metadata": {
        "colab": {
          "base_uri": "https://localhost:8080/"
        },
        "id": "E33OkPJjgJy2",
        "outputId": "980261a3-8744-4825-e231-6a3b5d2438e4"
      },
      "execution_count": null,
      "outputs": [
        {
          "output_type": "stream",
          "name": "stdout",
          "text": [
            "18\n"
          ]
        }
      ]
    },
    {
      "cell_type": "markdown",
      "source": [
        "Деление возрастов:"
      ],
      "metadata": {
        "id": "x7wY15O1gMUR"
      }
    },
    {
      "cell_type": "code",
      "source": [
        "print(person1 / person2)"
      ],
      "metadata": {
        "colab": {
          "base_uri": "https://localhost:8080/"
        },
        "id": "z-7YzRxegPPG",
        "outputId": "f79807e7-3f90-44cd-8277-5a07e795a168"
      },
      "execution_count": null,
      "outputs": [
        {
          "output_type": "stream",
          "name": "stdout",
          "text": [
            "2.0\n"
          ]
        }
      ]
    },
    {
      "cell_type": "markdown",
      "source": [
        "Целочисленное деление возрастов:"
      ],
      "metadata": {
        "id": "cmr_eKaOgSpu"
      }
    },
    {
      "cell_type": "code",
      "source": [
        "print(person1 // person2)"
      ],
      "metadata": {
        "colab": {
          "base_uri": "https://localhost:8080/"
        },
        "id": "a4ZXYmsigU_C",
        "outputId": "480ef0f4-3eec-4f2c-a069-db1edeb3e768"
      },
      "execution_count": null,
      "outputs": [
        {
          "output_type": "stream",
          "name": "stdout",
          "text": [
            "2\n"
          ]
        }
      ]
    },
    {
      "cell_type": "markdown",
      "source": [
        "Возведение в степень:"
      ],
      "metadata": {
        "id": "pj6bgNcZgaGJ"
      }
    },
    {
      "cell_type": "code",
      "source": [
        "print(person1 ** person2)"
      ],
      "metadata": {
        "colab": {
          "base_uri": "https://localhost:8080/"
        },
        "id": "z4KZGEIMgd12",
        "outputId": "79a8c530-61fe-4a27-825c-52a7f41cfb42"
      },
      "execution_count": null,
      "outputs": [
        {
          "output_type": "stream",
          "name": "stdout",
          "text": [
            "216\n"
          ]
        }
      ]
    },
    {
      "cell_type": "markdown",
      "source": [
        "Остаток от деления:"
      ],
      "metadata": {
        "id": "zEUO4ZWDgf09"
      }
    },
    {
      "cell_type": "code",
      "source": [
        "print(person1 % person2)"
      ],
      "metadata": {
        "colab": {
          "base_uri": "https://localhost:8080/"
        },
        "id": "m-SHpGXkgixf",
        "outputId": "781c193a-e22b-4770-a1c4-2679dc9d988d"
      },
      "execution_count": null,
      "outputs": [
        {
          "output_type": "stream",
          "name": "stdout",
          "text": [
            "0\n"
          ]
        }
      ]
    },
    {
      "cell_type": "markdown",
      "source": [
        "Отрицание возраста:"
      ],
      "metadata": {
        "id": "Awnn-D9KgnIV"
      }
    },
    {
      "cell_type": "code",
      "source": [
        "print(-person1)"
      ],
      "metadata": {
        "colab": {
          "base_uri": "https://localhost:8080/"
        },
        "id": "8TMdV4UUgpEG",
        "outputId": "49362a07-0b9e-4845-9bba-74eb85ca957d"
      },
      "execution_count": null,
      "outputs": [
        {
          "output_type": "stream",
          "name": "stdout",
          "text": [
            "-6\n"
          ]
        }
      ]
    },
    {
      "cell_type": "markdown",
      "source": [
        "Проверка равенства возрастов:"
      ],
      "metadata": {
        "id": "iCV09VwNgtod"
      }
    },
    {
      "cell_type": "code",
      "source": [
        "print(person1 == person2)"
      ],
      "metadata": {
        "colab": {
          "base_uri": "https://localhost:8080/"
        },
        "id": "EPEqfRwtgxlY",
        "outputId": "08a84353-ce3b-4094-bc6f-b3aa0ae38fd3"
      },
      "execution_count": null,
      "outputs": [
        {
          "output_type": "stream",
          "name": "stdout",
          "text": [
            "False\n"
          ]
        }
      ]
    },
    {
      "cell_type": "markdown",
      "source": [
        "False означает, что Том и Фред имеют разный возраст."
      ],
      "metadata": {
        "id": "i16uGA_IgzfH"
      }
    },
    {
      "cell_type": "markdown",
      "source": [
        "Пример работы __trunc __. Поскольку Боб и Алиса имеют нецелочисленный возраст, метод вернёт число 99"
      ],
      "metadata": {
        "id": "KOByOp7p1Ffb"
      }
    },
    {
      "cell_type": "code",
      "source": [
        "import math\n",
        "class Person:\n",
        "    def __init__(self, age):\n",
        "      self.age = age\n",
        "    def __trunc__(self):\n",
        "        return 99\n",
        "alice = Person(42.99999)\n",
        "print(math.trunc(alice))\n",
        "bob = Person(42.0)\n",
        "print(math.trunc(bob))"
      ],
      "metadata": {
        "colab": {
          "base_uri": "https://localhost:8080/"
        },
        "id": "pHSYWT6NzdsB",
        "outputId": "c11621e0-f16a-4c08-db99-e0ed9370cc91"
      },
      "execution_count": null,
      "outputs": [
        {
          "output_type": "stream",
          "name": "stdout",
          "text": [
            "99\n",
            "99\n"
          ]
        }
      ]
    },
    {
      "cell_type": "markdown",
      "source": [
        "Пример работы __ceil __. "
      ],
      "metadata": {
        "id": "pSf4L2SA1X38"
      }
    },
    {
      "cell_type": "code",
      "source": [
        "import math\n",
        "class Person:\n",
        "    def __init__(self, age):\n",
        "        self.age = age\n",
        "    def __ceil__(self):\n",
        "        floor_value = int(self.age)\n",
        "        if floor_value < self.age:\n",
        "            return floor_value + 1\n",
        "        return floor_value\n",
        "alice = Person(42.42424242)\n",
        "print(math.ceil(alice))\n",
        "bob = Person(42.0)\n",
        "print(math.ceil(bob))"
      ],
      "metadata": {
        "colab": {
          "base_uri": "https://localhost:8080/"
        },
        "id": "7r85vDn30Js6",
        "outputId": "f8cab47e-9c56-4ffa-88dd-afd4a2c245a4"
      },
      "execution_count": null,
      "outputs": [
        {
          "output_type": "stream",
          "name": "stdout",
          "text": [
            "43\n",
            "42\n"
          ]
        }
      ]
    },
    {
      "cell_type": "markdown",
      "source": [
        "43 >= 42,42424242\n",
        "\n",
        "42 >= 42.0\n",
        "\n",
        "(42 и 43 - целочисленные)"
      ],
      "metadata": {
        "id": "dRt8arUp1gLY"
      }
    }
  ]
}
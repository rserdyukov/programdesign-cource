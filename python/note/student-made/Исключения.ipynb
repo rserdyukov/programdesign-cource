{
  "cells": [
    {
      "cell_type": "markdown",
      "metadata": {
        "id": "yffVi4NGkfOt"
      },
      "source": [
        "# Вступление\n",
        "Python — высокоуровневый язык программирования общего назначения. Как и во многих языках программирования, при написании кода, в нём могут возникать различные ошибки. Для решения таких вот ошибок и в Python существуют так называемые **\"Исключения\"**."
      ]
    },
    {
      "cell_type": "markdown",
      "metadata": {
        "id": "8YgWrzQZl1wK"
      },
      "source": [
        "# Исключения\n",
        "\n"
      ]
    },
    {
      "cell_type": "markdown",
      "metadata": {
        "id": "5kxjqUBWqF2d"
      },
      "source": [
        "##Что такое исключения?\n",
        "\n"
      ]
    },
    {
      "cell_type": "markdown",
      "metadata": {
        "id": "OEGa1GR_205d"
      },
      "source": [
        "\n",
        "Исключения(Exceptions) – это ошибки, обнаруженные при исполнении. К ним относятся такие ошибки как:\n",
        "\n",
        "*   Чтение не существующего файла\n",
        "*   Выход за предел массива\n",
        "*   Деления числа на ноль"
      ]
    },
    {
      "cell_type": "markdown",
      "metadata": {
        "id": "xlQxpXbxn3Yx"
      },
      "source": [
        "## Как устроены исключения в Python?\n"
      ]
    },
    {
      "cell_type": "markdown",
      "metadata": {
        "id": "1aaQzuUu2ycZ"
      },
      "source": [
        "Python является полностью объектно-ориентированным в том плане, что всё является объектами. Поэтому и исключения являются ещё одним типом данных в python.\n",
        "\n",
        "Все исключения, возникаюшие в Python, являются объектами соответствующих им классов, которые в свою очередь являются классами-потомками одного общего класса(BaseException) и образуют своего рода иерархию."
      ]
    },
    {
      "cell_type": "markdown",
      "metadata": {
        "id": "71uL_6wWqpqX"
      },
      "source": [
        "## Как работают исключения в Python?"
      ]
    },
    {
      "cell_type": "markdown",
      "metadata": {
        "id": "SjBBSIPOuj5D"
      },
      "source": [
        "При возникновении ошибочной ситуации в тот же миг создаётся исключение, соответствующее типу ошибки. При возникновении исключения программа приостанавливает своё выполнение и ждёт обработки этого исключения. Если же обработки не последовало, то она сообщает о возникшем исключении и прекращает работу.\n",
        "\n"
      ]
    },
    {
      "cell_type": "code",
      "execution_count": null,
      "metadata": {
        "colab": {
          "base_uri": "https://localhost:8080/",
          "height": 200
        },
        "id": "OAoFXkTpqjA7",
        "outputId": "faa034d5-6634-4b38-ee7d-47b96c5ee509"
      },
      "outputs": [
        {
          "ename": "ZeroDivisionError",
          "evalue": "ignored",
          "output_type": "error",
          "traceback": [
            "\u001b[0;31m---------------------------------------------------------------------------\u001b[0m",
            "\u001b[0;31mZeroDivisionError\u001b[0m                         Traceback (most recent call last)",
            "\u001b[0;32m<ipython-input-6-9035baa482dc>\u001b[0m in \u001b[0;36m<module>\u001b[0;34m()\u001b[0m\n\u001b[1;32m      1\u001b[0m \u001b[0ma\u001b[0m \u001b[0;34m=\u001b[0m \u001b[0;36m2\u001b[0m\u001b[0;34m\u001b[0m\u001b[0;34m\u001b[0m\u001b[0m\n\u001b[1;32m      2\u001b[0m \u001b[0mb\u001b[0m \u001b[0;34m=\u001b[0m \u001b[0;36m0\u001b[0m\u001b[0;34m\u001b[0m\u001b[0;34m\u001b[0m\u001b[0m\n\u001b[0;32m----> 3\u001b[0;31m \u001b[0mc\u001b[0m \u001b[0;34m=\u001b[0m \u001b[0ma\u001b[0m \u001b[0;34m/\u001b[0m \u001b[0mb\u001b[0m\u001b[0;34m\u001b[0m\u001b[0;34m\u001b[0m\u001b[0m\n\u001b[0m",
            "\u001b[0;31mZeroDivisionError\u001b[0m: division by zero"
          ]
        }
      ],
      "source": [
        "a = 2\n",
        "b = 0\n",
        "c = a / b"
      ]
    },
    {
      "cell_type": "markdown",
      "metadata": {
        "id": "rII8jh8MxLA5"
      },
      "source": [
        "В примере мы пытаемя 2 поделить на 0. Т.к. это делать нельзя, то Python сообщает нам об этом, создав исключение ZeroDivisionError.\n",
        "\n",
        "Важно помнить что, каждое исключения содержит краткую информацию о себе:\n",
        "\n",
        "*   Где оно возникло\n",
        "*   Какой тип этого исключения\n"
      ]
    },
    {
      "cell_type": "markdown",
      "metadata": {
        "id": "bjFCQr50sSYc"
      },
      "source": [
        "Так же в Python предусмотрен такой полезный инструмент, как Traceback. Роль его заключается в одной простой, но очень полезной функции, облегчающей нахождение ошибки в программе. Отслеживание пути пробрасывания исключения."
      ]
    },
    {
      "cell_type": "code",
      "execution_count": null,
      "metadata": {
        "colab": {
          "base_uri": "https://localhost:8080/",
          "height": 304
        },
        "id": "ZrzG1tmmrYjk",
        "outputId": "a8048bb0-b14c-4e66-ec3c-fcf44393c61a"
      },
      "outputs": [
        {
          "ename": "ZeroDivisionError",
          "evalue": "ignored",
          "output_type": "error",
          "traceback": [
            "\u001b[0;31m---------------------------------------------------------------------------\u001b[0m",
            "\u001b[0;31mZeroDivisionError\u001b[0m                         Traceback (most recent call last)",
            "\u001b[0;32m<ipython-input-7-673bfc280cc0>\u001b[0m in \u001b[0;36m<module>\u001b[0;34m()\u001b[0m\n\u001b[1;32m      2\u001b[0m   \u001b[0;32mreturn\u001b[0m \u001b[0ma\u001b[0m \u001b[0;34m/\u001b[0m \u001b[0mb\u001b[0m\u001b[0;34m\u001b[0m\u001b[0;34m\u001b[0m\u001b[0m\n\u001b[1;32m      3\u001b[0m \u001b[0;34m\u001b[0m\u001b[0m\n\u001b[0;32m----> 4\u001b[0;31m \u001b[0mprint\u001b[0m\u001b[0;34m(\u001b[0m\u001b[0mdiv\u001b[0m\u001b[0;34m(\u001b[0m\u001b[0;36m5\u001b[0m\u001b[0;34m,\u001b[0m \u001b[0;36m0\u001b[0m\u001b[0;34m)\u001b[0m\u001b[0;34m)\u001b[0m\u001b[0;34m\u001b[0m\u001b[0;34m\u001b[0m\u001b[0m\n\u001b[0m",
            "\u001b[0;32m<ipython-input-7-673bfc280cc0>\u001b[0m in \u001b[0;36mdiv\u001b[0;34m(a, b)\u001b[0m\n\u001b[1;32m      1\u001b[0m \u001b[0;32mdef\u001b[0m \u001b[0mdiv\u001b[0m\u001b[0;34m(\u001b[0m\u001b[0ma\u001b[0m \u001b[0;34m,\u001b[0m \u001b[0mb\u001b[0m\u001b[0;34m)\u001b[0m\u001b[0;34m:\u001b[0m\u001b[0;34m\u001b[0m\u001b[0;34m\u001b[0m\u001b[0m\n\u001b[0;32m----> 2\u001b[0;31m   \u001b[0;32mreturn\u001b[0m \u001b[0ma\u001b[0m \u001b[0;34m/\u001b[0m \u001b[0mb\u001b[0m\u001b[0;34m\u001b[0m\u001b[0;34m\u001b[0m\u001b[0m\n\u001b[0m\u001b[1;32m      3\u001b[0m \u001b[0;34m\u001b[0m\u001b[0m\n\u001b[1;32m      4\u001b[0m \u001b[0mprint\u001b[0m\u001b[0;34m(\u001b[0m\u001b[0mdiv\u001b[0m\u001b[0;34m(\u001b[0m\u001b[0;36m5\u001b[0m\u001b[0;34m,\u001b[0m \u001b[0;36m0\u001b[0m\u001b[0;34m)\u001b[0m\u001b[0;34m)\u001b[0m\u001b[0;34m\u001b[0m\u001b[0;34m\u001b[0m\u001b[0m\n",
            "\u001b[0;31mZeroDivisionError\u001b[0m: division by zero"
          ]
        }
      ],
      "source": [
        "def div(a , b):\n",
        "  return a / b\n",
        "\n",
        "print(div(5, 0))"
      ]
    },
    {
      "cell_type": "markdown",
      "metadata": {
        "id": "6J-4xkqkuaMh"
      },
      "source": [
        "В примере мы создали функцию div, возвращающая результат деления чисел. Выведем результат деления 5 на 0.\n",
        "\n",
        "Ошибка!!!\n",
        "\n",
        "При выводе информации об исключении, также был выведен его полный путь.\n",
        "\n",
        "Когда исключение возникает в каком нибудь методе, и не дождавшись обработки, Python, можно сказать, пробрасывать его в место вызова этого метода. И так каждый раз, пока либо исключение не обработается, либо больше не будет возможности его пробрасывать. "
      ]
    },
    {
      "cell_type": "markdown",
      "metadata": {
        "id": "2bCh3Wz42mM6"
      },
      "source": [
        "## Обработка исключений в Python"
      ]
    },
    {
      "cell_type": "markdown",
      "metadata": {
        "id": "7km2tmu1vkHj"
      },
      "source": [
        "Для обработки исключений в Python существует конструкция try-except."
      ]
    },
    {
      "cell_type": "code",
      "execution_count": null,
      "metadata": {
        "colab": {
          "base_uri": "https://localhost:8080/"
        },
        "id": "XQ7Tldavwk3N",
        "outputId": "c3194ee0-d2b7-4f3e-88a2-ce7354bfb3d6"
      },
      "outputs": [
        {
          "name": "stdout",
          "output_type": "stream",
          "text": [
            "На ноль делить нельзя\n"
          ]
        }
      ],
      "source": [
        "try:\n",
        "  a = 2\n",
        "  b = 0\n",
        "  c = a / b\n",
        "  print(c)\n",
        "except ZeroDivisionError:\n",
        "  print(\"На ноль делить нельзя\")"
      ]
    },
    {
      "cell_type": "markdown",
      "source": [
        "В блок except мы указываем какое именно исключение может возникнуть в блоке try. Когда блок except ловит исключение, то при выходе из своего блока он автоматически его удаляет, если же в нём это самое исключение не пробрасывается дальше"
      ],
      "metadata": {
        "id": "_4KHX6wGuAK9"
      }
    },
    {
      "cell_type": "markdown",
      "source": [
        "Если ничего не указывать в except, то будет ловиться любое исключение."
      ],
      "metadata": {
        "id": "m5I2YOm5lm4g"
      }
    },
    {
      "cell_type": "code",
      "source": [
        "try:\n",
        "  a = 2\n",
        "  b = 0\n",
        "  c = a / b\n",
        "  print(c)\n",
        "except:\n",
        "  print(\"На ноль делить нельзя\")"
      ],
      "metadata": {
        "colab": {
          "base_uri": "https://localhost:8080/"
        },
        "id": "42bw7Skbl7-y",
        "outputId": "cd9ce028-c2a4-4427-e95e-b7e20aea49d3"
      },
      "execution_count": null,
      "outputs": [
        {
          "output_type": "stream",
          "name": "stdout",
          "text": [
            "На ноль делить нельзя\n"
          ]
        }
      ]
    },
    {
      "cell_type": "markdown",
      "source": [
        "Также в блоке except можно указать имя пойманному исключению с помощью выражения except ... as ... :\n",
        "\n",
        "\n",
        "\n"
      ],
      "metadata": {
        "id": "CnA_ZH_rHKyK"
      }
    },
    {
      "cell_type": "code",
      "source": [
        "try:\n",
        "  a = 2\n",
        "  b = 0\n",
        "  c = a / b\n",
        "  print(c)\n",
        "except ZeroDivisionError as err:\n",
        "  print(err)"
      ],
      "metadata": {
        "colab": {
          "base_uri": "https://localhost:8080/"
        },
        "id": "1_CRumSdHwuP",
        "outputId": "c5afae53-aea3-4f17-c2b5-8f3f26c14dea"
      },
      "execution_count": null,
      "outputs": [
        {
          "output_type": "stream",
          "name": "stdout",
          "text": [
            "division by zero\n"
          ]
        }
      ]
    },
    {
      "cell_type": "markdown",
      "metadata": {
        "id": "D8EcRgZKw5hV"
      },
      "source": [
        "Как работает эта конструкция?\n",
        "\n",
        "Конструкция try-except состоить из:\n",
        "\n",
        "*   Одного блока try\n",
        "*   Нескольких блоков except\n",
        "*   Одного блока else\n",
        "*   Одного блока finally\n",
        "\n",
        "Блок try нужен для выделения \"опасного\" кода, т.е. того кода, где может возникнуть исключение. При возникновении исключения try прекращает свою работу и в игру вступает except.\n",
        "\n",
        "Блок except нужен для обрабоки исключений. Когда в try возникает исключение, то except ловит его, если оно соответствует типу его указанного исключений.\n",
        "\n",
        "Блок else вызывается, если блок try полность отработал и не вызвал исключения. В конструкция try-except блок else не обязателен.\n",
        "\n",
        "Блок finally вызывается в независимости от того, вызвалось ли исключение в блоке try или нет. В конструкция try-except блок finally не обязателен."
      ]
    },
    {
      "cell_type": "code",
      "execution_count": null,
      "metadata": {
        "colab": {
          "base_uri": "https://localhost:8080/"
        },
        "id": "-a6ugRYAd5p9",
        "outputId": "43043b31-fa01-44d9-ae4d-e16d25e6ce4e"
      },
      "outputs": [
        {
          "output_type": "stream",
          "name": "stdout",
          "text": [
            "division by zero\n",
            "Конец обработки исключения\n"
          ]
        }
      ],
      "source": [
        "try:\n",
        "  a = 2\n",
        "  b = 0\n",
        "  c = a / b\n",
        "  print(c)\n",
        "except ZeroDivisionError as err:\n",
        "  print(err)\n",
        "else:\n",
        "  print(\"Исключение не вызвано\")\n",
        "finally:\n",
        "  print(\"Конец обработки исключения\")"
      ]
    },
    {
      "cell_type": "markdown",
      "metadata": {
        "id": "RGQQ7UfcylN7"
      },
      "source": [
        "## Вызов исключений"
      ]
    },
    {
      "cell_type": "markdown",
      "metadata": {
        "id": "pY4iARJZy3Dr"
      },
      "source": [
        "Помимо автоматического вызова исключений при ошибке, в Python также можно самостоятельно вызывать исключения."
      ]
    },
    {
      "cell_type": "code",
      "execution_count": null,
      "metadata": {
        "colab": {
          "base_uri": "https://localhost:8080/",
          "height": 200
        },
        "id": "Ch6UxfDxzLBT",
        "outputId": "ecfd4e00-7d4d-4811-e8a4-6f5f9602dc41"
      },
      "outputs": [
        {
          "ename": "Exception",
          "evalue": "ignored",
          "output_type": "error",
          "traceback": [
            "\u001b[0;31m---------------------------------------------------------------------------\u001b[0m",
            "\u001b[0;31mException\u001b[0m                                 Traceback (most recent call last)",
            "\u001b[0;32m<ipython-input-2-7abd14c4d357>\u001b[0m in \u001b[0;36m<module>\u001b[0;34m()\u001b[0m\n\u001b[1;32m      3\u001b[0m \u001b[0mfile_extension\u001b[0m \u001b[0;34m=\u001b[0m \u001b[0mpart_of_file_name\u001b[0m\u001b[0;34m[\u001b[0m\u001b[0mlen\u001b[0m\u001b[0;34m(\u001b[0m\u001b[0mpart_of_file_name\u001b[0m\u001b[0;34m)\u001b[0m \u001b[0;34m-\u001b[0m \u001b[0;36m1\u001b[0m\u001b[0;34m]\u001b[0m\u001b[0;34m\u001b[0m\u001b[0;34m\u001b[0m\u001b[0m\n\u001b[1;32m      4\u001b[0m \u001b[0;32mif\u001b[0m \u001b[0mfile_extension\u001b[0m \u001b[0;34m!=\u001b[0m \u001b[0;34m'txt'\u001b[0m\u001b[0;34m:\u001b[0m\u001b[0;34m\u001b[0m\u001b[0;34m\u001b[0m\u001b[0m\n\u001b[0;32m----> 5\u001b[0;31m     \u001b[0;32mraise\u001b[0m \u001b[0mException\u001b[0m\u001b[0;34m(\u001b[0m\u001b[0;34m\"Файл не txt расширения\"\u001b[0m\u001b[0;34m)\u001b[0m\u001b[0;34m\u001b[0m\u001b[0;34m\u001b[0m\u001b[0m\n\u001b[0m",
            "\u001b[0;31mException\u001b[0m: Файл не txt расширения"
          ]
        }
      ],
      "source": [
        "file_name = \"file_name.tt\"\n",
        "part_of_file_name = file_name.split('.')\n",
        "file_extension = part_of_file_name[len(part_of_file_name) - 1]\n",
        "if file_extension != 'txt':\n",
        "    raise Exception(\"Файл не txt расширения\")"
      ]
    },
    {
      "cell_type": "markdown",
      "metadata": {
        "id": "wr5QXXjFztfY"
      },
      "source": [
        "Также, при вызове исключения, мы можем указать к нему комментарий."
      ]
    },
    {
      "cell_type": "markdown",
      "source": [
        "## Повторный вызов исключений"
      ],
      "metadata": {
        "id": "xnSK5Q9zOwJ0"
      }
    },
    {
      "cell_type": "markdown",
      "source": [
        "Если нужно определить, было ли вызвано исключение или нет, но не нужно его обрабатывать, существует простая возможность повторного вызова этого исключения путём вызова raise"
      ],
      "metadata": {
        "id": "VWEU7_Drf1oz"
      }
    },
    {
      "cell_type": "code",
      "source": [
        "try:\n",
        "  raise ValueError\n",
        "except ValueError:\n",
        "  print('Raise ValueError!')\n",
        "  raise"
      ],
      "metadata": {
        "colab": {
          "base_uri": "https://localhost:8080/",
          "height": 252
        },
        "id": "AmR4UlVFfnI3",
        "outputId": "b643c0c4-7469-4a3c-da54-7020f8c2e34b"
      },
      "execution_count": null,
      "outputs": [
        {
          "output_type": "stream",
          "name": "stdout",
          "text": [
            "Raise ValueError!\n"
          ]
        },
        {
          "output_type": "error",
          "ename": "ValueError",
          "evalue": "ignored",
          "traceback": [
            "\u001b[0;31m---------------------------------------------------------------------------\u001b[0m",
            "\u001b[0;31mValueError\u001b[0m                                Traceback (most recent call last)",
            "\u001b[0;32m<ipython-input-3-5de181878561>\u001b[0m in \u001b[0;36m<module>\u001b[0;34m()\u001b[0m\n\u001b[1;32m      1\u001b[0m \u001b[0;32mtry\u001b[0m\u001b[0;34m:\u001b[0m\u001b[0;34m\u001b[0m\u001b[0;34m\u001b[0m\u001b[0m\n\u001b[0;32m----> 2\u001b[0;31m   \u001b[0;32mraise\u001b[0m \u001b[0mValueError\u001b[0m\u001b[0;34m\u001b[0m\u001b[0;34m\u001b[0m\u001b[0m\n\u001b[0m\u001b[1;32m      3\u001b[0m \u001b[0;32mexcept\u001b[0m \u001b[0mValueError\u001b[0m\u001b[0;34m:\u001b[0m\u001b[0;34m\u001b[0m\u001b[0;34m\u001b[0m\u001b[0m\n\u001b[1;32m      4\u001b[0m   \u001b[0mprint\u001b[0m\u001b[0;34m(\u001b[0m\u001b[0;34m'Raise ValueError!'\u001b[0m\u001b[0;34m)\u001b[0m\u001b[0;34m\u001b[0m\u001b[0;34m\u001b[0m\u001b[0m\n\u001b[1;32m      5\u001b[0m   \u001b[0;32mraise\u001b[0m\u001b[0;34m\u001b[0m\u001b[0;34m\u001b[0m\u001b[0m\n",
            "\u001b[0;31mValueError\u001b[0m: "
          ]
        }
      ]
    },
    {
      "cell_type": "markdown",
      "source": [
        "Помимо этого, если в блоке except при обработки исключения возникло новое, то Python автоматически указывает на это"
      ],
      "metadata": {
        "id": "lTzX9kTBO1RN"
      }
    },
    {
      "cell_type": "code",
      "source": [
        "try:\n",
        "    raise RuntimeError\n",
        "except RuntimeError as exc:\n",
        "    raise Exception('Failed to open database')\n"
      ],
      "metadata": {
        "colab": {
          "base_uri": "https://localhost:8080/",
          "height": 373
        },
        "id": "M1gJ4KNCPC85",
        "outputId": "778596a9-1dba-4a82-e2f3-9bbc584d91f0"
      },
      "execution_count": null,
      "outputs": [
        {
          "output_type": "error",
          "ename": "Exception",
          "evalue": "ignored",
          "traceback": [
            "\u001b[0;31m---------------------------------------------------------------------------\u001b[0m",
            "\u001b[0;31mRuntimeError\u001b[0m                              Traceback (most recent call last)",
            "\u001b[0;32m<ipython-input-11-d5ad16743171>\u001b[0m in \u001b[0;36m<module>\u001b[0;34m()\u001b[0m\n\u001b[1;32m      1\u001b[0m \u001b[0;32mtry\u001b[0m\u001b[0;34m:\u001b[0m\u001b[0;34m\u001b[0m\u001b[0;34m\u001b[0m\u001b[0m\n\u001b[0;32m----> 2\u001b[0;31m     \u001b[0;32mraise\u001b[0m \u001b[0mRuntimeError\u001b[0m\u001b[0;34m\u001b[0m\u001b[0;34m\u001b[0m\u001b[0m\n\u001b[0m\u001b[1;32m      3\u001b[0m \u001b[0;32mexcept\u001b[0m \u001b[0mRuntimeError\u001b[0m \u001b[0;32mas\u001b[0m \u001b[0mexc\u001b[0m\u001b[0;34m:\u001b[0m\u001b[0;34m\u001b[0m\u001b[0;34m\u001b[0m\u001b[0m\n",
            "\u001b[0;31mRuntimeError\u001b[0m: ",
            "\nDuring handling of the above exception, another exception occurred:\n",
            "\u001b[0;31mException\u001b[0m                                 Traceback (most recent call last)",
            "\u001b[0;32m<ipython-input-11-d5ad16743171>\u001b[0m in \u001b[0;36m<module>\u001b[0;34m()\u001b[0m\n\u001b[1;32m      2\u001b[0m     \u001b[0;32mraise\u001b[0m \u001b[0mRuntimeError\u001b[0m\u001b[0;34m\u001b[0m\u001b[0;34m\u001b[0m\u001b[0m\n\u001b[1;32m      3\u001b[0m \u001b[0;32mexcept\u001b[0m \u001b[0mRuntimeError\u001b[0m \u001b[0;32mas\u001b[0m \u001b[0mexc\u001b[0m\u001b[0;34m:\u001b[0m\u001b[0;34m\u001b[0m\u001b[0;34m\u001b[0m\u001b[0m\n\u001b[0;32m----> 4\u001b[0;31m     \u001b[0;32mraise\u001b[0m \u001b[0mException\u001b[0m\u001b[0;34m(\u001b[0m\u001b[0;34m'Failed to open database'\u001b[0m\u001b[0;34m)\u001b[0m\u001b[0;34m\u001b[0m\u001b[0;34m\u001b[0m\u001b[0m\n\u001b[0m",
            "\u001b[0;31mException\u001b[0m: Failed to open database"
          ]
        }
      ]
    },
    {
      "cell_type": "markdown",
      "source": [
        "Также, с помощью from, можно указать от какого именно исключение мы создаём новое"
      ],
      "metadata": {
        "id": "K-zOXL63PPxI"
      }
    },
    {
      "cell_type": "code",
      "source": [
        "try:\n",
        "    raise RuntimeError\n",
        "except RuntimeError as exc:\n",
        "    raise Exception('Failed to open database') from exc"
      ],
      "metadata": {
        "colab": {
          "base_uri": "https://localhost:8080/",
          "height": 373
        },
        "id": "zgWKqX92PUTK",
        "outputId": "a1b4ee19-d1f9-49c6-e423-2988bb69ca76"
      },
      "execution_count": null,
      "outputs": [
        {
          "output_type": "error",
          "ename": "Exception",
          "evalue": "ignored",
          "traceback": [
            "\u001b[0;31m---------------------------------------------------------------------------\u001b[0m",
            "\u001b[0;31mRuntimeError\u001b[0m                              Traceback (most recent call last)",
            "\u001b[0;32m<ipython-input-10-4e307e8cf224>\u001b[0m in \u001b[0;36m<module>\u001b[0;34m()\u001b[0m\n\u001b[1;32m      1\u001b[0m \u001b[0;32mtry\u001b[0m\u001b[0;34m:\u001b[0m\u001b[0;34m\u001b[0m\u001b[0;34m\u001b[0m\u001b[0m\n\u001b[0;32m----> 2\u001b[0;31m     \u001b[0;32mraise\u001b[0m \u001b[0mRuntimeError\u001b[0m\u001b[0;34m\u001b[0m\u001b[0;34m\u001b[0m\u001b[0m\n\u001b[0m\u001b[1;32m      3\u001b[0m \u001b[0;32mexcept\u001b[0m \u001b[0mRuntimeError\u001b[0m \u001b[0;32mas\u001b[0m \u001b[0mexc\u001b[0m\u001b[0;34m:\u001b[0m\u001b[0;34m\u001b[0m\u001b[0;34m\u001b[0m\u001b[0m\n",
            "\u001b[0;31mRuntimeError\u001b[0m: ",
            "\nThe above exception was the direct cause of the following exception:\n",
            "\u001b[0;31mException\u001b[0m                                 Traceback (most recent call last)",
            "\u001b[0;32m<ipython-input-10-4e307e8cf224>\u001b[0m in \u001b[0;36m<module>\u001b[0;34m()\u001b[0m\n\u001b[1;32m      2\u001b[0m     \u001b[0;32mraise\u001b[0m \u001b[0mRuntimeError\u001b[0m\u001b[0;34m\u001b[0m\u001b[0;34m\u001b[0m\u001b[0m\n\u001b[1;32m      3\u001b[0m \u001b[0;32mexcept\u001b[0m \u001b[0mRuntimeError\u001b[0m \u001b[0;32mas\u001b[0m \u001b[0mexc\u001b[0m\u001b[0;34m:\u001b[0m\u001b[0;34m\u001b[0m\u001b[0;34m\u001b[0m\u001b[0m\n\u001b[0;32m----> 4\u001b[0;31m     \u001b[0;32mraise\u001b[0m \u001b[0mException\u001b[0m\u001b[0;34m(\u001b[0m\u001b[0;34m'Failed to open database'\u001b[0m\u001b[0;34m)\u001b[0m \u001b[0;32mfrom\u001b[0m \u001b[0mexc\u001b[0m\u001b[0;34m\u001b[0m\u001b[0;34m\u001b[0m\u001b[0m\n\u001b[0m",
            "\u001b[0;31mException\u001b[0m: Failed to open database"
          ]
        }
      ]
    },
    {
      "cell_type": "markdown",
      "source": [
        "Либо указать, что возникшее исключение никак не связано с прошлым исключением"
      ],
      "metadata": {
        "id": "iQV1CFCIPfVi"
      }
    },
    {
      "cell_type": "code",
      "source": [
        "try:\n",
        "    raise RuntimeError\n",
        "except RuntimeError as exc:\n",
        "    raise Exception('Failed to open database') from None"
      ],
      "metadata": {
        "colab": {
          "base_uri": "https://localhost:8080/",
          "height": 200
        },
        "id": "k1ZlDWVwPf_Z",
        "outputId": "cacab72b-f858-4ad1-d1fe-aba1820d51bc"
      },
      "execution_count": null,
      "outputs": [
        {
          "output_type": "error",
          "ename": "Exception",
          "evalue": "ignored",
          "traceback": [
            "\u001b[0;31m---------------------------------------------------------------------------\u001b[0m",
            "\u001b[0;31mException\u001b[0m                                 Traceback (most recent call last)",
            "\u001b[0;32m<ipython-input-12-fcaa1b5d54f8>\u001b[0m in \u001b[0;36m<module>\u001b[0;34m()\u001b[0m\n\u001b[1;32m      2\u001b[0m     \u001b[0;32mraise\u001b[0m \u001b[0mRuntimeError\u001b[0m\u001b[0;34m\u001b[0m\u001b[0;34m\u001b[0m\u001b[0m\n\u001b[1;32m      3\u001b[0m \u001b[0;32mexcept\u001b[0m \u001b[0mRuntimeError\u001b[0m \u001b[0;32mas\u001b[0m \u001b[0mexc\u001b[0m\u001b[0;34m:\u001b[0m\u001b[0;34m\u001b[0m\u001b[0;34m\u001b[0m\u001b[0m\n\u001b[0;32m----> 4\u001b[0;31m     \u001b[0;32mraise\u001b[0m \u001b[0mException\u001b[0m\u001b[0;34m(\u001b[0m\u001b[0;34m'Failed to open database'\u001b[0m\u001b[0;34m)\u001b[0m \u001b[0;32mfrom\u001b[0m \u001b[0;32mNone\u001b[0m\u001b[0;34m\u001b[0m\u001b[0;34m\u001b[0m\u001b[0m\n\u001b[0m",
            "\u001b[0;31mException\u001b[0m: Failed to open database"
          ]
        }
      ]
    },
    {
      "cell_type": "markdown",
      "source": [
        "## Методы с  try-except\n"
      ],
      "metadata": {
        "id": "ps1POxk6JCBY"
      }
    },
    {
      "cell_type": "markdown",
      "source": [
        "При работе с try-except в методах требуется учитывать следующие особенности:"
      ],
      "metadata": {
        "id": "v7Pzn3ElLl7p"
      }
    },
    {
      "cell_type": "markdown",
      "source": [
        "Если в try-except возникло исключение и не обрабатывается, но также в блоке finally есть return, то метод удаляет это исключение и возвращает return"
      ],
      "metadata": {
        "id": "i3JbXTXJLFHY"
      }
    },
    {
      "cell_type": "code",
      "source": [
        "def foo():\n",
        "     try:\n",
        "         1/0\n",
        "     finally:\n",
        "         return 'finally'\n",
        "\n",
        "print(foo())"
      ],
      "metadata": {
        "colab": {
          "base_uri": "https://localhost:8080/"
        },
        "id": "275bsQ6kLFli",
        "outputId": "c2d671e2-437c-4b41-e7f7-bdba0024be2c"
      },
      "execution_count": null,
      "outputs": [
        {
          "output_type": "stream",
          "name": "stdout",
          "text": [
            "finally\n"
          ]
        }
      ]
    },
    {
      "cell_type": "markdown",
      "source": [
        "При вызове return в try-except в нескольких блоках возвражается последне вызванный return   "
      ],
      "metadata": {
        "id": "E94lXEQdJJ5_"
      }
    },
    {
      "cell_type": "code",
      "source": [
        "def foo():\n",
        "     try:\n",
        "         return 'try'\n",
        "     finally:\n",
        "         return 'finally'\n",
        "\n",
        "print(foo())"
      ],
      "metadata": {
        "colab": {
          "base_uri": "https://localhost:8080/"
        },
        "id": "fNyTRLCAJKfv",
        "outputId": "82bf7d7b-946c-4f67-d9ef-a05a52b65508"
      },
      "execution_count": null,
      "outputs": [
        {
          "output_type": "stream",
          "name": "stdout",
          "text": [
            "finally\n"
          ]
        }
      ]
    },
    {
      "cell_type": "markdown",
      "metadata": {
        "id": "1S2FPkekt-Sg"
      },
      "source": [
        "## Создание собственных исключений в Python"
      ]
    },
    {
      "cell_type": "markdown",
      "metadata": {
        "id": "W3DfTCi2ukrg"
      },
      "source": [
        "Кроме встроенных исключений в Python, как и во многих других языках программирования, можно создавать свои собственные исключения."
      ]
    },
    {
      "cell_type": "code",
      "execution_count": null,
      "metadata": {
        "colab": {
          "base_uri": "https://localhost:8080/",
          "height": 200
        },
        "id": "pOwqL1yD0H1m",
        "outputId": "55895b10-4e02-4e78-ac13-5eb36e9db29a"
      },
      "outputs": [
        {
          "ename": "WrongExtensionException",
          "evalue": "ignored",
          "output_type": "error",
          "traceback": [
            "\u001b[0;31m---------------------------------------------------------------------------\u001b[0m",
            "\u001b[0;31mWrongExtensionException\u001b[0m                   Traceback (most recent call last)",
            "\u001b[0;32m<ipython-input-3-529ffc9e5e16>\u001b[0m in \u001b[0;36m<module>\u001b[0;34m()\u001b[0m\n\u001b[1;32m     14\u001b[0m \u001b[0mfile_extension\u001b[0m \u001b[0;34m=\u001b[0m \u001b[0mpart_of_file_name\u001b[0m\u001b[0;34m[\u001b[0m\u001b[0mlen\u001b[0m\u001b[0;34m(\u001b[0m\u001b[0mpart_of_file_name\u001b[0m\u001b[0;34m)\u001b[0m \u001b[0;34m-\u001b[0m \u001b[0;36m1\u001b[0m\u001b[0;34m]\u001b[0m\u001b[0;34m\u001b[0m\u001b[0;34m\u001b[0m\u001b[0m\n\u001b[1;32m     15\u001b[0m \u001b[0;32mif\u001b[0m \u001b[0mfile_extension\u001b[0m \u001b[0;34m!=\u001b[0m \u001b[0;34m'txt'\u001b[0m\u001b[0;34m:\u001b[0m\u001b[0;34m\u001b[0m\u001b[0;34m\u001b[0m\u001b[0m\n\u001b[0;32m---> 16\u001b[0;31m     \u001b[0;32mraise\u001b[0m \u001b[0mWrongExtensionException\u001b[0m\u001b[0;34m\u001b[0m\u001b[0;34m\u001b[0m\u001b[0m\n\u001b[0m",
            "\u001b[0;31mWrongExtensionException\u001b[0m: Файл не txt расширения"
          ]
        }
      ],
      "source": [
        "class WrongExtensionException(Exception):\n",
        "    def __init__(self, *args):\n",
        "        if args:\n",
        "            self.message = args[0]\n",
        "        else:\n",
        "            self.message = \"Файл не txt расширения\"\n",
        "\n",
        "    def __str__(self):\n",
        "        return format(self.message)\n",
        "\n",
        "\n",
        "file_name = \"file_name.tt\"\n",
        "part_of_file_name = file_name.split('.')\n",
        "file_extension = part_of_file_name[len(part_of_file_name) - 1]\n",
        "if file_extension != 'txt':\n",
        "    raise WrongExtensionException"
      ]
    },
    {
      "cell_type": "markdown",
      "source": [
        "Т.к. все исключения в Python - это классы, то мы просто создаём класс, унаследованный от нужного нам исключения."
      ],
      "metadata": {
        "id": "FVFNY78Tnsev"
      }
    },
    {
      "cell_type": "markdown",
      "metadata": {
        "id": "SZa8LcIabsr7"
      },
      "source": [
        "#Типы исключений"
      ]
    },
    {
      "cell_type": "markdown",
      "metadata": {
        "id": "ucKckfZWbyKK"
      },
      "source": [
        "##StopIteration\n",
        "\n",
        "\n"
      ]
    },
    {
      "cell_type": "markdown",
      "metadata": {
        "id": "Cypj7bnVama3"
      },
      "source": [
        "StopIteration - исключение, возникающее при вызоме метода next() или \\_\\_next__() когда в итераторе не осталось элементов"
      ]
    },
    {
      "cell_type": "code",
      "execution_count": null,
      "metadata": {
        "colab": {
          "base_uri": "https://localhost:8080/",
          "height": 356
        },
        "id": "MvCWVoL2a1Bj",
        "outputId": "719caf4c-056b-4e5d-a088-ab51f8e80292"
      },
      "outputs": [
        {
          "output_type": "stream",
          "name": "stdout",
          "text": [
            "I\n",
            "t\n",
            "e\n",
            "r\n",
            "a\n",
            "t\n",
            "o\n",
            "r\n"
          ]
        },
        {
          "output_type": "error",
          "ename": "StopIteration",
          "evalue": "ignored",
          "traceback": [
            "\u001b[0;31m---------------------------------------------------------------------------\u001b[0m",
            "\u001b[0;31mStopIteration\u001b[0m                             Traceback (most recent call last)",
            "\u001b[0;32m<ipython-input-3-c7dc7393daea>\u001b[0m in \u001b[0;36m<module>\u001b[0;34m()\u001b[0m\n\u001b[1;32m      3\u001b[0m \u001b[0;34m\u001b[0m\u001b[0m\n\u001b[1;32m      4\u001b[0m \u001b[0;32mwhile\u001b[0m \u001b[0;32mTrue\u001b[0m\u001b[0;34m:\u001b[0m\u001b[0;34m\u001b[0m\u001b[0;34m\u001b[0m\u001b[0m\n\u001b[0;32m----> 5\u001b[0;31m     \u001b[0mitem\u001b[0m \u001b[0;34m=\u001b[0m \u001b[0mnext\u001b[0m\u001b[0;34m(\u001b[0m\u001b[0miterable_obj\u001b[0m\u001b[0;34m)\u001b[0m\u001b[0;34m\u001b[0m\u001b[0;34m\u001b[0m\u001b[0m\n\u001b[0m\u001b[1;32m      6\u001b[0m     \u001b[0mprint\u001b[0m\u001b[0;34m(\u001b[0m\u001b[0mitem\u001b[0m\u001b[0;34m)\u001b[0m\u001b[0;34m\u001b[0m\u001b[0;34m\u001b[0m\u001b[0m\n",
            "\u001b[0;31mStopIteration\u001b[0m: "
          ]
        }
      ],
      "source": [
        "iterable_value = 'Iterator'\n",
        "iterable_obj = iter(iterable_value)\n",
        "  \n",
        "while True:\n",
        "    item = next(iterable_obj)\n",
        "    print(item)"
      ]
    },
    {
      "cell_type": "markdown",
      "metadata": {
        "id": "MPc4LQmTb409"
      },
      "source": [
        "##StopAsyncIteration"
      ]
    },
    {
      "cell_type": "markdown",
      "metadata": {
        "id": "at6TpRn5hbgJ"
      },
      "source": [
        "StopAsyncIteration - исключение, возникающее методом \\_\\_anext__ в  асинхронных итераторах"
      ]
    },
    {
      "cell_type": "markdown",
      "metadata": {
        "id": "91kTV-kWcGSV"
      },
      "source": [
        "##ArithmeticError"
      ]
    },
    {
      "cell_type": "markdown",
      "metadata": {
        "id": "99Rnoez2cqkY"
      },
      "source": [
        "###OverflowError"
      ]
    },
    {
      "cell_type": "markdown",
      "metadata": {
        "id": "pac9KSoBizQg"
      },
      "source": [
        "OverflowError - исключение, возникающее когда результат арифметических операций слищком большой для представления в определённом типе"
      ]
    },
    {
      "cell_type": "markdown",
      "metadata": {
        "id": "YHBROsr7cqqJ"
      },
      "source": [
        "###ZeroDivisionError"
      ]
    },
    {
      "cell_type": "markdown",
      "metadata": {
        "id": "zhuMesb8df_y"
      },
      "source": [
        "ZeroDivisionError - исключение, возникающее при делении числа на 0"
      ]
    },
    {
      "cell_type": "code",
      "execution_count": null,
      "metadata": {
        "colab": {
          "base_uri": "https://localhost:8080/",
          "height": 165
        },
        "id": "64n6-v2ueDZ_",
        "outputId": "d2de9ace-4431-4df0-d6f5-5207c15ba744"
      },
      "outputs": [
        {
          "output_type": "error",
          "ename": "ZeroDivisionError",
          "evalue": "ignored",
          "traceback": [
            "\u001b[0;31m---------------------------------------------------------------------------\u001b[0m",
            "\u001b[0;31mZeroDivisionError\u001b[0m                         Traceback (most recent call last)",
            "\u001b[0;32m<ipython-input-1-8b4ac6d3a3e1>\u001b[0m in \u001b[0;36m<module>\u001b[0;34m()\u001b[0m\n\u001b[0;32m----> 1\u001b[0;31m \u001b[0;36m2\u001b[0m \u001b[0;34m/\u001b[0m \u001b[0;36m0\u001b[0m\u001b[0;34m\u001b[0m\u001b[0;34m\u001b[0m\u001b[0m\n\u001b[0m",
            "\u001b[0;31mZeroDivisionError\u001b[0m: division by zero"
          ]
        }
      ],
      "source": [
        "2 / 0"
      ]
    },
    {
      "cell_type": "markdown",
      "metadata": {
        "id": "kAkCKa7AcGaF"
      },
      "source": [
        "##AssertionError"
      ]
    },
    {
      "cell_type": "markdown",
      "metadata": {
        "id": "KMV2ZeVwkj5z"
      },
      "source": [
        "AssertionError - исключение, возникаеющее в случаях, когда assert не увенчалась успехом."
      ]
    },
    {
      "cell_type": "code",
      "execution_count": null,
      "metadata": {
        "id": "PCxwda8Qk1W5",
        "colab": {
          "base_uri": "https://localhost:8080/",
          "height": 165
        },
        "outputId": "d4f38365-1e56-475a-f7ea-95f56afb2a3c"
      },
      "outputs": [
        {
          "output_type": "error",
          "ename": "AssertionError",
          "evalue": "ignored",
          "traceback": [
            "\u001b[0;31m---------------------------------------------------------------------------\u001b[0m",
            "\u001b[0;31mAssertionError\u001b[0m                            Traceback (most recent call last)",
            "\u001b[0;32m<ipython-input-4-f8fd390ec0e1>\u001b[0m in \u001b[0;36m<module>\u001b[0;34m()\u001b[0m\n\u001b[0;32m----> 1\u001b[0;31m \u001b[0;32massert\u001b[0m \u001b[0;36m1\u001b[0m \u001b[0;34m==\u001b[0m \u001b[0;36m2\u001b[0m\u001b[0;34m,\u001b[0m \u001b[0;34m\"But why?\"\u001b[0m\u001b[0;34m\u001b[0m\u001b[0;34m\u001b[0m\u001b[0m\n\u001b[0m",
            "\u001b[0;31mAssertionError\u001b[0m: But why?"
          ]
        }
      ],
      "source": [
        "assert 1 == 2, \"But why?\""
      ]
    },
    {
      "cell_type": "markdown",
      "metadata": {
        "id": "orrjhrYocGft"
      },
      "source": [
        "##AttributeError"
      ]
    },
    {
      "cell_type": "markdown",
      "metadata": {
        "id": "zn_mp1ERx-ZK"
      },
      "source": [
        "AttributeError - исключение, возникающее в ходе обращения к атрибуту объекта"
      ]
    },
    {
      "cell_type": "code",
      "execution_count": null,
      "metadata": {
        "id": "gwXKVKV8x8D1",
        "colab": {
          "base_uri": "https://localhost:8080/",
          "height": 182
        },
        "outputId": "4e4c565a-1e7e-49dc-9f6a-2e8c1437c271"
      },
      "outputs": [
        {
          "output_type": "error",
          "ename": "AttributeError",
          "evalue": "ignored",
          "traceback": [
            "\u001b[0;31m---------------------------------------------------------------------------\u001b[0m",
            "\u001b[0;31mAttributeError\u001b[0m                            Traceback (most recent call last)",
            "\u001b[0;32m<ipython-input-1-8aa689ff3fa8>\u001b[0m in \u001b[0;36m<module>\u001b[0;34m()\u001b[0m\n\u001b[1;32m      1\u001b[0m \u001b[0mX\u001b[0m \u001b[0;34m=\u001b[0m \u001b[0;36m10\u001b[0m\u001b[0;34m\u001b[0m\u001b[0;34m\u001b[0m\u001b[0m\n\u001b[0;32m----> 2\u001b[0;31m \u001b[0mX\u001b[0m\u001b[0;34m.\u001b[0m\u001b[0mappend\u001b[0m\u001b[0;34m(\u001b[0m\u001b[0;36m6\u001b[0m\u001b[0;34m)\u001b[0m\u001b[0;34m\u001b[0m\u001b[0;34m\u001b[0m\u001b[0m\n\u001b[0m",
            "\u001b[0;31mAttributeError\u001b[0m: 'int' object has no attribute 'append'"
          ]
        }
      ],
      "source": [
        "X = 10\n",
        "X.append(6)"
      ]
    },
    {
      "cell_type": "markdown",
      "metadata": {
        "id": "9HVnnmk3cGij"
      },
      "source": [
        "##BufferError"
      ]
    },
    {
      "cell_type": "markdown",
      "metadata": {
        "id": "T1C10E6c1lD9"
      },
      "source": [
        "BufferError - исключение, возникающее, когда операция, тем или иным образом связанная с буфером, не может быть выполнена."
      ]
    },
    {
      "cell_type": "markdown",
      "metadata": {
        "id": "qau1v7dfcGk_"
      },
      "source": [
        "##EOFError"
      ]
    },
    {
      "cell_type": "markdown",
      "source": [
        "EOFError - исключение, возникающее в случае обнаружения маркера EOF в ходе считывания данных"
      ],
      "metadata": {
        "id": "NDFvyGIWd5l4"
      }
    },
    {
      "cell_type": "markdown",
      "metadata": {
        "id": "-L1Wp6OEcGnL"
      },
      "source": [
        "##ImportError"
      ]
    },
    {
      "cell_type": "markdown",
      "source": [
        "###ModuleNotFoundError\n"
      ],
      "metadata": {
        "id": "PQSVbD4s7jKL"
      }
    },
    {
      "cell_type": "markdown",
      "metadata": {
        "id": "dHyCNTbA5FAA"
      },
      "source": [
        "ModuleNotFoundError - исключение, возникающее при попытке импортировать несуществующий модуль."
      ]
    },
    {
      "cell_type": "code",
      "execution_count": null,
      "metadata": {
        "colab": {
          "base_uri": "https://localhost:8080/",
          "height": 304
        },
        "id": "xZuNK8Z_-4sa",
        "outputId": "0d893b24-39d1-423c-a172-f9ef718bdd96"
      },
      "outputs": [
        {
          "output_type": "error",
          "ename": "ModuleNotFoundError",
          "evalue": "ignored",
          "traceback": [
            "\u001b[0;31m---------------------------------------------------------------------------\u001b[0m",
            "\u001b[0;31mModuleNotFoundError\u001b[0m                       Traceback (most recent call last)",
            "\u001b[0;32m<ipython-input-3-16abb84ee5ca>\u001b[0m in \u001b[0;36m<module>\u001b[0;34m()\u001b[0m\n\u001b[0;32m----> 1\u001b[0;31m \u001b[0;32mimport\u001b[0m \u001b[0mmy_class\u001b[0m\u001b[0;34m\u001b[0m\u001b[0;34m\u001b[0m\u001b[0m\n\u001b[0m",
            "\u001b[0;31mModuleNotFoundError\u001b[0m: No module named 'my_class'",
            "",
            "\u001b[0;31m---------------------------------------------------------------------------\u001b[0;32m\nNOTE: If your import is failing due to a missing package, you can\nmanually install dependencies using either !pip or !apt.\n\nTo view examples of installing some common dependencies, click the\n\"Open Examples\" button below.\n\u001b[0;31m---------------------------------------------------------------------------\u001b[0m\n"
          ],
          "errorDetails": {
            "actions": [
              {
                "action": "open_url",
                "actionText": "Open Examples",
                "url": "/notebooks/snippets/importing_libraries.ipynb"
              }
            ]
          }
        }
      ],
      "source": [
        "import my_class"
      ]
    },
    {
      "cell_type": "markdown",
      "metadata": {
        "id": "1ZpPjcmd8B-W"
      },
      "source": [
        "##LookupError"
      ]
    },
    {
      "cell_type": "markdown",
      "source": [
        "###IndexError"
      ],
      "metadata": {
        "id": "FLtEVWer9l_0"
      }
    },
    {
      "cell_type": "markdown",
      "source": [
        "IndexError - исключение, возникающее при обращении к элементу по индексу, находящемуся вне диапазона"
      ],
      "metadata": {
        "id": "I32zG6AX9vBd"
      }
    },
    {
      "cell_type": "code",
      "source": [
        "my_list = [0]\n",
        "my_list[1]"
      ],
      "metadata": {
        "colab": {
          "base_uri": "https://localhost:8080/",
          "height": 182
        },
        "id": "VdIs9gnB-A1H",
        "outputId": "039f1fae-a82b-43af-9b23-88bfc2461a20"
      },
      "execution_count": null,
      "outputs": [
        {
          "output_type": "error",
          "ename": "IndexError",
          "evalue": "ignored",
          "traceback": [
            "\u001b[0;31m---------------------------------------------------------------------------\u001b[0m",
            "\u001b[0;31mIndexError\u001b[0m                                Traceback (most recent call last)",
            "\u001b[0;32m<ipython-input-4-fcd80713c751>\u001b[0m in \u001b[0;36m<module>\u001b[0;34m()\u001b[0m\n\u001b[1;32m      1\u001b[0m \u001b[0mmy_list\u001b[0m \u001b[0;34m=\u001b[0m \u001b[0;34m[\u001b[0m\u001b[0;36m0\u001b[0m\u001b[0;34m]\u001b[0m\u001b[0;34m\u001b[0m\u001b[0;34m\u001b[0m\u001b[0m\n\u001b[0;32m----> 2\u001b[0;31m \u001b[0mmy_list\u001b[0m\u001b[0;34m[\u001b[0m\u001b[0;36m1\u001b[0m\u001b[0;34m]\u001b[0m\u001b[0;34m\u001b[0m\u001b[0;34m\u001b[0m\u001b[0m\n\u001b[0m",
            "\u001b[0;31mIndexError\u001b[0m: list index out of range"
          ]
        }
      ]
    },
    {
      "cell_type": "markdown",
      "source": [
        "###KeyError"
      ],
      "metadata": {
        "id": "yOokvKyb9qfM"
      }
    },
    {
      "cell_type": "markdown",
      "source": [
        "KeyError - исключение, возникающее при попытке получить доступ к ключу из dict, которого не существует"
      ],
      "metadata": {
        "id": "-bBTfWNg-m2O"
      }
    },
    {
      "cell_type": "code",
      "source": [
        "my_dict = {'a': 1}\n",
        "my_dict['b']"
      ],
      "metadata": {
        "colab": {
          "base_uri": "https://localhost:8080/",
          "height": 182
        },
        "id": "GNedn15T-JXh",
        "outputId": "ee944451-5fc7-433b-ec08-519caa454ea2"
      },
      "execution_count": null,
      "outputs": [
        {
          "output_type": "error",
          "ename": "KeyError",
          "evalue": "ignored",
          "traceback": [
            "\u001b[0;31m---------------------------------------------------------------------------\u001b[0m",
            "\u001b[0;31mKeyError\u001b[0m                                  Traceback (most recent call last)",
            "\u001b[0;32m<ipython-input-1-a1eff686b823>\u001b[0m in \u001b[0;36m<module>\u001b[0;34m()\u001b[0m\n\u001b[1;32m      1\u001b[0m \u001b[0mmy_dict\u001b[0m \u001b[0;34m=\u001b[0m \u001b[0;34m{\u001b[0m\u001b[0;34m'a'\u001b[0m\u001b[0;34m:\u001b[0m \u001b[0;36m1\u001b[0m\u001b[0;34m}\u001b[0m\u001b[0;34m\u001b[0m\u001b[0;34m\u001b[0m\u001b[0m\n\u001b[0;32m----> 2\u001b[0;31m \u001b[0mmy_dict\u001b[0m\u001b[0;34m[\u001b[0m\u001b[0;34m'b'\u001b[0m\u001b[0;34m]\u001b[0m\u001b[0;34m\u001b[0m\u001b[0;34m\u001b[0m\u001b[0m\n\u001b[0m",
            "\u001b[0;31mKeyError\u001b[0m: 'b'"
          ]
        }
      ]
    },
    {
      "cell_type": "markdown",
      "metadata": {
        "id": "GVN7xuAocGpj"
      },
      "source": [
        "##MemoryError"
      ]
    },
    {
      "cell_type": "markdown",
      "source": [
        "MemoryError - исключение, возникающее в некритичных случаях исчерпания свободной памяти"
      ],
      "metadata": {
        "id": "j5L5iLADemLj"
      }
    },
    {
      "cell_type": "markdown",
      "metadata": {
        "id": "ILvkIc9ScGr-"
      },
      "source": [
        "##NameError"
      ]
    },
    {
      "cell_type": "markdown",
      "metadata": {
        "id": "6ZkCI00X_Mvr"
      },
      "source": [
        "NameError - исключение, возникающее при обращении к не существующей переменной или методу"
      ]
    },
    {
      "cell_type": "code",
      "execution_count": null,
      "metadata": {
        "colab": {
          "base_uri": "https://localhost:8080/",
          "height": 165
        },
        "id": "gg0UDurP_Os4",
        "outputId": "5487ef03-11b5-4d95-91ef-a06639bad93b"
      },
      "outputs": [
        {
          "output_type": "error",
          "ename": "NameError",
          "evalue": "ignored",
          "traceback": [
            "\u001b[0;31m---------------------------------------------------------------------------\u001b[0m",
            "\u001b[0;31mNameError\u001b[0m                                 Traceback (most recent call last)",
            "\u001b[0;32m<ipython-input-2-bca0e2660b9f>\u001b[0m in \u001b[0;36m<module>\u001b[0;34m()\u001b[0m\n\u001b[0;32m----> 1\u001b[0;31m \u001b[0mprint\u001b[0m\u001b[0;34m(\u001b[0m\u001b[0ma\u001b[0m\u001b[0;34m)\u001b[0m\u001b[0;34m\u001b[0m\u001b[0;34m\u001b[0m\u001b[0m\n\u001b[0m",
            "\u001b[0;31mNameError\u001b[0m: name 'a' is not defined"
          ]
        }
      ],
      "source": [
        "print(a)"
      ]
    },
    {
      "cell_type": "markdown",
      "metadata": {
        "id": "wZovhFx3cGuL"
      },
      "source": [
        "##OSError"
      ]
    },
    {
      "cell_type": "markdown",
      "metadata": {
        "id": "SfZ3iSCF_1rf"
      },
      "source": [
        "OSError - исключение, возникающее при системных ошибоках"
      ]
    },
    {
      "cell_type": "code",
      "execution_count": null,
      "metadata": {
        "id": "beE3Lvco_2hc",
        "colab": {
          "base_uri": "https://localhost:8080/",
          "height": 200
        },
        "outputId": "7d0fe021-d9e8-4ae4-c180-5b638c0a9678"
      },
      "outputs": [
        {
          "output_type": "error",
          "ename": "OSError",
          "evalue": "ignored",
          "traceback": [
            "\u001b[0;31m---------------------------------------------------------------------------\u001b[0m",
            "\u001b[0;31mOSError\u001b[0m                                   Traceback (most recent call last)",
            "\u001b[0;32m<ipython-input-3-3d1c304c5e44>\u001b[0m in \u001b[0;36m<module>\u001b[0;34m()\u001b[0m\n\u001b[1;32m      1\u001b[0m \u001b[0;32mimport\u001b[0m \u001b[0mos\u001b[0m\u001b[0;34m\u001b[0m\u001b[0;34m\u001b[0m\u001b[0m\n\u001b[1;32m      2\u001b[0m \u001b[0;34m\u001b[0m\u001b[0m\n\u001b[0;32m----> 3\u001b[0;31m \u001b[0mprint\u001b[0m\u001b[0;34m(\u001b[0m\u001b[0mos\u001b[0m\u001b[0;34m.\u001b[0m\u001b[0mttyname\u001b[0m\u001b[0;34m(\u001b[0m\u001b[0;36m1\u001b[0m\u001b[0;34m)\u001b[0m\u001b[0;34m)\u001b[0m\u001b[0;34m\u001b[0m\u001b[0;34m\u001b[0m\u001b[0m\n\u001b[0m",
            "\u001b[0;31mOSError\u001b[0m: [Errno 25] Inappropriate ioctl for device"
          ]
        }
      ],
      "source": [
        "import os\n",
        "  \n",
        "print(os.ttyname(1))"
      ]
    },
    {
      "cell_type": "markdown",
      "metadata": {
        "id": "bCCCVRyp8CM0"
      },
      "source": [
        "##RuntimeError"
      ]
    },
    {
      "cell_type": "markdown",
      "source": [
        "RuntimeError - исключение, возникающее когда ошибку нельзя отнести к какой-либо категории"
      ],
      "metadata": {
        "id": "fSM7-KXyB2Vm"
      }
    },
    {
      "cell_type": "markdown",
      "source": [
        "###NotImplementedError"
      ],
      "metadata": {
        "id": "2jZWCPCzEmDi"
      }
    },
    {
      "cell_type": "markdown",
      "source": [
        "NotImplementedError - исключение, возникающее в случаях, когда наследник класса не переопределил метод, который должен был переопределить"
      ],
      "metadata": {
        "id": "Jfb05wn0FQFi"
      }
    },
    {
      "cell_type": "code",
      "source": [
        "class MyClass(object):\n",
        "\n",
        "        def __init__(self):\n",
        "            self.run()\n",
        "\n",
        "        def run(self):\n",
        "            raise NotImplementedError(\n",
        "                'Определите run в %s.' % (self.__class__.__name__))\n",
        "\n",
        "\n",
        "class MySubclass(MyClass):\n",
        "        \"\"\"Наследник, у которого run должен был быть определён.\"\"\"\n",
        "\n",
        "\n",
        "my_obj = MySubclass()  # NotImplementedError: Определите run в MySubclass."
      ],
      "metadata": {
        "colab": {
          "base_uri": "https://localhost:8080/",
          "height": 346
        },
        "id": "qI3kFEuWFdkl",
        "outputId": "2be88690-fd40-4a98-e2e6-3aacb6c1e946"
      },
      "execution_count": null,
      "outputs": [
        {
          "output_type": "error",
          "ename": "NotImplementedError",
          "evalue": "ignored",
          "traceback": [
            "\u001b[0;31m---------------------------------------------------------------------------\u001b[0m",
            "\u001b[0;31mNotImplementedError\u001b[0m                       Traceback (most recent call last)",
            "\u001b[0;32m<ipython-input-10-97ff017fc233>\u001b[0m in \u001b[0;36m<module>\u001b[0;34m()\u001b[0m\n\u001b[1;32m     13\u001b[0m \u001b[0;34m\u001b[0m\u001b[0m\n\u001b[1;32m     14\u001b[0m \u001b[0;34m\u001b[0m\u001b[0m\n\u001b[0;32m---> 15\u001b[0;31m \u001b[0mmy_obj\u001b[0m \u001b[0;34m=\u001b[0m \u001b[0mMySubclass\u001b[0m\u001b[0;34m(\u001b[0m\u001b[0;34m)\u001b[0m  \u001b[0;31m# NotImplementedError: Определите run в MySubclass.\u001b[0m\u001b[0;34m\u001b[0m\u001b[0;34m\u001b[0m\u001b[0m\n\u001b[0m",
            "\u001b[0;32m<ipython-input-10-97ff017fc233>\u001b[0m in \u001b[0;36m__init__\u001b[0;34m(self)\u001b[0m\n\u001b[1;32m      2\u001b[0m \u001b[0;34m\u001b[0m\u001b[0m\n\u001b[1;32m      3\u001b[0m         \u001b[0;32mdef\u001b[0m \u001b[0m__init__\u001b[0m\u001b[0;34m(\u001b[0m\u001b[0mself\u001b[0m\u001b[0;34m)\u001b[0m\u001b[0;34m:\u001b[0m\u001b[0;34m\u001b[0m\u001b[0;34m\u001b[0m\u001b[0m\n\u001b[0;32m----> 4\u001b[0;31m             \u001b[0mself\u001b[0m\u001b[0;34m.\u001b[0m\u001b[0mrun\u001b[0m\u001b[0;34m(\u001b[0m\u001b[0;34m)\u001b[0m\u001b[0;34m\u001b[0m\u001b[0;34m\u001b[0m\u001b[0m\n\u001b[0m\u001b[1;32m      5\u001b[0m \u001b[0;34m\u001b[0m\u001b[0m\n\u001b[1;32m      6\u001b[0m         \u001b[0;32mdef\u001b[0m \u001b[0mrun\u001b[0m\u001b[0;34m(\u001b[0m\u001b[0mself\u001b[0m\u001b[0;34m)\u001b[0m\u001b[0;34m:\u001b[0m\u001b[0;34m\u001b[0m\u001b[0;34m\u001b[0m\u001b[0m\n",
            "\u001b[0;32m<ipython-input-10-97ff017fc233>\u001b[0m in \u001b[0;36mrun\u001b[0;34m(self)\u001b[0m\n\u001b[1;32m      6\u001b[0m         \u001b[0;32mdef\u001b[0m \u001b[0mrun\u001b[0m\u001b[0;34m(\u001b[0m\u001b[0mself\u001b[0m\u001b[0;34m)\u001b[0m\u001b[0;34m:\u001b[0m\u001b[0;34m\u001b[0m\u001b[0;34m\u001b[0m\u001b[0m\n\u001b[1;32m      7\u001b[0m             raise NotImplementedError(\n\u001b[0;32m----> 8\u001b[0;31m                 'Определите run в %s.' % (self.__class__.__name__))\n\u001b[0m\u001b[1;32m      9\u001b[0m \u001b[0;34m\u001b[0m\u001b[0m\n\u001b[1;32m     10\u001b[0m \u001b[0;34m\u001b[0m\u001b[0m\n",
            "\u001b[0;31mNotImplementedError\u001b[0m: Определите run в MySubclass."
          ]
        }
      ]
    },
    {
      "cell_type": "markdown",
      "source": [
        "###RecursionError"
      ],
      "metadata": {
        "id": "ST2i1uUyEpNk"
      }
    },
    {
      "cell_type": "markdown",
      "source": [
        "RecursionError - исключение, возникающее когда интерпретатор обнаруживает что достигнут предел для рекурсивных вызовов"
      ],
      "metadata": {
        "id": "TB8lOa4FFCS7"
      }
    },
    {
      "cell_type": "code",
      "source": [
        "def loop():\n",
        "  loop()\n",
        "\n",
        "loop()"
      ],
      "metadata": {
        "colab": {
          "base_uri": "https://localhost:8080/",
          "height": 362
        },
        "id": "778biMBQB3XU",
        "outputId": "bb7184cf-2479-4630-ecb6-bab8015fd522"
      },
      "execution_count": null,
      "outputs": [
        {
          "output_type": "error",
          "ename": "RecursionError",
          "evalue": "ignored",
          "traceback": [
            "\u001b[0;31m---------------------------------------------------------------------------\u001b[0m",
            "\u001b[0;31mRecursionError\u001b[0m                            Traceback (most recent call last)",
            "\u001b[0;32m<ipython-input-8-0b929f5ed74c>\u001b[0m in \u001b[0;36m<module>\u001b[0;34m()\u001b[0m\n\u001b[1;32m      2\u001b[0m   \u001b[0mloop\u001b[0m\u001b[0;34m(\u001b[0m\u001b[0;34m)\u001b[0m\u001b[0;34m\u001b[0m\u001b[0;34m\u001b[0m\u001b[0m\n\u001b[1;32m      3\u001b[0m \u001b[0;34m\u001b[0m\u001b[0m\n\u001b[0;32m----> 4\u001b[0;31m \u001b[0mloop\u001b[0m\u001b[0;34m(\u001b[0m\u001b[0;34m)\u001b[0m\u001b[0;34m\u001b[0m\u001b[0;34m\u001b[0m\u001b[0m\n\u001b[0m",
            "\u001b[0;32m<ipython-input-8-0b929f5ed74c>\u001b[0m in \u001b[0;36mloop\u001b[0;34m()\u001b[0m\n\u001b[1;32m      1\u001b[0m \u001b[0;32mdef\u001b[0m \u001b[0mloop\u001b[0m\u001b[0;34m(\u001b[0m\u001b[0;34m)\u001b[0m\u001b[0;34m:\u001b[0m\u001b[0;34m\u001b[0m\u001b[0;34m\u001b[0m\u001b[0m\n\u001b[0;32m----> 2\u001b[0;31m   \u001b[0mloop\u001b[0m\u001b[0;34m(\u001b[0m\u001b[0;34m)\u001b[0m\u001b[0;34m\u001b[0m\u001b[0;34m\u001b[0m\u001b[0m\n\u001b[0m\u001b[1;32m      3\u001b[0m \u001b[0;34m\u001b[0m\u001b[0m\n\u001b[1;32m      4\u001b[0m \u001b[0mloop\u001b[0m\u001b[0;34m(\u001b[0m\u001b[0;34m)\u001b[0m\u001b[0;34m\u001b[0m\u001b[0;34m\u001b[0m\u001b[0m\n",
            "... last 1 frames repeated, from the frame below ...\n",
            "\u001b[0;32m<ipython-input-8-0b929f5ed74c>\u001b[0m in \u001b[0;36mloop\u001b[0;34m()\u001b[0m\n\u001b[1;32m      1\u001b[0m \u001b[0;32mdef\u001b[0m \u001b[0mloop\u001b[0m\u001b[0;34m(\u001b[0m\u001b[0;34m)\u001b[0m\u001b[0;34m:\u001b[0m\u001b[0;34m\u001b[0m\u001b[0;34m\u001b[0m\u001b[0m\n\u001b[0;32m----> 2\u001b[0;31m   \u001b[0mloop\u001b[0m\u001b[0;34m(\u001b[0m\u001b[0;34m)\u001b[0m\u001b[0;34m\u001b[0m\u001b[0;34m\u001b[0m\u001b[0m\n\u001b[0m\u001b[1;32m      3\u001b[0m \u001b[0;34m\u001b[0m\u001b[0m\n\u001b[1;32m      4\u001b[0m \u001b[0mloop\u001b[0m\u001b[0;34m(\u001b[0m\u001b[0;34m)\u001b[0m\u001b[0;34m\u001b[0m\u001b[0;34m\u001b[0m\u001b[0m\n",
            "\u001b[0;31mRecursionError\u001b[0m: maximum recursion depth exceeded"
          ]
        }
      ]
    },
    {
      "cell_type": "markdown",
      "metadata": {
        "id": "cUKn78IO8DG9"
      },
      "source": [
        "##SyntaxError"
      ]
    },
    {
      "cell_type": "markdown",
      "source": [
        "###IndentationError"
      ],
      "metadata": {
        "id": "EzrtgAPNGE83"
      }
    },
    {
      "cell_type": "markdown",
      "source": [
        "IndentationError - исключение, возникающее в случаях ошибок отступа"
      ],
      "metadata": {
        "id": "Pk2JJhg7GLZ1"
      }
    },
    {
      "cell_type": "code",
      "source": [
        "    def my_func():\n",
        "    \"\"\"Bad docstring.\"\"\""
      ],
      "metadata": {
        "colab": {
          "base_uri": "https://localhost:8080/",
          "height": 130
        },
        "id": "4fL2daMhGGYk",
        "outputId": "08502ce7-aa8c-4c53-d235-4324d1a18010"
      },
      "execution_count": null,
      "outputs": [
        {
          "output_type": "error",
          "ename": "IndentationError",
          "evalue": "ignored",
          "traceback": [
            "\u001b[0;36m  File \u001b[0;32m\"<ipython-input-11-a2b6404bb094>\"\u001b[0;36m, line \u001b[0;32m2\u001b[0m\n\u001b[0;31m    \"\"\"Bad docstring.\"\"\"\u001b[0m\n\u001b[0m                       ^\u001b[0m\n\u001b[0;31mIndentationError\u001b[0m\u001b[0;31m:\u001b[0m expected an indented block\n"
          ]
        }
      ]
    },
    {
      "cell_type": "markdown",
      "metadata": {
        "id": "0mbePgso8D4X"
      },
      "source": [
        "##SystemError"
      ]
    },
    {
      "cell_type": "markdown",
      "source": [
        "SystemError - исключение, возникающее в случаях ошибок уровня интерпретатора."
      ],
      "metadata": {
        "id": "ue1FlLupGzYg"
      }
    },
    {
      "cell_type": "markdown",
      "source": [
        "##TypeError"
      ],
      "metadata": {
        "id": "D72giKu0-VzA"
      }
    },
    {
      "cell_type": "markdown",
      "source": [
        "TypeError - исключение, возникающее при попытке манипуляции объектом не поддерживающим такого рода манипуляцию."
      ],
      "metadata": {
        "id": "ObFF40QP-YpQ"
      }
    },
    {
      "cell_type": "code",
      "source": [
        "my_list = [0]\n",
        "my_list['0']"
      ],
      "metadata": {
        "colab": {
          "base_uri": "https://localhost:8080/",
          "height": 182
        },
        "id": "huaBJ83O-aDp",
        "outputId": "189785ec-04bc-4bc6-cff0-5d055d79351c"
      },
      "execution_count": null,
      "outputs": [
        {
          "output_type": "error",
          "ename": "TypeError",
          "evalue": "ignored",
          "traceback": [
            "\u001b[0;31m---------------------------------------------------------------------------\u001b[0m",
            "\u001b[0;31mTypeError\u001b[0m                                 Traceback (most recent call last)",
            "\u001b[0;32m<ipython-input-17-c6475c4c8e68>\u001b[0m in \u001b[0;36m<module>\u001b[0;34m()\u001b[0m\n\u001b[1;32m      1\u001b[0m \u001b[0mmy_list\u001b[0m \u001b[0;34m=\u001b[0m \u001b[0;34m[\u001b[0m\u001b[0;36m0\u001b[0m\u001b[0;34m]\u001b[0m\u001b[0;34m\u001b[0m\u001b[0;34m\u001b[0m\u001b[0m\n\u001b[0;32m----> 2\u001b[0;31m \u001b[0mmy_list\u001b[0m\u001b[0;34m[\u001b[0m\u001b[0;34m'0'\u001b[0m\u001b[0;34m]\u001b[0m\u001b[0;34m\u001b[0m\u001b[0;34m\u001b[0m\u001b[0m\n\u001b[0m",
            "\u001b[0;31mTypeError\u001b[0m: list indices must be integers or slices, not str"
          ]
        }
      ]
    },
    {
      "cell_type": "markdown",
      "metadata": {
        "id": "3iIRFoI58D9y"
      },
      "source": [
        "##ValueError"
      ]
    },
    {
      "cell_type": "markdown",
      "source": [
        "ValueError - исключение, возникающее в случаях, когда в функцию передан аргумент с неподдерживаемым значением.\n"
      ],
      "metadata": {
        "id": "AnW2XHi-Hbvx"
      }
    },
    {
      "cell_type": "code",
      "source": [
        "import math \n",
        "math.sqrt(-10)"
      ],
      "metadata": {
        "colab": {
          "base_uri": "https://localhost:8080/",
          "height": 182
        },
        "id": "46rue0kqHirL",
        "outputId": "95504218-c4de-4e3f-cc5a-f35b654399dd"
      },
      "execution_count": null,
      "outputs": [
        {
          "output_type": "error",
          "ename": "ValueError",
          "evalue": "ignored",
          "traceback": [
            "\u001b[0;31m---------------------------------------------------------------------------\u001b[0m",
            "\u001b[0;31mValueError\u001b[0m                                Traceback (most recent call last)",
            "\u001b[0;32m<ipython-input-20-0f0a1fa381c5>\u001b[0m in \u001b[0;36m<module>\u001b[0;34m()\u001b[0m\n\u001b[1;32m      1\u001b[0m \u001b[0;32mimport\u001b[0m \u001b[0mmath\u001b[0m\u001b[0;34m\u001b[0m\u001b[0;34m\u001b[0m\u001b[0m\n\u001b[0;32m----> 2\u001b[0;31m \u001b[0mmath\u001b[0m\u001b[0;34m.\u001b[0m\u001b[0msqrt\u001b[0m\u001b[0;34m(\u001b[0m\u001b[0;34m-\u001b[0m\u001b[0;36m10\u001b[0m\u001b[0;34m)\u001b[0m\u001b[0;34m\u001b[0m\u001b[0;34m\u001b[0m\u001b[0m\n\u001b[0m",
            "\u001b[0;31mValueError\u001b[0m: math domain error"
          ]
        }
      ]
    }
  ],
  "metadata": {
    "colab": {
      "collapsed_sections": [
        "YHBROsr7cqqJ",
        "kAkCKa7AcGaF"
      ],
      "name": "Copy of PPvIS.ipynb",
      "provenance": []
    },
    "kernelspec": {
      "display_name": "Python 3",
      "name": "python3"
    },
    "language_info": {
      "name": "python"
    }
  },
  "nbformat": 4,
  "nbformat_minor": 0
}
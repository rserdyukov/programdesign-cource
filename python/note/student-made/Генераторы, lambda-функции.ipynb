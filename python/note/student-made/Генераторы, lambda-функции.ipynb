{
  "nbformat": 4,
  "nbformat_minor": 0,
  "metadata": {
    "colab": {
      "name": "Copy of lessons_generator_and_lamda_function.ipynb",
      "provenance": [],
      "collapsed_sections": [
        "5GXdKSEMQkWx",
        "MmbJpluWZ3E0",
        "oV8gufrWuRlY",
        "H6_EUsgGJ24E",
        "Ut3dc0CzZIrP",
        "8sZ9jdDodixD",
        "GSufQkDUTwcE",
        "6Jierp4PS8fH",
        "REWiAzcgVPAH"
      ],
      "toc_visible": true
    },
    "kernelspec": {
      "name": "python3",
      "display_name": "Python 3"
    },
    "language_info": {
      "name": "python"
    }
  },
  "cells": [
    {
      "cell_type": "markdown",
      "source": [
        "#Генераторы, lambda-функции\n",
        "\n",
        "\n",
        "---\n",
        "\n",
        "\n"
      ],
      "metadata": {
        "id": "3QKxxEUqgVQp"
      }
    },
    {
      "cell_type": "markdown",
      "source": [
        "Эта лекционная тема сделана студентом *Кулак П. О.* *021703* группа. </br>\n",
        "Она было адаптирована под Jypeter Notebook </br>\n"
      ],
      "metadata": {
        "id": "Ct3u226pPNB-"
      }
    },
    {
      "cell_type": "markdown",
      "source": [
        "## Введение"
      ],
      "metadata": {
        "id": "5GXdKSEMQkWx"
      }
    },
    {
      "cell_type": "markdown",
      "source": [
        "Говоря о Python, обычно используется процедурный и ООП стиль программирования, однако это не значит, что другие стили невозможны. </br>\n",
        "Ниже мы рассмотрим ещё пару вариантов — Функциональное программирование и программирование с помощью генераторов. Последнее, в том числе, привели к появлению сопрограмм, которые позднее помогли создать асинхронность в Python.</br> Сопрограммы и асинхронность выходят за рамки текущей темы, поэтому, если интересно, можете ознакомиться об этом самостоятельно."
      ],
      "metadata": {
        "id": "e3JNVfCbQqjp"
      }
    },
    {
      "cell_type": "markdown",
      "source": [
        "В данной лекции мы рассмотрим:\n",
        "\n",
        "\n",
        "*   Генераторы (генеративные функции)\n",
        "*   Лямбда-функции\n",
        "\n"
      ],
      "metadata": {
        "id": "E5M9hVnlSHyg"
      }
    },
    {
      "cell_type": "markdown",
      "source": [
        "## Генераторы (генеративные функции)"
      ],
      "metadata": {
        "id": "MmbJpluWZ3E0"
      }
    },
    {
      "cell_type": "markdown",
      "source": [
        "***Генераторы*** - это специальный класс функций, который позволяет легко создавать свои *итераторы*. В отличие от обычных функций, генератор не просто возвращает значение и завершает работу, а возвращает итератор, который отдает элементы по одному.\n",
        "\n",
        "\n"
      ],
      "metadata": {
        "id": "gG1Q8yCNcuhh"
      }
    },
    {
      "cell_type": "markdown",
      "source": [
        "***Функции-генераторы*** позволяют создавать особые итерируемые объекты, которые можно затем использовать в операторах цикла или создавать на их основе списки и другие последовательности\n",
        "\n"
      ],
      "metadata": {
        "id": "6Qjajjr1eYV3"
      }
    },
    {
      "cell_type": "markdown",
      "source": [
        "❗️ **Интересно**:\n",
        "\n",
        "---\n",
        "\n",
        "\n",
        "Концепция **функций-генераторов** тесно связана с объектно-ориентированным программированием.</br> Функция-генератор возвращает в качестве результата определенный объект.  Главное свойство этого объекта состоит в том, что его содержимое можно «перебирать», подобно тому, как перебирается содержимое списка. С такими объектами мы уже на самом деле сталкивались — например, когда использовали функцию `range()`. В данном случае речь идет о том, что мы сами можем описать функцию, подобную функции `range()`.\n",
        "\n",
        "---\n",
        "\n",
        "\n"
      ],
      "metadata": {
        "id": "tHIqKHeBevLE"
      }
    },
    {
      "cell_type": "markdown",
      "source": [
        "С формальной точки зрения главное отличие **функции-генератора** от обычной функции состоит в том, что вместо ключевого слова `return` мы используем инструкцию `yield`. Причем речь не идет о простой замене одной инструкции на другую. Вся «идеология» создания функции-генератора отличается от того, что мы делали ранее. </br>\n",
        "Концепция такая: в процессе выполнения функции-генератора необходимо сформировать набор значений, которые затем будут возвращаться при переборе содержимого объекта, возвращаемого функцией-генератором в качестве результата. При этом нет необходимости создавать сам объект — он автоматически создается и возвращается как результат функции. То есть наша задача сводится лишь к тому, чтобы указать, что следует включить в итерируемый объект. Именно для этих целей и служит ключевое слово `yield`. Значение, включаемое в итерируемый объект, указывается после инструкции `yield`.\n",
        "\n",
        "\n",
        "Ниже представлена программа, в которой создаются и используются функции-генераторы."
      ],
      "metadata": {
        "id": "YU4X3_UdfbGv"
      }
    },
    {
      "cell_type": "code",
      "source": [
        "# Функции-генераторы:\n",
        "def names():\n",
        "  yield \"Дядя Фёдор\"\n",
        "  yield \"Пёс Шарик\"\n",
        "  yield \"Кот Матроскин\"\n",
        "\n",
        "def colors():\n",
        "  list_colors = [\"Красный\", \"Зелёный\", \"Синий\"]\n",
        "  for clr in list_colors:\n",
        "    yield clr\n",
        "\n",
        "def myrange(n):\n",
        "  for k in range(n):\n",
        "    yield 2*k+1\n",
        "\n",
        "# Использование функций-генераторов\n",
        "\n",
        "print(\"Они из Простоквашино:\")\n",
        "\n",
        "for name in names():\n",
        "  print(name)\n",
        "\n",
        "\n",
        "print(\"\\nCписок героев\",list(names()))\n",
        "\n",
        "print(\"*****\")\n",
        "\n",
        "rgb = colors()\n",
        "\n",
        "print(\"Цветовой спектр:\")\n",
        "for spectrum in rgb:\n",
        "  print(spectrum, end = \" \")\n",
        "\n",
        "print(\"\\n*****\")\n",
        "\n",
        "print(\"Нечётные числа:\")\n",
        "print(list(myrange(10)))\n",
        "print(tuple(myrange(10)))\n",
        "\n",
        "numbers = myrange(8)\n",
        "list_first = list(numbers)\n",
        "print(\"Первый список:\", list_first)\n",
        "\n",
        "list_second = list(numbers)\n",
        "print(\"Второй список:\", list_second)\n",
        "\n",
        "for num in myrange(8):\n",
        "    print(num, end = \" \")\n",
        "\n",
        "print()\n",
        "\n"
      ],
      "metadata": {
        "colab": {
          "base_uri": "https://localhost:8080/"
        },
        "id": "NrYe7hIoikob",
        "outputId": "a5626709-da4c-4add-8aa9-76bd9bcb0d19"
      },
      "execution_count": null,
      "outputs": [
        {
          "output_type": "stream",
          "name": "stdout",
          "text": [
            "Они из Простоквашино:\n",
            "Дядя Фёдор\n",
            "Пёс Шарик\n",
            "Кот Матроскин\n",
            "\n",
            "Cписок героев ['Дядя Фёдор', 'Пёс Шарик', 'Кот Матроскин']\n",
            "*****\n",
            "Цветовой спектр:\n",
            "Красный Зелёный Синий \n",
            "*****\n",
            "Нечётные числа:\n",
            "[1, 3, 5, 7, 9, 11, 13, 15, 17, 19]\n",
            "(1, 3, 5, 7, 9, 11, 13, 15, 17, 19)\n",
            "Первый список: [1, 3, 5, 7, 9, 11, 13, 15]\n",
            "Второй список: []\n",
            "1 3 5 7 9 11 13 15 \n"
          ]
        }
      ]
    },
    {
      "cell_type": "markdown",
      "source": [
        "В выше представленой программе используется три функции-генератора. Проанализируем код каждой из них"
      ],
      "metadata": {
        "id": "TrP5JgnuwHuG"
      }
    },
    {
      "cell_type": "markdown",
      "source": [
        "\n",
        "\n",
        "1.    В функции `names()` последовательно выполняются команды `yield \"Дядя  Фёдор\"`, `yield \"Пёс  Шарик\"` и `yield \"Кот Матроскин\"`. Поэтому при вызове функции `names()` результатом возвращается объект, который «содержит» элементы \"*Дядя Фёдор*\", \"*Пёс Шарик*\" и \"*Кот Матроскин*\" (извлекаются в той последовательности, как они добавлялись в итерируемый объект).\n",
        "\n",
        "\n",
        "\n",
        "\n",
        "2.    Похожим образом реализуется функция-генератор `colors()`, но на этот раз текстовые значения (названия \"*Красный*\", \"*Зелёный*\" и \"*Синий*\") записываются в список `list_colors`, после чего в операторе цикла переменная `clr` последовательно принимает значения из списка `list_colors` и командой `yield clr` соответствующее значение добавляется в итерируемый объект.\n",
        "\n",
        "3.    Наконец, функция-генератор `myrange()` описана с одним аргументом `n`. В теле функции запускается оператор цикла `for`, в котором переменная `k` пробегает значения от `0` до` n-1` включительно. Для каждого значения `k` выполняется команда `yield 2*k+1`. Таким образом, итерируемый объект «заполняется» последовательностью нечётных чисел, и количество этих чисел определяется аргументом `n` функции-генератора.\n",
        "\n",
        "\n",
        "\n",
        "---\n",
        "\n"
      ],
      "metadata": {
        "id": "rsrcvwXOwW_8"
      }
    },
    {
      "cell_type": "markdown",
      "source": [
        "\n",
        "Далее программа содержит примеры использования функций-генераторов. Так, мы используем инструкцию вызова функции-генератора `names()` в операторе цикла. Еще с помощью данной функции создается список (инструкция `list(names()`). И здесь может сложиться впечатление, что такого же (или похожего) результата мы могли бы добиться, если бы функция `names()` была обычной и возвращала бы в качестве результата список [\"*Дядя Фёдор*\", \"*Кот Матроскин*\", \"*Пёс Шарик*\"]. Но это не так. Между итерируемым объектом и списком, помимо «формальных» отличий, есть одно фундаментальное: содержимое списка можно перебирать много раз, а вот итерируемый объект — «одноразовый». Его «перебрать» можно только один раз. После этого объект к использованию фактически не пригоден. И в программе есть иллюстрация к этому. А именно, командой `rgb = colors()` в переменную `rgb` записывается результат вызова функции-генератора `colors()`. Таким образом, пере- менная `rgb` содержит ссылку на итерируемый объект. Поэтому мы, например, можем использовать эту переменную в операторе цикла, как до этого использовали инструкцию вызова функции-генератора. Но если мы после завершения оператора цикла попытаемся повторить такую же процедуру, ни одна итерация выполнена не будет. Причина как раз в том, что итерируемый объект, на который ссылается переменная `rgb`, уже «израсходован». Использовать его повторно не получится.\n",
        "\n"
      ],
      "metadata": {
        "id": "YgZUl217ATK0"
      }
    },
    {
      "cell_type": "markdown",
      "source": [
        "❗️ **Интересно:**\n",
        "\n",
        "---\n",
        "\n",
        "Если бы мы в операторе цикла вместо переменной `rgb` использовали инструкцию вызова функции-генератора `colors()`, то таких операторов цикла можно было бы использовать сколько угодно. Причина в том, что каждый раз при вызове функции `colors()` создается новый итерируемый объект. При этом переменная `rgb` ссылается на один и тот же объект, созданный при присваивании переменной значения.\n",
        "\n",
        "\n",
        "---\n",
        "\n",
        "\n"
      ],
      "metadata": {
        "id": "6RverMiyBLkt"
      }
    },
    {
      "cell_type": "markdown",
      "source": [
        "При вызове функции-генератора `myrange()` ей передается целочисленный аргумент, определяющий количество нечетных чисел в итерируемом объекте. Результат вызова функции-генератора мож- но использовать в операторе цикла, при создании списка (инструкция `list(myrange(10)`)) или, например, кортежа (инструкция t`uple(myrange(10))`). </br> </br>\n",
        "При этом если мы, как и в случае выше, присваиваем результат вызова функции-генератора переменной (команда `numbers=myrange(8)`), то итерируемый объект, на который ссылается переменная numbers, можно использовать единожды: список командой `list_first = list(numbers)` мы создаем, а вот список, созданный командой `list_secound = list(numbers)`, оказывается пустым. Причина описана\n"
      ],
      "metadata": {
        "id": "2FBuTLfXCsea"
      }
    },
    {
      "cell_type": "markdown",
      "source": [
        "### Генератор класс\n",
        "\n",
        "\n"
      ],
      "metadata": {
        "id": "oV8gufrWuRlY"
      }
    },
    {
      "cell_type": "markdown",
      "source": [
        "Мы видели, что вызов функции генератора возвращает объект генератора. Это заставляет нас задаться вопросом: если существует объект generator, то где находится соответствующий класс generator? 🤔 \n",
        "\n"
      ],
      "metadata": {
        "id": "Q1Pj4nt_wmKP"
      }
    },
    {
      "cell_type": "markdown",
      "source": [
        "Мы также увидели, что `next` не является чем-то особенным, и для запуска генератора не требуется специального ключевого слова `yield`.  *Разве мы не должны иметь возможность определять наш собственный класс генератора без необходимости зависеть от yield или функции генератора?*"
      ],
      "metadata": {
        "id": "5L25hjAQJA5k"
      }
    },
    {
      "cell_type": "markdown",
      "source": [
        "#### Минимальный пример с нуля"
      ],
      "metadata": {
        "id": "H6_EUsgGJ24E"
      }
    },
    {
      "cell_type": "markdown",
      "source": [
        "Такое любопытство помогло бы нам разобраться в реализации генератора. Давайте попробуем написать минимальный класс с нуля, чтобы заменить функцию генератора `my_simple_range`."
      ],
      "metadata": {
        "id": "3nUqOsJ1KMjT"
      }
    },
    {
      "cell_type": "code",
      "source": [
        "# Генератор-класс\n",
        "class MySimpleRangeMinimal:\n",
        "    def __init__(self, start: int, stop: int):\n",
        "        self.start = start\n",
        "        self.stop = stop\n",
        "        self.i = self.start\n",
        "\n",
        "    def send(self, value):\n",
        "        if self.i < self.stop:\n",
        "            out = self.i\n",
        "            self.i = self.i + 1\n",
        "            return out\n",
        "        raise StopIteration\n",
        "\n",
        "    def __next__(self):\n",
        "        return self.send(None)\n",
        "\n",
        "    def __iter__(self):\n",
        "        return self\n",
        "\n",
        "print(list(MySimpleRangeMinimal(0, 6)))\n",
        "# [0, 1, 2, 3, 4, 5]"
      ],
      "metadata": {
        "colab": {
          "base_uri": "https://localhost:8080/"
        },
        "id": "YnRDQ_TkKN8X",
        "outputId": "9ea88a02-1823-4557-e1bb-ea75cc7551a9"
      },
      "execution_count": null,
      "outputs": [
        {
          "output_type": "stream",
          "name": "stdout",
          "text": [
            "[0, 1, 2, 3, 4, 5]\n"
          ]
        }
      ]
    },
    {
      "cell_type": "code",
      "source": [
        "# Генератор-функция\n",
        "def my_simple_range(start: int, stop:int):\n",
        "    i = start\n",
        "    while i < stop:\n",
        "        yield i\n",
        "        i = i + 1\n",
        "\n",
        "print(list(my_simple_range(0, 6)))"
      ],
      "metadata": {
        "colab": {
          "base_uri": "https://localhost:8080/"
        },
        "id": "HG5MxYBnXWBo",
        "outputId": "28bbe018-93d1-4462-c811-56c5b347f1b4"
      },
      "execution_count": null,
      "outputs": [
        {
          "output_type": "stream",
          "name": "stdout",
          "text": [
            "[0, 1, 2, 3, 4, 5]\n"
          ]
        }
      ]
    },
    {
      "cell_type": "markdown",
      "source": [
        "Класс `MySimpleRangeMinimal` выполняет ту же основную задачу, что и функция генератора `my_simple_range`, без необходимости использования `yield` или каких-либо причудливых концепций, таких как простые или расширенные функции и явные или неявные приостановки передачи управления. Мало того, вызов функции генератора с использованием `my_simple_range(0, 6)` устрашающе похож на вызов конструктора класса в `MySimpleRangeMinimal(0, 6)`."
      ],
      "metadata": {
        "id": "KiYHOYjDXfU-"
      }
    },
    {
      "cell_type": "markdown",
      "source": [
        "Класс `MySimpleRangeMinimal` не имеет никакой зависимости, но у него также есть несколько недостатков. Во-первых, он не реализует `throw` и `close`, которые являются другими методами, необходимыми для генератора. Во-вторых, похоже, что у него есть шаблонный код в `__next__` и `__iter__`, если мы сравним его с [исходным кодом](https://github.com/python/cpython/blob/23a567c11ca36eedde0e119443c85cc16075deaf/Lib/_collections_abc.py#L322). В-третьих, это не генератор, даже если он может выполнять ту же основную задачу, что и генератор. Вы можете увидеть это сами, как показано ниже."
      ],
      "metadata": {
        "id": "MT-vRXQrYN_c"
      }
    },
    {
      "cell_type": "code",
      "source": [
        "print(type(my_simple_range(0, 6)))"
      ],
      "metadata": {
        "colab": {
          "base_uri": "https://localhost:8080/"
        },
        "id": "mHS5gCCIY5pg",
        "outputId": "f1257451-af76-4846-b030-a580f248883c"
      },
      "execution_count": null,
      "outputs": [
        {
          "output_type": "stream",
          "name": "stdout",
          "text": [
            "<class 'generator'>\n"
          ]
        }
      ]
    },
    {
      "cell_type": "code",
      "source": [
        "print(type(MySimpleRangeMinimal(0, 6)))"
      ],
      "metadata": {
        "colab": {
          "base_uri": "https://localhost:8080/"
        },
        "id": "lpAurOIpY8vJ",
        "outputId": "59eca865-3ea4-4f13-9db2-bd5a4ba825c3"
      },
      "execution_count": null,
      "outputs": [
        {
          "output_type": "stream",
          "name": "stdout",
          "text": [
            "<class '__main__.MySimpleRangeMinimal'>\n"
          ]
        }
      ]
    },
    {
      "cell_type": "code",
      "source": [
        "from collections.abc import Generator\n",
        "issubclass(MySimpleRangeMinimal, Generator)"
      ],
      "metadata": {
        "colab": {
          "base_uri": "https://localhost:8080/"
        },
        "id": "Cujo7SCjY_C0",
        "outputId": "f7fcc0f9-203b-4e26-f400-93319dbbc23a"
      },
      "execution_count": null,
      "outputs": [
        {
          "output_type": "execute_result",
          "data": {
            "text/plain": [
              "False"
            ]
          },
          "metadata": {},
          "execution_count": 4
        }
      ]
    },
    {
      "cell_type": "markdown",
      "source": [
        "#### Улучшенный пример с использованием ABC"
      ],
      "metadata": {
        "id": "Ut3dc0CzZIrP"
      }
    },
    {
      "cell_type": "markdown",
      "source": [
        "Мы можем исправить все недостатки, просто унаследовав от `collections.abc.Generator`. Это помогает взглянуть на [исходный код](https://github.com/python/cpython/blob/23a567c11ca36eedde0e119443c85cc16075deaf/Lib/_collections_abc.py#L322) генератора, поскольку мы пишем следующий код."
      ],
      "metadata": {
        "id": "aqshHcr9ZMsE"
      }
    },
    {
      "cell_type": "code",
      "source": [
        "from collections.abc import Generator\n",
        "\n",
        "class MySimpleRange(Generator):\n",
        "    def __init__(self, start: int, stop: int):\n",
        "        self.start = start\n",
        "        self.stop = stop\n",
        "        self.i = self.start\n",
        "\n",
        "    def send(self, value):\n",
        "        if self.i < self.stop:\n",
        "            out = self.i\n",
        "            self.i = self.i + 1\n",
        "            return out\n",
        "        raise StopIteration\n",
        "\n",
        "    def throw(self, typ, val=None, tb=None):\n",
        "        super().throw(typ, val, tb)\n",
        "\n",
        "print(list(MySimpleRange(0, 6)))\n",
        "\n",
        "print(type(MySimpleRange(0, 6)))\n",
        "\n",
        "issubclass(MySimpleRange, Generator)"
      ],
      "metadata": {
        "colab": {
          "base_uri": "https://localhost:8080/"
        },
        "id": "ekZzzUOHZp7Z",
        "outputId": "be5acdf2-35da-426d-c61b-a454bdcbbc06"
      },
      "execution_count": null,
      "outputs": [
        {
          "output_type": "stream",
          "name": "stdout",
          "text": [
            "[0, 1, 2, 3, 4, 5]\n",
            "<class '__main__.MySimpleRange'>\n"
          ]
        },
        {
          "output_type": "execute_result",
          "data": {
            "text/plain": [
              "True"
            ]
          },
          "metadata": {},
          "execution_count": 6
        }
      ]
    },
    {
      "cell_type": "markdown",
      "source": [
        "Конструктор и метод отправки одинаковы как для `MySimpleRangeMinimal`, так и для `MySimpleRange`. Но нам не нужно было писать `__next__` и `__iter__` шаблонные методы для `MySimpleRange` за счет написания `throw`, который просто вызывает метод из суперкласса. Так как мы унаследовали от `Generator`. Ожидается, что `MySimpleRange` будет подклассом `Generator`. Может быть интересно отметить, что `my_simple_range(0, 6)` возвращает объект типа `generator`. Тип `generator` представляет собой [встроенный тип](https://docs.python.org/3/library/stdtypes.html#generator-types). Ни `MySimpleRangeMinimal(0, 6),` ни `MySimpleRange(0, 6)` не являются объектами какого-либо встроенного типа."
      ],
      "metadata": {
        "id": "zajLWnrKZ36L"
      }
    },
    {
      "cell_type": "markdown",
      "source": [
        "Что еще более важно, `MySimpleRange` предоставляет методы `close` и `throw`, которых не было в `MySimpleRangeMinimal`. Если вы решили написать класс generator (вместо функции generator) в реальном мире, то наследование от `Generator` - лучший способ."
      ],
      "metadata": {
        "id": "MAEvRuaEbs2u"
      }
    },
    {
      "cell_type": "markdown",
      "source": [
        "#### Итог о генератор-функции и генератор-класс "
      ],
      "metadata": {
        "id": "8sZ9jdDodixD"
      }
    },
    {
      "cell_type": "markdown",
      "source": [
        "Обратите внимание, насколько более подробным и сложным является `MySimpleRange` по сравнению с `my_simple_range`.  Для класса `generator` нам нужно было наследовать от `Generator`, написать метод конструктора, написать метод отправки, который вызывает `StopIteration`, написать метод `throw`, даже если все, что он делает, это вызывает его `super`, а затем связать все эти вещи вместе в рабочий класс. Что касается функции генератора, мы смогли избежать всех этих хлопот вместо единовременных затрат на определение и изучение приостанавливаемых функций. "
      ],
      "metadata": {
        "id": "u1kns5U1dtKb"
      }
    },
    {
      "cell_type": "markdown",
      "source": [
        "## Лямбда-функции"
      ],
      "metadata": {
        "id": "pmrYcFDKMQja"
      }
    },
    {
      "cell_type": "markdown",
      "source": [
        "### О лямбда-функции в Python"
      ],
      "metadata": {
        "id": "GSufQkDUTwcE"
      }
    },
    {
      "cell_type": "markdown",
      "source": [
        "**Lambda** — это инструмент в python и других языках программирования для вызова анонимных функций. Многим это скорее всего ничего не скажет и никак не прояснит того, как она работает, поэтому я расскажу вам просто механизм работы lambda выражений.\n"
      ],
      "metadata": {
        "id": "lb8V5K6hMpk8"
      }
    },
    {
      "cell_type": "markdown",
      "source": [
        "Рассмотрим пример. Например, нам надо написать функцию которая бы считала площадь круга при известном радиусе.\n",
        "\n",
        "Формула площади круга это\n",
        "\n",
        "`S = pi * (r ** 2)`\n",
        "\n",
        "где \n",
        "`S` — это площадь круга </br>\n",
        "`pi` — математическая константа равная 3.14 которую мы получим из стандартной библиотеки Math </br>\n",
        "`r` — радиус круга — единственная переменная которую мы будем передавать нашей функции </br>\n",
        "</br>\n",
        "![Круг](https://sun9-38.userapi.com/sun9-48/s/v1/if2/ZBhB8DoKTrNkF4JK6vsc0-MqQpYZ2KqjO7N9Vz0NJihyLx3NVnGdivwkqi5jOI3Na-5tUmQnsA15Nm4Xdx8m_wKU.jpg?size=182x182&quality=96&type=album \"Площадь круга\")\n",
        "</br>\n",
        "\n",
        "Теперь всё это оформим:"
      ],
      "metadata": {
        "id": "Rp0uGsVxMpQ5"
      }
    },
    {
      "cell_type": "code",
      "source": [
        "import math #Подключаем библиотеку math\n",
        "\n",
        "pi_const = round(math.pi, 2) #округляем pi до второго знака после запятой иначе она будет выглядеть как 3.141592653589793 а нам это будет неудобно\n",
        "\n",
        "# Пишем функцию которая будет вычислять площадь круга по заданному радиусу в обычном варианте записи\n",
        "def area_of_circle_simple(radius):\n",
        "  return pi_const*(radius**2)\n",
        "\n",
        "print(\"Площадь круга с радиусом 5 -\",area_of_circle_simple(5))\n",
        "print(\"Площадь круга с радиусом 12 -\",area_of_circle_simple(12))\n",
        "print(\"Площадь круга с радиусом 26 -\",area_of_circle_simple(26))"
      ],
      "metadata": {
        "colab": {
          "base_uri": "https://localhost:8080/"
        },
        "id": "lX3JhMIbOsI9",
        "outputId": "9e310305-9767-46aa-f330-5f4bbfef9761"
      },
      "execution_count": null,
      "outputs": [
        {
          "output_type": "stream",
          "name": "stdout",
          "text": [
            "Площадь круга с радиусом 5 - 78.5\n",
            "Площадь круга с радиусом 12 - 452.16\n",
            "Площадь круга с радиусом 26 - 2122.64\n"
          ]
        }
      ]
    },
    {
      "cell_type": "markdown",
      "source": [
        "Вроде бы неплохо, но это всё может выглядеть куда круче, если записывать это через lambda:\n"
      ],
      "metadata": {
        "id": "PAf7o-MxPMlF"
      }
    },
    {
      "cell_type": "code",
      "source": [
        "import math #Подключаем библиотеку math\n",
        "\n",
        "pi_const = round(math.pi, 2) #округляем pi до второго знака \n",
        "# после запятой иначе она будет выглядеть \n",
        "# как 3.141592653589793 а нам это будет неудобно\n",
        "\n",
        "print(\"Площадь круга с радиусом 5 -\",(lambda radius: pi_const*(radius**2))(5))\n",
        "print(\"Площадь круга с радиусом 12 -\",(lambda radius: pi_const*(radius**2))(12))\n",
        "print(\"Площадь круга с радиусом 26 -\",(lambda radius: pi_const*(radius**2))(26))"
      ],
      "metadata": {
        "colab": {
          "base_uri": "https://localhost:8080/"
        },
        "id": "cGNlnd3KPPTQ",
        "outputId": "173a5ab2-bc46-4882-e4b7-b30e7638a309"
      },
      "execution_count": null,
      "outputs": [
        {
          "output_type": "stream",
          "name": "stdout",
          "text": [
            "Площадь круга с радиусом 5 - 78.5\n",
            "Площадь круга с радиусом 12 - 452.16\n",
            "Площадь круга с радиусом 26 - 2122.64\n"
          ]
        }
      ]
    },
    {
      "cell_type": "markdown",
      "source": [
        "Чтобы было понятнее, анонимный вызов функции подразумевает то, что вы используете её, нигде не объявляя, как в примере выше."
      ],
      "metadata": {
        "id": "QyLGeY0APg-x"
      }
    },
    {
      "cell_type": "markdown",
      "source": [
        "`print((lambda перечисляются аргументы через запятую : что то с ними делается)(передаем аргументы))` </br>\n",
        "</br>\n",
        "`>>>получаем результат того что находится после двоеточия строкой выше`"
      ],
      "metadata": {
        "id": "y_pXhrt5PmN-"
      }
    },
    {
      "cell_type": "markdown",
      "source": [
        "Рассмотрим пример с двумя входными аргументами. Например, нам надо посчитать объем конуса по следующей формуле: </br> </br>\n",
        "\n",
        "`V = (height*pi_const*(radius**2))/3`\n",
        "\n",
        "![Конус](https://sun9-28.userapi.com/sun9-32/s/v1/if2/fiLuDYWUv4P2KiqkH-pTXORn05JSq4ycprrSvgdVASAlz4AgiuFN-KTrj72mmuJSArrqmQ2081tjmqnihO7TDtw9.jpg?size=200x267&quality=96&type=album \"Объём конуса\") </br> </br>\n",
        "\n",
        "Запишем это все в python:\n",
        "\n"
      ],
      "metadata": {
        "id": "5E8E62YbQ2ux"
      }
    },
    {
      "cell_type": "code",
      "source": [
        "import math #Подключаем библиотеку math\n",
        "\n",
        "pi_const = round(math.pi, 2) #округляем pi до второго знака после запятой иначе она будет выглядеть как 3.141592653589793 а нам это будет неудобно\n",
        "\n",
        "#Формула объема конуса в классической форме записи\n",
        "def cone_volume(height, radius):\n",
        "  volume = (height*pi_const*(radius**2))/3\n",
        "  return volume\n",
        "\n",
        "print(\"Объём конуса при h = 3 и r = 10 ->\",cone_volume(3, 10))"
      ],
      "metadata": {
        "colab": {
          "base_uri": "https://localhost:8080/"
        },
        "id": "6SBPJouEQ7Mt",
        "outputId": "27168b5b-9fa5-450a-aaea-457b290feb51"
      },
      "execution_count": null,
      "outputs": [
        {
          "output_type": "stream",
          "name": "stdout",
          "text": [
            "Объём конуса при h = 3 и r = 10 -> 314.0\n"
          ]
        }
      ]
    },
    {
      "cell_type": "markdown",
      "source": [
        "А теперь как это будет выглядеть в lambda форме:"
      ],
      "metadata": {
        "id": "UcVn_bKsRtYM"
      }
    },
    {
      "cell_type": "code",
      "source": [
        "import math #Подключаем библиотеку math\n",
        "\n",
        "pi_const = round(math.pi, 2) #округляем pi до второго знака после запятой иначе она будет выглядеть как 3.141592653589793 а нам это будет неудобно\n",
        "\n",
        "print(\"Объём конуса при h = 3 и r = 10 ->\",(lambda height, radius : (height*pi_const*(radius**2))/3)(3, 10))\n"
      ],
      "metadata": {
        "colab": {
          "base_uri": "https://localhost:8080/"
        },
        "id": "rNCuXipvRuBD",
        "outputId": "c5e46b1e-cd47-45ef-cbc0-adc32521f600"
      },
      "execution_count": null,
      "outputs": [
        {
          "output_type": "stream",
          "name": "stdout",
          "text": [
            "Объём конуса при h = 3 и r = 10 -> 314.0\n"
          ]
        }
      ]
    },
    {
      "cell_type": "markdown",
      "source": [
        "Количество переменных здесь никак не ограничено. Для примера взяли объём усеченного конуса, где у нас учитываются 2 разные переменные."
      ],
      "metadata": {
        "id": "Psu65eL6R7eh"
      }
    },
    {
      "cell_type": "markdown",
      "source": [
        "После того, как мы разобрались, как работает lambda функция, давайте разберем ещё кое-что интересное, что можно делать с помощью lambda функции, что может оказаться для вас весьма неожиданным — Сортировку.\n",
        "</br> </br>\n",
        "Сортировать одномерные списки в python с помощью lambda довольно глупо — это будет выглядеть, как бряцание мускулами там, где оно совсем не нужно.\n",
        "</br> </br>\n",
        "Ну серьезно допустим, у нас есть обычный список (не важно состоящий из строк или чисел) и нам надо его отсортировать — тут же проще всего использовать встроенную функцию sorted(). И в правду, давайте посмотрим на это."
      ],
      "metadata": {
        "id": "FmttL4yoSGxJ"
      }
    },
    {
      "cell_type": "code",
      "source": [
        "new_int_list = [43,23,56,75,12,32] # Создаем список чисел\n",
        "print(sorted(new_int_list)) # Сортируем список чисел\n",
        "new_string_list = ['zum6z', 'yybt0', 'h1uwq', '2k9f9', 'hin9h', 'b0p0m'] # Создаем список строк\n",
        "print(sorted(new_string_list)) # Сортируем список строк\n"
      ],
      "metadata": {
        "id": "CkfPIpYeSMMi"
      },
      "execution_count": null,
      "outputs": []
    },
    {
      "cell_type": "markdown",
      "source": [
        "В таких ситуациях, действительно, хватает обычного sorted() (ну или sort(), если вам нужно изменить текущий список на месте без создания нового, изменив исходный).\n",
        "</br> </br>\n",
        "Но что, если нужно отсортировать список словарей по разным ключам? Тут может быть запись как в классическом стиле, так и в функциональном. Допустим, у нас есть список книг вселенной Песни Льда и Пламени с датами их публикаций и количеством страниц в них.\n",
        "</br> </br>\n",
        "Как всегда, начнем с классической записи. "
      ],
      "metadata": {
        "id": "lKI8tLwjSTJV"
      }
    },
    {
      "cell_type": "code",
      "source": [
        "# Создали список из словарей книг\n",
        "asoiaf_books = [\n",
        "  {'title' : 'Game of Thrones', 'published' : '1996-08-01', 'pages': 694},\n",
        "  {'title' : 'Clash of Kings', 'published' : '1998-11-16', 'pages': 761},\n",
        "  {'title' : 'Storm of Swords', 'published' : '2000-08-08', 'pages': 973},\n",
        "  {'title' : 'Feast for Crows', 'published' : '2005-10-17', 'pages': 753},\n",
        "  {'title' : 'Dance with Dragons', 'published' : '2011-07-12', 'pages': 1016}\n",
        "]\n",
        "\n",
        "# Функция по получению названия книги\n",
        "def get_title(book):\n",
        "    return book.get('title')\n",
        "\n",
        "# Функция по получению даты публикации книги\n",
        "def get_publish_date(book):\n",
        "    return book.get('published')\n",
        "\n",
        "# Функция по получению количества страниц в книге\n",
        "def get_pages(book):\n",
        "    return book.get('pages')\n",
        "\n",
        "# Сортируем по названию\n",
        "asoiaf_books.sort(key=get_title)\n",
        "for book in asoiaf_books:\n",
        "  print(book)\n",
        "print('-------------')\n",
        "# Сортируем по датам\n",
        "asoiaf_books.sort(key=get_publish_date)\n",
        "for book in asoiaf_books:\n",
        "  print(book)\n",
        "print('-------------')\n",
        "# Сортируем по количеству страниц\n",
        "asoiaf_books.sort(key=get_pages)\n",
        "for book in asoiaf_books:\n",
        "  print(book)"
      ],
      "metadata": {
        "colab": {
          "base_uri": "https://localhost:8080/"
        },
        "id": "V3VF45vpSnHA",
        "outputId": "f4660fbd-17bc-4d78-9439-565ce140a8b6"
      },
      "execution_count": null,
      "outputs": [
        {
          "output_type": "stream",
          "name": "stdout",
          "text": [
            "{'title': 'Clash of Kings', 'published': '1998-11-16', 'pages': 761}\n",
            "{'title': 'Dance with Dragons', 'published': '2011-07-12', 'pages': 1016}\n",
            "{'title': 'Feast for Crows', 'published': '2005-10-17', 'pages': 753}\n",
            "{'title': 'Game of Thrones', 'published': '1996-08-01', 'pages': 694}\n",
            "{'title': 'Storm of Swords', 'published': '2000-08-08', 'pages': 973}\n",
            "-------------\n",
            "{'title': 'Game of Thrones', 'published': '1996-08-01', 'pages': 694}\n",
            "{'title': 'Clash of Kings', 'published': '1998-11-16', 'pages': 761}\n",
            "{'title': 'Storm of Swords', 'published': '2000-08-08', 'pages': 973}\n",
            "{'title': 'Feast for Crows', 'published': '2005-10-17', 'pages': 753}\n",
            "{'title': 'Dance with Dragons', 'published': '2011-07-12', 'pages': 1016}\n",
            "-------------\n",
            "{'title': 'Game of Thrones', 'published': '1996-08-01', 'pages': 694}\n",
            "{'title': 'Feast for Crows', 'published': '2005-10-17', 'pages': 753}\n",
            "{'title': 'Clash of Kings', 'published': '1998-11-16', 'pages': 761}\n",
            "{'title': 'Storm of Swords', 'published': '2000-08-08', 'pages': 973}\n",
            "{'title': 'Dance with Dragons', 'published': '2011-07-12', 'pages': 1016}\n"
          ]
        }
      ]
    },
    {
      "cell_type": "markdown",
      "source": [
        "А теперь перепишем это все через lambda функцию:\n"
      ],
      "metadata": {
        "id": "7cYSeR7mSou1"
      }
    },
    {
      "cell_type": "code",
      "source": [
        "# Создали список из словарей книг\n",
        "asoiaf_books = [\n",
        "  {'title' : 'Game of Thrones', 'published' : '1996-08-01', 'pages': 694},\n",
        "  {'title' : 'Clash of Kings', 'published' : '1998-11-16', 'pages': 761},\n",
        "  {'title' : 'Storm of Swords', 'published' : '2000-08-08', 'pages': 973},\n",
        "  {'title' : 'Feast for Crows', 'published' : '2005-10-17', 'pages': 753},\n",
        "  {'title' : 'Dance with Dragons', 'published' : '2011-07-12', 'pages': 1016}\n",
        "]\n",
        "\n",
        "# Сортируем по названию\n",
        "for book in sorted(asoiaf_books, key=lambda book: book.get('title')):\n",
        "  print(book)\n",
        "\n",
        "print('-------------')\n",
        "\n",
        "# Сортируем по датам\n",
        "for book in sorted(asoiaf_books, key=lambda book: book.get('published')):\n",
        "  print(book)\n",
        "\n",
        "print('-------------')\n",
        "\n",
        "# Сортируем по количеству страниц\n",
        "for book in sorted(asoiaf_books, key=lambda book: book.get('pages')):\n",
        "  print(book)"
      ],
      "metadata": {
        "colab": {
          "base_uri": "https://localhost:8080/"
        },
        "id": "417uKHwSSrCR",
        "outputId": "4131415f-34f4-4ea0-e7f1-c09753d4c805"
      },
      "execution_count": null,
      "outputs": [
        {
          "output_type": "stream",
          "name": "stdout",
          "text": [
            "{'title': 'Clash of Kings', 'published': '1998-11-16', 'pages': 761}\n",
            "{'title': 'Dance with Dragons', 'published': '2011-07-12', 'pages': 1016}\n",
            "{'title': 'Feast for Crows', 'published': '2005-10-17', 'pages': 753}\n",
            "{'title': 'Game of Thrones', 'published': '1996-08-01', 'pages': 694}\n",
            "{'title': 'Storm of Swords', 'published': '2000-08-08', 'pages': 973}\n",
            "-------------\n",
            "{'title': 'Game of Thrones', 'published': '1996-08-01', 'pages': 694}\n",
            "{'title': 'Clash of Kings', 'published': '1998-11-16', 'pages': 761}\n",
            "{'title': 'Storm of Swords', 'published': '2000-08-08', 'pages': 973}\n",
            "{'title': 'Feast for Crows', 'published': '2005-10-17', 'pages': 753}\n",
            "{'title': 'Dance with Dragons', 'published': '2011-07-12', 'pages': 1016}\n",
            "-------------\n",
            "{'title': 'Game of Thrones', 'published': '1996-08-01', 'pages': 694}\n",
            "{'title': 'Feast for Crows', 'published': '2005-10-17', 'pages': 753}\n",
            "{'title': 'Clash of Kings', 'published': '1998-11-16', 'pages': 761}\n",
            "{'title': 'Storm of Swords', 'published': '2000-08-08', 'pages': 973}\n",
            "{'title': 'Dance with Dragons', 'published': '2011-07-12', 'pages': 1016}\n"
          ]
        }
      ]
    },
    {
      "cell_type": "markdown",
      "source": [
        "Таким образом, lambda функция хорошо подходит для сортировки многомерных списков по разным параметрам.\n",
        "</br> </br>\n",
        "Если вы повторите весь этот код самостоятельно, написав его сами, то я уверен, что с этого момента вы сможете сказать, что отныне вы понимаете, как работают lambda выражения, и сможете применять их в работе.\n",
        "</br> </br>\n",
        "Но где же тут та самая экономия места, времени и памяти? Экономится максимум пара строк.\n",
        "</br> </br>\n"
      ],
      "metadata": {
        "id": "8kz7JAusSxIo"
      }
    },
    {
      "cell_type": "markdown",
      "source": [
        "### Замыкание"
      ],
      "metadata": {
        "id": "RKJYmTjGyDHw"
      }
    },
    {
      "cell_type": "markdown",
      "source": [
        "***Замыкание (closure)***  — это функция, в которой каждая свободная переменная, кроме параметров, используемых в этой функции, привязана к определенному значению, определенному в рамках области видимости этой функции. В сущности, замыкания определяют среду, в которой они работают, и поэтому могут вызываться из любого места. Более простое определение замыкания это когда функции более низшего порядка имеют доступ к переменным функции более высшего порядка."
      ],
      "metadata": {
        "id": "QLYL8d94yHGt"
      }
    },
    {
      "cell_type": "markdown",
      "source": [
        "Понятия лямбды и замыкания не обязательно связаны, хотя лямбда-функции могут быть замыканиями так же, как обычные функции также могут быть замыканиями. Некоторые языки имеют специальные конструкции для замыкания или лямбды (например, Groovy с анонимным блоком кода в качестве объекта Closure) или лямбда-выражения (например, лямбда-выражения Java с ограниченным параметром для замыкания)."
      ],
      "metadata": {
        "id": "HMFZmea_zndN"
      }
    },
    {
      "cell_type": "markdown",
      "source": [
        "Вот пример замыкания, построенное с помощью обычной функции Python:"
      ],
      "metadata": {
        "id": "xQeap9mRzrjM"
      }
    },
    {
      "cell_type": "code",
      "source": [
        "def outer_func(x):\n",
        "       y = 4\n",
        "       def inner_func(z):\n",
        "           print(f\"x = {x}, y = {y}, z = {z}\")\n",
        "           return x + y + z\n",
        "       return inner_func\n",
        "\n",
        "for i in range(3):\n",
        "  closure = outer_func(i)\n",
        "  print(f\"closure({i+5}) = {closure(i+5)}\")\n"
      ],
      "metadata": {
        "colab": {
          "base_uri": "https://localhost:8080/"
        },
        "id": "gKC_gMEDzow0",
        "outputId": "a107dac6-947e-4970-ca24-269a8b7a3e42"
      },
      "execution_count": null,
      "outputs": [
        {
          "output_type": "stream",
          "name": "stdout",
          "text": [
            "x = 0, y = 4, z = 5\n",
            "closure(5) = 9\n",
            "x = 1, y = 4, z = 6\n",
            "closure(6) = 11\n",
            "x = 2, y = 4, z = 7\n",
            "closure(7) = 13\n"
          ]
        }
      ]
    },
    {
      "cell_type": "markdown",
      "source": [
        "`outer_func()` возвращает `inner_func()`, вложенную функцию, которая вычисляет сумму трех аргументов:\n",
        "\n",
        "\n",
        "*   `x` передается в качестве аргумента `outer_func()`.\n",
        "*   `y` является локальной переменной для `outer_func()`.\n",
        "*   `z` является локальной переменной для `outer_func()`.\n",
        "\n",
        "\n"
      ],
      "metadata": {
        "id": "IGPpsMfV0eOs"
      }
    },
    {
      "cell_type": "markdown",
      "source": [
        "Чтобы продемонстрировать поведение `outer_func()` и `inner_func()`, `outer_func()` вызывается три раза в цикле `for`, который выводит следующее:\n",
        "\n",
        "```\n",
        "x = 0, y = 4, z = 5\n",
        "closure(5) = 9\n",
        "x = 1, y = 4, z = 6\n",
        "closure(6) = 11\n",
        "x = 2, y = 4, z = 7\n",
        "closure(7) = 13\n",
        "```\n",
        "В строке 9 кода `inner_func()`, возвращаемый вызовом `outer_func()`, привязывается к имени замыкания. В строке 5 `inner_func()` захватывает `x` и `y`, потому что он имеет доступ к своей области видимости, так что при вызове замыкания он может работать с двумя свободными переменными `x` и `y`.\n",
        "\n",
        "\n"
      ],
      "metadata": {
        "id": "jdcUhrIP1UO-"
      }
    },
    {
      "cell_type": "markdown",
      "source": [
        "Точно так же лямбда также может быть замыканием. Вот тот же пример с лямбда-функцией Python:"
      ],
      "metadata": {
        "id": "hqTJi9j_2kUr"
      }
    },
    {
      "cell_type": "code",
      "source": [
        "def outer_func(x):\n",
        "    y = 4\n",
        "    return lambda z: x + y + z\n",
        "\n",
        "for i in range(3):\n",
        "    closure = outer_func(i)\n",
        "    print(f\"closure({i+5}) = {closure(i+5)}\")"
      ],
      "metadata": {
        "colab": {
          "base_uri": "https://localhost:8080/"
        },
        "id": "xBkqmSZA2lSa",
        "outputId": "077c9bd2-92a6-4460-9e04-4d29e13857bd"
      },
      "execution_count": null,
      "outputs": [
        {
          "output_type": "stream",
          "name": "stdout",
          "text": [
            "closure(5) = 9\n",
            "closure(6) = 11\n",
            "closure(7) = 13\n"
          ]
        }
      ]
    },
    {
      "cell_type": "markdown",
      "source": [
        "Когда вы выполняете приведенный выше код, вы получаете следующий вывод:\n",
        "\n",
        "\n",
        "```\n",
        "closure(5) = 9\n",
        "closure(6) = 11\n",
        "closure(7) = 13\n",
        "```\n",
        "\n"
      ],
      "metadata": {
        "id": "L4HAqLKf2o43"
      }
    },
    {
      "cell_type": "markdown",
      "source": [
        "В строке 6 `outer_func()` возвращает лямбду и присваивает ее переменную замыкания. В строке 3 тело лямбда-функции ссылается на `x` и `y`. Переменная `y` доступна во время определения, тогда как `x` определяется во время выполнения, когда вызывается `outer_func()`"
      ],
      "metadata": {
        "id": "LRVoBccR2wmH"
      }
    },
    {
      "cell_type": "markdown",
      "source": [
        "В этой ситуации и нормальная функция, и лямбда ведут себя одинаково. В следующем разделе вы увидите ситуацию, когда поведение лямбды может быть обманчивым из-за времени его оценки (время определения против времени выполнения)."
      ],
      "metadata": {
        "id": "3Ns2uNgO24vd"
      }
    },
    {
      "cell_type": "markdown",
      "source": [
        "### Для закрепления знаний"
      ],
      "metadata": {
        "id": "6Jierp4PS8fH"
      }
    },
    {
      "cell_type": "markdown",
      "source": [
        "Что бы понять как данная тема вам усвоилась предлагаю решить задачу. </br> Надо Ввести список слов из данного списка  найти перевёртыши и вывести список пару где находятся слова перевёртыши "
      ],
      "metadata": {
        "id": "loUT22sGT-lB"
      }
    },
    {
      "cell_type": "markdown",
      "source": [
        "#### Ответ"
      ],
      "metadata": {
        "id": "REWiAzcgVPAH"
      }
    },
    {
      "cell_type": "code",
      "source": [
        "print((lambda a: [elem for elem in a if a.count(elem) > 1 or elem[::-1] in a])(input().split())) \n"
      ],
      "metadata": {
        "colab": {
          "base_uri": "https://localhost:8080/"
        },
        "id": "BsZNJDJxTuuS",
        "outputId": "3f142b5a-9861-4ad7-f753-362b9981d1d2"
      },
      "execution_count": null,
      "outputs": [
        {
          "output_type": "stream",
          "name": "stdout",
          "text": [
            "кот ток мот\n",
            "['кот', 'ток']\n"
          ]
        }
      ]
    }
  ]
}
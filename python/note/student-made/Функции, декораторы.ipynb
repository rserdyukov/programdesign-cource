{
  "nbformat": 4,
  "nbformat_minor": 0,
  "metadata": {
    "colab": {
      "name": "Copy of Functions_and_decorators.ipynb",
      "provenance": [],
      "collapsed_sections": [],
      "toc_visible": true
    },
    "kernelspec": {
      "name": "python3",
      "display_name": "Python 3"
    },
    "language_info": {
      "name": "python"
    }
  },
  "cells": [
    {
      "cell_type": "markdown",
      "source": [
        "# **Функции в Python**\n",
        "\n"
      ],
      "metadata": {
        "id": "Cjsyo1_wt22B"
      }
    },
    {
      "cell_type": "markdown",
      "source": [
        "**Определение функции** \n",
        "\n",
        "\n",
        "---\n",
        "\n",
        "\n",
        "\n",
        "Функция в Python - фрагмент программного кода, к которому можно обратиться из другого места программы. При его обращении можно передавать данные, в качестве параметров функции. Также функции может вовращать данные в качестве результата их выполнения. Синтаксис для объявления обычной функции в Python выглядит следующим образом:\n",
        "\n",
        "\n",
        "```\n",
        "def <Название функции> (<Названия параметров функции>):\n",
        "  <Тело функции>\n",
        "  return <Возвращаемая переменная>\n",
        "```\n",
        "При этом ключевое слово return, котороые возвращает некоторую переменную из функции, **не обязательно**. Тогда функция будет возвращать **None** и будет называться *процедурой*. Также в Python существует возможность возвращения нескольких переменных. Для этого надо после ключевого слова **return** указать через запятую то, что вы хотите вернуть. После ключевого слова **return** функция прекращает работу.\n"
      ],
      "metadata": {
        "id": "QiKX8Gi0zGL_"
      }
    },
    {
      "cell_type": "code",
      "source": [
        "# Пример функции на Python\n",
        "# которая увеличивает входное число на 1\n",
        "# и возвращает его\n",
        "def my_function(number):\n",
        "  return number + 1"
      ],
      "metadata": {
        "id": "OJWN8w0zzFCJ"
      },
      "execution_count": null,
      "outputs": []
    },
    {
      "cell_type": "markdown",
      "source": [
        "В выше приведённом примере функция имеет название *my_function*, один входной аргумент *number*, и возвращает значение данного аргумента, увеличенное на еденицу.\n",
        "Теперь вызовем данную функцию:"
      ],
      "metadata": {
        "id": "r0lv59dU3-KZ"
      }
    },
    {
      "cell_type": "code",
      "execution_count": null,
      "metadata": {
        "colab": {
          "base_uri": "https://localhost:8080/"
        },
        "id": "BlA-u_LYs0YT",
        "outputId": "7b7a76ad-614e-4dc3-a669-6f7e2550096b"
      },
      "outputs": [
        {
          "output_type": "execute_result",
          "data": {
            "text/plain": [
              "6"
            ]
          },
          "metadata": {},
          "execution_count": 118
        }
      ],
      "source": [
        "my_function(5)"
      ]
    },
    {
      "cell_type": "markdown",
      "source": [
        "Как видим, вызов функции в Python достаточно прост: для этого требуется только написать название функции и в круглых скобках после названия указать значения её аргументов."
      ],
      "metadata": {
        "id": "zDmOynAC4yUG"
      }
    },
    {
      "cell_type": "markdown",
      "source": [
        "**Разница между аргументами и параметрами**\n",
        "\n",
        "\n",
        "---\n",
        "\n",
        "\n",
        "\n",
        "Пусть имеется функция возвращающая сумму двух чисел:\n",
        "\n",
        "```\n",
        "def sum(x, y)\n",
        "  return x + y\n",
        "```\n",
        "Тогда x, y - параметры. А при её вызове:\n",
        "```\n",
        "sum(1, 2)\n",
        "```\n",
        "1, 2 - аргументы."
      ],
      "metadata": {
        "id": "-OZiSqHfe5ak"
      }
    },
    {
      "cell_type": "markdown",
      "source": [
        "**Параметры по умолчанию**\n",
        "\n",
        "\n",
        "---\n",
        "\n",
        "\n",
        "\n",
        "В Python, как и во многих других ЯП, имеются *параметры по умолчанию*. *Параметры по умолчанию у функции* - это такие параметры, которые принимают заданные(дефолтные) значения, если не указывать их значения явно.\n",
        "Синтаксис функции с дефолтным параметром, которая просто возвращает значение аргумента, приведён ниже:\n",
        "\n"
      ],
      "metadata": {
        "id": "lrOxlZ8790m3"
      }
    },
    {
      "cell_type": "code",
      "source": [
        "def some_function(number=5):\n",
        "  return number"
      ],
      "metadata": {
        "id": "McYBA40bBLXO"
      },
      "execution_count": null,
      "outputs": []
    },
    {
      "cell_type": "markdown",
      "source": [
        "Выше имеется функция *some_function*,  с параметром по умолчанию *number*, у которого значение - 5.То есть чтобы параметр у функции был по умолчанию надо всего лишь после его названия указать значение."
      ],
      "metadata": {
        "id": "QSAiBIq_Bpq2"
      }
    },
    {
      "cell_type": "code",
      "source": [
        "print(f\"Вызов функции с параметром по умолчанию - {some_function()}\")\n",
        "print(f\"Вызов функции с параметром равным 6 - {some_function(6)}\")"
      ],
      "metadata": {
        "colab": {
          "base_uri": "https://localhost:8080/"
        },
        "id": "7ZPcpmk3C57H",
        "outputId": "161df3a1-6664-45ab-bd8f-df689de2c9b0"
      },
      "execution_count": null,
      "outputs": [
        {
          "output_type": "stream",
          "name": "stdout",
          "text": [
            "Вызов функции с параметром по умолчанию - 5\n",
            "Вызов функции с параметром равным 6 - 6\n"
          ]
        }
      ]
    },
    {
      "cell_type": "markdown",
      "source": [
        "Как мы видим, при вызове функции без указания значения аргумента *number*, функция будет работать со значением, которое является дефолтным."
      ],
      "metadata": {
        "id": "S-JJqqAFFFFK"
      }
    },
    {
      "cell_type": "markdown",
      "source": [
        "**Порядок аргументов в вызове функции. Ключевые и обязательные (позиционные) аргументы**\n",
        "\n",
        "\n",
        "---\n",
        "\n",
        "\n",
        "Аргументы в языке Пайтон делятся на ключенвые и обязательные (или позиционные):\n",
        "Позиционные аргументы указываются простым перечислением.\n",
        "\n",
        "* **Обязательные** аргументы — это аргументы, переданные функции в правильном позиционном порядке. Здесь количество аргументов и их порядок в вызове функции должно точно соответствовать определению функции.\n",
        "\n",
        "\n",
        "Но также языке Python есть возможность указывать явно в вызове функции, какому аргументу вы хотите присвоить данное значение. В данном случае порядок не сохраняется.\n",
        "\n",
        "\n",
        "*   Такие аргументы называются **ключевые**. Ключевые аргументы указываются перечислением *ключ=значение*. Когда вы используете ключевые аргументы в вызове функции, вызывающая сторона идентифицирует аргументы по имени параметра. Это позволяет пропускать аргументы или размещать их не по порядку, поскольку интерпретатор Python может использовать предоставленные ключевые слова (ключи) для сопоставления значений с параметрами.\n",
        "\n",
        "\n",
        "Порядок указания аргументов в вызове функции следуется нескольким правилам:\n",
        "\n",
        "* Оба типа аргументов могут быть в вызове функции.\n",
        "* Сначала указываются все позиционные аргументы (через запятую).\n",
        "* После этого указываются ключевые(через знак равенства).\n",
        "* Если сначала будет указан ключевой, а после него позиционный, то будет вызвано исключение.\n",
        "\n",
        "\n",
        "В данном примере в зависимости от значения параметра *mode* функция либо умножает либо складывает два числа, причём дефолтное значение у неё настроено на суммирование:"
      ],
      "metadata": {
        "id": "IcxPHif-eNrl"
      }
    },
    {
      "cell_type": "code",
      "source": [
        "def my_function(a, b, mode='sum'):\n",
        "  result = None\n",
        "  if mode == 'sum':\n",
        "    result = a + b\n",
        "  elif mode == 'mult':\n",
        "    result = a * b\n",
        "  return result"
      ],
      "metadata": {
        "id": "dAdtrALneNJ4"
      },
      "execution_count": null,
      "outputs": []
    },
    {
      "cell_type": "markdown",
      "source": [
        "Теперь вызовем данную функцию для умножения, где все аргументы ключевые. Причём сначала с указанием значения параметра по умолчанию, а потом без него:"
      ],
      "metadata": {
        "id": "D5ITT9B6xWmE"
      }
    },
    {
      "cell_type": "code",
      "source": [
        "my_function(a=1, b=2, mode='sum'), my_function(a=1, b=2)"
      ],
      "metadata": {
        "colab": {
          "base_uri": "https://localhost:8080/"
        },
        "id": "dH2JZtaLxVnj",
        "outputId": "a403a77b-4396-46d6-a71c-e2eb04b9da33"
      },
      "execution_count": null,
      "outputs": [
        {
          "output_type": "execute_result",
          "data": {
            "text/plain": [
              "(3, 3)"
            ]
          },
          "metadata": {},
          "execution_count": 122
        }
      ]
    },
    {
      "cell_type": "markdown",
      "source": [
        "Как видно, аргументы по умолчанию уже являются ключевым, если их не указывать. Аргумент по умолчанию может являться позиционным, если перед ним в вызове функции все аргументы являются такими же:"
      ],
      "metadata": {
        "id": "91p_315w4PWJ"
      }
    },
    {
      "cell_type": "code",
      "source": [
        "f\"3 x 3 = {my_function(3, 3, 'mult')}\""
      ],
      "metadata": {
        "colab": {
          "base_uri": "https://localhost:8080/",
          "height": 35
        },
        "id": "2IEkpiWX5PcE",
        "outputId": "e2461a88-50b6-4456-e783-f0466ce179f3"
      },
      "execution_count": null,
      "outputs": [
        {
          "output_type": "execute_result",
          "data": {
            "text/plain": [
              "'3 x 3 = 9'"
            ],
            "application/vnd.google.colaboratory.intrinsic+json": {
              "type": "string"
            }
          },
          "metadata": {},
          "execution_count": 123
        }
      ]
    },
    {
      "cell_type": "markdown",
      "source": [
        "**Lambda-функции**\n",
        "\n",
        "\n",
        "---\n",
        "\n",
        "\n",
        "Так как язык Python - мультипарадигменный, то в нём также существуют элементы *функционального программирования*. К таким относятся *лямбда* функции (их также называют *анонимными*). Лямбда функция - это ещё один способ определения функции в Python, но со своими особенностями. Она так же может иметь один или несколько параметров(а может вообще не иметь), но может состоять только их одного выражения. Возвращаемое значение у лямбда функции - это сама функция. \n",
        "Ниже приведён синтаксис по написанию lambda-функций:\n",
        "\n",
        "![python-lambda-functions-new.png](data:image/png;base64,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)\n",
        "\n",
        "Ниже приведён пример с использованием lambda-функции, которая умножает два введённых числа:"
      ],
      "metadata": {
        "id": "Yig3o0UJNBwH"
      }
    },
    {
      "cell_type": "code",
      "source": [
        "lambda_func = lambda x, y: x * y\n",
        "print(\"5 * 2 =\", lambda_func(5, 2))"
      ],
      "metadata": {
        "id": "QL8zGA4fG4lJ",
        "colab": {
          "base_uri": "https://localhost:8080/"
        },
        "outputId": "e462389b-50ee-422c-8a50-ba36445ce190"
      },
      "execution_count": null,
      "outputs": [
        {
          "output_type": "stream",
          "name": "stdout",
          "text": [
            "5 * 2 = 10\n"
          ]
        }
      ]
    },
    {
      "cell_type": "markdown",
      "source": [
        "Так же есть возможность не помещать в некоторую переменную lambda-функцию, а сразу вызывать её с соотвествующими параметрами:\n",
        "\n"
      ],
      "metadata": {
        "id": "6Zy-3zYD6F1s"
      }
    },
    {
      "cell_type": "code",
      "source": [
        "print(\"5 * 2 = \", (lambda x, y: x * y)(5, 2))"
      ],
      "metadata": {
        "colab": {
          "base_uri": "https://localhost:8080/"
        },
        "id": "kV_ehdS76E7O",
        "outputId": "79fe58c9-5c02-4630-a106-7f30982705f6"
      },
      "execution_count": null,
      "outputs": [
        {
          "output_type": "stream",
          "name": "stdout",
          "text": [
            "5 * 2 =  10\n"
          ]
        }
      ]
    },
    {
      "cell_type": "markdown",
      "source": [
        "А можно и так:\n",
        "\n"
      ],
      "metadata": {
        "id": "SgLb0HFI7rpN"
      }
    },
    {
      "cell_type": "code",
      "source": [
        "(lambda x, y: print(\"5 * 2 = \", x * y))(5, 2)"
      ],
      "metadata": {
        "colab": {
          "base_uri": "https://localhost:8080/"
        },
        "id": "07AhTILT7tgi",
        "outputId": "8fdfd2c6-05e4-4c2b-8ddd-2156bd304705"
      },
      "execution_count": null,
      "outputs": [
        {
          "output_type": "stream",
          "name": "stdout",
          "text": [
            "5 * 2 =  10\n"
          ]
        }
      ]
    },
    {
      "cell_type": "markdown",
      "source": [
        "Возникает вопрос: зачем нужны lambda-функции в Python, если есть обычные функции?\n",
        "* Lambda-функции хороши, когда нужно применять такие функции как map, filter, reduce, sorted и другие(в них одним из необходимых параметров является функция). Для того, чтобы передать в качестве аргумента некоторую функцию не требуется создавать отдельную функцию, а можно сразу создать и передать её. Это уменьшает количество строк для вызова этих функций по сравнению с написанием обычной функции. \n",
        "* Так же lambda-функции можно вызывать сразу же после их создания в отличие от обычных.\n",
        "\n",
        "\n",
        "Ниже сравнивается вызов функции map  в связке с lambda-функцией и обычной функцией для увеличения каждого элемента спика в 2 раза:"
      ],
      "metadata": {
        "id": "9gIIW6hh8RJ_"
      }
    },
    {
      "cell_type": "code",
      "source": [
        "def my_func(x): return x * 2\n",
        "list(map(lambda x: x * 2, [1, 2, 3]))"
      ],
      "metadata": {
        "colab": {
          "base_uri": "https://localhost:8080/"
        },
        "id": "M3Cu4BRTnjXN",
        "outputId": "2de775fb-9503-436a-e917-e341eaa374e7"
      },
      "execution_count": null,
      "outputs": [
        {
          "output_type": "execute_result",
          "data": {
            "text/plain": [
              "[2, 4, 6]"
            ]
          },
          "metadata": {},
          "execution_count": 127
        }
      ]
    },
    {
      "cell_type": "code",
      "source": [
        "list(map(lambda x: x * 2, [1, 2, 3]))"
      ],
      "metadata": {
        "colab": {
          "base_uri": "https://localhost:8080/"
        },
        "id": "pJ4y9aw18MUI",
        "outputId": "66b63ddd-bd94-4f52-8cf5-e4e87da8f68a"
      },
      "execution_count": null,
      "outputs": [
        {
          "output_type": "execute_result",
          "data": {
            "text/plain": [
              "[2, 4, 6]"
            ]
          },
          "metadata": {},
          "execution_count": 128
        }
      ]
    },
    {
      "cell_type": "markdown",
      "source": [
        "**Переменное число позиционных аргуметов у функции**\n",
        "\n",
        "---\n",
        "\n",
        "\n",
        "Вам может потребоваться разработать функцию для бОльшего числа аргументов, чем вы указали при определении функции. Эти аргументы называются аргументами переменной длины и не указываются в определении функции, в отличие от позиционных и ключевых аргументов.\n",
        "\n",
        "В Python форма с одной звездочкой \\*args может использоваться в качестве параметра для отправки в список функций **аргументов переменной длины** без ключа. Следовательно, все аргументы, которые принимает функция будут *позиционными*. Стоит отметить, что звёздочка \\* является здесь важным элементом, так как слово **args** является общепринятой традиционной идиомой, хотя оно не поддерживается языком, и вместе него может быть любое другое слово.\n",
        "\n",
        "Для того, чтобы функция имела переменное число аргументов требуется всего лишь у одного из параметров у функции добавить звёздочку перед названием. Обычно для этого создаётся параметр с именем args, что было описано выше.\n",
        "\n",
        "Ниже функция умножает любое число входных аргументов и возвращает их число:"
      ],
      "metadata": {
        "id": "IbHBgBT0cpQ5"
      }
    },
    {
      "cell_type": "code",
      "source": [
        "def mult(*args):\n",
        "  result = 1\n",
        "  for arg in args:\n",
        "    result *= arg\n",
        "  return result"
      ],
      "metadata": {
        "id": "5iU4sq4NcoOF"
      },
      "execution_count": null,
      "outputs": []
    },
    {
      "cell_type": "code",
      "source": [
        "mult(1, 2, 3)"
      ],
      "metadata": {
        "colab": {
          "base_uri": "https://localhost:8080/"
        },
        "id": "mClQ4JQu-C7i",
        "outputId": "7ba533f2-550b-4949-becf-ad9993eb7699"
      },
      "execution_count": null,
      "outputs": [
        {
          "output_type": "execute_result",
          "data": {
            "text/plain": [
              "6"
            ]
          },
          "metadata": {},
          "execution_count": 130
        }
      ]
    },
    {
      "cell_type": "markdown",
      "source": [
        "Как видим, в теле функции мы работаем с аргументами переменной длины через параметр со звёздочкой, считая его в качестве какого-то набора. Давайте узнаем во что превращается значение параметра после вызова функции:"
      ],
      "metadata": {
        "id": "AxgIvtc3-QIW"
      }
    },
    {
      "cell_type": "code",
      "source": [
        "def mult(*args):\n",
        "  print(\"Argument type - {}\".format(type(args)))\n",
        "\n",
        "mult(1, 2, 3)"
      ],
      "metadata": {
        "colab": {
          "base_uri": "https://localhost:8080/"
        },
        "id": "Zo7zIGVW-qyW",
        "outputId": "7ebe2445-e003-4d53-888f-483a6d0ca7cf"
      },
      "execution_count": null,
      "outputs": [
        {
          "output_type": "stream",
          "name": "stdout",
          "text": [
            "Argument type - <class 'tuple'>\n"
          ]
        }
      ]
    },
    {
      "cell_type": "markdown",
      "source": [
        "То есть он становится кортежем.\n",
        "\n",
        "Теперь пусть функция будет иметь ещё один параметр, который будет определять режим работы функции (суммирование или умножение):"
      ],
      "metadata": {
        "id": "C3P-mWjM_Ci_"
      }
    },
    {
      "cell_type": "code",
      "source": [
        "def mult_or_sum(*args, mode='sum'):\n",
        "  result = None\n",
        "  if mode == 'sum':\n",
        "    result = 0\n",
        "    for arg in args:\n",
        "      result += arg\n",
        "  elif mode == 'mult':\n",
        "    result = 1\n",
        "    for arg in args:\n",
        "      result *= arg\n",
        "  return result"
      ],
      "metadata": {
        "id": "X0VqVMUh_kK0"
      },
      "execution_count": null,
      "outputs": []
    },
    {
      "cell_type": "code",
      "source": [
        "mult_or_sum(6, 6)"
      ],
      "metadata": {
        "colab": {
          "base_uri": "https://localhost:8080/"
        },
        "id": "UNrpRIiL_ryA",
        "outputId": "f986f5fc-2bfc-4ba4-8a62-d7b05558aed1"
      },
      "execution_count": null,
      "outputs": [
        {
          "output_type": "execute_result",
          "data": {
            "text/plain": [
              "12"
            ]
          },
          "metadata": {},
          "execution_count": 133
        }
      ]
    },
    {
      "cell_type": "code",
      "source": [
        "mult_or_sum(6, 6, mode='mult')"
      ],
      "metadata": {
        "colab": {
          "base_uri": "https://localhost:8080/"
        },
        "id": "qvKiNDIuAbmK",
        "outputId": "745b7b7c-6f56-4a82-8af0-9ea56b1fe261"
      },
      "execution_count": null,
      "outputs": [
        {
          "output_type": "execute_result",
          "data": {
            "text/plain": [
              "36"
            ]
          },
          "metadata": {},
          "execution_count": 134
        }
      ]
    },
    {
      "cell_type": "markdown",
      "source": [
        "**Переменное число ключевых аргументов у функции**\n",
        "\n",
        "\n",
        "Как мы выяснили из предущего пункта, переменное чилсо позиционных аргументов переводится в класс кортежа; Если говорить об этом ключевых аргументах с переменным числом, то они переводится в класс словарь. Форма двойной звездочки \\*\\***kwargs** используется для передачи **словаря с аргументами переменной длины в функцию**. Опять же, две звездочки ( **) являются здесь важным элементом, так как слово kwargs используется условно, но не поддерживается языком.\n",
        "\n",
        "\\*\\*kwargs может принять столько аргументов, которые вы хотели бы привести к этому. Однако \\*\\*kwargs отличается от \\*args тем, что вам нужно будет назначить ключевые слова.\n",
        "\n",
        "Важно отметить, что kwargs созданный словарь создан, и мы можем работать с ним так же, как мы можем работать с другими словарями.\n",
        "\n",
        "Использование \\*\\*kwargs даёт нам **гибкость** в использовании ключевых аргументов в нашей программе. Когда мы используем \\*\\*kwargs в качестве параметра, нам не нужно знать, сколько аргументов мы в конечном итоге хотели бы передать функции.\n",
        "\n",
        "Напишем функцию которая будет иметь выводить имена ключевых параметров:"
      ],
      "metadata": {
        "id": "WCm5QdwFAhEB"
      }
    },
    {
      "cell_type": "code",
      "source": [
        "def my_func(**kwargs):\n",
        "  for kwarg in kwargs:\n",
        "    print(kwarg)"
      ],
      "metadata": {
        "id": "9Krx3Zo0CF6a"
      },
      "execution_count": null,
      "outputs": []
    },
    {
      "cell_type": "markdown",
      "source": [
        "Теперь пусть у этой функции будут параметры с именами *my_first_arg*, *my_second_arg*, *my_third_arg*.\n"
      ],
      "metadata": {
        "id": "1eYL6uTBvNel"
      }
    },
    {
      "cell_type": "code",
      "source": [
        "my_func(my_first_arg=10, my_second_arg='hello', my_third_arg=True)"
      ],
      "metadata": {
        "colab": {
          "base_uri": "https://localhost:8080/"
        },
        "id": "6UL0ubXvu9v6",
        "outputId": "aca67dd0-7797-4e8e-fc39-9a489c2c634b"
      },
      "execution_count": null,
      "outputs": [
        {
          "output_type": "stream",
          "name": "stdout",
          "text": [
            "my_first_arg\n",
            "my_second_arg\n",
            "my_third_arg\n"
          ]
        }
      ]
    },
    {
      "cell_type": "markdown",
      "source": [
        "**Пример совместного использования \\*args и \\*\\*kwargs**\n",
        "\n",
        "\n",
        "---\n",
        "\n",
        "\n",
        "\n",
        "Стоит отметить также работу этих двух типов переменного числа аргументов вместе. Если говорить в общем, то они следуют правилам указания аргументов при вызове функции:\n",
        "*  Используйте общепринятые конструкции *args и **kwargs для захвата позиционных и именованных аргументов.\n",
        "*  Конструкцию **kwargs нельзя располагать до *args. Если это сделать — будет выдано сообщение об ошибке.\n",
        "*  Остерегайтесь конфликтов между именованными параметрами и \\*\\*kwargs, в случаях, когда значение планируется передать как \\*\\*kwarg-аргумент, но имя ключа этого значения совпадает с именем именованного параметра.\n",
        "*  В функции может быть только по одному параметру *args и *kwargs\n",
        "\n",
        "Примеры правильного написания функций:\n",
        "```\n",
        "def my_func(name, age, *args, **kwargs)\n",
        "```\n",
        "```\n",
        "def my_func(name, age, mode='saving', *args, **kwargs)\n",
        "```\n",
        "```\n",
        "def my_func(name, age, *args, mode='saving', **kwargs)\n",
        "```\n",
        "Примеры неправильного написания функций:\n",
        "```\n",
        "def my_func(name, age, *args, **kwargs, mode='saving')\n",
        "``` \n",
        "```\n",
        "def my_func(*args, **kwargs, name)\n",
        "```\n",
        "```\n",
        "def my_func(**kwargs, *args)\n",
        "```"
      ],
      "metadata": {
        "id": "X5m7DsqsCRov"
      }
    },
    {
      "cell_type": "markdown",
      "source": [
        "**Использование \\* и \\*\\* при вызове функции**\n",
        "\n",
        "\n",
        "---\n",
        "\n",
        "\n",
        "Имея кортеж или словарь, мы можем сразу же передать их в функцию при её вызове. В этом случае каждому позиционному и ключевому аргументу будет поставлен в соответствии элемент кортежа или словаря. Для этого необходимо в вызове функции перед именем кортежа использовать знак \\* и перед именем словаря \\*\\*. Кортеж будет содержать значения параметров, а словарь - пары 'имя параметра': 'значение'.Вот как это выглядит на практике: "
      ],
      "metadata": {
        "id": "VvGZUvYr3gKY"
      }
    },
    {
      "cell_type": "code",
      "source": [
        "def some_func(first_param, second_param):\n",
        "  print(\"my first param = {} and my second param = {}\".format(first_param, second_param))"
      ],
      "metadata": {
        "id": "_py5uegc95BC"
      },
      "execution_count": null,
      "outputs": []
    },
    {
      "cell_type": "code",
      "source": [
        "params = (1, 'hello')\n",
        "some_func(*params)"
      ],
      "metadata": {
        "colab": {
          "base_uri": "https://localhost:8080/"
        },
        "id": "HwwmjZtYCsXh",
        "outputId": "0e46da50-132a-4e52-bbf8-48f7c9dae252"
      },
      "execution_count": null,
      "outputs": [
        {
          "output_type": "stream",
          "name": "stdout",
          "text": [
            "my first param = 1 and my second param = hello\n"
          ]
        }
      ]
    },
    {
      "cell_type": "markdown",
      "source": [
        "И в случае словаря:"
      ],
      "metadata": {
        "id": "OOg5xSpcC8e3"
      }
    },
    {
      "cell_type": "code",
      "source": [
        "params = {'first_param': 1, 'second_param': 'hello'}\n",
        "some_func(**params)"
      ],
      "metadata": {
        "colab": {
          "base_uri": "https://localhost:8080/"
        },
        "id": "4NFYjQdHDAJV",
        "outputId": "747238ba-6a7f-4250-98d2-f1caf263f64e"
      },
      "execution_count": null,
      "outputs": [
        {
          "output_type": "stream",
          "name": "stdout",
          "text": [
            "my first param = 1 and my second param = hello\n"
          ]
        }
      ]
    },
    {
      "cell_type": "markdown",
      "source": [
        "**Использование разделителей в параметрах**\n",
        "\n",
        "\n",
        "\n",
        "---\n",
        "\n",
        "\n",
        "\n",
        "Пусть имеется такая функция:\n",
        "```\n",
        "def foo(positional, only, here, /, either, pos, or_, keyword, *, just, keywords): \n",
        "```\n",
        "\n",
        "Параметры, перечисленные перед косой чертой в списке параметров, являются параметрами позиционными, так же как параметры, перечисленные после * , являются только ключевыми. Параметры между ними могут быть указаны либо как позиционные, либо как ключевые.\n",
        "\n",
        "\n",
        "Традиционно некоторые встроенные функции не принимали ключевые параметры , и это могло вызвать путаницу, поскольку на Python не было возможности написать такую функцию. / означает, что строки справки для этих функций теперь точно описывают список параметров.\n",
        "\n",
        "Использование позиционных - это когда у вас есть существующая функция, которая принимает произвольные параметры ключевого слова **kwargs, и вам нужно добавить еще один аргумент, но без ограничения ключевых слов, которые можно было пройти."
      ],
      "metadata": {
        "id": "hpQCOyGh41w-"
      }
    },
    {
      "cell_type": "markdown",
      "source": [
        "# **Декораторы в Python**\n"
      ],
      "metadata": {
        "id": "FnUj7h4SDpw-"
      }
    },
    {
      "cell_type": "markdown",
      "source": [
        "В Python все является объектом. И функции — не исключение. Поскольку они тоже являются объектами, их можно передавать в качестве аргументов другим функциям и возвращать в качестве результата. У них также есть атрибуты: \\_\\_name\\_\\_ и \\_\\_doc\\_\\_. Также следует помнить, что функция в python может быть определена и внутри другой функции.\n",
        "\n",
        "Функция — это вызываемый объект. Как можно догадаться, это подразумевает объект, который можно вызвать. Проверить эту особенность можно с помощью встроенной функции callable()."
      ],
      "metadata": {
        "id": "c7WA4WJjF2uu"
      }
    },
    {
      "cell_type": "code",
      "source": [
        "def my_function():\n",
        "  pass\n",
        "\n",
        "callable(my_function)"
      ],
      "metadata": {
        "colab": {
          "base_uri": "https://localhost:8080/"
        },
        "id": "vESzarcLDoet",
        "outputId": "c37b16a6-3370-4514-dcf5-b23860523ad9"
      },
      "execution_count": null,
      "outputs": [
        {
          "output_type": "execute_result",
          "data": {
            "text/plain": [
              "True"
            ]
          },
          "metadata": {},
          "execution_count": 140
        }
      ]
    },
    {
      "cell_type": "markdown",
      "source": [
        "Вспомнив это, можно смело переходить к декораторам. Итак, декоратор — это функция, которая принимает функцию, совершает некоторые действия и возвращает другую функцию."
      ],
      "metadata": {
        "id": "nSVuOIlOrkuw"
      }
    },
    {
      "cell_type": "markdown",
      "source": [
        "Пусть имеется код ниже, попробуем его запустить:"
      ],
      "metadata": {
        "id": "r25iyYBerrxC"
      }
    },
    {
      "cell_type": "code",
      "source": [
        "def decorator(func):\n",
        "    def wrapper():\n",
        "        print('функция-оболочка')\n",
        "        func()\n",
        "    return wrapper\n",
        "\n",
        "def basic():\n",
        "    print('основная функция')\n",
        "\n",
        "wrapped = decorator(basic)\n",
        "print('старт программы')\n",
        "wrapped()\n",
        "print('конец программы')"
      ],
      "metadata": {
        "colab": {
          "base_uri": "https://localhost:8080/"
        },
        "id": "akKNWkHsryP0",
        "outputId": "2b8a349f-9219-46b5-93a0-7b581b1aac8a"
      },
      "execution_count": null,
      "outputs": [
        {
          "output_type": "stream",
          "name": "stdout",
          "text": [
            "старт программы\n",
            "функция-оболочка\n",
            "основная функция\n",
            "конец программы\n"
          ]
        }
      ]
    },
    {
      "cell_type": "markdown",
      "source": [
        "Разберемся с тем, что здесь произошло. Функция *decorator* — это, как можно понять по названию, декоратор. Она принимает в качестве параметра функцию *func*. Крайне оригинальные имена. Внутри функции объявляется другая под названием wrapper. Объявлять ее внутри необязательно, но так проще работать.\n",
        "\n",
        "В этом примере функция *wrapper* просто вызывает оригинальную функцию, которая была передана в декоратор в качестве аргумента, но это может быть любая другая функциональность.\n",
        "\n",
        "В конце возвращается функция *wrapper*. Напомним, что нам все еще нужен вызываемый объект. Теперь результат можно вызывать с оригинальным набором возможностей, а также новым включенным кодом.\n",
        "\n",
        "Но в Python есть синтаксис для упрощения такого объявления. Чтобы декорировать функции, используется символ @ рядом с именем декоратора. Он размещается над функцией, которую требуется декорировать."
      ],
      "metadata": {
        "id": "DN55-6EBtfGh"
      }
    },
    {
      "cell_type": "code",
      "source": [
        "@decorator\n",
        "def basic():\n",
        "  print(\"основная функция\")\n",
        "\n",
        "basic()"
      ],
      "metadata": {
        "colab": {
          "base_uri": "https://localhost:8080/"
        },
        "id": "kI2Xa1UmxSRX",
        "outputId": "df54ed3d-e68d-4663-f5b5-70c18e7234e4"
      },
      "execution_count": null,
      "outputs": [
        {
          "output_type": "stream",
          "name": "stdout",
          "text": [
            "функция-оболочка\n",
            "основная функция\n"
          ]
        }
      ]
    },
    {
      "cell_type": "markdown",
      "source": [
        "Можно использовать тот же декоратор с любым количеством функций, а также — декорировать функцию любым декоратором."
      ],
      "metadata": {
        "id": "0BiUWHlwz4IF"
      }
    },
    {
      "cell_type": "markdown",
      "source": [
        "Когда у функции несколько декораторов, они вызываются в обратном порядке относительно того, как были вызваны. То есть, такой вызов:\n",
        "```\n",
        "@decorator_1\n",
        "@decorator_2\n",
        "def wrapped():\n",
        "```\n",
        "Равен такому вызову:\n",
        "```\n",
        "a = decorator_1(decorator_2(wrapped))\n",
        "```\n",
        "Если декорированная функция возвращает значение, и его нужно сохранить, то нужно сделать так, чтобы его возвращала и функция-обертка."
      ],
      "metadata": {
        "id": "pOuW8tSl0AdF"
      }
    },
    {
      "cell_type": "markdown",
      "source": [
        "**Декоратор-класс**\n",
        "\n",
        "\n",
        "---\n",
        "\n",
        "\n",
        "\n",
        "Добавив метод \\_\\_call\\_\\_ в класс, его можно превратить в вызываемый объект. А поскольку декоратор — это всего лишь функция, то есть, вызываемый объект, класс можно превратить в декоратор с помощью функции \\_\\_call\\_\\_."
      ],
      "metadata": {
        "id": "3LKU06NZ0bOW"
      }
    },
    {
      "cell_type": "code",
      "source": [
        "class Decorator:\n",
        "    def __init__(self, func):\n",
        "        print('> Инициализатор __init__')\n",
        "        self.func = func\n",
        "\n",
        "    def __call__(self):\n",
        "        print('> перед вызовом класса...', self.func.__name__)\n",
        "        self.func()\n",
        "        print('> после вызова класса')\n",
        "\n",
        "@Decorator\n",
        "def wrapped():\n",
        "    print('функция wrapped')\n",
        "\n",
        "print('>> старт программы')\n",
        "wrapped()\n",
        "print('>> конец программы')\n"
      ],
      "metadata": {
        "colab": {
          "base_uri": "https://localhost:8080/"
        },
        "id": "Hna3bz8o1XvZ",
        "outputId": "bbca5d8d-d6f9-44a3-b0c7-e899d95cdfe1"
      },
      "execution_count": null,
      "outputs": [
        {
          "output_type": "stream",
          "name": "stdout",
          "text": [
            "> Инициализатор __init__\n",
            ">> старт программы\n",
            "> перед вызовом класса... wrapped\n",
            "функция wrapped\n",
            "> после вызова класса\n",
            ">> конец программы\n"
          ]
        }
      ]
    },
    {
      "cell_type": "markdown",
      "source": [
        "Отличие в том, что класс инициализируется при объявлении. Он должен получить функцию в качестве аргумента для метода \\_\\_init\\_\\_. Это и будет декорируемая функция.\n",
        "\n",
        "При вызове декорируемой функции на самом деле вызывается экземпляр класса. А поскольку объект вызываемый, то вызывается функция \\_\\_call\\_\\_.\n"
      ],
      "metadata": {
        "id": "ToPmRLt0149c"
      }
    },
    {
      "cell_type": "markdown",
      "source": [
        "**Функция с аргументами**\n",
        "\n",
        "\n",
        "---\n",
        "\n",
        "\n",
        "А что если функция, которую требуется декорировать, должна получать аргументы? Для этого нужно вернуть функцию с той же сигнатурой, что и у декорируемой."
      ],
      "metadata": {
        "id": "KOewS8WT2sjj"
      }
    },
    {
      "cell_type": "code",
      "source": [
        "def decorator_with_args(func):\n",
        "    print('> декоратор с аргументами...')\n",
        "    def decorated(a, b):\n",
        "        print('до вызова функции', func.__name__)\n",
        "        ret = func(a, b)\n",
        "        print('после вызова функции', func.__name__)\n",
        "        return ret\n",
        "    return decorated\n",
        "\n",
        "@decorator_with_args\n",
        "def add(a, b):\n",
        "    print('функция 1')\n",
        "    return a + b\n",
        "\n",
        "@decorator_with_args\n",
        "def sub(a, b):\n",
        "    print('функция 2')\n",
        "    return a - b\n",
        "\n",
        "print('>> старт')\n",
        "r = add(10, 5)\n",
        "print('r:', r)\n",
        "g = sub(10, 5)\n",
        "print('g:', g)\n",
        "print('>> конец')\n"
      ],
      "metadata": {
        "colab": {
          "base_uri": "https://localhost:8080/"
        },
        "id": "tdHoIe_g3KO7",
        "outputId": "ad1afd62-33f1-463c-c11f-6d358ffcb373"
      },
      "execution_count": null,
      "outputs": [
        {
          "output_type": "stream",
          "name": "stdout",
          "text": [
            "> декоратор с аргументами...\n",
            "> декоратор с аргументами...\n",
            ">> старт\n",
            "до вызова функции add\n",
            "функция 1\n",
            "после вызова функции add\n",
            "r: 15\n",
            "до вызова функции sub\n",
            "функция 2\n",
            "после вызова функции sub\n",
            "g: 5\n",
            ">> конец\n"
          ]
        }
      ]
    },
    {
      "cell_type": "markdown",
      "source": [
        "А в случае с классом? Тот же принцип. Нужно лишь добавить желаемую сигнатуру в функцию \\_\\_call\\_\\_."
      ],
      "metadata": {
        "id": "Iu0GVf-M3J_9"
      }
    },
    {
      "cell_type": "code",
      "source": [
        "class Decorator:\n",
        "    def __init__(self, func):\n",
        "        print('> Класс Decorator метод __init__')\n",
        "        self.func = func\n",
        "\n",
        "    def __call__(self, a, b):\n",
        "        print('> до вызова из класса...', self.func.__name__)\n",
        "        self.func(a, b)\n",
        "        print('> после вызова из класса')\n",
        "\n",
        "@Decorator\n",
        "def wrapped(a, b):\n",
        "    print('функция wrapped:', a, b)\n",
        "\n",
        "print('>> старт')\n",
        "wrapped(10, 20)\n",
        "print('>> конец')\n"
      ],
      "metadata": {
        "colab": {
          "base_uri": "https://localhost:8080/"
        },
        "id": "hytmohnq3i0I",
        "outputId": "9904be66-2b46-4315-8948-f7c935c12061"
      },
      "execution_count": null,
      "outputs": [
        {
          "output_type": "stream",
          "name": "stdout",
          "text": [
            "> Класс Decorator метод __init__\n",
            ">> старт\n",
            "> до вызова из класса... wrapped\n",
            "функция wrapped: 10 20\n",
            "> после вызова из класса\n",
            ">> конец\n"
          ]
        }
      ]
    },
    {
      "cell_type": "markdown",
      "source": [
        "Можно использовать \\*args и \\*\\*kwargs и для функции wrapper, если сигнатура заранее неизвестна, или будут приниматься разные типы функций."
      ],
      "metadata": {
        "id": "DVd4aCSd3mPd"
      }
    },
    {
      "cell_type": "markdown",
      "source": [
        "**Декораторы с аргументами**\n",
        "\n",
        "\n",
        "---\n",
        "\n",
        "В декоратор можно передать и сам параметр. В этом случае нужно добавить еще один слой абстракции, то есть — еще одну функцию-обертку.\n",
        "\n",
        "Это обязательно, поскольку аргумент передается декоратору. Затем функция, которая вернулась, используется для декорации нужной. Проще разобраться на примере."
      ],
      "metadata": {
        "id": "WIxtQr-h3rV9"
      }
    },
    {
      "cell_type": "code",
      "source": [
        "def decorator_with_args(name):\n",
        "    print('> decorator_with_args:', name)\n",
        "    def real_decorator(func):\n",
        "        print('>> сам декоратор', func.__name__)\n",
        "        def decorated(*args, **kwargs):\n",
        "            print('>>> перед функцие', func.__name__)\n",
        "            ret = func(*args, **kwargs)\n",
        "            print('>>> после функции', func.__name__)\n",
        "            return ret\n",
        "        return decorated\n",
        "    return real_decorator\n",
        "\n",
        "@decorator_with_args('test')\n",
        "def add(a, b):\n",
        "    print('>>>> функция add')\n",
        "    return a + b\n",
        "\n",
        "print('старт программы')\n",
        "r = add(10, 10)\n",
        "print(r)\n",
        "print('конец программы')\n"
      ],
      "metadata": {
        "colab": {
          "base_uri": "https://localhost:8080/"
        },
        "id": "y3its-aj3wDJ",
        "outputId": "ca33b10a-acd7-4489-f86a-b76c588b7554"
      },
      "execution_count": null,
      "outputs": [
        {
          "output_type": "stream",
          "name": "stdout",
          "text": [
            "> decorator_with_args: test\n",
            ">> сам декоратор add\n",
            "старт программы\n",
            ">>> перед функцие add\n",
            ">>>> функция add\n",
            ">>> после функции add\n",
            "20\n",
            "конец программы\n"
          ]
        }
      ]
    },
    {
      "cell_type": "markdown",
      "source": [
        "В декораторах-классах выполняются такие же настройки. Теперь конструктор класса получает все аргументы декоратора. Метод \\_\\_call\\_\\_ должен возвращать функцию-обертку, которая, по сути, будет выполнять декорируемую функцию. Например:"
      ],
      "metadata": {
        "id": "covdIBe331Gz"
      }
    },
    {
      "cell_type": "code",
      "source": [
        "class DecoratorArgs:\n",
        "    def __init__(self, name):\n",
        "        print('> Декоратор с аргументами __init__:', name)\n",
        "        self.name = name\n",
        "\n",
        "    def __call__(self, func):\n",
        "        def wrapper(a, b):\n",
        "            print('>>> до обернутой функции')\n",
        "            func(a, b)\n",
        "            print('>>> после обернутой функции')\n",
        "        return wrapper\n",
        "\n",
        "@DecoratorArgs(\"teste\")\n",
        "def add(a, b):\n",
        "    print('функция add:', a, b)\n",
        "\n",
        "print('>> старт')\n",
        "add(10, 20)\n",
        "print('>> конец')\n"
      ],
      "metadata": {
        "id": "U3KyHNbC35W4",
        "outputId": "293932bc-c44c-4081-d33f-9721644324ba",
        "colab": {
          "base_uri": "https://localhost:8080/"
        }
      },
      "execution_count": null,
      "outputs": [
        {
          "output_type": "stream",
          "name": "stdout",
          "text": [
            "> Декоратор с аргументами __init__: teste\n",
            ">> старт\n",
            ">>> до обернутой функции\n",
            "функция add: 10 20\n",
            ">>> после обернутой функции\n",
            ">> конец\n"
          ]
        }
      ]
    },
    {
      "cell_type": "markdown",
      "source": [
        "Ещё примеры декораторов с параметрами:"
      ],
      "metadata": {
        "id": "hkhMPqg2iTZr"
      }
    },
    {
      "cell_type": "code",
      "source": [
        "def decorator_maker_with_arguments(decorator_arg1, decorator_arg2):\n",
        "     print(\"Я создаю декораторы! И я получил следующие аргументы:\",\n",
        "            decorator_arg1, decorator_arg2)\n",
        "     def my_decorator(func):\n",
        "         print(\"Я - декоратор. И ты всё же смог передать мне эти аргументы:\",\n",
        "                decorator_arg1, decorator_arg2)\n",
        "         # Не перепутайте аргументы декораторов с аргументами функций!\n",
        "         def wrapped(function_arg1, function_arg2):\n",
        "             print (\"Я - обёртка вокруг декорируемой функции.\\n\"\n",
        "                    \"И я имею доступ ко всем аргументам\\n\"\n",
        "                    \"\\t- и декоратора: {0} {1}\\n\"\n",
        "                    \"\\t- и функции: {2} {3}\\n\"\n",
        "                    \"Теперь я могу передать нужные аргументы дальше\"\n",
        "                    .format(decorator_arg1, decorator_arg2,\n",
        "                            function_arg1, function_arg2))\n",
        "             return func(function_arg1, function_arg2)\n",
        "         return wrapped\n",
        "     return my_decorator"
      ],
      "metadata": {
        "id": "2FixRQnUiTKB"
      },
      "execution_count": null,
      "outputs": []
    },
    {
      "cell_type": "code",
      "source": [
        "@decorator_maker_with_arguments(\"Леонард\", \"Шелдон\")\n",
        "def decorated_function_with_arguments(function_arg1, function_arg2):\n",
        "     print (\"Я - декорируемая функция и я знаю только о своих аргументах: {0}\"\n",
        "            \" {1}\".format(function_arg1, function_arg2))"
      ],
      "metadata": {
        "colab": {
          "base_uri": "https://localhost:8080/"
        },
        "id": "6IlZHNBvlpED",
        "outputId": "c7dee046-023f-468a-a426-988ed62a7dac"
      },
      "execution_count": null,
      "outputs": [
        {
          "output_type": "stream",
          "name": "stdout",
          "text": [
            "Я создаю декораторы! И я получил следующие аргументы: Леонард Шелдон\n",
            "Я - декоратор. И ты всё же смог передать мне эти аргументы: Леонард Шелдон\n"
          ]
        }
      ]
    },
    {
      "cell_type": "code",
      "source": [
        "decorated_function_with_arguments(\"Раджеш\", \"Говард\")"
      ],
      "metadata": {
        "colab": {
          "base_uri": "https://localhost:8080/"
        },
        "id": "ovnm7_tGlu_v",
        "outputId": "bf387e1d-5b28-4707-cb5b-d6218e1e881d"
      },
      "execution_count": null,
      "outputs": [
        {
          "output_type": "stream",
          "name": "stdout",
          "text": [
            "Я - обёртка вокруг декорируемой функции.\n",
            "И я имею доступ ко всем аргументам\n",
            "\t- и декоратора: Леонард Шелдон\n",
            "\t- и функции: Раджеш Говард\n",
            "Теперь я могу передать нужные аргументы дальше\n",
            "Я - декорируемая функция и я знаю только о своих аргументах: Раджеш Говард\n"
          ]
        }
      ]
    },
    {
      "cell_type": "markdown",
      "source": [
        "И ещё один пример:"
      ],
      "metadata": {
        "id": "ctPmea5gmI7n"
      }
    },
    {
      "cell_type": "code",
      "source": [
        "from functools import wraps\n",
        "\n",
        "def repeat(n=5):\n",
        "    def _repeat(f):\n",
        "        @wraps(f)\n",
        "        def inner(*args, **kwargs):\n",
        "            for _ in range(n):\n",
        "                f(*args, **kwargs)\n",
        "        return inner\n",
        "    return _repeat"
      ],
      "metadata": {
        "id": "q5ZoDmzhmKvJ"
      },
      "execution_count": null,
      "outputs": []
    },
    {
      "cell_type": "code",
      "source": [
        "@repeat(3)\n",
        "def foo():\n",
        "    print('hello')\n",
        "\n",
        "foo()"
      ],
      "metadata": {
        "colab": {
          "base_uri": "https://localhost:8080/"
        },
        "id": "rFBZoxfVmzZI",
        "outputId": "618cebdc-a8f8-4ffa-a884-4ab39e9b761c"
      },
      "execution_count": null,
      "outputs": [
        {
          "output_type": "stream",
          "name": "stdout",
          "text": [
            "hello\n",
            "hello\n",
            "hello\n"
          ]
        }
      ]
    },
    {
      "cell_type": "markdown",
      "source": [
        "+пример с параметром по умолчанию:"
      ],
      "metadata": {
        "id": "TFikxYASm6qC"
      }
    },
    {
      "cell_type": "code",
      "source": [
        "def repeat(_func=None, *, n=5):\n",
        "    def _repeat(f):\n",
        "        @wraps(f)\n",
        "        def inner(*args, **kwargs):\n",
        "            for _ in range(n):\n",
        "                f(*args, **kwargs)\n",
        "        return inner\n",
        "    if _func is None:\n",
        "        # вызов с параметрами как раньше\n",
        "        return _repeat\n",
        "    else:\n",
        "        # вызов без параметра - сделаем доп. вызов сами\n",
        "        return _repeat(_func)"
      ],
      "metadata": {
        "id": "zy1LEEu_m94B"
      },
      "execution_count": null,
      "outputs": []
    },
    {
      "cell_type": "code",
      "source": [
        "@repeat\n",
        "def my_func():\n",
        "  print(\"My function call\")\n",
        "\n",
        "my_func()"
      ],
      "metadata": {
        "colab": {
          "base_uri": "https://localhost:8080/"
        },
        "id": "gTABjlYtnOSm",
        "outputId": "7c94920f-a484-4529-ed2d-997ff623ce2c"
      },
      "execution_count": null,
      "outputs": [
        {
          "output_type": "stream",
          "name": "stdout",
          "text": [
            "My function call\n",
            "My function call\n",
            "My function call\n",
            "My function call\n",
            "My function call\n"
          ]
        }
      ]
    },
    {
      "cell_type": "markdown",
      "source": [
        "Тут также можно писать так:\n",
        "```\n",
        "@repeat(n=3)\n",
        "```"
      ],
      "metadata": {
        "id": "oeavUVMkn5dX"
      }
    },
    {
      "cell_type": "code",
      "source": [
        "def decodecorator(dataType, message1, message2):\n",
        "    def decorator(fun):\n",
        "        print(message1)\n",
        "        def wrapper(*args, **kwargs):\n",
        "            print(message2)\n",
        "            if all([type(arg) == dataType for arg in args]):\n",
        "                return fun(*args, **kwargs)\n",
        "            return \"Invalid Input\"\n",
        "        return wrapper\n",
        "    return decorator\n",
        " \n",
        " \n",
        "@decodecorator(str, \"Decorator for 'stringJoin'\", \"stringJoin started ...\")\n",
        "def stringJoin(*args):\n",
        "    st = ''\n",
        "    for i in args:\n",
        "        st += i\n",
        "    return st\n",
        " \n",
        " \n",
        "@decodecorator(int, \"Decorator for 'summation'\\n\", \"summation started ...\")\n",
        "def summation(*args):\n",
        "    summ = 0\n",
        "    for arg in args:\n",
        "        summ += arg\n",
        "    return summ\n",
        " \n",
        " \n",
        "print(stringJoin(\"I \", 'like ', \"PPVIS\"))\n",
        "print()\n",
        "print(summation(19, 2, 8, 533, 67, 981, 119))"
      ],
      "metadata": {
        "colab": {
          "base_uri": "https://localhost:8080/"
        },
        "id": "Kj_G1D1rn0k6",
        "outputId": "13e5fcde-41d0-4711-aefa-097dd0d858ca"
      },
      "execution_count": null,
      "outputs": [
        {
          "output_type": "stream",
          "name": "stdout",
          "text": [
            "Decorator for 'stringJoin'\n",
            "Decorator for 'summation'\n",
            "\n",
            "stringJoin started ...\n",
            "I like PPVIS\n",
            "\n",
            "summation started ...\n",
            "1729\n"
          ]
        }
      ]
    },
    {
      "cell_type": "markdown",
      "source": [
        "И еще немного другой способ использования декоратора:"
      ],
      "metadata": {
        "id": "a_16kzXvpVw0"
      }
    },
    {
      "cell_type": "code",
      "source": [
        "def decorator_func(x, y):\n",
        " \n",
        "    def Inner(func):\n",
        " \n",
        "        def wrapper(*args, **kwargs):\n",
        "            print(\"Summation of values - {}\".format(x+y) )\n",
        " \n",
        "            func(*args, **kwargs)\n",
        "             \n",
        "        return wrapper\n",
        "    return Inner\n",
        " \n",
        " \n",
        "def my_fun(*args):\n",
        "    for ele in args:\n",
        "        print(ele, end='')\n",
        "\n",
        "decorator_func(12, 15)(my_fun)('Hello', ',', 'world!')"
      ],
      "metadata": {
        "colab": {
          "base_uri": "https://localhost:8080/"
        },
        "id": "9ai1KoMHpAhN",
        "outputId": "21ef8381-08b8-4098-ebef-4e19a16815dc"
      },
      "execution_count": null,
      "outputs": [
        {
          "output_type": "stream",
          "name": "stdout",
          "text": [
            "Summation of values - 27\n",
            "Hello,world!"
          ]
        }
      ]
    },
    {
      "cell_type": "markdown",
      "source": [
        "**Декораторы в базовой комплектации Python из модуля functools:**\n",
        "\n",
        "\n",
        "---\n",
        "\n",
        "\n",
        "Модуль **functools** предназначен для функций высшего порядка: функций, которые воздействуют на другие функции или возвращают их. В общем, любой вызываемый объект можно рассматривать как функцию для целей этого модуля.\n",
        "\n",
        "Модуль functools определяет следующие функции:\n"
      ],
      "metadata": {
        "id": "wA27GfAJp_Ad"
      }
    },
    {
      "cell_type": "markdown",
      "source": [
        "**@functools.wraps**\n",
        "\n",
        " Обновляет функцию-оболочку, чтобы она выглядела как обернутая функция, копируя такие атрибуты, как __name__, __doc__ (строка документации) и т. д.\n",
        "\n",
        "\n",
        " Синтаксис:\n",
        " @functools.wraps(wrapped, assigned = WRAPPER_ASSIGNMENTS, updated = WRAPPER_UPDATES)\n",
        "\n",
        "\n",
        " Параметры:\n",
        " \n",
        "**wrapper**: имя функции, которое должно быть декорировано функцией-оболочкой.\n",
        "\n",
        "\n",
        "**Assigned** : Кортеж для указания, какие атрибуты исходной функции назначаются непосредственно соответствующим атрибутам функции-оболочки. По умолчанию установлено значение WRAPPER_ASSIGNMENTS (которое присваивает \\_\\_module\\_\\_, \\_\\_name\\_\\_, \\_\\_qualname\\_\\_, \\_\\_annotations\\_\\_ и \\_\\_doc\\_\\_ функции-оболочке строку документации)\n",
        "\n",
        "\n",
        "**updated** : Кортеж для указания, какие атрибуты функции-оболочки обновляются соответствующими атрибутами исходной функции. По умолчанию установлено значение WRAPPER_UPDATES (которое обновляет \\_\\_dict\\_\\_ функции-оболочки, то есть словарь экземпляра)."
      ],
      "metadata": {
        "id": "38ODW6iYtBmb"
      }
    },
    {
      "cell_type": "code",
      "source": [
        "from functools import wraps\n",
        " \n",
        "def a_decorator(func):\n",
        "    @wraps(func)\n",
        "    def wrapper(*args, **kwargs):\n",
        "        \"\"\"A wrapper function\"\"\"\n",
        " \n",
        "        func()\n",
        "    return wrapper\n",
        " \n",
        "@a_decorator\n",
        "def first_function():\n",
        "    \"\"\"This is docstring for first function\"\"\"\n",
        "    print(\"first function\")\n",
        " \n",
        "@a_decorator\n",
        "def second_function(a):\n",
        "    \"\"\"This is docstring for second function\"\"\"\n",
        "    print(\"second function\")\n",
        " \n",
        "print(first_function.__name__)\n",
        "print(first_function.__doc__)\n",
        "print(second_function.__name__)\n",
        "print(second_function.__doc__)"
      ],
      "metadata": {
        "colab": {
          "base_uri": "https://localhost:8080/"
        },
        "id": "186VIiZ5p-jO",
        "outputId": "d741ee3a-fa64-4925-d159-0e5ba052b755"
      },
      "execution_count": null,
      "outputs": [
        {
          "output_type": "stream",
          "name": "stdout",
          "text": [
            "first_function\n",
            "This is docstring for first function\n",
            "second_function\n",
            "This is docstring for second function\n"
          ]
        }
      ]
    },
    {
      "cell_type": "markdown",
      "source": [
        "**@functools.total_ordering**\n",
        "\n",
        "Модуль Functools в python помогает реализовать функции более высокого порядка. Функции высшего порядка — это зависимые функции, которые вызывают другие функции. Total_ordering предоставляет расширенные методы сравнения классов, которые помогают сравнивать классы без явного определения для них функции. Таким образом, это помогает в избыточности кода. Шесть методов сравнения классов:\n",
        "\n",
        "\n",
        "    object.__lt__(self, other)\n",
        "    object.__le__(self, other)\n",
        "    object.__eq__(self, other)\n",
        "    object.__ne__(self, other)\n",
        "    object.__gt__(self, other)\n",
        "    object.__ge__(self, other)\n",
        "\n",
        "  Есть 2 обязательных условия для реализации этих методов сравнения:\n",
        "\n",
        "* По крайней мере, один из методов сравнения должен быть определен из lt (меньше), le (меньше или равно), gt (больше) или ge (больше или равно).\n",
        "* Функция eq также должна быть определена."
      ],
      "metadata": {
        "id": "1TrJWzVqyO9e"
      }
    },
    {
      "cell_type": "code",
      "source": [
        "from functools import total_ordering\n",
        "  \n",
        "  \n",
        "@total_ordering\n",
        "class Students:\n",
        "    def __init__(self, cgpa):\n",
        "        self.cgpa = cgpa\n",
        "  \n",
        "    def __lt__(self, other):\n",
        "        return self.cgpa<other.cgpa\n",
        "  \n",
        "    def __eq__(self, other):\n",
        "        return self.cgpa == other.cgpa\n",
        "  \n",
        "    def __le__(self, other):\n",
        "        return self.cgpa<= other.cgpa\n",
        "      \n",
        "    def __ge__(self, other):\n",
        "        return self.cgpa>= other.cgpa\n",
        "          \n",
        "    def __ne__(self, other):\n",
        "        return self.cgpa != other.cgpa\n",
        "  \n",
        "Arjun = Students(8.6)\n",
        "  \n",
        "Ram = Students(7.5)\n",
        "  \n",
        "print(Arjun.__lt__(Ram))\n",
        "print(Arjun.__le__(Ram))\n",
        "print(Arjun.__gt__(Ram))\n",
        "print(Arjun.__ge__(Ram))\n",
        "print(Arjun.__eq__(Ram))\n",
        "print(Arjun.__ne__(Ram))"
      ],
      "metadata": {
        "colab": {
          "base_uri": "https://localhost:8080/"
        },
        "id": "H_KcipFRyOuE",
        "outputId": "8c03cc93-3151-44b9-a52b-6b597ec05021"
      },
      "execution_count": null,
      "outputs": [
        {
          "output_type": "stream",
          "name": "stdout",
          "text": [
            "False\n",
            "False\n",
            "True\n",
            "True\n",
            "False\n",
            "True\n"
          ]
        }
      ]
    },
    {
      "cell_type": "code",
      "source": [
        "from functools import total_ordering\n",
        "  \n",
        "@total_ordering\n",
        "class num:\n",
        "      \n",
        "    def __init__(self, value):\n",
        "        self.value = value\n",
        "          \n",
        "    def __lt__(self, other):\n",
        "        return self.value < other.value\n",
        "        \n",
        "    def __eq__(self, other):\n",
        "        return self.value != other.value\n",
        "          \n",
        "# Driver code\n",
        "print(num(2) < num(3))\n",
        "print(num(2) > num(3))\n",
        "print(num(3) == num(3))\n",
        "print(num(3) == num(5))"
      ],
      "metadata": {
        "colab": {
          "base_uri": "https://localhost:8080/"
        },
        "id": "7h8ADevv0A97",
        "outputId": "59488dd3-188f-4c90-bfd0-69af3fe5b5d7"
      },
      "execution_count": null,
      "outputs": [
        {
          "output_type": "stream",
          "name": "stdout",
          "text": [
            "True\n",
            "False\n",
            "False\n",
            "True\n"
          ]
        }
      ]
    },
    {
      "cell_type": "markdown",
      "source": [
        "**@functools.singledispatch**\n",
        "\n",
        "\n",
        "Декоратор преобразует функцию в универсальную функцию, которая может иметь различное поведение в зависимости от типа ее первого аргумента. Декорированная функция действует как реализация по умолчанию. Чтобы добавить к функции перегруженные реализации, используйте атрибут **register()** универсальной функции. Это декоратор, принимающий тип параметр и украшающий функцию, реализующую операцию для этого типа.\n",
        "\n",
        "Там, где нет зарегистрированной реализации для определенного типа, его порядок разрешения методов используется для поиска более общей реализации. Исходная функция, украшенная **@singledispatch**, регистрируется для базового типа объекта, что означает, что она используется, если не найдена лучшая реализация."
      ],
      "metadata": {
        "id": "Zjr365T8061h"
      }
    },
    {
      "cell_type": "code",
      "source": [
        "from functools import singledispatch\n",
        "  \n",
        "@singledispatch\n",
        "def fun(s):\n",
        "    print(s)\n",
        "  \n",
        "@fun.register(int)\n",
        "def _1(s):\n",
        "    print(s * 2)\n",
        "  \n",
        "@fun.register(list)\n",
        "def _2(s):\n",
        "    for i, e in enumerate(s):print(i, e)\n",
        "  \n",
        "fun('Hello')\n",
        "fun(10)\n",
        "fun(['h', 'e', 'l', 'l', 'o'])"
      ],
      "metadata": {
        "colab": {
          "base_uri": "https://localhost:8080/"
        },
        "id": "SoIcI_643LRl",
        "outputId": "4f57f980-d2a1-4f99-cd63-8c7751f262be"
      },
      "execution_count": null,
      "outputs": [
        {
          "output_type": "stream",
          "name": "stdout",
          "text": [
            "GeeksforGeeks\n",
            "20\n",
            "0 g\n",
            "1 e\n",
            "2 e\n",
            "3 k\n",
            "4 s\n"
          ]
        }
      ]
    },
    {
      "cell_type": "markdown",
      "source": [
        "Singledispatch также поддерживает наложение декораторов. Это позволяет нам создать перегруженную функцию, которая может обрабатывать несколько типов."
      ],
      "metadata": {
        "id": "6d8xemnP4mML"
      }
    },
    {
      "cell_type": "code",
      "source": [
        "from functools import singledispatch\n",
        "from decimal import Decimal\n",
        "  \n",
        "@singledispatch\n",
        "def fun(s):\n",
        "    print(s)\n",
        "  \n",
        "@fun.register(float)\n",
        "@fun.register(Decimal)\n",
        "def _3(s):\n",
        "    print(round(s, 2))\n",
        "  \n",
        "fun(2.34)\n",
        "fun(Decimal(4.897))"
      ],
      "metadata": {
        "colab": {
          "base_uri": "https://localhost:8080/"
        },
        "id": "Xiu2wCyo35Tz",
        "outputId": "a6a5f1d0-7db6-4229-d636-e879241a5f19"
      },
      "execution_count": null,
      "outputs": [
        {
          "output_type": "stream",
          "name": "stdout",
          "text": [
            "2.34\n",
            "4.90\n"
          ]
        }
      ]
    }
  ]
}
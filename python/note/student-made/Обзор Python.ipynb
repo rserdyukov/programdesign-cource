{
  "nbformat": 4,
  "nbformat_minor": 0,
  "metadata": {
    "colab": {
      "name": "Copy of Python.ipynb",
      "provenance": [],
      "collapsed_sections": [],
      "toc_visible": true
    },
    "kernelspec": {
      "name": "python3",
      "display_name": "Python 3"
    },
    "language_info": {
      "name": "python"
    }
  },
  "cells": [
    {
      "cell_type": "markdown",
      "source": [
        "# Типы данных (система типизации данных)\n",
        "В Python реализована динамическая сильная типизация. Так же в языке имплиментирова утиная типизация. В Python переменные ссылаются на значения. Обьявлять переменные не нужно. У переменной так таковой типа нет (но есть тип у значения, на которое ссылается переменная).\n",
        "Типы данных в Python можно разделить на изменяемые и незменяемые. \n",
        "## Элементарные типы данных\n",
        "Элементарные типы данных в Python\n",
        "\n",
        "\n",
        "1.   Целые int\n",
        "\n",
        "2.   Вещественные float\n",
        "\n",
        "3.   Комплексные complex "
      ],
      "metadata": {
        "id": "V012NtHcH68l"
      }
    },
    {
      "cell_type": "markdown",
      "source": [
        "## Элементарные типы данных"
      ],
      "metadata": {
        "id": "NWbmu4kuuRhM"
      }
    },
    {
      "cell_type": "markdown",
      "source": [
        "Целые числа **int**"
      ],
      "metadata": {
        "id": "BMMTUAe4mwmR"
      }
    },
    {
      "cell_type": "code",
      "source": [
        "a = 10\n",
        "b = 5\n",
        "print(f\"число a = {a}, число b = {b}\")\n",
        "print(f\"сумма чисел  a и b  = {a+b}\")\n",
        "print(f\"разность числе a и b = {a-b}\")\n",
        "print(f\"умножение числе a и b = {a*b}\")\n",
        "print(f\"деление чисел a и b = {a/b}\")\n",
        "print(f\"возведение числа a в степень числа b = {a**b}\") "
      ],
      "metadata": {
        "colab": {
          "base_uri": "https://localhost:8080/"
        },
        "id": "a-YHHCF3mve7",
        "outputId": "1188bb13-8fa2-4801-f474-56bc940f289d"
      },
      "execution_count": null,
      "outputs": [
        {
          "output_type": "stream",
          "name": "stdout",
          "text": [
            "число a = 10, число b = 5\n",
            "сумма чисел  a и b  = 15\n",
            "разность числе a и b = 5\n",
            "умножение числе a и b = 50\n",
            "деление чисел a и b = 2.0\n",
            "возведение числа a в степень числа b = 100000\n"
          ]
        }
      ]
    },
    {
      "cell_type": "markdown",
      "source": [
        "Вещественные числа тип **float**"
      ],
      "metadata": {
        "id": "TcDum3PmpXa0"
      }
    },
    {
      "cell_type": "code",
      "source": [
        "a = 20.0\n",
        "b = 4.0\n",
        "print(f\"число a = {a}, число b = {b}\")\n",
        "print(f\"сумма чисел  a и b  = {a+b}\")\n",
        "print(f\"разность числе a и b = {a-b}\")\n",
        "print(f\"умножение числе a и b = {a*b}\")\n",
        "print(f\"деление чисел a и b = {a/b}\")\n",
        "print(f\"возведение числа a в степень числа b = {a**b}\") "
      ],
      "metadata": {
        "colab": {
          "base_uri": "https://localhost:8080/"
        },
        "id": "F3rWkYm7ppPD",
        "outputId": "4f9bd8fe-d91e-4456-ac9d-64ff9d41efe6"
      },
      "execution_count": null,
      "outputs": [
        {
          "output_type": "stream",
          "name": "stdout",
          "text": [
            "число a = 20.0, число b = 4.0\n",
            "сумма чисел  a и b  = 24.0\n",
            "разность числе a и b = 16.0\n",
            "умножение числе a и b = 80.0\n",
            "деление чисел a и b = 5.0\n",
            "возведение числа a в степень числа b = 160000.0\n"
          ]
        }
      ]
    },
    {
      "cell_type": "markdown",
      "source": [
        "Комплесные числа тип complex"
      ],
      "metadata": {
        "id": "fc3E9nmXtLAW"
      }
    },
    {
      "cell_type": "code",
      "source": [
        "a = 3 + 7j\n",
        "b = 6 + 5j\n",
        "print(f\"число a = {a}, число b = {b}\")\n",
        "print(f\"сумма чисел  a и b  = {a+b}\")\n",
        "print(f\"разность числе a и b = {a-b}\")\n",
        "print(f\"умножение числе a и b = {a*b}\")\n",
        "print(f\"деление чисел a и b = {a/b}\")\n",
        "print(f\"возведение числа a в степень числа b = {a**b}\") \n"
      ],
      "metadata": {
        "colab": {
          "base_uri": "https://localhost:8080/"
        },
        "id": "ytbRFjDetZge",
        "outputId": "9bf5e98e-95a8-47d8-d472-20cac2505fa5"
      },
      "execution_count": null,
      "outputs": [
        {
          "output_type": "stream",
          "name": "stdout",
          "text": [
            "число a = (3+7j), число b = (6+5j)\n",
            "сумма чисел  a и b  = (9+12j)\n",
            "разность числе a и b = (-3+2j)\n",
            "умножение числе a и b = (-17+57j)\n",
            "деление чисел a и b = (0.8688524590163934+0.44262295081967207j)\n",
            "возведение числа a в степень числа b = (-75.61382563085539-568.5214452700211j)\n"
          ]
        }
      ]
    },
    {
      "cell_type": "markdown",
      "source": [
        "Строки (Strings)"
      ],
      "metadata": {
        "id": "tQT_gMyPt6hl"
      }
    },
    {
      "cell_type": "code",
      "source": [
        "name = \"Python\"  \n",
        "# текстовый литерал с префиксом\n",
        "print(f\"Язык {name} - простой и понятный\")\n",
        "print(f\"Язык {name!r} - простой и понятный\")\n",
        "\n",
        "num = 12.34567\n",
        "print(f\"Число: {num:9.3f}\")\n",
        "print(f\"Число: {num:09.3f}\")\n",
        "# формат для отображения целого числа\n",
        "num = 42\n",
        "print(f\"Число: {num:*>9d}\") \n",
        "# формат для отобрадения шестнадцатеричного числа\n",
        "print(f\"Число: {num: #09x}\")\n",
        "print(f\"Число: {num:9x}\")\n",
        "print(f\"Число: {num:*<9x}\")\n",
        "# формат для отображения восьмиричного числа \n",
        "print(f\"Число: {num:*^#09o}\")\n",
        "# формат для отображения двоичного числа\n",
        "print(f\"Число: {num:#9b}\")"
      ],
      "metadata": {
        "colab": {
          "base_uri": "https://localhost:8080/"
        },
        "id": "GQO0EQ-Qud1j",
        "outputId": "0da69426-3e83-491d-ee6d-8c571ecc78fe"
      },
      "execution_count": null,
      "outputs": [
        {
          "output_type": "stream",
          "name": "stdout",
          "text": [
            "Язык Python - простой и понятный\n",
            "Язык 'Python' - простой и понятный\n",
            "Число:    12.346\n",
            "Число: 00012.346\n",
            "Число: 50159747054\n",
            "Число:  0xbadc0ffee\n",
            "Число: badc0ffee\n",
            "Число: badc0ffee\n",
            "Число: 0o565560177756\n",
            "Число: 0b101110101101110000001111111111101110\n"
          ]
        }
      ]
    },
    {
      "cell_type": "code",
      "source": [
        "# строки поддерживают срезы(slises)\n",
        "text = \"I love Python\"\n",
        "print(f\"исходный текст {text}\")\n",
        "print(text[:6])\n",
        "print(text[6:])\n",
        "print(text[::2]) # шаг среза\n",
        "print(text[::-1])\n"
      ],
      "metadata": {
        "colab": {
          "base_uri": "https://localhost:8080/"
        },
        "id": "URtOhK3ZyuoX",
        "outputId": "8a22c626-97b1-4f07-c6a6-b1c923c99190"
      },
      "execution_count": null,
      "outputs": [
        {
          "output_type": "stream",
          "name": "stdout",
          "text": [
            "исходный текст I love Python\n",
            "I love\n",
            " Python\n",
            "Ilv yhn\n",
            "nohtyP evol I\n"
          ]
        }
      ]
    },
    {
      "cell_type": "markdown",
      "source": [
        "Форматирование строк в Python"
      ],
      "metadata": {
        "id": "ElQjHvmr0QoG"
      }
    },
    {
      "cell_type": "code",
      "source": [
        "errno = 50159747054\n",
        "name = 'Боб'\n",
        "# «Классическое» форматирование строковых значений\n",
        "# https://docs.python.org/3/library/stdtypes.html#printf-style-string-formatting\n",
        "print('Привет, %s' % name)\n",
        "print('Эй, %s! Вот ошибка 0x%x!' % (name, errno))\n",
        "# «Современное» форматирование строковых значений\n",
        "print('Привет, {}'.format(name))\n",
        "print('Эй, {name}! Вот ошибка 0x{errno:x}!'.format(name=name, errno=errno))\n",
        "# Интерполяция литеральных строк (Python 3.6+)\n",
        "print(f'Привет, {name}!')\n",
        "print(f'Эй, {name}! Вот ошибка {errno:#x}!')\n",
        "# Шаблонные строки\n",
        "from string import Template\n",
        "t = Template('Эй, $name!')\n",
        "print(t.substitute(name=name))\n",
        "templ_string = 'Эй, $name! Вот ошибка $error!'\n",
        "t = Template(templ_string).substitute(name=name, error=hex(errno))\n",
        "print(t)"
      ],
      "metadata": {
        "colab": {
          "base_uri": "https://localhost:8080/"
        },
        "id": "kkfHloMG05ox",
        "outputId": "33893e98-bbf9-4463-f68b-8dd349781281"
      },
      "execution_count": null,
      "outputs": [
        {
          "output_type": "stream",
          "name": "stdout",
          "text": [
            "Привет, Боб\n",
            "Эй, Боб! Вот ошибка 0xbadc0ffee!\n",
            "Привет, Боб\n",
            "Эй, Боб! Вот ошибка 0xbadc0ffee!\n",
            "Привет, Боб!\n",
            "Эй, Боб! Вот ошибка 0xbadc0ffee!\n",
            "Эй, Боб!\n",
            "Эй, Боб! Вот ошибка 0xbadc0ffee!\n"
          ]
        }
      ]
    },
    {
      "cell_type": "markdown",
      "source": [
        "Булевы значения в Python это две константы True и False.\n",
        "В Python истинными и ложными значениями считаются не только True и False.\n",
        "> Истинное значение:\n",
        "*   любое ненулевое число\n",
        "*   любая непустая строка\n",
        "*   любой непустой объект\n",
        "\n",
        "> Ложное значение:\n",
        "*   0\n",
        "*   None\n",
        "*   пустая строка\n",
        "*   пустой объект\n",
        "\n",
        "\n",
        "\n"
      ],
      "metadata": {
        "id": "IGmCfI4d3bI2"
      }
    },
    {
      "cell_type": "markdown",
      "source": [
        "## Составные типы данных"
      ],
      "metadata": {
        "id": "cq2V-DQiuL35"
      }
    },
    {
      "cell_type": "markdown",
      "source": [
        "Составные типы данных\n",
        "*   tuple – кортеж\n",
        "*   list – список\n",
        "*   set –  множество\n",
        "*   dict - словарь\n"
      ],
      "metadata": {
        "id": "dt9z-WFv6ply"
      }
    },
    {
      "cell_type": "markdown",
      "source": [
        "Кортеж(tuple) - последовательность элементов, которые разделены между собой запятой и заключены в скобки.\n",
        "* неизменяемый упорядоченный тип данных"
      ],
      "metadata": {
        "id": "WEvqTYGx8Fj2"
      }
    },
    {
      "cell_type": "code",
      "source": [
        "# обрати внимание на ,\n",
        "tuple_keys = ('hostname', 'location', 'vendor', 'model', 'ios', 'ip',) \n",
        "print(tuple_keys)\n",
        "\n",
        "thistuple = (\"apple\",)\n",
        "print(type(thistuple))\n",
        "\n",
        "# не кортеж\n",
        "thistuple = (\"apple\")\n",
        "print(type(thistuple))"
      ],
      "metadata": {
        "colab": {
          "base_uri": "https://localhost:8080/"
        },
        "id": "zSjGYmBB76wQ",
        "outputId": "b6b31e40-7f3f-45d7-8348-cfcde227ab18"
      },
      "execution_count": null,
      "outputs": [
        {
          "output_type": "stream",
          "name": "stdout",
          "text": [
            "('hostname', 3, 'vendor', 'model', 'ios', 'ip')\n",
            "<class 'tuple'>\n",
            "<class 'str'>\n"
          ]
        }
      ]
    },
    {
      "cell_type": "markdown",
      "source": [
        "Список(list) - последовательность элементов, разделенных между собой запятой и заключенных в квадратные скобки\n",
        "*  изменяемый упорядоченный тип данных\n",
        "\n"
      ],
      "metadata": {
        "id": "5IpyE3MSDgKD"
      }
    },
    {
      "cell_type": "code",
      "source": [
        "list1 = [\"abc\", 34, True, 40, \"male\"]\n",
        "print(list1)\n",
        "# к элементам списка можно обращаться по индексу или сделать срез\n",
        "print(list1[0])\n",
        "print(list1[1:3])\n",
        "print(list1[::-1])\n",
        "\n",
        "# изменить элемент списка списка\n",
        "\n",
        "thislist = [\"apple\", \"banana\", \"cherry\"]\n",
        "thislist[1] = \"blackcurrant\"\n",
        "print(thislist)\n",
        "\n",
        "thislist = [\"apple\", \"banana\", \"cherry\"]\n",
        "thislist[1:2] = [\"blackcurrant\", \"watermelon\"]\n",
        "print(thislist)\n",
        "\n",
        "thislist = [\"apple\", \"banana\", \"cherry\"]\n",
        "thislist.insert(2, \"watermelon\") # вставка по индексу\n",
        "print(thislist)\n",
        "\n",
        "thislist = [\"apple\", \"banana\", \"cherry\"]\n",
        "thislist.append(\"orange\") # вставка в конец списка\n",
        "print(thislist)\n",
        "\n",
        "# удалить элемен списка \n",
        "\n",
        "thislist = [\"apple\", \"banana\", \"cherry\"]\n",
        "thislist.remove(\"banana\") # удаление по значению\n",
        "print(thislist)\n",
        "\n",
        "thislist = [\"apple\", \"banana\", \"cherry\"]\n",
        "thislist.pop(1) # удаление по индуксу\n",
        "print(thislist)\n",
        "\n",
        "thislist = [\"apple\", \"banana\", \"cherry\"]\n",
        "thislist.pop() # удаление последнего элемента в списке \n",
        "print(thislist)\n",
        "\n",
        "# очистить список\n",
        "thislist = [\"apple\", \"banana\", \"cherry\"]\n",
        "thislist.clear()\n",
        "print(thislist)\n",
        "\n",
        "# сортировка списка\n",
        "thislist = [\"orange\", \"mango\", \"kiwi\", \"pineapple\", \"banana\"]\n",
        "print(\"до сортировки \", thislist)\n",
        "thislist.sort()\n",
        "print(thislist)\n",
        "\n",
        "thislist = [100, 50, 65, 82, 23]\n",
        "print(\"до сортировки \", thislist)\n",
        "thislist.sort()\n",
        "print(thislist)\n",
        "\n",
        "\n",
        "thislist = [100, 50, 65, 82, 23]\n",
        "thislist.sort(reverse = True) # сортировка в обратном порядке\n",
        "print(thislist)\n"
      ],
      "metadata": {
        "colab": {
          "base_uri": "https://localhost:8080/"
        },
        "id": "_JIZvMfVEXss",
        "outputId": "65369726-6d3c-45cd-9eea-79d976d2e222"
      },
      "execution_count": null,
      "outputs": [
        {
          "output_type": "stream",
          "name": "stdout",
          "text": [
            "['abc', 34, True, 40, 'male']\n",
            "abc\n",
            "[34, True]\n",
            "['male', 40, True, 34, 'abc']\n",
            "['apple', 'blackcurrant', 'cherry']\n",
            "['apple', 'blackcurrant', 'watermelon', 'cherry']\n",
            "['apple', 'banana', 'watermelon', 'cherry']\n",
            "['apple', 'banana', 'cherry', 'orange']\n",
            "['apple', 'cherry']\n",
            "['apple', 'cherry']\n",
            "['apple', 'banana']\n",
            "[]\n",
            "до сортировки  ['orange', 'mango', 'kiwi', 'pineapple', 'banana']\n",
            "['banana', 'kiwi', 'mango', 'orange', 'pineapple']\n",
            "до сортировки  [100, 50, 65, 82, 23]\n",
            "[23, 50, 65, 82, 100]\n"
          ]
        }
      ]
    },
    {
      "cell_type": "markdown",
      "source": [
        ""
      ],
      "metadata": {
        "id": "Y7fnvsvbHvlO"
      }
    },
    {
      "cell_type": "markdown",
      "source": [
        "Множество(set) - это изменяемый неупорядоченный тип данных. В множестве всегда содержатся только уникальные элементы.\n",
        "*   изменяемый, неупорядоченных, неиндексируемый тип"
      ],
      "metadata": {
        "id": "QI3SzugFL8E3"
      }
    },
    {
      "cell_type": "code",
      "source": [
        "thisset = {\"apple\", \"banana\", \"cherry\"}\n",
        "\n",
        "thisset.add(\"orange\")\n",
        "\n",
        "print(thisset)"
      ],
      "metadata": {
        "id": "zs7ucXD5M-8Z"
      },
      "execution_count": null,
      "outputs": []
    },
    {
      "cell_type": "markdown",
      "source": [
        "Словарь(dict) - это изменяемый упорядоченный тип данных.\n",
        "\n",
        "\n",
        "*   данные в словаре - это пары\n",
        "*   доступ к значениям осуществляется по ключу, а не по номеру, как в списках\n",
        "*   данные в словаре упорядочены по порядку добавления элементов(начиная с Python 3.7)\n",
        "*   так как словари изменяемы, то элементы словаря можно менять, добавлять, удалять\n",
        "*   ключ должен быть объектом неизменяемого типа: число, строка, кортеж\n",
        "*   значение может быть данными любого типа\n",
        "\n",
        "\n"
      ],
      "metadata": {
        "id": "uMSGfaxQiceu"
      }
    },
    {
      "cell_type": "markdown",
      "source": [
        "Пример создания словаря"
      ],
      "metadata": {
        "id": "Gskl_A2Yj023"
      }
    },
    {
      "cell_type": "code",
      "source": [
        "london = {'name': 'London1', 'location': 'London Str', 'vendor': 'Cisco'} "
      ],
      "metadata": {
        "id": "P98-kufvjaOh"
      },
      "execution_count": null,
      "outputs": []
    },
    {
      "cell_type": "markdown",
      "source": [
        "Очищение словаря"
      ],
      "metadata": {
        "id": "dHP5T9cHj4Cf"
      }
    },
    {
      "cell_type": "code",
      "source": [
        "london = {'name': 'London1', 'location': 'London Str'}\n",
        "london.clear()\n",
        "print(london)"
      ],
      "metadata": {
        "id": "ITz_AF1pj7Mj"
      },
      "execution_count": null,
      "outputs": []
    },
    {
      "cell_type": "markdown",
      "source": [
        "Способы получения value по ключу"
      ],
      "metadata": {
        "id": "PMOJFrT0kPo5"
      }
    },
    {
      "cell_type": "code",
      "source": [
        "london = {'name': 'London1', 'location': 'London Str', 'vendor': 'Cisco'}\n",
        "print(\"обращение по ключу в случае отсутствия такого ключа вернет exception\",london['name'])\n",
        "print(\"обращение через метод get, в случае отсутствия такого ключа вернет None\", london.get('name'))"
      ],
      "metadata": {
        "colab": {
          "base_uri": "https://localhost:8080/"
        },
        "id": "oLslc-sikVuQ",
        "outputId": "35a3c4f5-810b-4be2-888b-671f11727151"
      },
      "execution_count": null,
      "outputs": [
        {
          "output_type": "stream",
          "name": "stdout",
          "text": [
            "обращение по ключу в случае отсутствия такого ключа вернет exception London1\n",
            "обращение через метод get, в случае отсутствия такого ключа вернет None London1\n"
          ]
        }
      ]
    },
    {
      "cell_type": "code",
      "source": [
        "london = {'name': 'London1', 'location': 'London Str', 'vendor': 'Cisco'}\n",
        "print(\"получение всей ключей словаря\",london.keys())\n",
        "print(\"получегие всех значегий своваря\",london.values())"
      ],
      "metadata": {
        "colab": {
          "base_uri": "https://localhost:8080/"
        },
        "id": "tDID7k_Zn1oz",
        "outputId": "8be18633-810b-44c9-c644-1dd0e9cca1b4"
      },
      "execution_count": null,
      "outputs": [
        {
          "output_type": "stream",
          "name": "stdout",
          "text": [
            "получение всей ключей словаря dict_keys(['name', 'location', 'vendor'])\n",
            "получегие всех значегий своваря dict_values(['London1', 'London Str', 'Cisco'])\n"
          ]
        }
      ]
    },
    {
      "cell_type": "markdown",
      "source": [
        "Удаление ключа и значения"
      ],
      "metadata": {
        "id": "yesjpeZGpQ2U"
      }
    },
    {
      "cell_type": "code",
      "source": [
        "london = {'name': 'London1', 'location': 'London Str', 'vendor': 'Cisco'}\n",
        "del london['name']\n",
        "print(london)"
      ],
      "metadata": {
        "colab": {
          "base_uri": "https://localhost:8080/"
        },
        "id": "m1YBrXVApY7J",
        "outputId": "c792cd24-6815-4432-9ffe-57d96ae6f0bc"
      },
      "execution_count": null,
      "outputs": [
        {
          "output_type": "stream",
          "name": "stdout",
          "text": [
            "{'location': 'London Str', 'vendor': 'Cisco'}\n"
          ]
        }
      ]
    },
    {
      "cell_type": "markdown",
      "source": [
        "Обновление ключа и словаря"
      ],
      "metadata": {
        "id": "nm9LurO4pmd9"
      }
    },
    {
      "cell_type": "code",
      "source": [
        "r1 = {'name': 'London1', 'location': 'London Str'}\n",
        "r1.update({'vendor': 'Cisco', 'ios':'15.2'})\n",
        "print(r1)"
      ],
      "metadata": {
        "colab": {
          "base_uri": "https://localhost:8080/"
        },
        "id": "ezZsLcx8pqoJ",
        "outputId": "290ed640-9d25-4076-81c7-b0adad5b464e"
      },
      "execution_count": null,
      "outputs": [
        {
          "output_type": "stream",
          "name": "stdout",
          "text": [
            "{'name': 'London1', 'location': 'London Str', 'vendor': 'Cisco', 'ios': '15.2'}\n"
          ]
        }
      ]
    },
    {
      "cell_type": "markdown",
      "source": [
        "##Объявление переменных\n"
      ],
      "metadata": {
        "id": "aUyCoFfIqXdD"
      }
    },
    {
      "cell_type": "markdown",
      "source": [
        "В Python реализована динамическая сильная типизация. Так же в языке имплиментирова утиная типизация. В Python переменные ссылаются на значения. Обьявлять переменные не нужно. У переменной так таковой типа нет (но есть тип у значения, на которое ссылается переменная). Типы данных в Python можно разделить на изменяемые и незменяемые. В Python обьявление пеменных не явное.\n"
      ],
      "metadata": {
        "id": "0O9ORrqXnzLb"
      }
    },
    {
      "cell_type": "code",
      "source": [
        "a = 5\n",
        "b = a \n",
        "b + 5 \n",
        "print(b)"
      ],
      "metadata": {
        "colab": {
          "base_uri": "https://localhost:8080/"
        },
        "id": "cLzI9n4nwX3s",
        "outputId": "3a394a53-81ef-4186-fc1f-212593fb18bf"
      },
      "execution_count": null,
      "outputs": [
        {
          "output_type": "stream",
          "name": "stdout",
          "text": [
            "5\n"
          ]
        }
      ]
    },
    {
      "cell_type": "markdown",
      "source": [
        "Python подерживает многоцелевое обьявление пеменных."
      ],
      "metadata": {
        "id": "Dx21OpnkwyDb"
      }
    },
    {
      "cell_type": "code",
      "source": [
        "a, b = 5, 6 \n",
        "print(a , b)"
      ],
      "metadata": {
        "colab": {
          "base_uri": "https://localhost:8080/"
        },
        "id": "-swjPvrXxE3b",
        "outputId": "3f43b3a5-cd28-49ed-cc3e-b3829e0a2b0c"
      },
      "execution_count": null,
      "outputs": [
        {
          "output_type": "stream",
          "name": "stdout",
          "text": [
            "5 6\n"
          ]
        }
      ]
    },
    {
      "cell_type": "markdown",
      "source": [
        "## Контроль типов\n",
        "Функция type() показывает к какому классу отновится тип."
      ],
      "metadata": {
        "id": "hezvTV4yxPAu"
      }
    },
    {
      "cell_type": "code",
      "source": [
        "a = 5\n",
        "b = \"Python\"\n",
        "print(type(a))\n",
        "print(type(b))"
      ],
      "metadata": {
        "colab": {
          "base_uri": "https://localhost:8080/"
        },
        "id": "flW5FODnx4OS",
        "outputId": "f92dcc12-0df7-470a-9b4e-0f3882af70f2"
      },
      "execution_count": null,
      "outputs": [
        {
          "output_type": "stream",
          "name": "stdout",
          "text": [
            "<class 'int'>\n",
            "<class 'str'>\n"
          ]
        }
      ]
    },
    {
      "cell_type": "markdown",
      "source": [
        "Подсказка типа - это формальное решение для статического указания типа значения в коде, начиная с Python 3.5++."
      ],
      "metadata": {
        "id": "tAtCf2NBya57"
      }
    },
    {
      "cell_type": "code",
      "source": [
        "a: int = 5\n",
        "b: bool = True\n",
        "print(a, b)"
      ],
      "metadata": {
        "colab": {
          "base_uri": "https://localhost:8080/"
        },
        "id": "_71_6rSozGfv",
        "outputId": "af0db950-3a79-4cfd-99a3-a587755584d5"
      },
      "execution_count": null,
      "outputs": [
        {
          "output_type": "stream",
          "name": "stdout",
          "text": [
            "5 True\n"
          ]
        }
      ]
    },
    {
      "cell_type": "markdown",
      "source": [
        "Если тип может быть определенного типа или None, то нужно использовать Optiona[] из модуля typing "
      ],
      "metadata": {
        "id": "2ixgJv-fzXTn"
      }
    },
    {
      "cell_type": "code",
      "source": [
        "from typing import Optional\n",
        "a: Optional[int] = 5 \n",
        "print(a)"
      ],
      "metadata": {
        "colab": {
          "base_uri": "https://localhost:8080/"
        },
        "id": "pN0mo1xmz0E_",
        "outputId": "eda5b8e9-d75d-408d-df9d-10c33af23c09"
      },
      "execution_count": null,
      "outputs": [
        {
          "output_type": "stream",
          "name": "stdout",
          "text": [
            "5 True\n"
          ]
        }
      ]
    },
    {
      "cell_type": "markdown",
      "source": [
        "В функциях можно показать какой тип должен быть атрибутом функции и какой тип должна возвращать функция."
      ],
      "metadata": {
        "id": "FeiJscol0mkv"
      }
    },
    {
      "cell_type": "code",
      "source": [
        "def foo(a: int) -> bool:\n",
        "  pass"
      ],
      "metadata": {
        "colab": {
          "base_uri": "https://localhost:8080/"
        },
        "id": "MNic0cX80vyN",
        "outputId": "9e4ab5d6-1488-4546-f4eb-5a5d679a034d"
      },
      "execution_count": null,
      "outputs": [
        {
          "output_type": "stream",
          "name": "stdout",
          "text": [
            "<class 'function'>\n",
            "<class 'type'>\n"
          ]
        }
      ]
    },
    {
      "cell_type": "markdown",
      "source": [
        ""
      ],
      "metadata": {
        "id": "JfMXJT9gkEOt"
      }
    },
    {
      "cell_type": "markdown",
      "source": [
        "*Курсив*## Связывание имени переменной с ее атрибутами"
      ],
      "metadata": {
        "id": "MJObZNX22zfw"
      }
    },
    {
      "cell_type": "code",
      "source": [
        ""
      ],
      "metadata": {
        "colab": {
          "base_uri": "https://localhost:8080/"
        },
        "id": "YyrFZJwl2JZh",
        "outputId": "0fa70d38-59dc-451b-9968-6ca4d9e994eb"
      },
      "execution_count": null,
      "outputs": [
        {
          "output_type": "execute_result",
          "data": {
            "text/plain": [
              "mappingproxy({'__annotations__': {'a': int, 'b': int},\n",
              "              '__dict__': <attribute '__dict__' of 'boo' objects>,\n",
              "              '__doc__': None,\n",
              "              '__module__': '__main__',\n",
              "              '__weakref__': <attribute '__weakref__' of 'boo' objects>,\n",
              "              'a': 1,\n",
              "              'b': 44})"
            ]
          },
          "metadata": {},
          "execution_count": 28
        }
      ]
    },
    {
      "cell_type": "markdown",
      "source": [
        "# Преобразования типов данных"
      ],
      "metadata": {
        "id": "SVJtNtys271z"
      }
    },
    {
      "cell_type": "markdown",
      "source": [
        "В Python можно преобразовывать типы данных при помощи внутренних функций."
      ],
      "metadata": {
        "id": "Ud0cpDeY297d"
      }
    },
    {
      "cell_type": "markdown",
      "source": [
        "Пример явного преобзования типов данных "
      ],
      "metadata": {
        "id": "jW_Yz_et4d_q"
      }
    },
    {
      "cell_type": "code",
      "source": [
        "num_int = 123\n",
        "num_str = \"456\"\n",
        "\n",
        "print(\"тип данных num_int:\",type(num_int))\n",
        "print(\"тип данных num_str до приведения типа :\",type(num_str))\n",
        "\n",
        "num_str = int(num_str)\n",
        "print(\"тип данных num_str после приведения типа:\",type(num_str))\n",
        "\n",
        "num_sum = num_int + num_str\n",
        "\n",
        "print(\"сумма num_int и num_str:\",num_sum)\n",
        "print(\"тип данных num_sum:\",type(num_sum))"
      ],
      "metadata": {
        "colab": {
          "base_uri": "https://localhost:8080/"
        },
        "id": "zxmerbZv3NAM",
        "outputId": "70862c23-7130-4212-c9f5-4630f71219dc"
      },
      "execution_count": null,
      "outputs": [
        {
          "output_type": "stream",
          "name": "stdout",
          "text": [
            "тип данных num_int: <class 'int'>\n",
            "тип данных num_str до приведения типа : <class 'str'>\n",
            "тип данных num_str после приведения типа: <class 'int'>\n",
            "сумма num_int и num_str: 579\n",
            "тип данных num_sum: <class 'int'>\n"
          ]
        }
      ]
    },
    {
      "cell_type": "markdown",
      "source": [
        "Пример неявного преобразования типов данных"
      ],
      "metadata": {
        "id": "0uqZmySs4Wn8"
      }
    },
    {
      "cell_type": "code",
      "source": [
        "num_int = 123\n",
        "num_float = 1.23\n",
        "\n",
        "num_new = num_int + num_float\n",
        "\n",
        "print(\"тип данных num_int:\",type(num_int))\n",
        "print(\"тип данных num_float:\",type(num_float))\n",
        "\n",
        "print(\"значение num_new:\",num_new)\n",
        "print(\"тип данных num_new:\",type(num_new))"
      ],
      "metadata": {
        "colab": {
          "base_uri": "https://localhost:8080/"
        },
        "id": "AnaP4OWW4UFJ",
        "outputId": "b2aa9d01-88d9-4ff2-b904-85334c227239"
      },
      "execution_count": null,
      "outputs": [
        {
          "output_type": "stream",
          "name": "stdout",
          "text": [
            "тип данных num_int: <class 'int'>\n",
            "тип данных num_float: <class 'float'>\n",
            "значение num_new: 124.23\n",
            "тип данных num_new: <class 'float'>\n"
          ]
        }
      ]
    },
    {
      "cell_type": "markdown",
      "source": [
        "## Эквивалентность и совместимость типов данных\n"
      ],
      "metadata": {
        "id": "9KNQ5qcw48KL"
      }
    },
    {
      "cell_type": "markdown",
      "source": [
        "Выражение is дает True, если две переменные указывают на тот же самый (идентичный) объект.\n"
      ],
      "metadata": {
        "id": "xk-MxuhU6Mne"
      }
    },
    {
      "cell_type": "markdown",
      "source": [
        "Выражение == дает True, если объекты, на которые ссылаются пере- менные, равны (имеют одинаковое содержимое)."
      ],
      "metadata": {
        "id": "jcFWuSD96R7s"
      }
    },
    {
      "cell_type": "code",
      "source": [
        "list1 = []\n",
        "list2 = []\n",
        "list3=list1\n",
        " \n",
        "if (list1 == list2):\n",
        "    print(\"True\")\n",
        "else:\n",
        "    print(\"False\")\n",
        " \n",
        "if (list1 is list2):\n",
        "    print(\"True\")\n",
        "else:\n",
        "    print(\"False\")\n",
        " \n",
        "if (list1 is list3):\n",
        "    print(\"True\")\n",
        "else:   \n",
        "    print(\"False\")\n",
        " \n",
        "list3 = list3 + list2\n",
        " \n",
        "if (list1 is list3):\n",
        "    print(\"True\")\n",
        "else:   \n",
        "    print(\"False\")"
      ],
      "metadata": {
        "id": "uKIAarQ352Xl"
      },
      "execution_count": null,
      "outputs": []
    },
    {
      "cell_type": "markdown",
      "source": [
        "# Выражения и оператор присваивания\n",
        "\n",
        "Выражение представляет собой инструкцию, которая объединяет значения и операторы и всегда оценивает до одного значения \n",
        "Пример выражения  "
      ],
      "metadata": {
        "id": "pBtvq6sUnBpC"
      }
    },
    {
      "cell_type": "code",
      "source": [
        "2+2"
      ],
      "metadata": {
        "colab": {
          "base_uri": "https://localhost:8080/"
        },
        "id": "qleDCvLcpD-z",
        "outputId": "6a1adb99-c48f-4ee6-cc8e-bb6410bb326b"
      },
      "execution_count": null,
      "outputs": [
        {
          "output_type": "execute_result",
          "data": {
            "text/plain": [
              "4"
            ]
          },
          "metadata": {},
          "execution_count": 1
        }
      ]
    },
    {
      "cell_type": "markdown",
      "source": [
        "В Python оператор присваивания не создает копии объектов, они лишь \n",
        "привязывает имена к объекту. Для неизменяемых объектов этот факт \n",
        "обычно не имеет значения."
      ],
      "metadata": {
        "id": "Ur-1rV6-l9qe"
      }
    },
    {
      "cell_type": "markdown",
      "source": [
        "Для составных объектов, \n",
        "таких как списки, словари и множества, между мелким и глубоким копированием имеется важное различие.\n"
      ],
      "metadata": {
        "id": "nCJMahX5mUX_"
      }
    },
    {
      "cell_type": "markdown",
      "source": [
        "##shallow copy vs deep copy"
      ],
      "metadata": {
        "id": "bSMPv97Q3mRQ"
      }
    },
    {
      "cell_type": "markdown",
      "source": [
        ""
      ],
      "metadata": {
        "id": "3fDC-FUm3lCa"
      }
    },
    {
      "cell_type": "markdown",
      "source": [
        "**Мелкая копия** (shallow copy) означает конструирование нового объекта коллекции и затем его заполнение ссылками на дочерние объекты, найденные в оригинале. В сущности, мелкая копия имеет всего один уровень \n",
        "в глубину. Процесс копирования выполняется нерекурсивно и поэтому не \n",
        "создает копий самих дочерних объектов.\n"
      ],
      "metadata": {
        "id": "8agPVkywmZzR"
      }
    },
    {
      "cell_type": "code",
      "source": [
        "# создание мелких копий\n",
        "xs = [[1, 2, 3], [4, 5, 6], [7, 8, 9]]\n",
        "ys = list(xs) # Сделать мелкую копию"
      ],
      "metadata": {
        "id": "8vNgT1qcmlrx"
      },
      "execution_count": null,
      "outputs": []
    },
    {
      "cell_type": "markdown",
      "source": [
        "Это означает, что список ys теперь будет новым и независимым объектом \n",
        "с тем же самым содержимым, что и список xs. Это можно проверить, проинспектировав оба объекта"
      ],
      "metadata": {
        "id": "r5Sqylx0m3vP"
      }
    },
    {
      "cell_type": "code",
      "source": [
        "print(xs)\n",
        "print(ys)\n",
        "xs.append(['новый подсписок'])\n",
        "print(xs)\n",
        "print(ys)"
      ],
      "metadata": {
        "colab": {
          "base_uri": "https://localhost:8080/"
        },
        "id": "dC3YqOxpm9xD",
        "outputId": "4bbf111e-75ed-405e-e6f6-4196f1d9a391"
      },
      "execution_count": null,
      "outputs": [
        {
          "output_type": "stream",
          "name": "stdout",
          "text": [
            "[[1, 2, 3], [4, 5, 6], [7, 8, 9]]\n",
            "[[1, 2, 3], [4, 5, 6], [7, 8, 9]]\n",
            "[[1, 2, 3], [4, 5, 6], [7, 8, 9], ['новый подсписок']]\n",
            "[[1, 2, 3], [4, 5, 6], [7, 8, 9]]\n"
          ]
        }
      ]
    },
    {
      "cell_type": "markdown",
      "source": [
        "Однако поскольку мы создали лишь мелкую копию оригинального списка, список ys по-прежнему содержит ссылки на оригинальные дочерние \n",
        "объекты, хранящиеся в xs.\n",
        "\n",
        "Эти дочерние элементы **не** были скопированы. Все свелось к тому, что \n",
        "в скопированном списке на них снова содержатся ссылки."
      ],
      "metadata": {
        "id": "shGEnQYyowUO"
      }
    },
    {
      "cell_type": "markdown",
      "source": [
        "Поэтому, когда вы модифицируете один из дочерних объектов в списке xs, эта модификация также будет отражена в списке ys — таким \n",
        "образом, **оба списка совместно используют одинаковые дочерние объекты**. Эта копия представляет собой всего лишь мелкую копию с одним \n",
        "уровнем в глубину:"
      ],
      "metadata": {
        "id": "gjHiK4glpB42"
      }
    },
    {
      "cell_type": "code",
      "source": [
        "xs[1][0] = 'X'\n",
        "print(xs)\n",
        "print(ys)"
      ],
      "metadata": {
        "colab": {
          "base_uri": "https://localhost:8080/"
        },
        "id": "A3QMnZiCpQhp",
        "outputId": "04d9b5fc-a1ea-4966-f780-ff6dc88e8431"
      },
      "execution_count": null,
      "outputs": [
        {
          "output_type": "stream",
          "name": "stdout",
          "text": [
            "[[1, 2, 3], ['X', 5, 6], [7, 8, 9], ['новый подсписок']]\n",
            "[[1, 2, 3], ['X', 5, 6], [7, 8, 9]]\n"
          ]
        }
      ]
    },
    {
      "cell_type": "markdown",
      "source": [
        "**Создание глубоких копий**\n"
      ],
      "metadata": {
        "id": "UZ9_35P0prn6"
      }
    },
    {
      "cell_type": "markdown",
      "source": [
        "**Глубокая копия** (deep copy) выполняет процесс копирования рекурсивно. \n",
        "Это означает конструирование сначала нового объекта коллекции, а затем рекурсивное его заполнение копиями дочерних объектов, найденных \n",
        "в оригинале. При копировании объекта таким способом выполняется об\u0002ход всего дерева объектов целиком, и создается полностью независимый \n",
        "клон исходного объекта и всех его потомков."
      ],
      "metadata": {
        "id": "tOLo6vTUqmgT"
      }
    },
    {
      "cell_type": "code",
      "source": [
        "import copy \n",
        "xs = [[1, 2, 3], [4, 5, 6], [7, 8, 9]]\n",
        "zs = copy.deepcopy(xs)\n",
        "print(xs)\n",
        "print(zs)\n",
        "xs[1][0] = 'X'\n",
        "print(xs)\n",
        "print(zs)"
      ],
      "metadata": {
        "colab": {
          "base_uri": "https://localhost:8080/"
        },
        "id": "5a_cyaoupyJ6",
        "outputId": "c80ea559-16e7-4a91-ceda-03e270fe5ab6"
      },
      "execution_count": null,
      "outputs": [
        {
          "output_type": "stream",
          "name": "stdout",
          "text": [
            "[[1, 2, 3], [4, 5, 6], [7, 8, 9]]\n",
            "[[1, 2, 3], [4, 5, 6], [7, 8, 9]]\n",
            "[[1, 2, 3], ['X', 5, 6], [7, 8, 9]]\n",
            "[[1, 2, 3], [4, 5, 6], [7, 8, 9]]\n"
          ]
        }
      ]
    },
    {
      "cell_type": "markdown",
      "source": [
        "##Операторы присваивания в Python"
      ],
      "metadata": {
        "id": "QFBXSZn-ugqk"
      }
    },
    {
      "cell_type": "markdown",
      "source": [
        "**+=**  Прибавит значение правого операнда к левому и присвоит эту сумму левому операнду.\n"
      ],
      "metadata": {
        "id": "cugolRc8ulnP"
      }
    },
    {
      "cell_type": "code",
      "source": [
        "c = 5\n",
        "a = 2\n",
        "c += a # равносильно: с = с + а\n",
        "print(c) "
      ],
      "metadata": {
        "colab": {
          "base_uri": "https://localhost:8080/"
        },
        "id": "vSoSsNvAuznO",
        "outputId": "88156ebc-5208-4121-fe5b-d277abcf8925"
      },
      "execution_count": null,
      "outputs": [
        {
          "output_type": "stream",
          "name": "stdout",
          "text": [
            "7\n"
          ]
        }
      ]
    },
    {
      "cell_type": "markdown",
      "source": [
        "**-=** Отнимает значение правого операнда от левого и присваивает результат левому операнду."
      ],
      "metadata": {
        "id": "M2TeI9jqvRyI"
      }
    },
    {
      "cell_type": "code",
      "source": [
        "c = 5\n",
        "a = 2\n",
        "c -= a # равносильно: с = с - а\n",
        "print(c) "
      ],
      "metadata": {
        "colab": {
          "base_uri": "https://localhost:8080/"
        },
        "id": "5sd1qtncvVmN",
        "outputId": "bae0bc91-c87c-4516-8376-1fe3272739e3"
      },
      "execution_count": null,
      "outputs": [
        {
          "output_type": "stream",
          "name": "stdout",
          "text": [
            "3\n"
          ]
        }
      ]
    },
    {
      "cell_type": "markdown",
      "source": [
        "*= Умножает правый операнд с левым и присваивает результат левому операнду."
      ],
      "metadata": {
        "id": "JRWwOiLVvbQA"
      }
    },
    {
      "cell_type": "code",
      "source": [
        "c = 5\n",
        "a = 2\n",
        "c *= a # равносильно: с = с * а\n",
        "print(c) "
      ],
      "metadata": {
        "id": "eVTYlVvNviv2"
      },
      "execution_count": null,
      "outputs": []
    },
    {
      "cell_type": "markdown",
      "source": [
        "/= Делит левый операнд на правый и присваивает результат левому операнду."
      ],
      "metadata": {
        "id": "l5pLTjejvlPR"
      }
    },
    {
      "cell_type": "code",
      "source": [
        "c = 5\n",
        "a = 2\n",
        "c /= a # равносильно: с = с / а\n",
        "print(c) "
      ],
      "metadata": {
        "colab": {
          "base_uri": "https://localhost:8080/"
        },
        "id": "vPcm9gQ0vp44",
        "outputId": "35930481-950c-410f-8c6c-538c5e7d46ab"
      },
      "execution_count": null,
      "outputs": [
        {
          "output_type": "stream",
          "name": "stdout",
          "text": [
            "2.5\n"
          ]
        }
      ]
    },
    {
      "cell_type": "markdown",
      "source": [
        "%= Делит по модулю операнды и присваивает результат левому."
      ],
      "metadata": {
        "id": "87Vyx0qOvwoX"
      }
    },
    {
      "cell_type": "code",
      "source": [
        "c = 5\n",
        "a = 2\n",
        "c %= a # равносильно: с = с % а\n",
        "print(c) "
      ],
      "metadata": {
        "id": "bp-QjlYovzEs"
      },
      "execution_count": null,
      "outputs": []
    },
    {
      "cell_type": "markdown",
      "source": [
        "**= Возводит в левый операнд в степень правого и присваивает результат левому операнду."
      ],
      "metadata": {
        "id": "O3LAUL97v3M3"
      }
    },
    {
      "cell_type": "code",
      "source": [
        "c = 5\n",
        "a = 2\n",
        "c **= a # равносильно: с = с ** а\n",
        "print(c) "
      ],
      "metadata": {
        "id": "WruF9JtXv6q6"
      },
      "execution_count": null,
      "outputs": []
    },
    {
      "cell_type": "markdown",
      "source": [
        "//= Производит целочисленное деление левого операнда на правый и присваивает результат левому операнду."
      ],
      "metadata": {
        "id": "1pd4uVVvv_8F"
      }
    },
    {
      "cell_type": "code",
      "source": [
        "c = 5\n",
        "a = 2\n",
        "c //= a # равносильно: с = с // а\n",
        "print(c) "
      ],
      "metadata": {
        "id": "TUnWNMh1wEHt"
      },
      "execution_count": null,
      "outputs": []
    },
    {
      "cell_type": "markdown",
      "source": [
        "##Моржовый оператор\n",
        "\n",
        "Добавленный в Python 3.8 моржовый оператор (:=), формально известен как оператор присваивания выражения. Он дает возможность присвоить переменные в выражении, включая переменные, которых еще не существует."
      ],
      "metadata": {
        "id": "ajedJo643s3n"
      }
    },
    {
      "cell_type": "code",
      "source": [
        "print(num := 15)"
      ],
      "metadata": {
        "id": "XQZDzDWb36sp"
      },
      "execution_count": null,
      "outputs": []
    },
    {
      "cell_type": "markdown",
      "source": [
        "Значение 15 присваивается num. Затем возвращается то же значение, которое становится аргументом для функции print. Таким образом, выводится 15."
      ],
      "metadata": {
        "id": "nbStdM4u3-ds"
      }
    },
    {
      "cell_type": "markdown",
      "source": [
        ""
      ],
      "metadata": {
        "id": "vheS2rqJ3ZtF"
      }
    },
    {
      "cell_type": "markdown",
      "source": [
        "# Операторы"
      ],
      "metadata": {
        "id": "Xa0cm_xBsF9F"
      }
    },
    {
      "cell_type": "markdown",
      "source": [
        "Python подерживает слудующие типы операторов:\n",
        "\n",
        "\n",
        "1.   Арифметические операторы\n",
        "2.   Операторы сравнения (реляционные)\n",
        "3.   Операторы присваивания\n",
        "4.   Побитовые операторы\n",
        "5.   Логические операторы\n",
        "6.   Операторы членства (Membership operators)\n",
        "7.   Операторы тождественности (Identity operators)\n",
        "\n"
      ],
      "metadata": {
        "id": "-W9zqGRvwiwn"
      }
    },
    {
      "cell_type": "markdown",
      "source": [
        "##Арифметические операторы\n",
        "\n",
        "\n",
        "1.   Сложение(+) - Суммирует значения слева и справа от оператора\n",
        "2.   Вычитание(-) - Вычитает правый операнд из левого\n",
        "3.   Умножение(*) - Перемножает операнды\n",
        "4.   Деление(/) - Делит левый операнд на правый\n",
        "5.   Деление по модулю(%) - Делит левый операнд на правый и возвращает остаток.\n",
        "6.   Возведение в степень(**) - возводит левый операнд в степень правого\n",
        "7.   Целочисленное деление(//) - Деление в котором возвращается только целая часть результата. Часть после запятой отбрасывается.\n",
        "\n"
      ],
      "metadata": {
        "id": "VoL3zpNBxCS0"
      }
    },
    {
      "cell_type": "markdown",
      "source": [
        "##Операторы сравнения (реляционные)\n",
        "\n",
        "\n",
        "1.   (==) Проверяет равны ли оба операнда. Если да, то условие становится истинным.\n",
        "2.   (!=) Проверяет равны ли оба операнда. Если нет, то условие становится истинным.\n",
        "3.   (<>) Проверяет равны ли оба операнда. Если нет, то условие становится истинным.\n",
        "4.   (>)  Проверяет больше ли значение левого операнда, чем значение правого. Если да, то условие становится истинным.\n",
        "5.   (<)  Проверяет меньше ли значение левого операнда, чем значение правого. Если да, то условие становится истинным.\n",
        "6.   (>=) Проверяет больше или равно значение левого операнда, чем значение правого. Если да, то условие становится истинным.\n",
        "7.   (<=) Проверяет меньше или равно значение левого операнда, чем значение правого. Если да, то условие становится истинным."
      ],
      "metadata": {
        "id": "thrtEIKax0dM"
      }
    },
    {
      "cell_type": "markdown",
      "source": [
        "##Побитовые операторы\n",
        "\n",
        "\n",
        "1.   (&) Бинарный \"И\" оператор, копирует бит в результат только если бит присутствует в обоих операндах.\n",
        "2.   (|) Бинарный \"ИЛИ\" оператор копирует бит, если тот присутствует в хотя бы в одном операнде.\n",
        "3.   (^) Бинарный \"Исключительное ИЛИ\" оператор копирует бит только если бит присутствует в одном из операндов, но не в обоих сразу.\n",
        "4.   (~) Бинарный комплиментарный оператор. Является унарным (то есть ему нужен только один операнд) меняет биты на обратные, там где была единица становиться ноль и наоборот.\n",
        "5.   (<<) Побитовый сдвиг влево. Значение левого операнда \"сдвигается\" влево на количество бит указанных в правом операнде.\n",
        "6.   (>>) Побитовый сдвиг вправо. Значение левого операнда \"сдвигается\" вправо на количество бит указанных в правом операнде.\n"
      ],
      "metadata": {
        "id": "Y9krPnYHydWj"
      }
    },
    {
      "cell_type": "markdown",
      "source": [
        "##Логические операторы\n",
        "\n",
        "\n",
        "1.   (and) Логический оператор \"И\". Условие будет истинным если оба операнда истина.\n",
        "2.   (or)  Логический оператор \"ИЛИ\". Если хотя бы один из операндов истинный, то и все выражение будет истинным.\n",
        "3.   (not) Логический оператор \"НЕ\". Изменяет логическое значение операнда на противоположное.\n"
      ],
      "metadata": {
        "id": "OvPWelqAy3dA"
      }
    },
    {
      "cell_type": "markdown",
      "source": [
        "##Операторы членства"
      ],
      "metadata": {
        "id": "mvFN9p7azcjC"
      }
    },
    {
      "cell_type": "markdown",
      "source": [
        "\n",
        "\n",
        "1.   (in)Возвращает истину, если элемент присутствует в последовательности, иначе возвращает ложь.\n",
        "2.   (not in) Возвращает истину если элемента нет в последовательности.\n",
        "\n"
      ],
      "metadata": {
        "id": "3Jwast6zzfvh"
      }
    },
    {
      "cell_type": "markdown",
      "source": [
        "##Операторы тождественности\n",
        "Операторы тождественности сравнивают размещение двух объектов в памяти компьютера.\n",
        "\n",
        "1.   (is) Возвращает истину, если оба операнда указывают на один объект.\n",
        "2.   (is not) Возврашает ложь если оба операнда указывают на один объект.\n",
        "\n"
      ],
      "metadata": {
        "id": "K1BaKDKIz61l"
      }
    },
    {
      "cell_type": "markdown",
      "source": [
        "##Условные операторы"
      ],
      "metadata": {
        "id": "ko21dT_60Q1k"
      }
    },
    {
      "cell_type": "markdown",
      "source": [
        "Оператор ветвления if  позволяет выполнить определенный набор инструкций в зависимости от некоторого условия. Возможны следующие варианты использования"
      ],
      "metadata": {
        "id": "MhrkIRsY4IA7"
      }
    },
    {
      "cell_type": "code",
      "source": [
        "a = 3\n",
        "if a == 3:\n",
        "    print(\"hello 2\")"
      ],
      "metadata": {
        "colab": {
          "base_uri": "https://localhost:8080/"
        },
        "id": "AErb7fmB4YPB",
        "outputId": "bd879be0-d023-477e-9309-fd2a5e2f4517"
      },
      "execution_count": null,
      "outputs": [
        {
          "output_type": "stream",
          "name": "stdout",
          "text": [
            "hello 2\n"
          ]
        }
      ]
    },
    {
      "cell_type": "markdown",
      "source": [
        "Для альтернативного варианта выполнения программы. А именно, при истинном условии нужно выполнить один набор инструкций, при ложном – другой. Для этого используется конструкция if – else."
      ],
      "metadata": {
        "id": "8coQgCLF4f9x"
      }
    },
    {
      "cell_type": "code",
      "source": [
        "a = 3\n",
        "if a > 2:\n",
        "   print(\"H\")\n",
        "else:\n",
        "   print(\"L\")"
      ],
      "metadata": {
        "id": "p0yKa_Z94rJv"
      },
      "execution_count": null,
      "outputs": []
    },
    {
      "cell_type": "markdown",
      "source": [
        "Для реализации выбора из нескольких альтернатив можно использовать конструкцию if – elif – else."
      ],
      "metadata": {
        "id": "LFMH7yYy4uu4"
      }
    },
    {
      "cell_type": "code",
      "source": [
        "a = int(input(\"введите число:\"))\n",
        "if a < 0:\n",
        "   print(\"Neg\")\n",
        "elif a == 0:\n",
        "   print(\"Zero\")\n",
        "else:\n",
        "   print(\"Pos\")"
      ],
      "metadata": {
        "colab": {
          "base_uri": "https://localhost:8080/"
        },
        "id": "tbzfc_vR4vWO",
        "outputId": "283c96d2-29a3-45d5-dca2-e9a1d1e76c15"
      },
      "execution_count": null,
      "outputs": [
        {
          "output_type": "stream",
          "name": "stdout",
          "text": [
            "введите число:4\n",
            "Pos\n"
          ]
        }
      ]
    },
    {
      "cell_type": "markdown",
      "source": [
        "## Оператор выбора\n",
        "В Python 3.10 введена новая конструкция match/case, которая называется Structural pattern matching (соответствие структуре шаблона). Оператор match был введен для того, чтобы быть больше чем просто похожим на оператор switch, который присутствует во многих других языках программирования."
      ],
      "metadata": {
        "id": "DKuCSNWS45Ic"
      }
    },
    {
      "cell_type": "markdown",
      "source": [
        "Шаблоны в операторах case, конструкции match/case состоят из последовательностей, словарей, примитивных типов данных (int, float,str и т.д.), а также экземпляров классов. Сопоставление с образцом позволяет программам извлекать информацию из сложных типов данных, переходить к структуре данных и применять определенные действия на основе различных форм данных.\n",
        "```\n",
        "match subject:\n",
        "    case <pattern_1>:\n",
        "        <action_1>\n",
        "    case <pattern_2>:\n",
        "        <action_2>\n",
        "    case <pattern_3>:\n",
        "        <action_3>\n",
        "    case _:\n",
        "        <action_wildcard>\n",
        "```\n",
        "\n"
      ],
      "metadata": {
        "id": "DxLmFfLC6SFW"
      }
    },
    {
      "cell_type": "markdown",
      "source": [
        "Оператор match принимает выражение subject и сравнивает его значение с последовательными шаблонами, заданными как один или несколько блоков case. В частности, сопоставление с образцом работает следующим образом:\n",
        "\n",
        "\n",
        "*   использование данных с типом и формой (subject)\n",
        "*   оценка subject в заявлении match\n",
        "*   сравнение subject с каждым шаблоном в заявлении case сверху вниз, пока совпадение не будет подтверждено\n",
        "*   выполнение действия action, связанного с шаблоном подтвержденного совпадения\n",
        "*   если точное совпадение не подтверждено, то в качестве совпадающего случая будет использоваться последний case c подстановочным знаком '_', если он указан. Если точное совпадение не подтверждено и case _: - не существует, то весь блок match не выполняется.\n",
        "\n",
        "\n"
      ],
      "metadata": {
        "id": "LTN1YEAezTNR"
      }
    },
    {
      "cell_type": "code",
      "source": [
        "def factorial(n):\n",
        "    if n == 0 or n == 1:\n",
        "        return 1\n",
        "    else:\n",
        "        return n * factorial(n-1)\n",
        "\n",
        "factorial(5)  "
      ],
      "metadata": {
        "id": "3pX0oyxg7K5m"
      },
      "execution_count": null,
      "outputs": []
    },
    {
      "cell_type": "code",
      "source": [
        "def factorial(n):\n",
        "    match n:\n",
        "        case 0 | 1:\n",
        "            return 1\n",
        "        case _:\n",
        "            return n * factorial(n - 1)\n",
        "\n",
        "factorial(5)\n",
        "\n",
        "def act(command):\n",
        "    match command.split():\n",
        "        case \"Cook\", \"breakfast\":\n",
        "            return \"Я люблю завтракать.\"\n",
        "        case \"Cook\", *wtv:\n",
        "            return f\"Готовится {wtv}...\"\n",
        "        # результат совпадения записывается в переменную `direction`\n",
        "        case \"Go\", \"North\" | \"East\" | \"South\" | \"West\"  as direction:\n",
        "            return f\"Хорошо, я пошел на {direction}!\"\n",
        "        case \"Go\", *wtv:\n",
        "            return f\"{wtv} - неизвестное направление.\"\n",
        "        case _:\n",
        "            return \"Я не могу этого сделать...\""
      ],
      "metadata": {
        "id": "RJyfyrXL7MyE"
      },
      "execution_count": null,
      "outputs": []
    },
    {
      "cell_type": "markdown",
      "source": [
        "## Оператор повторения\n",
        "Циклы позволяют выполнять некоторое действие в зависимости от соблюдения некоторого условия. В языке Python есть следующие типы циклов:\n",
        "\n",
        "\n",
        "*   while\n",
        "*   for\n",
        "\n"
      ],
      "metadata": {
        "id": "6Vrisdr39IzB"
      }
    },
    {
      "cell_type": "markdown",
      "source": [
        "###Цикл while"
      ],
      "metadata": {
        "id": "yNaCcnXQ_PD1"
      }
    },
    {
      "cell_type": "markdown",
      "source": [
        "После ключевого слова while указывается условное выражение, и пока это выражение возвращает значение True, будет выполняться блок инструкций, который идет далее."
      ],
      "metadata": {
        "id": "_tEXmY7q-aUK"
      }
    },
    {
      "cell_type": "code",
      "source": [
        "number = 1\n",
        " \n",
        "while number < 5:\n",
        "    print(f\"number = {number}\")\n",
        "    number += 1\n"
      ],
      "metadata": {
        "colab": {
          "base_uri": "https://localhost:8080/"
        },
        "id": "-LRLQ0L_-b_x",
        "outputId": "ee65de29-2bb1-40c5-cec9-1768ee1e04eb"
      },
      "execution_count": null,
      "outputs": [
        {
          "output_type": "stream",
          "name": "stdout",
          "text": [
            "number = 1\n",
            "number = 2\n",
            "number = 3\n",
            "number = 4\n",
            "Работа программы завершена\n"
          ]
        }
      ]
    },
    {
      "cell_type": "markdown",
      "source": [
        "Для цикла while также можно определить дополнительный блок else, инструкции которого выполняются, когда условие равно False:"
      ],
      "metadata": {
        "id": "GW0mvCK1-urC"
      }
    },
    {
      "cell_type": "code",
      "source": [
        "number = 1\n",
        " \n",
        "while number < 5:\n",
        "    print(f\"number = {number}\")\n",
        "    number += 1\n",
        "else:\n",
        "    print(f\"number = {number}. Работа цикла завершена\")\n"
      ],
      "metadata": {
        "id": "J-CsyqJ6-v1s"
      },
      "execution_count": null,
      "outputs": []
    },
    {
      "cell_type": "markdown",
      "source": [
        ""
      ],
      "metadata": {
        "id": "TOuCLXnb_-_Q"
      }
    },
    {
      "cell_type": "markdown",
      "source": [
        ""
      ],
      "metadata": {
        "id": "RfHlhCBo-3IH"
      }
    },
    {
      "cell_type": "markdown",
      "source": [
        ""
      ],
      "metadata": {
        "id": "FFNIdBAq-U2S"
      }
    },
    {
      "cell_type": "markdown",
      "source": [
        "### Цикл for\n",
        "Другой тип циклов представляет конструкция for. Этот цикл пробегается по набору значений, помещает каждое значение в переменную, и затем в цикле мы можем с этой переменной производить различные действия. Формальное определение цикла\n"
      ],
      "metadata": {
        "id": "wEKCFk13AC7p"
      }
    },
    {
      "cell_type": "code",
      "source": [
        "message = \"Hello\"\n",
        " \n",
        "for c in message:\n",
        "    print(c)"
      ],
      "metadata": {
        "colab": {
          "base_uri": "https://localhost:8080/"
        },
        "id": "Ve8eMADDAMeu",
        "outputId": "6bc9123e-31ab-4b3e-a433-ec66ce89f670"
      },
      "execution_count": null,
      "outputs": [
        {
          "output_type": "stream",
          "name": "stdout",
          "text": [
            "H\n",
            "e\n",
            "l\n",
            "l\n",
            "o\n"
          ]
        }
      ]
    },
    {
      "cell_type": "markdown",
      "source": [
        ""
      ],
      "metadata": {
        "id": "1RUw4XIOaWEg"
      }
    },
    {
      "cell_type": "markdown",
      "source": [
        "### Выход из цикла\n",
        "Для управления циклом мы можем использовать специальные операторы break и continue. Оператор break осуществляет выход из цикла. А оператор continue выполняет переход к следующей итерации цикла.\n",
        "\n",
        " Оператор break осуществляет выход из цикла. А оператор continue выполняет переход к следующей итерации цикла."
      ],
      "metadata": {
        "id": "kmZ5aubhAX86"
      }
    },
    {
      "cell_type": "code",
      "source": [
        "number = 0\n",
        "while number < 5:\n",
        "    number += 1\n",
        "    if number == 3 :    # если number = 3, выходим из цикла\n",
        "        break\n",
        "    print(f\"number = {number}\")"
      ],
      "metadata": {
        "id": "FI7BHLugAi6g"
      },
      "execution_count": null,
      "outputs": []
    },
    {
      "cell_type": "code",
      "source": [
        "number = 0\n",
        "while number < 5:\n",
        "    number += 1\n",
        "    if number == 3 :    # если number = 3, переходим к новой итерации цикла\n",
        "        continue\n",
        "    print(f\"number = {number}\")"
      ],
      "metadata": {
        "colab": {
          "base_uri": "https://localhost:8080/"
        },
        "id": "kzf-IGH0AnqZ",
        "outputId": "76bddd5b-4f16-42e7-f59f-6d6d6004fd8a"
      },
      "execution_count": null,
      "outputs": [
        {
          "output_type": "stream",
          "name": "stdout",
          "text": [
            "number = 1\n",
            "number = 2\n",
            "number = 4\n",
            "number = 5\n"
          ]
        }
      ]
    },
    {
      "cell_type": "markdown",
      "source": [
        "###Оператор pass\n",
        "Оператор pass ничего не делает. Фактически, это такая заглушка для объектов."
      ],
      "metadata": {
        "id": "3e-AF-iWBJJn"
      }
    },
    {
      "cell_type": "code",
      "source": [
        "for num in range(5):\n",
        "  if num < 3:\n",
        "    pass\n",
        "  else:\n",
        "    print(num)"
      ],
      "metadata": {
        "colab": {
          "base_uri": "https://localhost:8080/"
        },
        "id": "CCAY8IwLBLVN",
        "outputId": "1dcff0dc-da4b-4703-d21e-9d1ca417ddcf"
      },
      "execution_count": null,
      "outputs": [
        {
          "output_type": "stream",
          "name": "stdout",
          "text": [
            "3\n",
            "4\n"
          ]
        }
      ]
    },
    {
      "cell_type": "markdown",
      "source": [
        "### Итераторы\n",
        "Циклы работают по протоколу итератора в Python.\n",
        "Обьекты которые поддерживают магические методы iter и next, автоматически работают с циклами for-in"
      ],
      "metadata": {
        "id": "tRdl3JB_abCH"
      }
    },
    {
      "cell_type": "code",
      "source": [
        "# обход списка с помощью функций iter() и next()\n",
        "# заданный список\n",
        "A = [ 3, 8, 12, 20 ]\n",
        "\n",
        "# получить объект-итератор для списка A\n",
        "I = iter(A)\n",
        "print(\"I = \", I)\n",
        "\n",
        "# получить текущее значение и перейти к следующему элементу последовательности\n",
        "t = next(I) # t = 3\n",
        "print(\"t = \", t)\n",
        "\n",
        "# следующий элемент списка\n",
        "t = next(I) # t = 8\n",
        "print(\"t = \", t)"
      ],
      "metadata": {
        "id": "opT2r0XybhmV"
      },
      "execution_count": null,
      "outputs": []
    },
    {
      "cell_type": "code",
      "source": [
        "# обход списка с помощью функций iter() и next()\n",
        "# заданный список\n",
        "A = [ 'abc', 'AAA', 'BBB' ]\n",
        "\n",
        "# получить объект-итератор для списка A\n",
        "IA = iter(A)\n",
        "print(\"IA = \", IA)\n",
        "\n",
        "# вывести текущее значение и перейти к следующему элементу списка\n",
        "t = IA.__next__() # t = 'abc'\n",
        "print(\"t = \", t)\n",
        "\n",
        "# следующий элемент списка\n",
        "t = IA.__next__()\n",
        "print(\"t = \", t) # t = 'AAA'\n",
        "\n",
        "# следующий элемент\n",
        "t = IA.__next__()\n",
        "print(\"t = \", t) # t = 'BBB'\n",
        "\n",
        "# попытка взять следующий элемент, которого нет в списке\n",
        "t = IA.__next__() # исключение StopIteration\n",
        "print(\"t = \", t)"
      ],
      "metadata": {
        "id": "D7Bp-sSabkD7"
      },
      "execution_count": null,
      "outputs": []
    },
    {
      "cell_type": "markdown",
      "source": [
        "### Генераторы\n",
        "Python имеет средства, позволяющие получать результаты по требованию. К этим средствам относятся:\n",
        "\n",
        "\n",
        "*   функции-генераторы\n",
        "*   выражения-генераторы\n",
        "\n"
      ],
      "metadata": {
        "id": "jDoe0Q90bqLh"
      }
    },
    {
      "cell_type": "markdown",
      "source": [
        "С помощью функций-генераторов или других механизмов (например, циклов for) можно производить обход последовательностей или значений генераторов. Для этого используется так называемый итерационный протокол (протокол итераций). Если протокол не поддерживается, то выполнение цикла for считается неудачным и эта инструкция выполняет операцию индексирования последовательности."
      ],
      "metadata": {
        "id": "QH_E07qBcPpQ"
      }
    },
    {
      "cell_type": "code",
      "source": [
        "# Функции-генераторы\n",
        "# Функция iter()\n",
        "\n",
        "# 1. Задана строка - это есть итерированный объект\n",
        "s = \"abcde axsadlk sdw\"\n",
        "\n",
        "# 2. Получить итератор объекта s\n",
        "iterObj = iter(s)\n",
        "\n",
        "# 3. Использовать итератор для обхода строки s\n",
        "count_a = 0\n",
        "for c in iterObj:\n",
        "    if c=='a':\n",
        "        count_a = count_a+1\n",
        "\n",
        "print(\"count of 'a' = \", count_a) # count of 'a' = 3"
      ],
      "metadata": {
        "id": "pJHhB4XRcTnQ"
      },
      "execution_count": null,
      "outputs": []
    },
    {
      "cell_type": "markdown",
      "source": [
        "Для обычных функций и функций-генераторов можно выделить следующие общие и отличительные черты:\n",
        "\n",
        "\n",
        "*   Оба вида функций создаются с помощью инструкции def.\n",
        "*   Обычные функции возвращают значение оператора return. Функции-генераторы возвращают значение оператора yield.\n",
        "*   Обычные функции не поддерживают протокол итераций. Функции-генераторы поддерживают этот протокол.\n",
        "*    При возврате значения оператором return обычные функции прекращают свою работу. При возврате значения операторам yield, функции-генераторы автоматически приостанавливают и возобновляют свое выполнение, сохраняя информацию, необходимую для генерирования значений.\n",
        "*    Функции-генераторы поставляют значение. Обычные функции возвращают значение.\n",
        "\n",
        "Наиболее важной особенностью функций-генераторов является то, что они могут приостанавливать свою работу и автоматически сохранять информацию о своем состоянии. Это состояние определяет всю локальную область видимости функции со всеми локальными переменными. При возобновлении работы функции-генератора ранее сохраненное состояние становится доступным для получения следующего сгенерированного значения.\n",
        "Следовательно, процесс приостановки выполнения функции и сохранения информации о состоянии локальных переменных или параметров называется замораживанием состояния."
      ],
      "metadata": {
        "id": "ro_Y5TxeccQ0"
      }
    },
    {
      "cell_type": "code",
      "source": [
        "# Функции-генераторы\n",
        "\n",
        "# Функция, которая возводит число в степень 3.\n",
        "# Результат возвращается конструкцией yield\n",
        "def Power3(value):\n",
        "    for i in range(value):\n",
        "        yield i*i*i\n",
        "\n",
        "for i in Power3(10):\n",
        "    print(i)\n",
        "\n",
        "# Функция-генератор, формирующая числа 0, 0.2, 0.4, ..., value.\n",
        "# Функция использует цикл while для формирования значений.\n",
        "def GetFloatValues(value):\n",
        "    t = 0\n",
        "    while t<value:\n",
        "        t = t + 0.2\n",
        "        yield t\n",
        "\n",
        "# Использование функции-генератора во внешнем коде\n",
        "for i in GetFloatValues(2):\n",
        "    print(i)"
      ],
      "metadata": {
        "colab": {
          "base_uri": "https://localhost:8080/"
        },
        "id": "wVo7PSAWctSX",
        "outputId": "e51a2de8-713c-4b5c-c640-d0e7865a9a3c"
      },
      "execution_count": null,
      "outputs": [
        {
          "output_type": "stream",
          "name": "stdout",
          "text": [
            "0\n",
            "1\n",
            "8\n",
            "27\n",
            "64\n",
            "125\n",
            "216\n",
            "343\n",
            "512\n",
            "729\n",
            "0.2\n",
            "0.4\n",
            "0.6000000000000001\n",
            "0.8\n",
            "1.0\n",
            "1.2\n",
            "1.4\n",
            "1.5999999999999999\n",
            "1.7999999999999998\n",
            "1.9999999999999998\n",
            "2.1999999999999997\n"
          ]
        }
      ]
    },
    {
      "cell_type": "code",
      "source": [
        "# Функции-генераторы. Метод send().\n",
        "\n",
        "import random\n",
        "\n",
        "# Функция-генератор, которая использует расширенный протокол.\n",
        "# Эта функция поставляет случайные числа в диапазоне [1, 10].\n",
        "# Количество чисел равно n.\n",
        "def FnGen(n):\n",
        "    for t in range(n):\n",
        "        # Получить случайное значение\n",
        "        value = yield random.randint(1, 10)\n",
        "\n",
        "        # Если в эту функцию передано значение -1, то вернуть 0\n",
        "        if value==-1:\n",
        "            yield 20\n",
        "\n",
        "# 1. Указать количество случайных чисел\n",
        "n = int(input(\"n = \"))\n",
        "\n",
        "# 2. Запустить генератор\n",
        "V = FnGen(n+1)\n",
        "next(V) # Получить некоторое число - это есть запуск генератора\n",
        "\n",
        "# 3. Получить n случайных чисел за исключением чисел,\n",
        "# которые лежат на позициях, кратных числу 3: (3, 6, 9, ...).\n",
        "# В эти позиции вписать число 0.\n",
        "\n",
        "# 4. Инициализировать результирующий список чисел\n",
        "L = []\n",
        "\n",
        "# 5. Цикл формирования списка\n",
        "i = 1\n",
        "while i<=n:\n",
        "    if i%3==0:\n",
        "        item = V.send(-1) # если позиция кратна 3, то передать -1\n",
        "    else:\n",
        "        item = next(V)\n",
        "    L = L + [item]\n",
        "    i=i+1\n",
        "\n",
        "# 6. Вывести результат\n",
        "print(L)"
      ],
      "metadata": {
        "colab": {
          "base_uri": "https://localhost:8080/"
        },
        "id": "g1omm_Irc90b",
        "outputId": "1db07044-9549-4155-ce41-3d5e6b07c103"
      },
      "execution_count": null,
      "outputs": [
        {
          "output_type": "stream",
          "name": "stdout",
          "text": [
            "n = 5\n",
            "[7, 7, 20, 10, 3]\n"
          ]
        }
      ]
    },
    {
      "cell_type": "markdown",
      "source": [
        ""
      ],
      "metadata": {
        "id": "UdL8STuuBdxc"
      }
    },
    {
      "cell_type": "markdown",
      "source": [
        "# Подпрограммы\n",
        "Подпрограммы бывают двух типов - процедуры и функции."
      ],
      "metadata": {
        "id": "piz15Xi8CAn4"
      }
    },
    {
      "cell_type": "markdown",
      "source": [
        "## Процедуры\n",
        "Подпрограммы-процедуры выполняют некоторые действия, например, выводят результат на экран в определенном виде (простой пример, оператор print() - это стандартная подпрограмма-процедура, которая выводит данные на экран).\n",
        "\n",
        "Процедуры в Python используются, когда часто повторяется один и тот же набор действий. "
      ],
      "metadata": {
        "id": "JAINMsyZUfNN"
      }
    },
    {
      "cell_type": "code",
      "source": [
        "def printHello():\n",
        "  print(\"Hello\")\n",
        "printHello()"
      ],
      "metadata": {
        "colab": {
          "base_uri": "https://localhost:8080/"
        },
        "id": "0faIIucVUrAK",
        "outputId": "38916dea-1dc4-488d-971e-43068feca466"
      },
      "execution_count": null,
      "outputs": [
        {
          "output_type": "stream",
          "name": "stdout",
          "text": [
            "Hello\n"
          ]
        }
      ]
    },
    {
      "cell_type": "markdown",
      "source": [
        "## Функции\n",
        "Подпрограммы-функции возвращают результат (число, объект символьную строчку и т.д.), который можно использовать в основной программе.\n",
        "Возврат значения из функции происходит при помощи ключевого слова **return**\n",
        "\n",
        "В Python абсолютно все является объектом, включая функции. Их можно присваивать переменным, хранить в структурах данных и пере- давать или возвращать в другие функции и возвращать из них "
      ],
      "metadata": {
        "id": "qAcvB-CrVpB0"
      }
    },
    {
      "cell_type": "code",
      "source": [
        "def add(x, y):\n",
        "  return x + y\n",
        "\n",
        "print(add(2,2))"
      ],
      "metadata": {
        "colab": {
          "base_uri": "https://localhost:8080/"
        },
        "id": "guPLmUi5WAss",
        "outputId": "e123cc67-ed7b-4dd3-ed84-c1ed593cc022"
      },
      "execution_count": null,
      "outputs": [
        {
          "output_type": "stream",
          "name": "stdout",
          "text": [
            "4\n"
          ]
        }
      ]
    },
    {
      "cell_type": "markdown",
      "source": [
        "функции могут быть вложенными "
      ],
      "metadata": {
        "id": "hLuG-5xlYstQ"
      }
    },
    {
      "cell_type": "code",
      "source": [
        "def newfunc(n):\n",
        "  def myfunc(x):\n",
        "    return x - n\n",
        "  return myfunc\n",
        "\n",
        "new = newfunc(100)  # new - это функция\n",
        "print(new(200))"
      ],
      "metadata": {
        "colab": {
          "base_uri": "https://localhost:8080/"
        },
        "id": "Qq0vVTveZJOP",
        "outputId": "62fdac96-e141-418c-97b9-9302bd0c9f60"
      },
      "execution_count": null,
      "outputs": [
        {
          "output_type": "stream",
          "name": "stdout",
          "text": [
            "100\n"
          ]
        }
      ]
    },
    {
      "cell_type": "markdown",
      "source": [
        " ### Aнонимные функции\n",
        "\n",
        "Python-лямбды — это маленькие анонимные функции, подчиняющиеся более строгому, но более лаконичному синтаксису, чем обычные функции Python.\n"
      ],
      "metadata": {
        "id": "BJXRi7PiZefM"
      }
    },
    {
      "cell_type": "code",
      "source": [
        "add = lambda x, y: x + y\n",
        "print(add(5, 3))\n",
        "\n",
        "tuples = [(1, 'd'), (2, 'b'), (4, 'a'), (3, 'c')]\n",
        "sorted(tuples, key=lambda x: x[1])\n",
        "print(tuples)"
      ],
      "metadata": {
        "colab": {
          "base_uri": "https://localhost:8080/"
        },
        "id": "k83FXUNtb6rb",
        "outputId": "852c8021-d33f-43e3-eb13-f80bd5c0cede"
      },
      "execution_count": null,
      "outputs": [
        {
          "output_type": "stream",
          "name": "stdout",
          "text": [
            "8\n",
            "[(1, 'd'), (2, 'b'), (4, 'a'), (3, 'c')]\n"
          ]
        }
      ]
    },
    {
      "cell_type": "markdown",
      "source": [
        "### Декораторы\n",
        "Декораторы это функции которые принимают обьект, рассширяют его поведение не изменяя его. \n",
        "Работа декораторов основана на замыканиях."
      ],
      "metadata": {
        "id": "mCFusIvtE4Wo"
      }
    },
    {
      "cell_type": "code",
      "source": [
        "# -*- coding: utf-8 -*-\n",
        "\"\"\"\n",
        "Created on Sat Aug 21 22:07:55 2021\n",
        "@author: Furcas\n",
        "\"\"\"\n",
        "\n",
        "def disallow_negative(func):\n",
        "    def inner(*args):\n",
        "        for arg in args:\n",
        "            if arg < 0:\n",
        "                return 0\n",
        "            print(\"shavaps!\")            \n",
        "        return  func(*args) \n",
        "    \n",
        "    return inner\n",
        "\n",
        "@disallow_negative\n",
        "def foo(x, y):\n",
        "    return x**y\n",
        "\n",
        "print(foo(2,8))\n",
        "\n",
        "# еще пример\n",
        "def outer(func):\n",
        "    print(f\"Декарируем {func}\")\n",
        "    \n",
        "    def inner(*args, **kwargs):\n",
        "        print(f\"на вход идет (*{args}, **{kwargs})\")\n",
        "        value = func(*args, **kwargs)\n",
        "        print(f\"выход функции {value}\")\n",
        "        return value\n",
        "    \n",
        "    return inner \n",
        "\n",
        "@outer\n",
        "def add_five(num):\n",
        "    return num+5\n",
        "\n",
        "\n",
        "print(add_five(5))\n",
        "\n",
        "# как добавить аргумент \n",
        "\n",
        "def add_int_to_all_args(offser):\n",
        "    def dec(func):\n",
        "        def inner(*args):\n",
        "            args = [arg + offser for arg in args]\n",
        "            \n",
        "            return func(*args)\n",
        "        \n",
        "        return inner\n",
        "        \n",
        "    return dec\n",
        "\n",
        "@add_int_to_all_args(10)\n",
        "def moo(x, y):\n",
        "    return x+y\n",
        "\n",
        "print(moo(1,1))\n",
        "\n",
        "def innerrr(args, offser):\n",
        "    args = [arg + offser for arg in args]\n",
        "    \n",
        "    return args\n",
        "\n",
        "print(innerrr([1,1,1,1], 3))\n",
        "\n",
        "#декоратор на основе класса \n",
        "\n",
        "class add_int_to_all_args_by_class:\n",
        "    def __init__(self, ofset):\n",
        "        self.ofset = ofset\n",
        "        \n",
        "    def __call__(self, func):\n",
        "        def inner(*args):\n",
        "            args = [self.ofset + arg for arg in args]\n",
        "            return func(*args)\n",
        "        return inner\n",
        "\n",
        "@add_int_to_all_args_by_class(3)   \n",
        "def hoo(x,y):\n",
        "    return x+y+1\n",
        "\n",
        "print(hoo(1,1))"
      ],
      "metadata": {
        "id": "_6WHmvagZQ4D"
      },
      "execution_count": null,
      "outputs": []
    },
    {
      "cell_type": "markdown",
      "source": [
        "Проблемы использования декораторов. \n",
        "После оборочивания исходного обьяекта функции теряется имя исходного обьекта. Для решения этой проблемы нужно обернуть декоратор в специальный декоратор wraps из библиотеки functools"
      ],
      "metadata": {
        "id": "JlgHpOp9ZSnY"
      }
    },
    {
      "cell_type": "code",
      "source": [
        "from functools import wraps\n",
        "\n",
        "\n",
        "def decorator(func):   \n",
        "    @wraps(func)\n",
        "    def wrapper():\n",
        "        \"\"\"Описание обёртки.\"\"\"\n",
        "        return func()\n",
        "    return wrapper\n",
        "\n",
        "\n",
        "@decorator\n",
        "def decorated():\n",
        "    \"\"\"Описание функции.\"\"\"\n",
        "\n",
        "\n",
        "print(decorated.__name__)  # decorated\n",
        "print(decorated.__doc__)  # Описание функции.\n",
        "\n",
        "\n",
        "# А если не использовать wraps, то получим следующее:\n",
        "\n",
        "def decorator_nowraps(func):\n",
        "    def wrapper():\n",
        "        \"\"\"Описание обёртки.\"\"\"\n",
        "        return func()\n",
        "    return wrapper\n",
        "\n",
        "\n",
        "@decorator_nowraps\n",
        "def decorated():\n",
        "    \"\"\"Описание функции.\"\"\"\n",
        "\n",
        "\n",
        "print(decorated.__name__)  # wrapper\n",
        "print(decorated.__doc__)  # Описание обёртки."
      ],
      "metadata": {
        "id": "4UwG1ZH1Z2Km"
      },
      "execution_count": null,
      "outputs": []
    },
    {
      "cell_type": "markdown",
      "source": [
        "## Передача параметров\n",
        "В Python передача фактических параметров в формальные параметры контролируется механизмом передачи параметров функций Python.\n",
        "В Python, в соответствии с типом фактического параметра, метод передачи параметра функции делится на два типа:\n",
        "\n",
        "*   Передача значения\n",
        "*   Передача адреса\n",
        "\n"
      ],
      "metadata": {
        "id": "xWdNlhwKy9H2"
      }
    },
    {
      "cell_type": "markdown",
      "source": [
        "### Передача значения\n",
        "\n",
        "Копия (репликация) фактического значения параметра передается в функцию, и на сам фактический параметр это никак не повлияет. Передача значений используется для параметров неизменяемых типов, таких как Tuple, string, int, float, bool"
      ],
      "metadata": {
        "id": "G1HR_xtszjHs"
      }
    },
    {
      "cell_type": "code",
      "source": [
        "def swap(a, b):\n",
        "    # Поменяйте местами переменные a и b\n",
        "    a, b = b, a\n",
        "    print(f'В функции подкачки значение переменной a равно: {a}, значение переменной b равно: {b}')\n",
        "    \n",
        "a = 6\n",
        "b = 9\n",
        "# Вызвать функцию, поменять значение переменной a и переменной b\n",
        "swap(a, b)\n",
        "print(f'После обмена значение переменной a равно: {a}, значение переменной b равно: {b}')"
      ],
      "metadata": {
        "colab": {
          "base_uri": "https://localhost:8080/"
        },
        "id": "5l-5WAsUztbJ",
        "outputId": "45d46db0-7aea-4e4f-dc9a-bc7003aad0aa"
      },
      "execution_count": null,
      "outputs": [
        {
          "output_type": "stream",
          "name": "stdout",
          "text": [
            "В функции подкачки значение переменной a равно: 9, значение переменной b равно: 6\n",
            "После обмена значение переменной a равно: 6, значение переменной b равно: 9\n"
          ]
        }
      ]
    },
    {
      "cell_type": "markdown",
      "source": [
        "### Передача адреса\n",
        "Передать адрес памяти фактической переменной параметра в формальный параметр. В настоящее время он эквивалентен формальному параметру и фактическому параметру, указывающему на один и тот же адрес. Поэтому, когда значение формального параметра изменяется в функции, значение фактического параметра также должно следовать изменения. Передача адреса используется для параметров типа переменной, таких как списки, словари, коллекции, объекты "
      ],
      "metadata": {
        "id": "SUrEciUCz8_m"
      }
    },
    {
      "cell_type": "code",
      "source": [
        "def swap(dw):\n",
        "    # Поменять местами значения двух элементов a и b из dw\n",
        "    dw['a'], dw['b'] = dw['b'], dw['a']\n",
        "    print(f'В функции swap () значение элемента a равно: {dw [\"a\"]}, значение элемента b равно: {dw [\"b\"]}')\n",
        "\n",
        "dw = {'a': 6, 'b': 9}\n",
        "# Вызов функции и обмен значениями элементов\n",
        "swap(dw)\n",
        "print(f'После обмена значение элемента a равно: {dw [\"a\"]}, значение элемента b равно: {dw [\"b\"]}')"
      ],
      "metadata": {
        "colab": {
          "base_uri": "https://localhost:8080/"
        },
        "id": "FiDm-s8P0b6M",
        "outputId": "5cfb90e1-d747-423d-8fc4-26f5bcbf5df1"
      },
      "execution_count": null,
      "outputs": [
        {
          "output_type": "stream",
          "name": "stdout",
          "text": [
            "В функции swap () значение элемента a равно: 9, значение элемента b равно: 6\n",
            "После обмена значение элемента a равно: 9, значение элемента b равно: 6\n"
          ]
        }
      ]
    },
    {
      "cell_type": "markdown",
      "source": [
        "## args и kwargs\n",
        "Параметры args и kwargs позволяют принимать необязательные аргументы "
      ],
      "metadata": {
        "id": "SRW_8ff74BWB"
      }
    },
    {
      "cell_type": "code",
      "source": [
        "def foo(required, *args, **kwargs):\n",
        "  print(required)\n",
        "  if args:\n",
        "    print(args)\n",
        "  if kwargs:\n",
        "    print(kwargs)\n",
        "foo('привет') \n",
        "foo('привет', 1, 2, 3)\n",
        "foo('привет', 1, 2, 3, key1='значение', key2=999) "
      ],
      "metadata": {
        "colab": {
          "base_uri": "https://localhost:8080/"
        },
        "id": "4u3MQl-A5OjH",
        "outputId": "c6d06229-e05d-49fe-9588-1069abcd690d"
      },
      "execution_count": null,
      "outputs": [
        {
          "output_type": "stream",
          "name": "stdout",
          "text": [
            "привет\n",
            "привет\n",
            "(1, 2, 3)\n",
            "привет\n",
            "(1, 2, 3)\n",
            "{'key1': 'значение', 'key2': 999}\n"
          ]
        }
      ]
    },
    {
      "cell_type": "markdown",
      "source": [
        "Название параметров args и kwargs принято по \n",
        "договоренности, как согласованное правило именования. \n",
        "Фактическим синтаксисом является, соответственно, просто звездочка или двойная звездочка"
      ],
      "metadata": {
        "id": "f9wbkyY15dQv"
      }
    },
    {
      "cell_type": "markdown",
      "source": [
        ""
      ],
      "metadata": {
        "id": "v6SK-tZc4N1o"
      }
    },
    {
      "cell_type": "markdown",
      "source": [
        "## Правила области видимости для имен\n",
        "Порядок области видимости для имен соответствует так называемому правилу LEGB:\n",
        "\n",
        "Local — Enclosing — Global — Built-in.\n",
        "\n",
        "Если в функции (локальная область видимости) объявлено имя, то интерпретатор ищет это имя в следующем порядке:\n",
        "\n",
        "*   в локальной области видимости внутри функции (Local);\n",
        "*   в локальных областях видимости объемлющих функций (Enclosing);\n",
        "*   в глобальной области видимости (Global);\n",
        "*   во встроенной области видимости (Built-in).\n",
        "\n",
        "Имена встроенной области видимости помещены в модуле стандартной библиотеки builtins.\n",
        "\n"
      ],
      "metadata": {
        "id": "gNv75Okg1ooI"
      }
    },
    {
      "cell_type": "code",
      "source": [
        "import builtins\n",
        "\n",
        "# Получить перечень имен в виде списка\n",
        "names = dir(builtins)\n",
        "\n",
        "# Вывести имена в цикле\n",
        "for t in names:\n",
        "    print(t)"
      ],
      "metadata": {
        "colab": {
          "base_uri": "https://localhost:8080/"
        },
        "id": "f-xtZ2Oq2Te2",
        "outputId": "b08b36cf-bb8d-4455-8cb7-341bc34aed14"
      },
      "execution_count": null,
      "outputs": [
        {
          "output_type": "stream",
          "name": "stdout",
          "text": [
            "ArithmeticError\n",
            "AssertionError\n",
            "AttributeError\n",
            "BaseException\n",
            "BlockingIOError\n",
            "BrokenPipeError\n",
            "BufferError\n",
            "BytesWarning\n",
            "ChildProcessError\n",
            "ConnectionAbortedError\n",
            "ConnectionError\n",
            "ConnectionRefusedError\n",
            "ConnectionResetError\n",
            "DeprecationWarning\n",
            "EOFError\n",
            "Ellipsis\n",
            "EnvironmentError\n",
            "Exception\n",
            "False\n",
            "FileExistsError\n",
            "FileNotFoundError\n",
            "FloatingPointError\n",
            "FutureWarning\n",
            "GeneratorExit\n",
            "IOError\n",
            "ImportError\n",
            "ImportWarning\n",
            "IndentationError\n",
            "IndexError\n",
            "InterruptedError\n",
            "IsADirectoryError\n",
            "KeyError\n",
            "KeyboardInterrupt\n",
            "LookupError\n",
            "MemoryError\n",
            "ModuleNotFoundError\n",
            "NameError\n",
            "None\n",
            "NotADirectoryError\n",
            "NotImplemented\n",
            "NotImplementedError\n",
            "OSError\n",
            "OverflowError\n",
            "PendingDeprecationWarning\n",
            "PermissionError\n",
            "ProcessLookupError\n",
            "RecursionError\n",
            "ReferenceError\n",
            "ResourceWarning\n",
            "RuntimeError\n",
            "RuntimeWarning\n",
            "StopAsyncIteration\n",
            "StopIteration\n",
            "SyntaxError\n",
            "SyntaxWarning\n",
            "SystemError\n",
            "SystemExit\n",
            "TabError\n",
            "TimeoutError\n",
            "True\n",
            "TypeError\n",
            "UnboundLocalError\n",
            "UnicodeDecodeError\n",
            "UnicodeEncodeError\n",
            "UnicodeError\n",
            "UnicodeTranslateError\n",
            "UnicodeWarning\n",
            "UserWarning\n",
            "ValueError\n",
            "Warning\n",
            "ZeroDivisionError\n",
            "__IPYTHON__\n",
            "__build_class__\n",
            "__debug__\n",
            "__doc__\n",
            "__import__\n",
            "__loader__\n",
            "__name__\n",
            "__package__\n",
            "__spec__\n",
            "abs\n",
            "all\n",
            "any\n",
            "ascii\n",
            "bin\n",
            "bool\n",
            "breakpoint\n",
            "bytearray\n",
            "bytes\n",
            "callable\n",
            "chr\n",
            "classmethod\n",
            "compile\n",
            "complex\n",
            "copyright\n",
            "credits\n",
            "delattr\n",
            "dict\n",
            "dir\n",
            "display\n",
            "divmod\n",
            "dreload\n",
            "enumerate\n",
            "eval\n",
            "exec\n",
            "execfile\n",
            "filter\n",
            "float\n",
            "format\n",
            "frozenset\n",
            "get_ipython\n",
            "getattr\n",
            "globals\n",
            "hasattr\n",
            "hash\n",
            "help\n",
            "hex\n",
            "id\n",
            "input\n",
            "int\n",
            "isinstance\n",
            "issubclass\n",
            "iter\n",
            "len\n",
            "license\n",
            "list\n",
            "locals\n",
            "map\n",
            "max\n",
            "memoryview\n",
            "min\n",
            "next\n",
            "object\n",
            "oct\n",
            "open\n",
            "ord\n",
            "pow\n",
            "print\n",
            "property\n",
            "range\n",
            "repr\n",
            "reversed\n",
            "round\n",
            "runfile\n",
            "set\n",
            "setattr\n",
            "slice\n",
            "sorted\n",
            "staticmethod\n",
            "str\n",
            "sum\n",
            "super\n",
            "tuple\n",
            "type\n",
            "vars\n",
            "zip\n"
          ]
        }
      ]
    },
    {
      "cell_type": "markdown",
      "source": [
        "Между локальной и глобальной областями видимости существуют следующие взаимосвязи:\n",
        "\n",
        "\n",
        "*   модуль – это глобальная область видимости (пространство имен). Это область, в которой создаются глобальные переменные на верхнем уровне в файле модуля. За пределами модуля глобальные переменные являются атрибутами объекта модуля;\n",
        "*   глобальная область видимости определяется в едином файле. Глобальные имена в пределах этого файла всегда относятся к данному модулю;\n",
        "*   вызов любой функции создает новую локальную область видимости. Эта область видимости имеет границы, которые определяются инструкцией def или lambda;\n",
        "*   если в программном коде реализована рекурсия (функция циклически вызывает самая себя многократно), то каждый вызов функции создает новую локальную область видимости (пространство имен);\n",
        "*   если внутри функции используется операция присваивания =, то эта операция создает локальные имена по умолчанию. Если нужно объявить глобальное имя внутри функции, то перед этим именем нужно указать ключевое слово global. Если в инструкции def нижнего уровня (в случае вложенных функций) нужно присвоить значение имени, которое объявляется в инструкции def верхнего уровня, то это имя может быть объявлено с ключевым словом nonlocal.\n",
        "\n"
      ],
      "metadata": {
        "id": "f8cQsnK12sgU"
      }
    },
    {
      "cell_type": "code",
      "source": [
        "# Переопределение встроенных и глобальных имен\n",
        "# внутри функций\n",
        "\n",
        "\n",
        "def Fn1():\n",
        "    list = 'This is a text'\n",
        "    print(list)\n",
        "    return\n",
        "\n",
        "Fn1()\n",
        "x = 30\n",
        "\n",
        "def Fn2():\n",
        "    # Определить локальное имя\n",
        "    x = 'Local x'\n",
        "    # Вывести локальное имя на экран\n",
        "    print(x) # Local x\n",
        "\n",
        "    return\n",
        "\n",
        "Fn2()\n",
        "\n",
        "# Вывести глобальное имя\n",
        "print(x)"
      ],
      "metadata": {
        "colab": {
          "base_uri": "https://localhost:8080/"
        },
        "id": "QCEbv3PU3Hxf",
        "outputId": "ba5d6c42-063b-4f51-d7fe-3580bced6f52"
      },
      "execution_count": null,
      "outputs": [
        {
          "output_type": "stream",
          "name": "stdout",
          "text": [
            "This is a text\n",
            "Local x\n",
            "30\n"
          ]
        }
      ]
    },
    {
      "cell_type": "code",
      "source": [
        "# Глобальные переменные. Ключевое слово global\n",
        "\n",
        "x = 25 # глобальное имя\n",
        "\n",
        "def Fn():\n",
        "    # объявление глобального имени t внутри функции\n",
        "    global t\n",
        "    t = 30 # присвоить глобальному имени t значение\n",
        "\n",
        "    print(x)\n",
        "    return\n",
        "\n",
        "Fn()\n",
        "\n",
        "# Использовать глобальное имя t, объявленное внутри функции Fn()\n",
        "z = x+t # z = 25+30 = 55\n",
        "print(z)"
      ],
      "metadata": {
        "colab": {
          "base_uri": "https://localhost:8080/"
        },
        "id": "lGS5BsoP7Xpr",
        "outputId": "cdd53e6d-99e2-4ac4-f840-29d0ffbacf3f"
      },
      "execution_count": null,
      "outputs": [
        {
          "output_type": "stream",
          "name": "stdout",
          "text": [
            "25\n",
            "55\n"
          ]
        }
      ]
    },
    {
      "cell_type": "markdown",
      "source": [
        ""
      ],
      "metadata": {
        "id": "fMdeSXJd7WOG"
      }
    },
    {
      "cell_type": "markdown",
      "source": [
        "### Замыкание\n",
        "Замыкание (closure) в программировании — это функция, в теле которой присутствуют ссылки на переменные, объявленные вне тела этой функции в окружающем коде и не являющиеся ее параметрами"
      ],
      "metadata": {
        "id": "TS5b-eUe6Yd5"
      }
    },
    {
      "cell_type": "code",
      "source": [
        "def example(x,y):\n",
        "    a = x+y\n",
        "    b = x*y\n",
        "    c = a*b\n",
        "    print(f\"a-{a}, b-{b}, c-{c}\")\n",
        "    return c\n",
        "\n",
        "def next_exaple(x, y):\n",
        "    a = x+y\n",
        "    b = x*y\n",
        "    c = b*a\n",
        "    print(f\"a-{a}, b-{b}, c-{c}\")\n",
        "    def get_value_of_c():\n",
        "        print(f\"return c: {c}\")\n",
        "        return c \n",
        "    return get_value_of_c\n",
        "\n",
        "\n",
        "def private_variable():\n",
        "    \n",
        "    value = None \n",
        "    \n",
        "    def set(new_value):\n",
        "        nonlocal value\n",
        "        \n",
        "        value = new_value\n",
        "        \n",
        "    def get():\n",
        "        return value\n",
        "    return set, get\n",
        "    \n",
        "    \n",
        "a_set, a_get = private_variable()\n",
        "b_set, b_get = private_variable()\n",
        "\n",
        "print(\"обрати внимание на названия функций\")\n",
        "print(a_get, a_set)\n",
        "print(\"/////////////////////////////\")\n",
        "print(b_get, b_set)\n",
        "\n",
        "a_set(10)\n",
        "print(f\"a={a_get()} b ={b_get()}\")\n",
        "b_set(4)\n",
        "print(f\"a={a_get()} b={b_get()}\")\n"
      ],
      "metadata": {
        "colab": {
          "base_uri": "https://localhost:8080/"
        },
        "id": "1nRSbiaH6n93",
        "outputId": "a6dedad4-9334-4377-f30f-178a1f2e692e"
      },
      "execution_count": null,
      "outputs": [
        {
          "output_type": "stream",
          "name": "stdout",
          "text": [
            "обрати внимание на названия функций\n",
            "<function private_variable.<locals>.get at 0x7fc7789f8a70> <function private_variable.<locals>.set at 0x7fc7789f8b00>\n",
            "/////////////////////////////\n",
            "<function private_variable.<locals>.get at 0x7fc7789fe050> <function private_variable.<locals>.set at 0x7fc7789f8e60>\n",
            "a=10 b =None\n",
            "a=10 b=4\n"
          ]
        }
      ]
    },
    {
      "cell_type": "markdown",
      "source": [
        "## Полиморфизм\n",
        "Полиморфизм - разное поведение одного и того же метода в разных классах. Например, мы можем сложить два числа, и можем сложить две строки. При этом получим разный результат, так как числа и строки являются разными классами.\n",
        "\n",
        "В Python полиморфизм находит отражение в методах перегрузки операторов.\n",
        "\n",
        "Перегрузка оператора в классе — это сопоставление оператору языка Python (например, оператору +, –, * и т.д.) соответствующего метода с целью вызова кода этого метода при использовании перегруженного оператора.\n",
        "\n",
        "Если в программе, для некоторого объекта класса, вызывается перегруженный оператор, то автоматически вызывается метод, который реализуюет действия этого оператора. Таким образом, при перегрузке оператора + (сложение), в реализующем его методе можно запрограммировать любые действия, даже вычитание, умножение или что угодно."
      ],
      "metadata": {
        "id": "Q3tPmK5U8QrE"
      }
    },
    {
      "cell_type": "code",
      "source": [
        "# Класс, который содержит метод __add__()\n",
        "class Point:\n",
        "    # Метод инициализации - конструктор\n",
        "    def __init__(self, x, y):\n",
        "        self.x = x\n",
        "        self.y = y\n",
        "\n",
        "    # Метод, который возвращает (x, y) в виде списка\n",
        "    def getXY(self):\n",
        "        return [ self.x, self.y ]\n",
        "\n",
        "    # Метод, который перегружает оператор +\n",
        "    def __add__(self, point):\n",
        "        self.x = self.x + point.x\n",
        "        self.y = self.y + point.y\n",
        "        return self\n",
        "\n",
        "    # Метод, который выводит точку\n",
        "    def Show(self, text):\n",
        "        print(text, \" = (\", self.x, \"; \", self.y, \")\")\n",
        "\n",
        "# Создать точку 1\n",
        "pt1 = Point(5, 6)\n",
        "pt1.Show(\"pt1\")\n",
        "\n",
        "# Создать точку 2\n",
        "pt2 = Point(7, 11)\n",
        "pt2.Show(\"pt2\")\n",
        "\n",
        "# Сложить две точки - использовать перегрузку оператора\n",
        "pt3 = pt1 + pt2 # вызов метода __add__()\n",
        "pt3.Show(\"pt3 = pt1 + pt2\")\n"
      ],
      "metadata": {
        "colab": {
          "base_uri": "https://localhost:8080/"
        },
        "id": "EfdyvCdTA3dZ",
        "outputId": "4e35d19d-b672-467f-f19a-4b0446044f6e"
      },
      "execution_count": null,
      "outputs": [
        {
          "output_type": "stream",
          "name": "stdout",
          "text": [
            "pt1  = ( 5 ;  6 )\n",
            "pt2  = ( 7 ;  11 )\n",
            "pt3 = pt1 + pt2  = ( 12 ;  17 )\n"
          ]
        }
      ]
    },
    {
      "cell_type": "markdown",
      "source": [
        "### Параметрический полиморфизм\n",
        "Python не поддерживает параметрический полиморфизм."
      ],
      "metadata": {
        "id": "GM54pKxUBVVI"
      }
    },
    {
      "cell_type": "markdown",
      "source": [
        "# Абстрактные типы данных\n",
        "Абстрактные классы, иногда также называемые абстрактными базовыми классами, гарантируют, что производные классы реализуют те или \n",
        "иные методы базового класса. "
      ],
      "metadata": {
        "id": "7R9l7vMSCFhq"
      }
    },
    {
      "cell_type": "markdown",
      "source": [
        "При помощи модуля Python abc, который был добавлен в Python 2.61. Вот \n",
        " реализация с использованием абстрактного класса, определенного в модуле abc."
      ],
      "metadata": {
        "id": "j_i6V9XsCmDw"
      }
    },
    {
      "cell_type": "code",
      "source": [
        "from abc import ABCMeta, abstractmethod\n",
        "\n",
        "\n",
        "class Base(metaclass=ABCMeta):\n",
        "\n",
        "  @abstractmethod\n",
        "  def foo(self):\n",
        "    pass\n",
        "\n",
        "\n",
        "  @abstractmethod\n",
        "  def bar(self):\n",
        "    pass\n",
        "    "
      ],
      "metadata": {
        "id": "HpjtbF-xCx41"
      },
      "execution_count": null,
      "outputs": []
    },
    {
      "cell_type": "markdown",
      "source": [
        "## Параметрический полиморфизм в абстрактных типах данных\n",
        "\n",
        "Параметрического полиморфизма в астрактных типах данных нет.\n"
      ],
      "metadata": {
        "id": "-UlFEMTnDOaH"
      }
    },
    {
      "cell_type": "markdown",
      "source": [
        "# Пространство имен"
      ],
      "metadata": {
        "id": "QzGh6fmCDznb"
      }
    },
    {
      "cell_type": "markdown",
      "source": [
        "# Объектно-ориентированный стиль\n",
        "\n"
      ],
      "metadata": {
        "id": "Qv5dqehtEd3u"
      }
    },
    {
      "cell_type": "markdown",
      "source": [
        "## Разделение областей видимости в классe\n",
        "\n",
        "В классах языка Python существует иерархия видимости между стаческими методами, класса и экземпляра класса."
      ],
      "metadata": {
        "id": "9ejASX5RFsQp"
      }
    },
    {
      "cell_type": "code",
      "source": [
        "class Foo:\n",
        "    def method(self):\n",
        "        return \"вызван метод экземпляра\", self\n",
        "    \n",
        "    \n",
        "    @classmethod\n",
        "    def class_method(cls):\n",
        "        return \"вызван метод классa\", cls\n",
        "    \n",
        "    \n",
        "    @staticmethod\n",
        "    def static_method():\n",
        "        return \"вызван статический метод\"\n",
        "    \n",
        "    \n",
        "obj = Foo()\n",
        "# объект\n",
        "print(obj.method())\n",
        "print(obj.class_method())\n",
        "print(obj.static_method())\n",
        "\n",
        "print(Foo.class_method())\n",
        "print(Foo.static_method())\n",
        "# print(Foo.method()) don't work  \n"
      ],
      "metadata": {
        "id": "7OZ8ZtHiGXoH"
      },
      "execution_count": null,
      "outputs": []
    },
    {
      "cell_type": "markdown",
      "source": [
        "## Миксины\n",
        "Python поддерживает миксины"
      ],
      "metadata": {
        "id": "h2V28JJtGd86"
      }
    },
    {
      "cell_type": "code",
      "source": [
        "class Person():\n",
        "    food = None\n",
        "    \n",
        "    def get_food(self):\n",
        "        if self.food is None:\n",
        "            raise ValueError(\"Food should be set\")\n",
        "        print(f\"I like {self.food}\")\n",
        "        \n",
        "      \n",
        "class Student(Person):\n",
        "    \n",
        "    food = 'Kebab'\n",
        "\n",
        "s = Student()\n",
        "s.get_food()"
      ],
      "metadata": {
        "id": "NU9BJE-KGih9"
      },
      "execution_count": null,
      "outputs": []
    },
    {
      "cell_type": "markdown",
      "source": [
        "## Дескрипторы классов\n",
        "Дескрипторы классов - это мощный протокол общего назначения. Это механизм, лежащий в основе свойств, методов, статических методов, методов класса и функции super(). Они используются в самом Python для реализации классов нового стиля. \n",
        "\n",
        "В общем случае, дескриптор - это атрибут объекта с \"привязкой поведения\", доступ к которому был переопределен методами в протоколе дескриптора. Этими магическими методами являются __get__(), __set__() и __delete__(). Если какой-либо из этих методов определен для объекта, то он называется дескриптором.\n",
        "\n"
      ],
      "metadata": {
        "id": "WPXJbEpQHs9L"
      }
    },
    {
      "cell_type": "markdown",
      "source": [
        "Встроенная функция property() всегда помогает, когда пользовательский интерфейс предоставляет доступ к атрибуту, а последующие изменения этого атрибута, требуют вмешательства метода."
      ],
      "metadata": {
        "id": "wc6JDJMsIGX7"
      }
    },
    {
      "cell_type": "code",
      "source": [
        "class Cell:\n",
        "    ...\n",
        "\n",
        "    @property\n",
        "    def value(self):\n",
        "        return self._value"
      ],
      "metadata": {
        "id": "JYyz-G4lIHJY"
      },
      "execution_count": null,
      "outputs": []
    },
    {
      "cell_type": "markdown",
      "source": [
        "## Множественное наследование diamond problem\n",
        "\n",
        "Python поддерживает множественное наследование классов. Решение ромбовидной проблемы(diamond problem) с Python 3 решается поиском в глубину графа наследования. А до Python3 проблема решалась поиском в ширину."
      ],
      "metadata": {
        "id": "6Cg0CRSnJML0"
      }
    },
    {
      "cell_type": "code",
      "source": [
        "class A:\n",
        "    def hi(self):\n",
        "        print(\"A\")\n",
        " \n",
        "class B(A):\n",
        "    def hi(self):\n",
        "        print(\"B\")\n",
        " \n",
        "class C(A):\n",
        "    def hi(self):\n",
        "        print(\"C\")\n",
        " \n",
        "class D(B, C):\n",
        "    pass\n",
        " \n",
        "d = D()\n",
        "d.hi()\n",
        "print(D.mro()) # посмотреть в каком порядке будут проинспектированы родительские классы"
      ],
      "metadata": {
        "colab": {
          "base_uri": "https://localhost:8080/"
        },
        "id": "zO9GRT0rKPTF",
        "outputId": "34eac801-4a9a-4b64-e6bc-90e132fbf5d8"
      },
      "execution_count": null,
      "outputs": [
        {
          "output_type": "stream",
          "name": "stdout",
          "text": [
            "B\n",
            "[<class '__main__.D'>, <class '__main__.B'>, <class '__main__.C'>, <class '__main__.A'>, <class 'object'>]\n"
          ]
        }
      ]
    },
    {
      "cell_type": "markdown",
      "source": [
        "## name mangling \n",
        "\n",
        "Одинарные символы подчеркивания являются в Python согласованным \n",
        "правилом именования, которое говорит о том, что то или иное имя предназначается для внутреннего использования. Это договорное правило \n",
        "обычно интерпретатором Python не обеспечивается и предназначено \n",
        "для программиста только в качестве подсказки.\n",
        "\n",
        "Префикс, состоящий из двойного символа подчеркивания, заставляет \n",
        "интерпретатор Python переписывать имя атрибута для того, чтобы в под\u0002классах избежать конфликтов из-за совпадения имен."
      ],
      "metadata": {
        "id": "ITTYx0BnKfg5"
      }
    },
    {
      "cell_type": "code",
      "source": [
        "class Test:\n",
        "    def __init__(self):\n",
        "        self.foo = 11\n",
        "        self._bar = 23\n",
        "        self.__baz = 25\n",
        "\n",
        "\n",
        "t = Test()\n",
        "print(dir(t))"
      ],
      "metadata": {
        "colab": {
          "base_uri": "https://localhost:8080/"
        },
        "id": "xafO9eXBXcJw",
        "outputId": "e7732f68-2fae-4972-d228-d535d60d68c2"
      },
      "execution_count": null,
      "outputs": [
        {
          "output_type": "stream",
          "name": "stdout",
          "text": [
            "['_Test__baz', '__class__', '__delattr__', '__dict__', '__dir__', '__doc__', '__eq__', '__format__', '__ge__', '__getattribute__', '__gt__', '__hash__', '__init__', '__init_subclass__', '__le__', '__lt__', '__module__', '__ne__', '__new__', '__reduce__', '__reduce_ex__', '__repr__', '__setattr__', '__sizeof__', '__str__', '__subclasshook__', '__weakref__', '_bar', 'foo']\n"
          ]
        }
      ]
    },
    {
      "cell_type": "markdown",
      "source": [
        "После использования __ интерпретатор исказил название переменной, чтобы защитить от переопредениея в подклассах."
      ],
      "metadata": {
        "id": "EtSLBX0VXwUA"
      }
    },
    {
      "cell_type": "markdown",
      "source": [
        ""
      ],
      "metadata": {
        "id": "A65n--cLXeys"
      }
    },
    {
      "cell_type": "markdown",
      "source": [
        ""
      ],
      "metadata": {
        "id": "5fJAelXgKPz0"
      }
    },
    {
      "cell_type": "markdown",
      "source": [
        "## Метаклассы\n",
        "Основная цель метакласса — автоматически изменять класс при его создании.\n",
        "\n",
        "```\n",
        "class Foo(object, metaclass=something):\n",
        "    ...\n",
        "```"
      ],
      "metadata": {
        "id": "Y01J5SxTG-33"
      }
    },
    {
      "cell_type": "code",
      "source": [
        "class Final(type):\n",
        "    def __new__(cls, name, bases, attr):\n",
        "        # Final cannot be subclassed\n",
        "        # check that a Final class has not been passed as a base\n",
        "        # if so, raise error, else, create the new class with Final attributes\n",
        "        type_arr = [type(x) for x in bases]\n",
        "        for i in type_arr:\n",
        "            if i is Final:\n",
        "                raise RuntimeError(\"You cannot subclass a Final class\")\n",
        "        return super(Final, cls).__new__(cls, name, bases, attr)\n",
        "\n",
        "\n",
        "# Test: use the metaclass to create a Cop class that is final\n",
        "\n",
        "class Cop(metaclass=Final):\n",
        "    def exit():\n",
        "        print(\"Exiting...\")\n",
        "        quit()\n",
        "\n",
        "# Attempt to subclass the Cop class, this should idealy raise an exception!\n",
        "class FakeCop(Cop):\n",
        "    def scam():\n",
        "        print(\"This is a hold up!\")\n",
        "\n",
        "cop1 = Cop()\n",
        "fakecop1 = FakeCop()\n",
        "\n",
        "# More tests, another Final class\n",
        "class Goat(metaclass=Final):\n",
        "    location = \"Goatland\"\n",
        "\n",
        "# Subclassing a final class should fail\n",
        "class BillyGoat(Goat):\n",
        "    location = \"Billyland\"\n",
        "\n"
      ],
      "metadata": {
        "id": "MX1V41TUK9Uj"
      },
      "execution_count": null,
      "outputs": []
    },
    {
      "cell_type": "markdown",
      "source": [
        "# Функциональный стиль\n",
        "\n",
        "Python поддерживает функциональный стиль программирования. Для этого он может применять функциональные инструменты как функции map(), filter() и reduce()"
      ],
      "metadata": {
        "id": "AJ-RhfMnK9PD"
      }
    },
    {
      "cell_type": "markdown",
      "source": [
        "## map()\n",
        "Если внутри лямбда-выражения нужно циклически обработать последовательность (список, кортеж), то для этого целесообразно использовать функцию map()\n",
        "\n",
        "\n",
        "```\n",
        "map(func, *iterables)\n",
        "```\n",
        "\n",
        "\n",
        "*   func — функция, которая должна быть применена к каждому элементу последовательности iterables;\n",
        "*   iterables – итерированный объект, являющийся последовательностью (например, список).\n",
        "\n",
        "\n"
      ],
      "metadata": {
        "id": "Qirr2vdGLmcF"
      }
    },
    {
      "cell_type": "code",
      "source": [
        "# Использование лямбда-выражений для обработки последовательностей\n",
        "\n",
        "# Задача. Умножить каждый элемент последовательности на 2.\n",
        "# Использовать лямбда-выражение и функцию map()\n",
        "\n",
        "# 1. Объявить функцию, умножающую число на 2\n",
        "def Mult2(t):\n",
        "    return t*2\n",
        "\n",
        "# 2. Тестируемый список\n",
        "L = [ 2, 8, 12, -5, -10 ]\n",
        "\n",
        "# 3. Применить функцию map() без лямбда-выражения на основании функции Mult2()\n",
        "L2 = list(map(Mult2, L))\n",
        "print(\"L2 = \", L2)\n",
        "\n",
        "# 4. Применить функцию map() с лямбда-выражением\n",
        "L3 = list(map((lambda t: t*2), L))\n",
        "print(\"L3 = \", L3)"
      ],
      "metadata": {
        "id": "MBdECmccLE4x"
      },
      "execution_count": null,
      "outputs": []
    },
    {
      "cell_type": "markdown",
      "source": [
        "## filter()\n",
        "Для выборки данных из последовательности используется функция filter(). Общая форма функции\n",
        "\n",
        "\n",
        "```\n",
        "filter(func or None, iterable)\n",
        "```\n",
        "\n",
        "\n",
        "*   func – имя функции, которая применяется к объекту iterable\n",
        "*   iterable – итерированный объект (список, кортеж)\n",
        "\n",
        "\n",
        "\n"
      ],
      "metadata": {
        "id": "IT_BX91kMOgp"
      }
    },
    {
      "cell_type": "code",
      "source": [
        "# Использование лямбда выражений для обработки последовательности\n",
        "\n",
        "# Применение лямбда-выражения и функции filter() для кортежа\n",
        "\n",
        "# 1. Объявить тестируемый кортеж\n",
        "T = ( 'abcd', 'abc', 'cdefg', 'def', 'ghi' )\n",
        "\n",
        "# 2. Получить новый кортеж, в котором реализованы строки длиной 3 символа\n",
        "T2 = tuple(filter((lambda s: len(s)==3), T))\n",
        "\n",
        "\n",
        "print(\"T2 = \", T2) # T2 = ('abc', 'def', 'ghi')"
      ],
      "metadata": {
        "id": "ygPGHF2VMems"
      },
      "execution_count": null,
      "outputs": []
    },
    {
      "cell_type": "markdown",
      "source": [
        "##  reduce()\n",
        "Функция reduce() позволяет получить объект, который является результатом некоторой операции над последовательностью (например, сумма элементов последовательности). Функция reduce() может быть использована как для функций так и лямбда-выражений.\n",
        "Общая форма объявления функции следующая\n",
        "\n",
        "\n",
        "```\n",
        "reduce(func, sequence)\n",
        "```\n",
        "\n",
        "\n",
        "*   func – функция или лямбда-выражение, задающие формулу вычисления двух соседних элементов\n",
        "*   sequence – обрабатываемая последовательность\n",
        "\n",
        "\n"
      ],
      "metadata": {
        "id": "wOmlxRutN25a"
      }
    },
    {
      "cell_type": "code",
      "source": [
        "# Использование лямбда-выражений для обработки последовательностей\n",
        "\n",
        "import functools\n",
        "\n",
        "# Применение лямбда-выражения в функции reduce()\n",
        "\n",
        "# 1. Объявить тестируемый список\n",
        "L = [ 1.88, 3, 2.4, 3.6, 4.8 ]\n",
        "\n",
        "# 2. Вычислить сумму элементов списка с помощью лямбда-выражения\n",
        "summ1 = functools.reduce((lambda a, b: a+b), L)\n",
        "print(\"summ1 = \", summ1)\n",
        "\n",
        "# 3. Объявить функцию и использовать ее в функции reduce()\n",
        "def Add(x, y):\n",
        "    return x+y\n",
        "\n",
        "summ2 = functools.reduce(Add, L)\n",
        "print(\"summ2 = \", summ2)"
      ],
      "metadata": {
        "id": "Zi7rp0I7OD_e"
      },
      "execution_count": null,
      "outputs": []
    },
    {
      "cell_type": "markdown",
      "source": [
        ""
      ],
      "metadata": {
        "id": "t56z4M3vNw6v"
      }
    },
    {
      "cell_type": "markdown",
      "source": [
        "# Механизм исключений\n",
        "Исключения в Python возникают автоматически при ошибках и могут генерироваться и перехватываться кодом. Они обрабатываются четырьмя оператарами:\n",
        "\n",
        "\n",
        "\n",
        "*   try/except/else/finally\n",
        "*   raise\n",
        "*   assert\n",
        "*   with/as\n",
        "\n",
        "\n"
      ],
      "metadata": {
        "id": "vrIWRMjEOTYw"
      }
    },
    {
      "cell_type": "markdown",
      "source": [
        "##  try/except/else/finally\n",
        "Перехватывает и производит восстановление после исключений, инициируемых Python или вами.\n",
        "finally Выполняет действия по очистке независимо от того, происходили исключения\n",
        "или нет\n",
        "\n",
        "\n",
        "```\n",
        "try:\n",
        "    исполяем какой-то код\n",
        "except Exception as e:\n",
        "    обработка исключения\n",
        "else:\n",
        "    код, который будет исполнен в случае, когда не возникает исключения\n",
        "finally:\n",
        "    код, который гарантированно будет исполнен последним (всегда исполняется)\n",
        "```\n",
        "\n",
        "\n"
      ],
      "metadata": {
        "id": "bU9KytlePrB9"
      }
    },
    {
      "cell_type": "markdown",
      "source": [
        ""
      ],
      "metadata": {
        "id": "SIM78TNaQv2C"
      }
    },
    {
      "cell_type": "code",
      "source": [
        "try:\n",
        "  k = 1 / 0\n",
        "except ZeroDivisionError:\n",
        "  k = 0\n",
        "print(k)"
      ],
      "metadata": {
        "colab": {
          "base_uri": "https://localhost:8080/"
        },
        "id": "7alM38eUQCsK",
        "outputId": "ff9aebda-4a16-45eb-9f60-07039f3305be"
      },
      "execution_count": null,
      "outputs": [
        {
          "output_type": "stream",
          "name": "stdout",
          "text": [
            "0\n"
          ]
        }
      ]
    },
    {
      "cell_type": "markdown",
      "source": [
        "## raise\n",
        "Генерирует исключение вручную в коде.\n",
        "\n"
      ],
      "metadata": {
        "id": "M-YeLFNtQIYt"
      }
    },
    {
      "cell_type": "code",
      "source": [
        "raise IOError(\"текст исключения\")"
      ],
      "metadata": {
        "colab": {
          "base_uri": "https://localhost:8080/",
          "height": 171
        },
        "id": "zxvqcoSDRIZO",
        "outputId": "5d0da71c-36fb-40a8-a640-9db17801f780"
      },
      "execution_count": null,
      "outputs": [
        {
          "output_type": "error",
          "ename": "OSError",
          "evalue": "ignored",
          "traceback": [
            "\u001b[0;31m---------------------------------------------------------------------------\u001b[0m",
            "\u001b[0;31mOSError\u001b[0m                                   Traceback (most recent call last)",
            "\u001b[0;32m<ipython-input-14-92141d998f3f>\u001b[0m in \u001b[0;36m<module>\u001b[0;34m()\u001b[0m\n\u001b[0;32m----> 1\u001b[0;31m \u001b[0;32mraise\u001b[0m \u001b[0mIOError\u001b[0m\u001b[0;34m(\u001b[0m\u001b[0;34m\"текст исключения\"\u001b[0m\u001b[0;34m)\u001b[0m\u001b[0;34m\u001b[0m\u001b[0;34m\u001b[0m\u001b[0m\n\u001b[0m",
            "\u001b[0;31mOSError\u001b[0m: текст исключения"
          ]
        }
      ]
    },
    {
      "cell_type": "markdown",
      "source": [
        "## assert\n",
        "Генерирует исключение условно в коде\n"
      ],
      "metadata": {
        "id": "uvsuhHmORLvh"
      }
    },
    {
      "cell_type": "code",
      "source": [
        "def apply_discount(product, discount):\n",
        "    price = int(product['цена'] * (1.0 - discount))\n",
        "    assert 0 <= price <= product['цена']\n",
        "    return price\n",
        "shoes = {'имя': 'Модные туфли', 'цена': 14900}\n",
        "print(apply_discount(shoes, 0.25))\n",
        "print(apply_discount(shoes, 2.0))"
      ],
      "metadata": {
        "colab": {
          "base_uri": "https://localhost:8080/",
          "height": 354
        },
        "id": "XmCSfCwlRh7L",
        "outputId": "a2a155d4-df7f-4635-b663-aebff0aabacd"
      },
      "execution_count": null,
      "outputs": [
        {
          "output_type": "stream",
          "name": "stdout",
          "text": [
            "11175\n"
          ]
        },
        {
          "output_type": "error",
          "ename": "AssertionError",
          "evalue": "ignored",
          "traceback": [
            "\u001b[0;31m---------------------------------------------------------------------------\u001b[0m",
            "\u001b[0;31mAssertionError\u001b[0m                            Traceback (most recent call last)",
            "\u001b[0;32m<ipython-input-17-d6b10386b8b6>\u001b[0m in \u001b[0;36m<module>\u001b[0;34m()\u001b[0m\n\u001b[1;32m      5\u001b[0m \u001b[0mshoes\u001b[0m \u001b[0;34m=\u001b[0m \u001b[0;34m{\u001b[0m\u001b[0;34m'имя'\u001b[0m\u001b[0;34m:\u001b[0m \u001b[0;34m'Модные туфли'\u001b[0m\u001b[0;34m,\u001b[0m \u001b[0;34m'цена'\u001b[0m\u001b[0;34m:\u001b[0m \u001b[0;36m14900\u001b[0m\u001b[0;34m}\u001b[0m\u001b[0;34m\u001b[0m\u001b[0;34m\u001b[0m\u001b[0m\n\u001b[1;32m      6\u001b[0m \u001b[0mprint\u001b[0m\u001b[0;34m(\u001b[0m\u001b[0mapply_discount\u001b[0m\u001b[0;34m(\u001b[0m\u001b[0mshoes\u001b[0m\u001b[0;34m,\u001b[0m \u001b[0;36m0.25\u001b[0m\u001b[0;34m)\u001b[0m\u001b[0;34m)\u001b[0m\u001b[0;34m\u001b[0m\u001b[0;34m\u001b[0m\u001b[0m\n\u001b[0;32m----> 7\u001b[0;31m \u001b[0mprint\u001b[0m\u001b[0;34m(\u001b[0m\u001b[0mapply_discount\u001b[0m\u001b[0;34m(\u001b[0m\u001b[0mshoes\u001b[0m\u001b[0;34m,\u001b[0m \u001b[0;36m2.0\u001b[0m\u001b[0;34m)\u001b[0m\u001b[0;34m)\u001b[0m\u001b[0;34m\u001b[0m\u001b[0;34m\u001b[0m\u001b[0m\n\u001b[0m",
            "\u001b[0;32m<ipython-input-17-d6b10386b8b6>\u001b[0m in \u001b[0;36mapply_discount\u001b[0;34m(product, discount)\u001b[0m\n\u001b[1;32m      1\u001b[0m \u001b[0;32mdef\u001b[0m \u001b[0mapply_discount\u001b[0m\u001b[0;34m(\u001b[0m\u001b[0mproduct\u001b[0m\u001b[0;34m,\u001b[0m \u001b[0mdiscount\u001b[0m\u001b[0;34m)\u001b[0m\u001b[0;34m:\u001b[0m\u001b[0;34m\u001b[0m\u001b[0;34m\u001b[0m\u001b[0m\n\u001b[1;32m      2\u001b[0m     \u001b[0mprice\u001b[0m \u001b[0;34m=\u001b[0m \u001b[0mint\u001b[0m\u001b[0;34m(\u001b[0m\u001b[0mproduct\u001b[0m\u001b[0;34m[\u001b[0m\u001b[0;34m'цена'\u001b[0m\u001b[0;34m]\u001b[0m \u001b[0;34m*\u001b[0m \u001b[0;34m(\u001b[0m\u001b[0;36m1.0\u001b[0m \u001b[0;34m-\u001b[0m \u001b[0mdiscount\u001b[0m\u001b[0;34m)\u001b[0m\u001b[0;34m)\u001b[0m\u001b[0;34m\u001b[0m\u001b[0;34m\u001b[0m\u001b[0m\n\u001b[0;32m----> 3\u001b[0;31m     \u001b[0;32massert\u001b[0m \u001b[0;36m0\u001b[0m \u001b[0;34m<=\u001b[0m \u001b[0mprice\u001b[0m \u001b[0;34m<=\u001b[0m \u001b[0mproduct\u001b[0m\u001b[0;34m[\u001b[0m\u001b[0;34m'цена'\u001b[0m\u001b[0;34m]\u001b[0m\u001b[0;34m\u001b[0m\u001b[0;34m\u001b[0m\u001b[0m\n\u001b[0m\u001b[1;32m      4\u001b[0m     \u001b[0;32mreturn\u001b[0m \u001b[0mprice\u001b[0m\u001b[0;34m\u001b[0m\u001b[0;34m\u001b[0m\u001b[0m\n\u001b[1;32m      5\u001b[0m \u001b[0mshoes\u001b[0m \u001b[0;34m=\u001b[0m \u001b[0;34m{\u001b[0m\u001b[0;34m'имя'\u001b[0m\u001b[0;34m:\u001b[0m \u001b[0;34m'Модные туфли'\u001b[0m\u001b[0;34m,\u001b[0m \u001b[0;34m'цена'\u001b[0m\u001b[0;34m:\u001b[0m \u001b[0;36m14900\u001b[0m\u001b[0;34m}\u001b[0m\u001b[0;34m\u001b[0m\u001b[0;34m\u001b[0m\u001b[0m\n",
            "\u001b[0;31mAssertionError\u001b[0m: "
          ]
        }
      ]
    },
    {
      "cell_type": "markdown",
      "source": [
        "## with/as\n",
        "\n",
        "Использование инструкции with позволяет абстрагироваться от большей части логики обработки ресурса. Вместо необходимо\u0002сти всякий раз писать явную инструкцию try…finally, инструкция with\n",
        "выполняет эту работу за нас.\n",
        "\n",
        "```\n",
        "with open('hello.txt', 'w') as f:\n",
        " f.write('привет, мир!')\n",
        "```\n",
        "эквивалентно \n",
        "```\n",
        "f = open('hello.txt', 'w') \n",
        "try:\n",
        " f.write('привет, мир!') \n",
        "finally:\n",
        " f.close()\n",
        "```\n",
        "\n"
      ],
      "metadata": {
        "id": "due6BYaXSDfT"
      }
    },
    {
      "cell_type": "markdown",
      "source": [
        "Примером использования Инструкции with в стандартной библиотеке Python, является класс threading.Lock:\n",
        "\n",
        "\n",
        "```\n",
        "some_lock = threading.Lock() \n",
        "# Вредно: \n",
        "some_lock.acquire() \n",
        "try: \n",
        " # Сделать что-то... \n",
        "finally: \n",
        " some_lock.release() \n",
        "\n",
        "# Лучше: \n",
        "with some_lock: \n",
        " # Сделать что-то...\n",
        "```\n",
        "В сущности, чтобы объект функционировал как менеджер контекста, от вас требуется только одно — добавить \n",
        "в него магические методы __enter__ и __exit__. Python будет вызывать эти два метода \n",
        "в соответствующих случаях в цикле управления ресурсом\n",
        "\n"
      ],
      "metadata": {
        "id": "UUZsr8r2UjS6"
      }
    },
    {
      "cell_type": "code",
      "source": [
        "class ManagedFile:\n",
        "\n",
        "    def __init__(self, name):\n",
        "        self.name = name \n",
        "\n",
        "    def __enter__(self):\n",
        "        self.file = open(self.name, 'w')\n",
        "        return self.file \n",
        "\n",
        "    def __exit__(self, exc_type, exc_val, exc_tb):\n",
        "        if self.file:\n",
        "            self.file.close()\n",
        "          "
      ],
      "metadata": {
        "id": "Bj4MirjSVOVq"
      },
      "execution_count": null,
      "outputs": []
    },
    {
      "cell_type": "markdown",
      "source": [
        "# Ввод-вывод, файлы\n",
        "Функция для ввода данных\n",
        "\n",
        "\n",
        "```\n",
        "input()\n",
        "```\n",
        "\n"
      ],
      "metadata": {
        "id": "uKv5PywZVvaJ"
      }
    },
    {
      "cell_type": "markdown",
      "source": [
        "Функция для вывода данных\n",
        "\n",
        "```\n",
        "print()\n",
        "```\n"
      ],
      "metadata": {
        "id": "AeMOgwybWEqB"
      }
    },
    {
      "cell_type": "code",
      "source": [
        "print(input(\"введите что-то\"))"
      ],
      "metadata": {
        "colab": {
          "base_uri": "https://localhost:8080/"
        },
        "id": "A7Y7YgusV8cJ",
        "outputId": "c2c78532-1c04-4cb1-b409-25cfbbef9b5f"
      },
      "execution_count": null,
      "outputs": [
        {
          "output_type": "stream",
          "name": "stdout",
          "text": [
            "введите что-тофыв\n",
            "фыв\n"
          ]
        }
      ]
    },
    {
      "cell_type": "markdown",
      "source": [
        "Функция для открытия файлов\n",
        "```\n",
        "open()\n",
        "```\n",
        "Но лучшей практикой является использование контекстных менеджеров."
      ],
      "metadata": {
        "id": "oJiC-DkjWL98"
      }
    }
  ]
}